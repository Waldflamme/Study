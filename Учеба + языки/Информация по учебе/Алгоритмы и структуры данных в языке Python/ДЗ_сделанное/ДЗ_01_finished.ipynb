{
  "metadata": {
    "kernelspec": {
      "name": "python",
      "display_name": "Python (Pyodide)",
      "language": "python"
    },
    "language_info": {
      "codemirror_mode": {
        "name": "python",
        "version": 3
      },
      "file_extension": ".py",
      "mimetype": "text/x-python",
      "name": "python",
      "nbconvert_exporter": "python",
      "pygments_lexer": "ipython3",
      "version": "3.8"
    }
  },
  "nbformat_minor": 5,
  "nbformat": 4,
  "cells": [
    {
      "id": "97518b57",
      "cell_type": "markdown",
      "source": "# Домашнее задание 1.1 (1)\n\nПрисвойте этому файлу имя в формате *Фамилия_Имя_Группа_ДЗ_1*. Разместите файл *jupyter notebook* в соответствующем разделе электронного учебного курса.",
      "metadata": {}
    },
    {
      "id": "f81f319e",
      "cell_type": "markdown",
      "source": "<p style = \"background:powderblue\">1. Число дней</p>\n\nНапишите программу, которая запрашивает у пользователя количество дней в текущем месяце и сегодняшнее число, а затем выводит текст с информацией о том, сколько дней осталось до конца текущего месяца.",
      "metadata": {}
    },
    {
      "id": "a824eb22",
      "cell_type": "code",
      "source": "num_days = int(input('Enter number of days in month: '))\ndate = int(input('Input date: '))\nprint('Days in month left: ', num_days-date)",
      "metadata": {},
      "outputs": [],
      "execution_count": null
    },
    {
      "id": "240dba53",
      "cell_type": "markdown",
      "source": "<p style = \"background:powderblue\">2. Число квадратов</p>\n\nНапишите программу, которая определит, сколько квадратов со стороной $square$ можно разместить в прямоугольнике $side\\_1 \\times side\\_2$. Введите значения $square$, $side\\_1$ и $side\\_2$.\n\n```\nВход: квадрат 4, прямоугольник (7, 9); Выход: 2\nВход: квадрат 7, прямоугольник (18, 29); Выход 8\n```",
      "metadata": {}
    },
    {
      "id": "13452294",
      "cell_type": "code",
      "source": "sqr_side = float(input('Enter square side: '))\nrec_side_1 = float(input('Enter rec side 1: '))\nrec_side_2 = float(input('Enter rec side 2: '))\nprint('Number of squares in rectangular: ', rec_side_1*rec_side_2//sqr_side**2)",
      "metadata": {},
      "outputs": [],
      "execution_count": 2
    },
    {
      "id": "0efc17c1",
      "cell_type": "markdown",
      "source": "<p style = \"background:powderblue\">3. Цена муки</p>\n\nРисовая мука поступает ежедневно по разной цене. Напишите программу, которая получает от пользователя цену за килограмм рисовой муки, количество ее килограммов в наличии на начало рабочего дня и количество проданных за день килограммов, а затем выводит отдельно стоимость муки в наличии на начало и конец рабочего дня.",
      "metadata": {}
    },
    {
      "id": "e3abc5ab",
      "cell_type": "code",
      "source": "kilo_price = float(input('Enter the price of a kilo of flour: '))\nkilos_in_stock = float(input('Enter the amount of flour in stock in kilos: '))\nkilos_sold = float(input('Enter the amount of flour sold today: '))\nprint('Price of all flour at the start of the day: ',kilo_price*kilos_in_stock)\nprint('Price of all flour at the end of the day: ',kilo_price*(kilos_in_stock-kilos_sold))",
      "metadata": {},
      "outputs": [],
      "execution_count": 2
    },
    {
      "id": "a7119224",
      "cell_type": "markdown",
      "source": "<p style = \"background:powderblue\">4. Скобки</p>\n\nВ выражении `res = 70 / 3 + 4 * 5 % 2` расставьте скобки, не меняя само выражение, так, чтобы переменная `res` приняла значение 0.0.",
      "metadata": {}
    },
    {
      "id": "87cedb66",
      "cell_type": "code",
      "source": "#res = 70 / 3 + 4 * 5 % 2\nres = (70/((3 + 4)*5))%2\nres",
      "metadata": {},
      "outputs": [],
      "execution_count": null
    },
    {
      "id": "04acab93",
      "cell_type": "markdown",
      "source": "<p style = \"background:powderblue\">5. Округление</p>\n\nОкруглите до большего целого\n\n$$ \\frac{e^{\\log_{4}{(x+y)^3}}}{\\sqrt{x \\cdot y}} $$\n\n$$ x = 200, y = 181, res = 2023 $$\n$$ x = 10, y = 15, res = 87 $$",
      "metadata": {}
    },
    {
      "id": "0eba7dcd",
      "cell_type": "code",
      "source": "x = float(input('Enter x: '))\ny = float(input('Enter y: '))\nimport math\na = math.exp(math.log((x+y)**3, 4))\nb = (x*y)**0.5\nprint(round(a/b))",
      "metadata": {},
      "outputs": [],
      "execution_count": null
    },
    {
      "id": "919cffd9",
      "cell_type": "markdown",
      "source": "<p style = \"background:powderblue\">6. Ложь - Истина</p>\n\nИсправьте программу таким образом, чтобы в результате ее исполнения на экран всегда выводились значения\n```\nFalse\nTrue\n```\nкаждое в отдельной строке.\n\n```\na = int(input('Введите число: '))\nb = -a\n\nprint(a == a) # внесите изменения в этой строке\nprint(a < b) # внесите изменения в этой строке\n```",
      "metadata": {}
    },
    {
      "id": "e467d6ea",
      "cell_type": "code",
      "source": "a = int(input('Введите число: '))\nb = -a\n\nprint(a < a)\nprint(a > b)",
      "metadata": {},
      "outputs": [],
      "execution_count": null
    }
  ]
}