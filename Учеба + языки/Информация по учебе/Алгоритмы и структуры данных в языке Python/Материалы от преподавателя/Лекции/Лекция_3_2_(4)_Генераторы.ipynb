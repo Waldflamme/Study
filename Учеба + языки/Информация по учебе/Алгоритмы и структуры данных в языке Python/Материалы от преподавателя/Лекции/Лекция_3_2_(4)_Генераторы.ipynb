{
 "cells": [
  {
   "cell_type": "markdown",
   "metadata": {},
   "source": [
    "<img src=\"../Img/ФинУ.jpg\">\n",
    "\n",
    "# Алгоритмы и структуры данных в языке Python\n",
    "\n",
    "# Лекция 3. Словари, множества, выражения-генераторы\n",
    "\n",
    "# Часть 2.  Выражения-генераторы\n",
    "\n",
    "Лектор: Смирнов Михаил Викторович, доцент кафедры анализа данных Финансового университета при Правительстве Российской Федерации"
   ]
  },
  {
   "cell_type": "markdown",
   "metadata": {},
   "source": [
    "## Разделы: <a class=\"anchor\" id=\"разделы\"></a>\n",
    "* [К оглавлению](#разделы)\n",
    "\n",
    "* [Выражения-генераторы](#генераторы)\n",
    "* [Выражения-генераторы для списков](#генераторы-списков)\n",
    "    * [Пример: задача приведения списка к \"плоскому\" виду](#пример-плоский)\n",
    "* Выражения-генераторы, генераторы множеств и словарей\n",
    "    * [Выражения-генераторы](#выражения-генераторы)\n",
    "    * [Генераторы множеств](#генераторы-множеств)\n",
    "    * [Генераторы словарей](#генераторы-словарей)    \n",
    "-\n",
    "* [к оглавлению](#разделы)"
   ]
  },
  {
   "cell_type": "code",
   "execution_count": 1,
   "metadata": {
    "scrolled": true
   },
   "outputs": [
    {
     "data": {
      "text/html": [
       "﻿<style>\r\n",
       "\r\n",
       "\r\n",
       "b.n {\r\n",
       "    font-weight: normal;        \r\n",
       "}\r\n",
       "\r\n",
       "b.grbg {\r\n",
       "    background-color: #a0a0a0;      \r\n",
       "}\r\n",
       "\r\n",
       "b.r {\r\n",
       "    color: #ff0000;    \r\n",
       "}\r\n",
       "\r\n",
       "\r\n",
       "b.b {    \r\n",
       "    color: #0000ff;    \r\n",
       "}\r\n",
       "\r\n",
       "b.g {\r\n",
       "    color: #00ff00;    \r\n",
       "}\r\n",
       "\r\n",
       "\r\n",
       "// add your CSS styling here\r\n",
       "\r\n",
       "list-style: none;\r\n",
       "\r\n",
       "ul.s {\r\n",
       "//    list-style-type: none;\r\n",
       "    list-style: none;\r\n",
       "//    background-color: #ff0000;  \r\n",
       "//    color: #ffff00;\r\n",
       "//  padding-left: 1.2em;\r\n",
       "//  text-indent: -1.2em;\r\n",
       "}\r\n",
       "\r\n",
       "li.t {\r\n",
       "    list-style: none;\r\n",
       "//  padding-left: 1.2em;\r\n",
       "//  text-indent: -1.2em;    \r\n",
       "}\r\n",
       "\r\n",
       "\r\n",
       "*.r {\r\n",
       "    color: #ff0000;    \r\n",
       "}\r\n",
       "\r\n",
       "li.t:before {\r\n",
       "    content: \"\\21D2\";    \r\n",
       "//    content: \"►\";\r\n",
       "//    padding-left: -1.2em;    \r\n",
       "    text-indent: -1.2em;    \r\n",
       "    display: block;\r\n",
       "    float: left;\r\n",
       "    \r\n",
       "    \r\n",
       "//    width: 1.2em;\r\n",
       "//    color: #ff0000;\r\n",
       "}\r\n",
       "\r\n",
       "i.m:before {\r\n",
       "    font-style: normal;    \r\n",
       "    content: \"\\21D2\";  \r\n",
       "}\r\n",
       "i.m {\r\n",
       "    font-style: normal; \r\n",
       "}    \r\n",
       "\r\n",
       "/*--------------------*/\r\n",
       "/* em {\r\n",
       "    font-style: normal; \r\n",
       "} */\r\n",
       "\r\n",
       "\r\n",
       "em.bl {\r\n",
       "    font-style: normal;     \r\n",
       "    font-weight: bold;        \r\n",
       "}\r\n",
       "\r\n",
       "/* em.grbg {\r\n",
       "    font-style: normal;         \r\n",
       "    background-color: #a0a0a0;      \r\n",
       "} */\r\n",
       "\r\n",
       "em.cr {\r\n",
       "    font-style: normal;         \r\n",
       "    color: #ff0000;    \r\n",
       "}\r\n",
       "\r\n",
       "em.cb {    \r\n",
       "    font-style: normal;         \r\n",
       "    color: #0000ff;    \r\n",
       "}\r\n",
       "\r\n",
       "em.cg {\r\n",
       "    font-style: normal;         \r\n",
       "    color: #00ff00;    \r\n",
       "}\r\n",
       "\r\n",
       "/*--------------------*/\r\n",
       "\r\n",
       "em.qs {\r\n",
       "    font-style: normal; \r\n",
       "}\r\n",
       "\r\n",
       "em.qs::before {\r\n",
       "    font-weight: bold;    \r\n",
       "    color: #ff0000;    \r\n",
       "    content: \"Q:\";  \r\n",
       "}\r\n",
       "\r\n",
       "em.an {\r\n",
       "    font-style: normal; \r\n",
       "}\r\n",
       "\r\n",
       "em.an:before {\r\n",
       "    font-weight: bold;    \r\n",
       "    color: #0000ff;    \r\n",
       "    content: \"A:\";  \r\n",
       "}\r\n",
       "    \r\n",
       "em.nt {\r\n",
       "    font-style: normal; \r\n",
       "}\r\n",
       "\r\n",
       "em.nt:before {\r\n",
       "    font-weight: bold;    \r\n",
       "    color: #0000ff;    \r\n",
       "    content: \"Note:\";  \r\n",
       "}    \r\n",
       "    \r\n",
       "em.ex {\r\n",
       "    font-style: normal; \r\n",
       "}\r\n",
       "\r\n",
       "em.ex:before {\r\n",
       "    font-weight: bold;    \r\n",
       "    color: #00ff00;    \r\n",
       "    content: \"Ex:\";  \r\n",
       "} \r\n",
       "    \r\n",
       "em.df {\r\n",
       "    font-style: normal; \r\n",
       "}\r\n",
       "\r\n",
       "em.df:before {\r\n",
       "    font-weight: bold;    \r\n",
       "    color: #0000ff;    \r\n",
       "    content: \"Def:\";  \r\n",
       "}    \r\n",
       "\r\n",
       "em.pl {\r\n",
       "    font-style: normal; \r\n",
       "}\r\n",
       "\r\n",
       "em.pl:before {\r\n",
       "    font-weight: bold;    \r\n",
       "    color: #0000ff;    \r\n",
       "    content: \"+\";  \r\n",
       "}    \r\n",
       "\r\n",
       "em.mn {\r\n",
       "    font-style: normal; \r\n",
       "}\r\n",
       "\r\n",
       "em.mn:before {\r\n",
       "    font-weight: bold;    \r\n",
       "    color: #0000ff;    \r\n",
       "    content: \"-\";  \r\n",
       "}        \r\n",
       "\r\n",
       "em.plmn {\r\n",
       "    font-style: normal; \r\n",
       "}\r\n",
       "\r\n",
       "em.plmn:before {\r\n",
       "    font-weight: bold;    \r\n",
       "    color: #0000ff;    \r\n",
       "    content: \"\\00B1\";\\\\\"&plusmn;\";  \r\n",
       "}\r\n",
       "    \r\n",
       "em.hn {\r\n",
       "    font-style: normal; \r\n",
       "}\r\n",
       "\r\n",
       "em.hn:before {\r\n",
       "    font-weight: bold;    \r\n",
       "    color: #0000ff;    \r\n",
       "    content: \"\\21D2\";\\\\\"&rArr;\";  \r\n",
       "}     \r\n",
       "    \r\n",
       "</style>"
      ],
      "text/plain": [
       "<IPython.core.display.HTML object>"
      ]
     },
     "execution_count": 1,
     "metadata": {},
     "output_type": "execute_result"
    }
   ],
   "source": [
    "# загружаем стиль для оформления презентации\n",
    "from IPython.display import HTML\n",
    "from urllib.request import urlopen\n",
    "html = urlopen(\"file:./lec_v1.css\")\n",
    "HTML(html.read().decode('utf-8'))"
   ]
  },
  {
   "cell_type": "markdown",
   "metadata": {},
   "source": [
    "# Выражения-генераторы <a class=\"anchor\" id=\"генераторы\"></a>\n",
    "* [к оглавлению](#разделы)"
   ]
  },
  {
   "cell_type": "markdown",
   "metadata": {},
   "source": [
    "## Выражения-генераторы для списков <a class=\"anchor\" id=\"генераторы-списков\"></a>\n",
    "* [к оглавлению](#разделы)"
   ]
  },
  {
   "cell_type": "markdown",
   "metadata": {},
   "source": [
    "Допустим, у нас есть список, содержащий числа. Мы хотим получить новый список, содержащий удвоенные значения исходного списка. Как это можно сделать?"
   ]
  },
  {
   "cell_type": "code",
   "execution_count": 1,
   "metadata": {},
   "outputs": [
    {
     "data": {
      "text/plain": [
       "[2, 4, 14, 22, 16, 4]"
      ]
     },
     "execution_count": 1,
     "metadata": {},
     "output_type": "execute_result"
    }
   ],
   "source": [
    "lst_val = [1, 2, 7, 11, 8, 2]\n",
    "\n",
    "lst_new = []\n",
    "for el in lst_val:\n",
    "    lst_new.append(el * 2)\n",
    "lst_new"
   ]
  },
  {
   "cell_type": "markdown",
   "metadata": {},
   "source": [
    "Теперь сделаем это с помощью выражения-генератора."
   ]
  },
  {
   "cell_type": "code",
   "execution_count": 3,
   "metadata": {},
   "outputs": [
    {
     "data": {
      "text/plain": [
       "[2, 4, 14, 22, 16, 4]"
      ]
     },
     "execution_count": 3,
     "metadata": {},
     "output_type": "execute_result"
    }
   ],
   "source": [
    "lst_gen = [el * 2 for el in lst_val]\n",
    "lst_gen"
   ]
  },
  {
   "cell_type": "markdown",
   "metadata": {},
   "source": [
    "Решим другую задачу, допустим нам требуется создать список, состоящий из удвоенных четных чисел исходного списка. Решим эту задачу сначала с помощью цикла *for* и условного оператора *if*."
   ]
  },
  {
   "cell_type": "code",
   "execution_count": 3,
   "metadata": {},
   "outputs": [
    {
     "data": {
      "text/plain": [
       "[4, 16, 4]"
      ]
     },
     "execution_count": 3,
     "metadata": {},
     "output_type": "execute_result"
    }
   ],
   "source": [
    "# создание списка с помощью цикла и условия (фильтра)\n",
    "lst_new2 = []\n",
    "for el in lst_val:\n",
    "    if el % 2 == 0: # число el четное (остаток от деления на 2 равен 0)\n",
    "        lst_new2.append(el * 2)\n",
    "lst_new2"
   ]
  },
  {
   "cell_type": "markdown",
   "metadata": {},
   "source": [
    "Выражения-генераторы позволяют фильтровать элементы коллекции, поэтому вместо цикла с условным оператором мы можем использовать выражение-генератор."
   ]
  },
  {
   "cell_type": "code",
   "execution_count": 4,
   "metadata": {},
   "outputs": [
    {
     "data": {
      "text/plain": [
       "[4, 16, 4]"
      ]
     },
     "execution_count": 4,
     "metadata": {},
     "output_type": "execute_result"
    }
   ],
   "source": [
    "lst_gen2 = [el * 2 for el in lst_val if el % 2 == 0]\n",
    "lst_gen2"
   ]
  },
  {
   "cell_type": "markdown",
   "metadata": {},
   "source": [
    "### Задача обхода и модификации списка"
   ]
  },
  {
   "cell_type": "markdown",
   "metadata": {},
   "source": [
    "<u>Пример</u>.  Отфильтровать список, оставив в нем только нечетные числа."
   ]
  },
  {
   "cell_type": "code",
   "execution_count": 2,
   "metadata": {},
   "outputs": [],
   "source": [
    "# исходный список:\n",
    "filt_list = [1, 3, 2, 8, 4, 11, 8, 9]"
   ]
  },
  {
   "cell_type": "code",
   "execution_count": 3,
   "metadata": {},
   "outputs": [
    {
     "data": {
      "text/plain": [
       "[1, 3, 2, 8, 4, 11, 8, 9]"
      ]
     },
     "execution_count": 3,
     "metadata": {},
     "output_type": "execute_result"
    }
   ],
   "source": [
    "# НЕ работающий вариант:\n",
    "for el in filt_list:\n",
    "    if el % 2 == 0:\n",
    "        del el # НЕ модифицирует список, удаляет переменную el, на следующей итерации цикла она снова создается\n",
    "filt_list"
   ]
  },
  {
   "cell_type": "code",
   "execution_count": 4,
   "metadata": {
    "scrolled": true
   },
   "outputs": [
    {
     "name": "stdout",
     "output_type": "stream",
     "text": [
      "длина списка: 8\n",
      "ind: 0, el: 1\n",
      "ind: 1, el: 3\n",
      "ind: 2, el: 2\n",
      "removing\n",
      "ind: 3, el: 4\n",
      "removing\n",
      "ind: 4, el: 10\n",
      "removing\n"
     ]
    },
    {
     "data": {
      "text/plain": [
       "[1, 3, 8, 11, 9]"
      ]
     },
     "execution_count": 4,
     "metadata": {},
     "output_type": "execute_result"
    }
   ],
   "source": [
    "filt_list = [1, 3, 2, 8, 4, 11, 10, 9]\n",
    "print(f'длина списка: {len(filt_list)}')\n",
    "\n",
    "# Еще один НЕ работающий вариант: \n",
    "for ind, el in enumerate(filt_list):\n",
    "    print(f'ind: {ind}, el: {el}')\n",
    "    if el % 2 == 0:\n",
    "        print('removing')\n",
    "        del filt_list[ind]\n",
    "        # мы \"пилим сук, на котором сидим\": удаление элемента влияет на работу итератора\n",
    "        # после удаления элемента с индексом ind его место занимает следующий элемент =>\n",
    "        # на следующей итерации он не будет рассмотрен!\n",
    "filt_list "
   ]
  },
  {
   "cell_type": "markdown",
   "metadata": {},
   "source": [
    "В результате выполнения `del filt_list[ind]` итератор \"перескочил\" значение 8, 11, 9.\n",
    "\n",
    "Для решения будем обходить элементы списка с конца."
   ]
  },
  {
   "cell_type": "code",
   "execution_count": 5,
   "metadata": {},
   "outputs": [
    {
     "name": "stdout",
     "output_type": "stream",
     "text": [
      "ind: 7, el: 9\n",
      "ind: 6, el: 10\n",
      "removing\n",
      "ind: 5, el: 11\n",
      "ind: 4, el: 4\n",
      "removing\n",
      "ind: 3, el: 8\n",
      "removing\n",
      "ind: 2, el: 2\n",
      "removing\n",
      "ind: 1, el: 3\n",
      "ind: 0, el: 1\n"
     ]
    },
    {
     "data": {
      "text/plain": [
       "[1, 3, 11, 9]"
      ]
     },
     "execution_count": 5,
     "metadata": {},
     "output_type": "execute_result"
    }
   ],
   "source": [
    "filt_list = [1, 3, 2, 8, 4, 11, 10, 9]\n",
    "\n",
    "for ind in range(len(filt_list)-1, -1, -1): # идем с конца в начало с шагом -1\n",
    "    # в явном виде итерируемся по индексу (целочисленная перменная ind), а не по элементам списка\n",
    "    el = filt_list[ind]\n",
    "    print(f'ind: {ind}, el: {el}')    \n",
    "\n",
    "    if el % 2 == 0:\n",
    "        print('removing')        \n",
    "        del filt_list[ind]\n",
    "        # удаление элементов при обходе с хвоста списка не меняет индексов предыдущих элементов =>\n",
    "        # после удаления мы не \"перескакиваем\" очередное (предыдущее) значение\n",
    "filt_list # РАБОТАЕТ!"
   ]
  },
  {
   "cell_type": "markdown",
   "metadata": {},
   "source": [
    "Выполним задачу фильтрации списка с помощью выражения-генератора."
   ]
  },
  {
   "cell_type": "code",
   "execution_count": 11,
   "metadata": {},
   "outputs": [
    {
     "name": "stdout",
     "output_type": "stream",
     "text": [
      "2313315440960\n",
      "[1, 3, 11, 9]\n"
     ]
    },
    {
     "data": {
      "text/plain": [
       "2313328785856"
      ]
     },
     "execution_count": 11,
     "metadata": {},
     "output_type": "execute_result"
    }
   ],
   "source": [
    "filt_list = [1, 3, 2, 8, 4, 11, 10, 9]\n",
    "print(id(filt_list))\n",
    "filt_list = [el for el in filt_list if el%2 == 1]\n",
    "print(filt_list)\n",
    "id(filt_list)"
   ]
  },
  {
   "cell_type": "markdown",
   "metadata": {},
   "source": [
    "Важно понимать, что при таком решении задачи мы получили другой объект *filt_list*, так как итератор обошел исходный список и создал новый список. Иногда бывает важно произвести изменения именно в исходном списке. Для этого используем срезку `[:]`, с ее помощью мы заменим все элементы исходного списка новыми, полученными от выражения-генератора."
   ]
  },
  {
   "cell_type": "code",
   "execution_count": 15,
   "metadata": {},
   "outputs": [
    {
     "name": "stdout",
     "output_type": "stream",
     "text": [
      "2313328815232\n",
      "[1, 3, 11, 9]\n"
     ]
    },
    {
     "data": {
      "text/plain": [
       "2313328815232"
      ]
     },
     "execution_count": 15,
     "metadata": {},
     "output_type": "execute_result"
    }
   ],
   "source": [
    "filt_list = [1, 3, 2, 8, 4, 11, 10, 9]\n",
    "print(id(filt_list))\n",
    "filt_list[:] = [el for el in filt_list if el % 2 == 1]\n",
    "print(filt_list)\n",
    "id(filt_list)"
   ]
  },
  {
   "cell_type": "markdown",
   "metadata": {},
   "source": [
    "# >"
   ]
  },
  {
   "cell_type": "markdown",
   "metadata": {},
   "source": [
    "-------"
   ]
  },
  {
   "cell_type": "markdown",
   "metadata": {},
   "source": [
    "### Задача приведения списка к \"плоскому\" виду  <a class=\"anchor\" id=\"пример-плоский\"></a>\n",
    "* [к оглавлению](#разделы)\n",
    "\n",
    "\"Плоский\" список (flatten list)"
   ]
  },
  {
   "cell_type": "code",
   "execution_count": 27,
   "metadata": {},
   "outputs": [],
   "source": [
    "list2d = [[1, 2, 3], [4, 5, 6], [7], [8, 9]]"
   ]
  },
  {
   "cell_type": "markdown",
   "metadata": {},
   "source": [
    "Решим задачу с помощью двух циклов *for*: внешнего и вложенного."
   ]
  },
  {
   "cell_type": "code",
   "execution_count": 28,
   "metadata": {},
   "outputs": [
    {
     "data": {
      "text/plain": [
       "[1, 2, 3, 4, 5, 6, 7, 8, 9]"
      ]
     },
     "execution_count": 28,
     "metadata": {},
     "output_type": "execute_result"
    }
   ],
   "source": [
    "flat_list = []\n",
    "\n",
    "for sublist in list2d:\n",
    "    for item in sublist:\n",
    "        flat_list.append(item)\n",
    "        \n",
    "flat_list"
   ]
  },
  {
   "cell_type": "code",
   "execution_count": 33,
   "metadata": {},
   "outputs": [
    {
     "data": {
      "text/plain": [
       "[1, 2, 3, 4, 5, 6, 7, 8, 9]"
      ]
     },
     "execution_count": 33,
     "metadata": {},
     "output_type": "execute_result"
    }
   ],
   "source": [
    "[el for lst in list2d for el in lst]"
   ]
  },
  {
   "cell_type": "markdown",
   "metadata": {},
   "source": [
    "Теперь выполним эту же задачу с помощью генератора списков. Генераторы списков тоже могут быть вложенными."
   ]
  },
  {
   "cell_type": "code",
   "execution_count": 32,
   "metadata": {},
   "outputs": [
    {
     "data": {
      "text/plain": [
       "[1, 2, 3, 4, 5, 6, 7, 8, 9]"
      ]
     },
     "execution_count": 32,
     "metadata": {},
     "output_type": "execute_result"
    }
   ],
   "source": [
    "# Вложенные генераторы списокв:\n",
    "flat_list = [item for sublist in list2d for item in sublist]\n",
    "flat_list"
   ]
  },
  {
   "cell_type": "markdown",
   "metadata": {},
   "source": [
    "Здесь фраза \n",
    "```python\n",
    "for sublist in list2d\n",
    "```\n",
    "означает, что итератор перебирает внутренние списки как цельные элементы внешнего списка.\n",
    "\n",
    "Фраза \n",
    "```python\n",
    "for item in sublist\n",
    "```\n",
    "означает, что итератор проходит по элементам внутренних списков.\n",
    "\n",
    "И наконец \n",
    "```python\n",
    "[item ...\n",
    "```\n",
    "означает, что полученные таким образом элементы необходимо поместить в список."
   ]
  },
  {
   "cell_type": "code",
   "execution_count": 34,
   "metadata": {},
   "outputs": [
    {
     "name": "stdout",
     "output_type": "stream",
     "text": [
      "6.09 µs ± 365 ns per loop (mean ± std. dev. of 7 runs, 100,000 loops each)\n"
     ]
    }
   ],
   "source": [
    "%%timeit\n",
    "list2d = [[1, 2, 3], [4, 5, 6], [7], [8, 9]] * 10\n",
    "for sublist in list2d:\n",
    "    for item in sublist:\n",
    "        flat_list.append(item)"
   ]
  },
  {
   "cell_type": "markdown",
   "metadata": {},
   "source": [
    "µs означает микросекунда"
   ]
  },
  {
   "cell_type": "code",
   "execution_count": 35,
   "metadata": {},
   "outputs": [
    {
     "name": "stdout",
     "output_type": "stream",
     "text": [
      "3.65 µs ± 147 ns per loop (mean ± std. dev. of 7 runs, 100,000 loops each)\n"
     ]
    }
   ],
   "source": [
    "%%timeit \n",
    "list2d = [[1, 2, 3], [4, 5, 6], [7], [8, 9]] * 10\n",
    "[item for sublist in list2d for item in sublist]"
   ]
  },
  {
   "cell_type": "markdown",
   "metadata": {},
   "source": [
    "=> Генераторы списков обычно существенно быстрее аналогичных циклов."
   ]
  },
  {
   "cell_type": "markdown",
   "metadata": {},
   "source": [
    "Приведение к плоскому виду с помощью функции `sum()`:\n",
    "\n",
    "* Вид функции `sum(iterable, start=0)`\n",
    "* Необязательный параметр start — это исходный накопитель, по умолчанию равен нулю."
   ]
  },
  {
   "cell_type": "code",
   "execution_count": 2,
   "metadata": {},
   "outputs": [
    {
     "data": {
      "text/plain": [
       "[1, 2, 3, 4, 5, 6, 7, 8, 9]"
      ]
     },
     "execution_count": 2,
     "metadata": {},
     "output_type": "execute_result"
    }
   ],
   "source": [
    "list2d = [[1, 2, 3], [4, 5, 6], [7], [8, 9]]\n",
    "sum(list2d, [])"
   ]
  },
  {
   "cell_type": "code",
   "execution_count": 41,
   "metadata": {},
   "outputs": [
    {
     "name": "stdout",
     "output_type": "stream",
     "text": [
      "6.22 µs ± 155 ns per loop (mean ± std. dev. of 7 runs, 100,000 loops each)\n"
     ]
    }
   ],
   "source": [
    "%%timeit\n",
    "list2d = [[1, 2, 3], [4, 5, 6], [7], [8, 9]] * 10\n",
    "sum(list2d, [])"
   ]
  },
  {
   "cell_type": "markdown",
   "metadata": {},
   "source": [
    "Приведем еще несколько способов приведения списка к плоскому виду."
   ]
  },
  {
   "cell_type": "code",
   "execution_count": 1,
   "metadata": {},
   "outputs": [],
   "source": [
    "import functools\n",
    "import itertools\n",
    "import numpy\n",
    "\n",
    "def functools_reduce(a):\n",
    "    return functools.reduce(operator.concat, a)\n",
    "\n",
    "\n",
    "def itertools_chain(a):\n",
    "    return list(itertools.chain.from_iterable(a))\n",
    "\n",
    "\n",
    "def numpy_flat(a):\n",
    "    return list(numpy.array(a).flat)\n",
    "\n",
    "\n",
    "def numpy_concatenate(a):\n",
    "    return list(numpy.concatenate(a))"
   ]
  },
  {
   "cell_type": "markdown",
   "metadata": {},
   "source": [
    "# >"
   ]
  },
  {
   "cell_type": "markdown",
   "metadata": {},
   "source": [
    "----"
   ]
  },
  {
   "cell_type": "markdown",
   "metadata": {},
   "source": [
    "# Выражения-генераторы, генераторы множеств и словарей"
   ]
  },
  {
   "cell_type": "markdown",
   "metadata": {},
   "source": [
    "## Выражения-генераторы <a class=\"anchor\" id=\"выражения-генераторы\"></a>\n",
    "* [к оглавлению](#разделы)"
   ]
  },
  {
   "cell_type": "markdown",
   "metadata": {},
   "source": [
    "Продолжим изучать выражения-генераторы. Пусть у нас есть список значений."
   ]
  },
  {
   "cell_type": "code",
   "execution_count": 27,
   "metadata": {},
   "outputs": [],
   "source": [
    "lst_val = [1, 2, 7, 11, 8, 2]"
   ]
  },
  {
   "cell_type": "markdown",
   "metadata": {},
   "source": [
    "На его базе создадим выражение-генератор, выглядит оно так же, как и генератор списков, только заключено в круглые скобки."
   ]
  },
  {
   "cell_type": "code",
   "execution_count": 28,
   "metadata": {
    "scrolled": true
   },
   "outputs": [
    {
     "data": {
      "text/plain": [
       "<generator object <genexpr> at 0x0000026E9C1B8930>"
      ]
     },
     "execution_count": 28,
     "metadata": {},
     "output_type": "execute_result"
    }
   ],
   "source": [
    "(x for x in lst_val)"
   ]
  },
  {
   "cell_type": "code",
   "execution_count": 29,
   "metadata": {},
   "outputs": [
    {
     "data": {
      "text/plain": [
       "<generator object <genexpr> at 0x0000026E9C0A2E90>"
      ]
     },
     "execution_count": 29,
     "metadata": {},
     "output_type": "execute_result"
    }
   ],
   "source": [
    "cor_gen = (el * .5 for el in lst_val)\n",
    "cor_gen # Итерируемый объект"
   ]
  },
  {
   "cell_type": "markdown",
   "metadata": {},
   "source": [
    "В результате создания выражения-генератора мы получили итерируемый объект. В отличие от генератора списков, здесь мы получили объект отложенных вычислений. То есть выражение-генратор знает, как выполнить действия для получения структуры данных, но пока эти действия не выполнены. Эти действия будут выполнены тогда, когда по итерируемому объекту начнется итерация, например при вызове функции *next()*. Такой подход позволяет эффективно использовать память."
   ]
  },
  {
   "cell_type": "code",
   "execution_count": 30,
   "metadata": {
    "scrolled": true
   },
   "outputs": [
    {
     "data": {
      "text/plain": [
       "15.5"
      ]
     },
     "execution_count": 30,
     "metadata": {},
     "output_type": "execute_result"
    }
   ],
   "source": [
    "# использование выражения генератора в качестве источника итерируемых данных:\n",
    "sum(cor_gen)"
   ]
  },
  {
   "cell_type": "markdown",
   "metadata": {},
   "source": [
    "Выражение-генератор не обязательно связывать с переменной, его можно передавать в функцию напрямую."
   ]
  },
  {
   "cell_type": "code",
   "execution_count": 33,
   "metadata": {},
   "outputs": [
    {
     "data": {
      "text/plain": [
       "15.5"
      ]
     },
     "execution_count": 33,
     "metadata": {},
     "output_type": "execute_result"
    }
   ],
   "source": [
    "# передаем генератор напрямую:\n",
    "sum((el * .5 for el in lst_val))"
   ]
  },
  {
   "cell_type": "markdown",
   "metadata": {},
   "source": [
    "По выражению-генератору можно выполнить итерацию и с помощью цикла *for*."
   ]
  },
  {
   "cell_type": "code",
   "execution_count": 35,
   "metadata": {
    "scrolled": true
   },
   "outputs": [
    {
     "name": "stdout",
     "output_type": "stream",
     "text": [
      "0.5\n",
      "1.0\n",
      "3.5\n",
      "5.5\n",
      "4.0\n",
      "1.0\n"
     ]
    }
   ],
   "source": [
    "# итерирование по генератору с помощью цикла for\n",
    "lst_val = [1, 2, 7, 11, 8, 2]\n",
    "cor_gen = (el * .5 for el in lst_val)\n",
    "for e in cor_gen:\n",
    "    print(e)"
   ]
  },
  {
   "cell_type": "code",
   "execution_count": 36,
   "metadata": {},
   "outputs": [
    {
     "data": {
      "text/plain": [
       "<generator object <genexpr> at 0x0000026E9BF40450>"
      ]
     },
     "execution_count": 36,
     "metadata": {},
     "output_type": "execute_result"
    }
   ],
   "source": [
    "lst_val = [1, 2, 7, 11, 8, 2]\n",
    "cor_gen = (el * .5 for el in lst_val)\n",
    "cor_gen"
   ]
  },
  {
   "cell_type": "markdown",
   "metadata": {},
   "source": [
    "С помощью next() мы можем извлекать очередное значение."
   ]
  },
  {
   "cell_type": "code",
   "execution_count": 37,
   "metadata": {
    "scrolled": true
   },
   "outputs": [
    {
     "data": {
      "text/plain": [
       "0.5"
      ]
     },
     "execution_count": 37,
     "metadata": {},
     "output_type": "execute_result"
    }
   ],
   "source": [
    "next(cor_gen)"
   ]
  },
  {
   "cell_type": "markdown",
   "metadata": {},
   "source": [
    "<u>Пример</u>. Допустим, нам надо произвести вычиселние функции каждого элемента большого набора данных, а затем значения суммировать."
   ]
  },
  {
   "cell_type": "code",
   "execution_count": 39,
   "metadata": {},
   "outputs": [],
   "source": [
    "import math"
   ]
  },
  {
   "cell_type": "code",
   "execution_count": 40,
   "metadata": {},
   "outputs": [
    {
     "data": {
      "text/plain": [
       "1.9395054106807046"
      ]
     },
     "execution_count": 40,
     "metadata": {},
     "output_type": "execute_result"
    }
   ],
   "source": [
    "sum((math.sin(v) for v in range(10000)))"
   ]
  },
  {
   "cell_type": "markdown",
   "metadata": {},
   "source": [
    "Мы не создавали структуры данных, такой как список. На каждом шаге итерации функция *range()* возвращала одно значение набора данных, затем вычислялась функция и проводилось накопление суммы. Такой подход позволяет эффективно использовать память компьютера."
   ]
  },
  {
   "cell_type": "code",
   "execution_count": 41,
   "metadata": {},
   "outputs": [
    {
     "data": {
      "text/plain": [
       "1.9395054106807046"
      ]
     },
     "execution_count": 41,
     "metadata": {},
     "output_type": "execute_result"
    }
   ],
   "source": [
    "# Возможен и более компактный синтаксис.\n",
    "sum(math.sin(v) for v in range(10000)) "
   ]
  },
  {
   "cell_type": "markdown",
   "metadata": {},
   "source": [
    "## Генераторы множеств <a class=\"anchor\" id=\"генераторы-множеств\"></a>\n",
    "* [к оглавлению](#разделы)"
   ]
  },
  {
   "cell_type": "markdown",
   "metadata": {},
   "source": [
    "Помимо генераторов списков язык Python поддерживает генераторы множеств. Синтаксис генераторов множеств похож на синтаксис генераторов списков, только вместо квадратных скобок используются фигурные."
   ]
  },
  {
   "cell_type": "code",
   "execution_count": 42,
   "metadata": {},
   "outputs": [
    {
     "data": {
      "text/plain": [
       "{1, 4, 9}"
      ]
     },
     "execution_count": 42,
     "metadata": {},
     "output_type": "execute_result"
    }
   ],
   "source": [
    "sg1 = {х**2 for х in [1, 2, 1, 2, 1, 2, 3]}\n",
    "sg1"
   ]
  },
  {
   "cell_type": "code",
   "execution_count": 43,
   "metadata": {},
   "outputs": [
    {
     "data": {
      "text/plain": [
       "[1, 64, 729]"
      ]
     },
     "execution_count": 43,
     "metadata": {},
     "output_type": "execute_result"
    }
   ],
   "source": [
    "sg2 = [x**3 for x in sg1]\n",
    "sg2"
   ]
  },
  {
   "cell_type": "code",
   "execution_count": 44,
   "metadata": {},
   "outputs": [
    {
     "data": {
      "text/plain": [
       "{2}"
      ]
     },
     "execution_count": 44,
     "metadata": {},
     "output_type": "execute_result"
    }
   ],
   "source": [
    "{x for x in [1, 2, 1, 2, 1, 2, 3] if x % 2 == 0}"
   ]
  },
  {
   "cell_type": "code",
   "execution_count": 45,
   "metadata": {},
   "outputs": [],
   "source": [
    "# нужно помнить, что так пустое множество НЕ объявляется:\n",
    "v = {}"
   ]
  },
  {
   "cell_type": "code",
   "execution_count": 46,
   "metadata": {},
   "outputs": [
    {
     "data": {
      "text/plain": [
       "dict"
      ]
     },
     "execution_count": 46,
     "metadata": {},
     "output_type": "execute_result"
    }
   ],
   "source": [
    "type(v)"
   ]
  },
  {
   "cell_type": "code",
   "execution_count": 47,
   "metadata": {},
   "outputs": [],
   "source": [
    "v2 = set()"
   ]
  },
  {
   "cell_type": "code",
   "execution_count": 48,
   "metadata": {},
   "outputs": [
    {
     "data": {
      "text/plain": [
       "set"
      ]
     },
     "execution_count": 48,
     "metadata": {},
     "output_type": "execute_result"
    }
   ],
   "source": [
    "type(v2)"
   ]
  },
  {
   "cell_type": "code",
   "execution_count": 49,
   "metadata": {},
   "outputs": [
    {
     "data": {
      "text/plain": [
       "set()"
      ]
     },
     "execution_count": 49,
     "metadata": {},
     "output_type": "execute_result"
    }
   ],
   "source": [
    "# Однако,\n",
    "{e for e in [1, 2, 3] if e > 10}"
   ]
  },
  {
   "cell_type": "markdown",
   "metadata": {},
   "source": [
    "## Генераторы словарей <a class=\"anchor\" id=\"генераторы-словарей\"></a>\n",
    "* [к оглавлению](#разделы)"
   ]
  },
  {
   "cell_type": "markdown",
   "metadata": {},
   "source": [
    "Помимо генераторов списков и множеств язык Python поддерживает генераторы словарей. Синтаксис генераторов словарей похож на синтаксис генераторов списков, но имеет два отличия: \n",
    "* выражение заключается в фигурные скобки, а не в квадратные; \n",
    "* внутри выражения перед циклом for  указываются два значения через двоеточие, а не одно:\n",
    "    * значение, расположенное слева от двоеточия — ключ\n",
    "    * значение, расположенное справа от двоеточия — значение."
   ]
  },
  {
   "cell_type": "code",
   "execution_count": 56,
   "metadata": {},
   "outputs": [
    {
     "data": {
      "text/plain": [
       "{'a': 1, 'b': 2}"
      ]
     },
     "execution_count": 56,
     "metadata": {},
     "output_type": "execute_result"
    }
   ],
   "source": [
    "d18 = {k: v for (k,  v) in [['a', 1], ['b', 2]]}\n",
    "d18"
   ]
  },
  {
   "cell_type": "code",
   "execution_count": 57,
   "metadata": {},
   "outputs": [
    {
     "data": {
      "text/plain": [
       "{'a': 1, 'b': 2}"
      ]
     },
     "execution_count": 57,
     "metadata": {},
     "output_type": "execute_result"
    }
   ],
   "source": [
    "keys = ['a', 'b'] # Список ключей\n",
    "values = [1, 2]  # Список значений\n",
    "d18 = {k: v for (k,  v) in zip(keys,  values)} \n",
    "d18"
   ]
  },
  {
   "cell_type": "code",
   "execution_count": 58,
   "metadata": {},
   "outputs": [
    {
     "data": {
      "text/plain": [
       "{'a': 2, 'b': 4}"
      ]
     },
     "execution_count": 58,
     "metadata": {},
     "output_type": "execute_result"
    }
   ],
   "source": [
    "{k: 2 * v for (k,  v) in d18.items()}"
   ]
  },
  {
   "cell_type": "code",
   "execution_count": 59,
   "metadata": {},
   "outputs": [
    {
     "data": {
      "text/plain": [
       "{'a': 2, 'b': 4}"
      ]
     },
     "execution_count": 59,
     "metadata": {},
     "output_type": "execute_result"
    }
   ],
   "source": [
    "# Скобки при распаковке картежа можно опускать\n",
    "{k: 2 * v for k, v in d18.items()}"
   ]
  },
  {
   "cell_type": "code",
   "execution_count": 60,
   "metadata": {},
   "outputs": [
    {
     "data": {
      "text/plain": [
       "{0: 0, 1: 1, 2: 4, 3: 9, 4: 16, 5: 25, 6: 36, 7: 49, 8: 64, 9: 81}"
      ]
     },
     "execution_count": 60,
     "metadata": {},
     "output_type": "execute_result"
    }
   ],
   "source": [
    "{e: e ** 2 for e in range(10)}"
   ]
  },
  {
   "cell_type": "code",
   "execution_count": 61,
   "metadata": {},
   "outputs": [
    {
     "name": "stdout",
     "output_type": "stream",
     "text": [
      "{'a': 1, 'b': 2}\n"
     ]
    },
    {
     "data": {
      "text/plain": [
       "{'b': 4}"
      ]
     },
     "execution_count": 61,
     "metadata": {},
     "output_type": "execute_result"
    }
   ],
   "source": [
    "print(d18)\n",
    "{k: 2 * v for k, v in d18.items() if v % 2 == 0}"
   ]
  },
  {
   "cell_type": "code",
   "execution_count": 62,
   "metadata": {},
   "outputs": [
    {
     "data": {
      "text/plain": [
       "{'a': 0, 'b': 0}"
      ]
     },
     "execution_count": 62,
     "metadata": {},
     "output_type": "execute_result"
    }
   ],
   "source": [
    "{k: 0 for k in d18} "
   ]
  },
  {
   "cell_type": "markdown",
   "metadata": {},
   "source": [
    "# >"
   ]
  },
  {
   "cell_type": "markdown",
   "metadata": {},
   "source": [
    "---"
   ]
  }
 ],
 "metadata": {
  "kernelspec": {
   "display_name": "Python 3 (ipykernel)",
   "language": "python",
   "name": "python3"
  },
  "language_info": {
   "codemirror_mode": {
    "name": "ipython",
    "version": 3
   },
   "file_extension": ".py",
   "mimetype": "text/x-python",
   "name": "python",
   "nbconvert_exporter": "python",
   "pygments_lexer": "ipython3",
   "version": "3.11.5"
  }
 },
 "nbformat": 4,
 "nbformat_minor": 1
}
