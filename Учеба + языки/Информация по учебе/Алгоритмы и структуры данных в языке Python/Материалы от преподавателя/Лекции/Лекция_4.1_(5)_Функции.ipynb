{
 "cells": [
  {
   "cell_type": "markdown",
   "metadata": {},
   "source": [
    "<img src=\"../Img/ФинУ.jpg\">\n",
    "\n",
    "# Алгоритмы и структуры данных в языке Python\n",
    "\n",
    "# Лекция 5. Функции\n",
    "\n",
    "Лектор: Смирнов Михаил Викторович, доцент кафедры информационных технологий Финансового университета при Правительстве Российской Федерации"
   ]
  },
  {
   "cell_type": "markdown",
   "metadata": {},
   "source": [
    "## Разделы: <a class=\"anchor\" id=\"разделы\"></a>\n",
    "\n",
    "\n",
    "* [Создание функции и ее вызов](#создание-функции)\n",
    "* [Расположение определений функций](#расположение-определений)\n",
    "* [Анонимные функции](#анонимные-функции)\n",
    "* [Необязательные параметры функций и сопоставление по ключам](#необязательные-параметры)\n",
    "* [Возвращение нескольких значений из функции](#несколько-значений)\n",
    "* [Распаковка и запаковка параметров функции](#распаковка-параметров)\n",
    "* [Аннотации и документирование функций](#аннотации)\n",
    "* [Глобальные и локальные переменные](#глобальные-локальные)\n",
    "\n",
    "\n",
    "-\n",
    "* [к оглавлению](#разделы)"
   ]
  },
  {
   "cell_type": "markdown",
   "metadata": {},
   "source": [
    " # Создание функции и ее вызов <a class=\"anchor\" id=\"создание-функции\"></a>\n",
    "* [к оглавлению](#разделы)"
   ]
  },
  {
   "cell_type": "markdown",
   "metadata": {},
   "source": [
    "Функция описывается с помощью ключевого слова *def* no следующей схеме: \n",
    "\n",
    "\n",
    "```python\n",
    "def  <Имя  функции> ([<Параметры>]):\n",
    "    [\"\"\"  Строка  документирования  \"\"\"] \n",
    "    <Тело функции>    \n",
    "    [return  <Значение>]\n",
    "```\n",
    "\n",
    "* __Имя функции__ должно быть корректным уникальным идентификатором\n",
    "    * состоящим из латинских букв, цифр и знаков подчеркивания (причем имя не может начинаться с цифры);\n",
    "    * в качестве имени нельзя использовать ключевые слова;\n",
    "    * регистр  символов в  названии функции имеет значение;\n",
    "* После имени функции в  круглых скобках можно указать один или несколько __параметров__ через  запятую.  \n",
    "    * Если функция не принимает параметров, то указываются пустые круглые скобки;\n",
    "    * После круглых скобок ставится двоеточие;\n",
    "* После двоеточия может следовать необязательная **строка документирования** фукнции (распространено использование многострочной строки, заключенной в тройные кавычки)\n",
    "* **Тело функции** является *составной* конструкцией.  Как и в любой составной конструкции, инструкции внутри функции выделяются одинаковым количеством пробелов слева."
   ]
  },
  {
   "cell_type": "code",
   "execution_count": 1,
   "metadata": {},
   "outputs": [],
   "source": [
    "def func():\n",
    "    pass"
   ]
  },
  {
   "cell_type": "code",
   "execution_count": 2,
   "metadata": {},
   "outputs": [],
   "source": [
    "func()"
   ]
  },
  {
   "cell_type": "markdown",
   "metadata": {},
   "source": [
    "Необязательная инструкция `return`  nозволяет вернуть значение из функции. После исполнения этой инструкции выполнение функции будет завершено. "
   ]
  },
  {
   "cell_type": "code",
   "execution_count": 4,
   "metadata": {},
   "outputs": [],
   "source": [
    "def  func():\n",
    "    print (\"Текст до инструкции return\")\n",
    "    return \"Возвращаемое  значение\"\n",
    "    print (\"Эта инструкция не будет выполнена\")"
   ]
  },
  {
   "cell_type": "code",
   "execution_count": 5,
   "metadata": {},
   "outputs": [
    {
     "name": "stdout",
     "output_type": "stream",
     "text": [
      "Текст до инструкции return\n",
      "Возвращаемое  значение\n"
     ]
    }
   ],
   "source": [
    "print(func())  # вызываем функцию"
   ]
  },
  {
   "cell_type": "code",
   "execution_count": 3,
   "metadata": {},
   "outputs": [],
   "source": [
    "def print_ok():\n",
    "    \"\"\" Пример функции без параметров \"\"\"\n",
    "    print(\"Сообщение при удачно выполненной операции\")\n",
    "\n",
    "def echo(m):\n",
    "    \"\"\" Пример функции с параметром \"\"\"\n",
    "    print(m)\n",
    "\n",
    "def summa(x, у):\n",
    "    \"\"\" \n",
    "    Пример функции с параметрами,\n",
    "    возвращающей сумму двух переменных\n",
    "    \"\"\"\n",
    "    return x + у\n",
    "\n",
    "def pow2(x, у): \n",
    "    \"\"\"\n",
    "    Пример функции с параметрами,\n",
    "    возвращающей значение х в степени y\n",
    "    \"\"\"\n",
    "    return x ** у"
   ]
  },
  {
   "cell_type": "code",
   "execution_count": 7,
   "metadata": {},
   "outputs": [
    {
     "name": "stdout",
     "output_type": "stream",
     "text": [
      "Сообщение при удачно выполненной операции\n"
     ]
    }
   ],
   "source": [
    "print_ok()"
   ]
  },
  {
   "cell_type": "code",
   "execution_count": 9,
   "metadata": {},
   "outputs": [
    {
     "data": {
      "text/plain": [
       "7"
      ]
     },
     "execution_count": 9,
     "metadata": {},
     "output_type": "execute_result"
    }
   ],
   "source": [
    "x = summa(5, 2)\n",
    "x"
   ]
  },
  {
   "cell_type": "code",
   "execution_count": 10,
   "metadata": {},
   "outputs": [
    {
     "data": {
      "text/plain": [
       "50"
      ]
     },
     "execution_count": 10,
     "metadata": {},
     "output_type": "execute_result"
    }
   ],
   "source": [
    "y, x = 10, 40\n",
    "z = summa(y, x)\n",
    "z"
   ]
  },
  {
   "cell_type": "markdown",
   "metadata": {},
   "source": [
    "Имена параметров, указываемые при вызове функции могут не совпадать с именами параметров в определении функции. Кроме того, глобальные переменные $x$ и $y$ не конфликтуют с одноименными переменными в определении функции, т. к. они расположены в разных областях видимости. Переменные, указанные в определении функции, являются **локальными** и доступны только внутри функции. "
   ]
  },
  {
   "cell_type": "code",
   "execution_count": 11,
   "metadata": {},
   "outputs": [
    {
     "data": {
      "text/plain": [
       "'string'"
      ]
     },
     "execution_count": 11,
     "metadata": {},
     "output_type": "execute_result"
    }
   ],
   "source": [
    "# в Python нет ограничений на тип значений передаваемых в функцию:\n",
    "summa('str', 'ing')"
   ]
  },
  {
   "cell_type": "code",
   "execution_count": 12,
   "metadata": {},
   "outputs": [
    {
     "data": {
      "text/plain": [
       "[1, 3, 5, 7]"
      ]
     },
     "execution_count": 12,
     "metadata": {},
     "output_type": "execute_result"
    }
   ],
   "source": [
    "summa([1, 3], [5, 7])"
   ]
  },
  {
   "cell_type": "markdown",
   "metadata": {},
   "source": [
    "В Python всё является объектом, например, строки, списки и функции.\n",
    "\n",
    "Инструкция *def*  создает объект, имеющий тип  *function*,  и  сохраняет ссылку на него в идентификаторе, указанном после инструкции *def*. Таким образом, мы можем сохранить ссылку на функцию в  другой переменной. Для этого  название функции указывается без круглых скобок."
   ]
  },
  {
   "cell_type": "code",
   "execution_count": 13,
   "metadata": {},
   "outputs": [
    {
     "data": {
      "text/plain": [
       "30"
      ]
     },
     "execution_count": 13,
     "metadata": {},
     "output_type": "execute_result"
    }
   ],
   "source": [
    "f = summa\n",
    "v = f(10, 20)\n",
    "v"
   ]
  },
  {
   "cell_type": "code",
   "execution_count": 14,
   "metadata": {},
   "outputs": [
    {
     "data": {
      "text/plain": [
       "function"
      ]
     },
     "execution_count": 14,
     "metadata": {},
     "output_type": "execute_result"
    }
   ],
   "source": [
    "type(summa)"
   ]
  },
  {
   "cell_type": "code",
   "execution_count": 15,
   "metadata": {},
   "outputs": [
    {
     "data": {
      "text/plain": [
       "function"
      ]
     },
     "execution_count": 15,
     "metadata": {},
     "output_type": "execute_result"
    }
   ],
   "source": [
    "type(f)"
   ]
  },
  {
   "cell_type": "code",
   "execution_count": 16,
   "metadata": {},
   "outputs": [],
   "source": [
    "# Функции в Python можно передавать в качестве аргументов других функций.\n",
    "# В этой функции параметр fp используем для ссылки на другую функцию\n",
    "def func(fp, а, b):\n",
    "    return fp(а, b)"
   ]
  },
  {
   "cell_type": "code",
   "execution_count": 17,
   "metadata": {},
   "outputs": [
    {
     "data": {
      "text/plain": [
       "30"
      ]
     },
     "execution_count": 17,
     "metadata": {},
     "output_type": "execute_result"
    }
   ],
   "source": [
    "func(summa, 10, 20)"
   ]
  },
  {
   "cell_type": "code",
   "execution_count": 18,
   "metadata": {},
   "outputs": [
    {
     "data": {
      "text/plain": [
       "30"
      ]
     },
     "execution_count": 18,
     "metadata": {},
     "output_type": "execute_result"
    }
   ],
   "source": [
    "func(f, 10, 20)"
   ]
  },
  {
   "cell_type": "code",
   "execution_count": 19,
   "metadata": {},
   "outputs": [],
   "source": [
    "def razn(a, b):\n",
    "    return a - b"
   ]
  },
  {
   "cell_type": "code",
   "execution_count": 20,
   "metadata": {},
   "outputs": [
    {
     "data": {
      "text/plain": [
       "-10"
      ]
     },
     "execution_count": 20,
     "metadata": {},
     "output_type": "execute_result"
    }
   ],
   "source": [
    "func(razn, 10, 20)"
   ]
  },
  {
   "cell_type": "markdown",
   "metadata": {},
   "source": [
    "Объекты функций поддерживают множество __атрибутов__. Обратиться к атрибутам функции можно, указав атрибут после названия функции через точку. Например, через атрибут `__nаme__` можно получить название функции в виде строки, через атрибут `__doc__` – строку документирования и т. д."
   ]
  },
  {
   "cell_type": "code",
   "execution_count": 21,
   "metadata": {},
   "outputs": [
    {
     "data": {
      "text/plain": [
       "'summa'"
      ]
     },
     "execution_count": 21,
     "metadata": {},
     "output_type": "execute_result"
    }
   ],
   "source": [
    "summa.__name__"
   ]
  },
  {
   "cell_type": "code",
   "execution_count": 22,
   "metadata": {},
   "outputs": [
    {
     "data": {
      "text/plain": [
       "'summa'"
      ]
     },
     "execution_count": 22,
     "metadata": {},
     "output_type": "execute_result"
    }
   ],
   "source": [
    "f.__name__"
   ]
  },
  {
   "cell_type": "markdown",
   "metadata": {},
   "source": [
    "Выведем  названия  всех  атрибутов функции с помощью встроенной функции *dir()*:"
   ]
  },
  {
   "cell_type": "code",
   "execution_count": 24,
   "metadata": {},
   "outputs": [
    {
     "data": {
      "text/plain": [
       "['__annotations__',\n",
       " '__builtins__',\n",
       " '__call__',\n",
       " '__class__',\n",
       " '__closure__',\n",
       " '__code__',\n",
       " '__defaults__',\n",
       " '__delattr__',\n",
       " '__dict__',\n",
       " '__dir__',\n",
       " '__doc__',\n",
       " '__eq__',\n",
       " '__format__',\n",
       " '__ge__',\n",
       " '__get__',\n",
       " '__getattribute__',\n",
       " '__getstate__',\n",
       " '__globals__',\n",
       " '__gt__',\n",
       " '__hash__',\n",
       " '__init__',\n",
       " '__init_subclass__',\n",
       " '__kwdefaults__',\n",
       " '__le__',\n",
       " '__lt__',\n",
       " '__module__',\n",
       " '__name__',\n",
       " '__ne__',\n",
       " '__new__',\n",
       " '__qualname__',\n",
       " '__reduce__',\n",
       " '__reduce_ex__',\n",
       " '__repr__',\n",
       " '__setattr__',\n",
       " '__sizeof__',\n",
       " '__str__',\n",
       " '__subclasshook__']"
      ]
     },
     "execution_count": 24,
     "metadata": {},
     "output_type": "execute_result"
    }
   ],
   "source": [
    "dir(summa)"
   ]
  },
  {
   "cell_type": "markdown",
   "metadata": {},
   "source": [
    "# >"
   ]
  },
  {
   "cell_type": "markdown",
   "metadata": {},
   "source": [
    "---"
   ]
  },
  {
   "cell_type": "markdown",
   "metadata": {},
   "source": [
    "# Расположение определений функций <a class=\"anchor\" id=\"расположение-определений\"></a>\n",
    "* [к оглавлению](#разделы)"
   ]
  },
  {
   "cell_type": "markdown",
   "metadata": {},
   "source": [
    "Все инструкции в программе на Python выполняются последовательно сверху вниз. Это означает, что прежде чем использовать идентификатор в программе, его необходимо предварительно определить, присвоив ему значение. Поэтому __определение функции__ должно быть выполнено __перед вызовом функции__ (обычно это означает, что определение находится раньше вызова)."
   ]
  },
  {
   "cell_type": "code",
   "execution_count": 25,
   "metadata": {
    "scrolled": true
   },
   "outputs": [
    {
     "name": "stdout",
     "output_type": "stream",
     "text": [
      "Функция f2!\n"
     ]
    }
   ],
   "source": [
    "# неверно!\n",
    "f2()\n",
    "\n",
    "def f2():\n",
    "    print('Функция f2!')"
   ]
  },
  {
   "cell_type": "code",
   "execution_count": 26,
   "metadata": {},
   "outputs": [
    {
     "name": "stdout",
     "output_type": "stream",
     "text": [
      "Функция f2!\n",
      "Функция f2!\n"
     ]
    }
   ],
   "source": [
    "# Плохой код, однако работает т. к. определение функции было выполнено ранее, чем вызов       \n",
    "for i in range(5):\n",
    "    if i > 2:\n",
    "        f2()\n",
    "    \n",
    "    def f2():\n",
    "        print('Функция f2!')"
   ]
  },
  {
   "cell_type": "code",
   "execution_count": 29,
   "metadata": {},
   "outputs": [
    {
     "name": "stdout",
     "output_type": "stream",
     "text": [
      "Введите 1 для вызова первой функции: 2\n",
      "Альтернативная функция\n"
     ]
    }
   ],
   "source": [
    "# Оnределение функции в зависимости от условия\n",
    "n = input(\"Введите 1 для вызова первой функции: \")\n",
    "\n",
    "if n == \"1\": \n",
    "    def echo(): \n",
    "        print(\"Первая функция\") \n",
    "else: \n",
    "    def echo(): \n",
    "        print (\"Альтернативная функция\") \n",
    "echo() # Вызываем функцию "
   ]
  },
  {
   "cell_type": "markdown",
   "metadata": {},
   "source": [
    "Инструкция *def* присваивает ссылку на объект функции идентификатору, расположенному после ключевого слова *def*. Если одинаковые идентификаторы встречаются в программе несколько раз, то будет использоваться функция, которая расположена последней."
   ]
  },
  {
   "cell_type": "markdown",
   "metadata": {},
   "source": [
    "# >"
   ]
  },
  {
   "cell_type": "markdown",
   "metadata": {},
   "source": [
    "---"
   ]
  },
  {
   "cell_type": "markdown",
   "metadata": {},
   "source": [
    "# Анонимные функции <a class=\"anchor\" id=\"анонимные-функции\"></a>\n",
    "* [к оглавлению](#разделы)"
   ]
  },
  {
   "cell_type": "markdown",
   "metadata": {},
   "source": [
    "Помимо обычных функций язык Python  позволяет использовать анонимные функции, которые называются __лямбда-функциями__. Анонимная функция описывается с помощью ключевого слова `lambda` по следующей схеме:\n",
    "\n",
    "`lambda [<Параметр 1>[,  ... ,  <Параметр N>]]:  <Возвращаемое  значение>`\n",
    "\n",
    "После ключевого слова `lambda` можно указать передаваемые параметры. В качестве параметра `<Возвращаемое  значение>`  указывается  __выражение__ (не составное),  результат  выполнения  которого будет возвращен функцией.  \n",
    "\n",
    "Как видно из  схемы, у лямбда-функции нет имени. По этой причине их и называют анонимными функциями. \n",
    "\n",
    "В  качестве  значения  __лямбда-функция  возвращает  ссылку  на  объект-функцию__, которую можно сохранить в переменной или передать в качестве параметра в другую функцию. Вызвать лямбда-функцию можно, как и обычную, с помощью круглых скобок, внутри которых расположены передаваемые параметры."
   ]
  },
  {
   "cell_type": "code",
   "execution_count": 30,
   "metadata": {},
   "outputs": [
    {
     "name": "stdout",
     "output_type": "stream",
     "text": [
      "30\n",
      "15\n",
      "45\n"
     ]
    }
   ],
   "source": [
    "f1 = lambda: 10 + 20  # функция без nараметров \n",
    "f2 = lambda х, y:  х + y  # функция с двумя nараметрами \n",
    "f3 = lambda х, y, z: х + y + z  # функция с тремя nараметрами \n",
    "print(f1())\n",
    "print(f2(5, 10))\n",
    "print(f3(5, 10, 30))"
   ]
  },
  {
   "cell_type": "markdown",
   "metadata": {},
   "source": [
    "Пусть имеется список, который требуется отсортировать по алфавиту."
   ]
  },
  {
   "cell_type": "code",
   "execution_count": 31,
   "metadata": {},
   "outputs": [
    {
     "data": {
      "text/plain": [
       "['Единица2', 'Единый', 'единица1']"
      ]
     },
     "execution_count": 31,
     "metadata": {},
     "output_type": "execute_result"
    }
   ],
   "source": [
    "arr  =  [\"единица1\",  \"Единый\",  \"Единица2\"]\n",
    "arr.sort()\n",
    "arr"
   ]
  },
  {
   "cell_type": "markdown",
   "metadata": {},
   "source": [
    "На результат сортировки повлиял регистр символов. Усложним задачу. Отсортируем список по алфавиту без учета влияния регистра символов. Для этого напишем функцию, которая переводит слова в нижний регистр. Затем используем эту функцию в сортировке."
   ]
  },
  {
   "cell_type": "code",
   "execution_count": 40,
   "metadata": {},
   "outputs": [
    {
     "data": {
      "text/plain": [
       "['единица1', 'Единица2', 'Единый']"
      ]
     },
     "execution_count": 40,
     "metadata": {},
     "output_type": "execute_result"
    }
   ],
   "source": [
    "def make_it_low(string):\n",
    "    return string.lower()\n",
    "\n",
    "arr  =  [\"единица1\",  \"Единый\",  \"Единица2\"]\n",
    "arr.sort(key = make_it_low)\n",
    "arr"
   ]
  },
  {
   "cell_type": "markdown",
   "metadata": {},
   "source": [
    "А теперь выполним ту же задачу с помощью $\\lambda$-функции."
   ]
  },
  {
   "cell_type": "code",
   "execution_count": 35,
   "metadata": {},
   "outputs": [
    {
     "data": {
      "text/plain": [
       "['единица1', 'Единица2', 'Единый']"
      ]
     },
     "execution_count": 35,
     "metadata": {},
     "output_type": "execute_result"
    }
   ],
   "source": [
    "arr  =  [\"единица1\",  \"Единый\",  \"Единица2\"]\n",
    "arr.sort(key = lambda s: s.lower()) \n",
    "arr"
   ]
  },
  {
   "cell_type": "markdown",
   "metadata": {},
   "source": [
    "Приведем также пример сортировки списка с помощью встроенной функции Python *sorted()*."
   ]
  },
  {
   "cell_type": "code",
   "execution_count": 44,
   "metadata": {},
   "outputs": [],
   "source": [
    "ls = ['кабачок', 'дыня', 'вишня', 'арбуз', 'яблоко', 'абрикос']"
   ]
  },
  {
   "cell_type": "code",
   "execution_count": 45,
   "metadata": {},
   "outputs": [
    {
     "data": {
      "text/plain": [
       "['абрикос', 'арбуз', 'вишня', 'дыня', 'кабачок', 'яблоко']"
      ]
     },
     "execution_count": 45,
     "metadata": {},
     "output_type": "execute_result"
    }
   ],
   "source": [
    "sorted(ls)"
   ]
  },
  {
   "cell_type": "code",
   "execution_count": 47,
   "metadata": {
    "scrolled": true
   },
   "outputs": [
    {
     "data": {
      "text/plain": [
       "['дыня', 'вишня', 'арбуз', 'яблоко', 'кабачок', 'абрикос']"
      ]
     },
     "execution_count": 47,
     "metadata": {},
     "output_type": "execute_result"
    }
   ],
   "source": [
    "sorted(ls, key = lambda s: len(s))"
   ]
  },
  {
   "cell_type": "code",
   "execution_count": 48,
   "metadata": {},
   "outputs": [
    {
     "data": {
      "text/plain": [
       "['дыня', 'вишня', 'арбуз', 'яблоко', 'кабачок', 'абрикос']"
      ]
     },
     "execution_count": 48,
     "metadata": {},
     "output_type": "execute_result"
    }
   ],
   "source": [
    "sorted(ls, key = len)"
   ]
  },
  {
   "cell_type": "code",
   "execution_count": 50,
   "metadata": {},
   "outputs": [
    {
     "data": {
      "text/plain": [
       "['кабачок', 'дыня', 'вишня', 'арбуз', 'яблоко', 'абрикос']"
      ]
     },
     "execution_count": 50,
     "metadata": {},
     "output_type": "execute_result"
    }
   ],
   "source": [
    "ls # Исходный список не изменился"
   ]
  },
  {
   "cell_type": "markdown",
   "metadata": {},
   "source": [
    "# >"
   ]
  },
  {
   "cell_type": "markdown",
   "metadata": {},
   "source": [
    "-----"
   ]
  },
  {
   "cell_type": "markdown",
   "metadata": {},
   "source": [
    "##  Необязательные параметры функций и сопоставление по ключам <a class=\"anchor\" id=\"необязательные-параметры\"></a>\n",
    "* [к оглавлению](#разделы)\n"
   ]
  },
  {
   "cell_type": "markdown",
   "metadata": {},
   "source": [
    "Чтобы  сделать  некоторые параметры  необязательными,  следует  в  определении  функции присвоить этому параметру начальное значение (значение по умолчанию)."
   ]
  },
  {
   "cell_type": "code",
   "execution_count": 51,
   "metadata": {},
   "outputs": [],
   "source": [
    "def summa(x, y=2):\n",
    "    return x + y"
   ]
  },
  {
   "cell_type": "code",
   "execution_count": 52,
   "metadata": {},
   "outputs": [
    {
     "data": {
      "text/plain": [
       "7"
      ]
     },
     "execution_count": 52,
     "metadata": {},
     "output_type": "execute_result"
    }
   ],
   "source": [
    "summa(5)"
   ]
  },
  {
   "cell_type": "code",
   "execution_count": 53,
   "metadata": {},
   "outputs": [
    {
     "data": {
      "text/plain": [
       "9"
      ]
     },
     "execution_count": 53,
     "metadata": {},
     "output_type": "execute_result"
    }
   ],
   "source": [
    "summa(5, 4)"
   ]
  },
  {
   "cell_type": "markdown",
   "metadata": {},
   "source": [
    "Синтаксис определения параметров функции не позволяет указывать параметры, не имеющие значений по умолчанию, после параметров со значениями по умолчанию."
   ]
  },
  {
   "cell_type": "code",
   "execution_count": 54,
   "metadata": {},
   "outputs": [
    {
     "ename": "SyntaxError",
     "evalue": "non-default argument follows default argument (2940402390.py, line 2)",
     "output_type": "error",
     "traceback": [
      "\u001b[1;36m  Cell \u001b[1;32mIn[54], line 2\u001b[1;36m\u001b[0m\n\u001b[1;33m    def bad(a, b=1, с):\u001b[0m\n\u001b[1;37m                    ^\u001b[0m\n\u001b[1;31mSyntaxError\u001b[0m\u001b[1;31m:\u001b[0m non-default argument follows default argument\n"
     ]
    }
   ],
   "source": [
    "# ошибка:\n",
    "def bad(a, b=1, с):\n",
    "    return a + b + c"
   ]
  },
  {
   "cell_type": "markdown",
   "metadata": {},
   "source": [
    "Язык Python позволяет также передать значения в функцию, используя __сопоставление по ключам__.  Для этого при вызове функции параметрам присваиваются значения. В этом случае последовательность указания параметров может быть произвольной."
   ]
  },
  {
   "cell_type": "code",
   "execution_count": 63,
   "metadata": {},
   "outputs": [],
   "source": [
    "def summa(x, y):\n",
    "    \"\"\"\n",
    "    Функция с параметрами, возвращающая сумму двух переменных\n",
    "    \"\"\"\n",
    "    return x + y"
   ]
  },
  {
   "cell_type": "code",
   "execution_count": 64,
   "metadata": {},
   "outputs": [
    {
     "data": {
      "text/plain": [
       "30"
      ]
     },
     "execution_count": 64,
     "metadata": {},
     "output_type": "execute_result"
    }
   ],
   "source": [
    "summa(y=10, x=20)"
   ]
  },
  {
   "cell_type": "markdown",
   "metadata": {},
   "source": [
    "Сопоставление по ключам удобно, если функция имеет несколько необязательных параметров. В этом случае не нужно перечислять все значения, а достаточно присвоить значение нужному параметру."
   ]
  },
  {
   "cell_type": "code",
   "execution_count": 66,
   "metadata": {},
   "outputs": [],
   "source": [
    "def multi_summa(x=1, y=1, z=1):\n",
    "    return x + 10*y + 100*z"
   ]
  },
  {
   "cell_type": "code",
   "execution_count": 67,
   "metadata": {},
   "outputs": [
    {
     "data": {
      "text/plain": [
       "111"
      ]
     },
     "execution_count": 67,
     "metadata": {},
     "output_type": "execute_result"
    }
   ],
   "source": [
    "multi_summa()"
   ]
  },
  {
   "cell_type": "code",
   "execution_count": 68,
   "metadata": {},
   "outputs": [
    {
     "data": {
      "text/plain": [
       "115"
      ]
     },
     "execution_count": 68,
     "metadata": {},
     "output_type": "execute_result"
    }
   ],
   "source": [
    "multi_summa(5)"
   ]
  },
  {
   "cell_type": "code",
   "execution_count": 69,
   "metadata": {},
   "outputs": [
    {
     "data": {
      "text/plain": [
       "311"
      ]
     },
     "execution_count": 69,
     "metadata": {},
     "output_type": "execute_result"
    }
   ],
   "source": [
    "multi_summa(z=3)"
   ]
  },
  {
   "cell_type": "markdown",
   "metadata": {},
   "source": [
    "Значения по умолчанию создаются на этапе выполнения инструкции *def* (то есть в момент создания функции), а не в момент ее вызова. Для неизменяемых аргументов, таких как строки или числа, это не имеет никакого значения, но, при использовании изменяемых аргументов в качестве значения по умолчанию, может появиться труднообнаружимая проблема."
   ]
  },
  {
   "cell_type": "code",
   "execution_count": 76,
   "metadata": {},
   "outputs": [],
   "source": [
    "def append_if_even(x, lst=[]): # Ошибка\n",
    "    if x % 2 == 0:\n",
    "        lst.append(x)\n",
    "    return lst"
   ]
  },
  {
   "cell_type": "code",
   "execution_count": 77,
   "metadata": {},
   "outputs": [
    {
     "data": {
      "text/plain": [
       "[2]"
      ]
     },
     "execution_count": 77,
     "metadata": {},
     "output_type": "execute_result"
    }
   ],
   "source": [
    "append_if_even(2)"
   ]
  },
  {
   "cell_type": "code",
   "execution_count": 78,
   "metadata": {},
   "outputs": [
    {
     "data": {
      "text/plain": [
       "[2, 4]"
      ]
     },
     "execution_count": 78,
     "metadata": {},
     "output_type": "execute_result"
    }
   ],
   "source": [
    "append_if_even(4)"
   ]
  },
  {
   "cell_type": "markdown",
   "metadata": {},
   "source": [
    "Функциональность оказалось не такой, как мы ожидали – результат вызова функции добавлен к результату предыдущего вызова этой же функции."
   ]
  },
  {
   "cell_type": "code",
   "execution_count": 79,
   "metadata": {},
   "outputs": [],
   "source": [
    "# Пример решения задачи без ошибки:\n",
    "def append_if_even(x, lst=None):\n",
    "    if lst is None:\n",
    "        lst = []\n",
    "    if x % 2 == 0: \n",
    "        lst.append(x) \n",
    "    return lst "
   ]
  },
  {
   "cell_type": "code",
   "execution_count": 80,
   "metadata": {},
   "outputs": [
    {
     "data": {
      "text/plain": [
       "[2]"
      ]
     },
     "execution_count": 80,
     "metadata": {},
     "output_type": "execute_result"
    }
   ],
   "source": [
    "append_if_even(2)"
   ]
  },
  {
   "cell_type": "code",
   "execution_count": 81,
   "metadata": {
    "scrolled": true
   },
   "outputs": [
    {
     "data": {
      "text/plain": [
       "[4]"
      ]
     },
     "execution_count": 81,
     "metadata": {},
     "output_type": "execute_result"
    }
   ],
   "source": [
    "append_if_even(4)"
   ]
  },
  {
   "cell_type": "markdown",
   "metadata": {},
   "source": [
    "# >"
   ]
  },
  {
   "cell_type": "markdown",
   "metadata": {},
   "source": [
    "----"
   ]
  },
  {
   "cell_type": "markdown",
   "metadata": {},
   "source": [
    "<a class=\"anchor\" id=\"несколько-значений\"></a>\n",
    "\n",
    "# Возвращение нескольких значений из функции\n",
    "\n",
    "* [к оглавлению](#разделы)"
   ]
  },
  {
   "cell_type": "code",
   "execution_count": 1,
   "metadata": {},
   "outputs": [],
   "source": [
    "def min_med_max(lst):\n",
    "    \"Возвращает минимальное, медианное и максимальное значение итерируемого объекта (списка)\"\n",
    "    lst_s = sorted(lst)\n",
    "    min_value = lst_s[0]\n",
    "    max_value = lst_s[-1]\n",
    "    med_value = lst_s[len(lst)//2]\n",
    "    return min_value, med_value, max_value # удобный синтаксис для запаковки результатов в кортеж"
   ]
  },
  {
   "cell_type": "code",
   "execution_count": 2,
   "metadata": {},
   "outputs": [
    {
     "data": {
      "text/plain": [
       "(1, 7, 100)"
      ]
     },
     "execution_count": 2,
     "metadata": {},
     "output_type": "execute_result"
    }
   ],
   "source": [
    "min_med_max([3, 1, 100, 11, 7])"
   ]
  },
  {
   "cell_type": "code",
   "execution_count": 4,
   "metadata": {},
   "outputs": [
    {
     "data": {
      "text/plain": [
       "'min: 1, med: 7, max: 100'"
      ]
     },
     "execution_count": 4,
     "metadata": {},
     "output_type": "execute_result"
    }
   ],
   "source": [
    "# Распаковка кортежа, возвращаемого функцией\n",
    "mi, me, ma = min_med_max([3, 1, 100, 11, 7])\n",
    "f'min: {mi}, med: {me}, max: {ma}'"
   ]
  },
  {
   "cell_type": "markdown",
   "metadata": {},
   "source": [
    "<a class=\"anchor\" id=\"распаковка-параметров\"></a>\n",
    "\n",
    "# Распаковка и запаковка параметров функции\n",
    "\n",
    "* [к оглавлению](#разделы)"
   ]
  },
  {
   "cell_type": "markdown",
   "metadata": {},
   "source": [
    "Пусть имеется функция"
   ]
  },
  {
   "cell_type": "code",
   "execution_count": 7,
   "metadata": {},
   "outputs": [],
   "source": [
    "def multi_summa(x=1, y=1, z=1):\n",
    "    return x + 10*y + 100*z"
   ]
  },
  {
   "cell_type": "markdown",
   "metadata": {},
   "source": [
    "и какая-либо коллекция."
   ]
  },
  {
   "cell_type": "code",
   "execution_count": 8,
   "metadata": {},
   "outputs": [],
   "source": [
    "t1 = (5, 10 ,15)\n",
    "t2 = [25, 35, 45]\n",
    "t3 = (5, 10 ,15, 20)"
   ]
  },
  {
   "cell_type": "markdown",
   "metadata": {},
   "source": [
    "Вызовем функцию и передадим в нее параметры — элементы коллекции."
   ]
  },
  {
   "cell_type": "code",
   "execution_count": 10,
   "metadata": {},
   "outputs": [
    {
     "data": {
      "text/plain": [
       "1605"
      ]
     },
     "execution_count": 10,
     "metadata": {},
     "output_type": "execute_result"
    }
   ],
   "source": [
    "# неудобный способ передачи параметров:\n",
    "multi_summa(t1[0], t1[1], t1[2])"
   ]
  },
  {
   "cell_type": "markdown",
   "metadata": {},
   "source": [
    "Удобным способом передачи элементов коллекции в функцию является *распаковка* — при этом элементы коллекции воспринимаются функцией в качестве ее позиционных аргументов.\n",
    "\n",
    "Для распаковки при вызове функции укажем коллекцию и поставим символ `*`."
   ]
  },
  {
   "cell_type": "code",
   "execution_count": 11,
   "metadata": {},
   "outputs": [
    {
     "data": {
      "text/plain": [
       "1605"
      ]
     },
     "execution_count": 11,
     "metadata": {},
     "output_type": "execute_result"
    }
   ],
   "source": [
    "multi_summa(*t1)"
   ]
  },
  {
   "cell_type": "code",
   "execution_count": 12,
   "metadata": {},
   "outputs": [
    {
     "data": {
      "text/plain": [
       "4875"
      ]
     },
     "execution_count": 12,
     "metadata": {},
     "output_type": "execute_result"
    }
   ],
   "source": [
    "multi_summa(*t2)"
   ]
  },
  {
   "cell_type": "code",
   "execution_count": 13,
   "metadata": {},
   "outputs": [
    {
     "ename": "TypeError",
     "evalue": "multi_summa() takes from 0 to 3 positional arguments but 4 were given",
     "output_type": "error",
     "traceback": [
      "\u001b[1;31m---------------------------------------------------------------------------\u001b[0m",
      "\u001b[1;31mTypeError\u001b[0m                                 Traceback (most recent call last)",
      "Cell \u001b[1;32mIn[13], line 3\u001b[0m\n\u001b[0;32m      1\u001b[0m \u001b[38;5;66;03m# Ошибка! количество передаваемых параметров \u001b[39;00m\n\u001b[0;32m      2\u001b[0m \u001b[38;5;66;03m# должно равняться количеству объявленных в функции параметров:\u001b[39;00m\n\u001b[1;32m----> 3\u001b[0m multi_summa(\u001b[38;5;241m*\u001b[39mt3)\n",
      "\u001b[1;31mTypeError\u001b[0m: multi_summa() takes from 0 to 3 positional arguments but 4 were given"
     ]
    }
   ],
   "source": [
    "# Ошибка! количество передаваемых параметров \n",
    "# должно равняться количеству объявленных в функции параметров:\n",
    "multi_summa(*t3)"
   ]
  },
  {
   "cell_type": "code",
   "execution_count": 14,
   "metadata": {},
   "outputs": [
    {
     "data": {
      "text/plain": [
       "1605"
      ]
     },
     "execution_count": 14,
     "metadata": {},
     "output_type": "execute_result"
    }
   ],
   "source": [
    "# решение проблемы:\n",
    "multi_summa(*t3[:3])"
   ]
  },
  {
   "cell_type": "markdown",
   "metadata": {},
   "source": [
    "Если значения параметров содержатся в словаре, то распаковать словарь можно, указав перед ним две звездочки \\*\\* :"
   ]
  },
  {
   "cell_type": "code",
   "execution_count": 15,
   "metadata": {},
   "outputs": [],
   "source": [
    "d1 = {'x': 11, 'y': 12, 'z': 13}"
   ]
  },
  {
   "cell_type": "code",
   "execution_count": 16,
   "metadata": {},
   "outputs": [
    {
     "data": {
      "text/plain": [
       "1431"
      ]
     },
     "execution_count": 16,
     "metadata": {},
     "output_type": "execute_result"
    }
   ],
   "source": [
    "multi_summa(x=d1['x'], y=d1['y'], z=d1['z'])"
   ]
  },
  {
   "cell_type": "code",
   "execution_count": 17,
   "metadata": {},
   "outputs": [
    {
     "data": {
      "text/plain": [
       "1431"
      ]
     },
     "execution_count": 17,
     "metadata": {},
     "output_type": "execute_result"
    }
   ],
   "source": [
    "multi_summa(**d1)"
   ]
  },
  {
   "cell_type": "code",
   "execution_count": 74,
   "metadata": {},
   "outputs": [
    {
     "data": {
      "text/plain": [
       "-210"
      ]
     },
     "execution_count": 74,
     "metadata": {},
     "output_type": "execute_result"
    }
   ],
   "source": [
    "t3 = [0, -1]\n",
    "d2 = {'z': -2}\n",
    "# сначала позиционные параметры, потом пары имя - значение:\n",
    "multi_summa(*t3, **d2)"
   ]
  },
  {
   "cell_type": "markdown",
   "metadata": {},
   "source": [
    "Мы рассмотрели пример, в котором у функции было конкретное число параметров. Однако, это число может быть переменным. Для этого используем символ `*` в определении функции. Теперь при передаче параметров в функцию произойдет их упаковка в кортеж."
   ]
  },
  {
   "cell_type": "code",
   "execution_count": 1,
   "metadata": {},
   "outputs": [],
   "source": [
    "# упаковка последовательности параметров в параметр-кортеж:\n",
    "def all_summa(*t): \n",
    "    \"\"\"Функция принимает произвольное количество параметров\"\"\" \n",
    "#     print(type(t)) # проверка типа параметра\n",
    "    res = 0\n",
    "    for i in t: \n",
    "        res += i \n",
    "    return  res "
   ]
  },
  {
   "cell_type": "code",
   "execution_count": 2,
   "metadata": {},
   "outputs": [
    {
     "data": {
      "text/plain": [
       "153"
      ]
     },
     "execution_count": 2,
     "metadata": {},
     "output_type": "execute_result"
    }
   ],
   "source": [
    "all_summa(10, 20, 30, 40, 50, 1, 2)"
   ]
  },
  {
   "cell_type": "markdown",
   "metadata": {},
   "source": [
    "Если передаваемые в функцию параметры уже находятся в кортеже, а в функции предполагается их упаковка, то передаваемые параметры требуется сначала распаковать."
   ]
  },
  {
   "cell_type": "code",
   "execution_count": 20,
   "metadata": {},
   "outputs": [
    {
     "data": {
      "text/plain": [
       "280"
      ]
     },
     "execution_count": 20,
     "metadata": {},
     "output_type": "execute_result"
    }
   ],
   "source": [
    "t4 = [10, 20, 30, 40, 50, 60, 70]\n",
    "# одновременная распаковка (t4) и упаковка (в параметр функции t):\n",
    "all_summa(*t4)"
   ]
  },
  {
   "cell_type": "markdown",
   "metadata": {},
   "source": [
    "Если такую распаковку не сделать, может произойти ошибка."
   ]
  },
  {
   "cell_type": "code",
   "execution_count": 21,
   "metadata": {},
   "outputs": [
    {
     "ename": "TypeError",
     "evalue": "unsupported operand type(s) for +=: 'int' and 'list'",
     "output_type": "error",
     "traceback": [
      "\u001b[1;31m---------------------------------------------------------------------------\u001b[0m",
      "\u001b[1;31mTypeError\u001b[0m                                 Traceback (most recent call last)",
      "Cell \u001b[1;32mIn[21], line 1\u001b[0m\n\u001b[1;32m----> 1\u001b[0m all_summa(t4)\n",
      "Cell \u001b[1;32mIn[18], line 7\u001b[0m, in \u001b[0;36mall_summa\u001b[1;34m(*t)\u001b[0m\n\u001b[0;32m      5\u001b[0m res \u001b[38;5;241m=\u001b[39m \u001b[38;5;241m0\u001b[39m\n\u001b[0;32m      6\u001b[0m \u001b[38;5;28;01mfor\u001b[39;00m i \u001b[38;5;129;01min\u001b[39;00m t: \n\u001b[1;32m----> 7\u001b[0m     res \u001b[38;5;241m+\u001b[39m\u001b[38;5;241m=\u001b[39m i \n\u001b[0;32m      8\u001b[0m \u001b[38;5;28;01mreturn\u001b[39;00m  res\n",
      "\u001b[1;31mTypeError\u001b[0m: unsupported operand type(s) for +=: 'int' and 'list'"
     ]
    }
   ],
   "source": [
    "all_summa(t4)"
   ]
  },
  {
   "cell_type": "markdown",
   "metadata": {},
   "source": [
    "Если перед параметром в  определении функции указать две звездочки `**`, то все  именованные параметры будут сохранены в словаре."
   ]
  },
  {
   "cell_type": "code",
   "execution_count": 22,
   "metadata": {},
   "outputs": [],
   "source": [
    "def d_summa(**d): \n",
    "    for k, v in d.items():  #  Перебираем словарь с переданными параметрами \n",
    "        print(f\"{k} => {v}\", end=\"; \") "
   ]
  },
  {
   "cell_type": "code",
   "execution_count": 23,
   "metadata": {},
   "outputs": [
    {
     "name": "stdout",
     "output_type": "stream",
     "text": [
      "a => 1; x => 10; z => -2; "
     ]
    }
   ],
   "source": [
    "d_summa(a=1, x=10, z=-2)"
   ]
  },
  {
   "cell_type": "code",
   "execution_count": 24,
   "metadata": {},
   "outputs": [
    {
     "name": "stdout",
     "output_type": "stream",
     "text": [
      "f => 3; g => 4; e => 5; "
     ]
    }
   ],
   "source": [
    "d3 = {'f': 3, 'g': 4, 'e': 5}\n",
    "d_summa(**d3)"
   ]
  },
  {
   "cell_type": "markdown",
   "metadata": {},
   "source": [
    "При комбинировании параметров параметр с двумя звездочками указывается последним."
   ]
  },
  {
   "cell_type": "code",
   "execution_count": 25,
   "metadata": {},
   "outputs": [],
   "source": [
    "def c_summa(*t, **d): \n",
    "    for v in t: \n",
    "        print(v, end=\"; \") \n",
    "    for k, v in d.items(): \n",
    "        print(f\"{k} => {v}\", end=\"; \") "
   ]
  },
  {
   "cell_type": "code",
   "execution_count": 26,
   "metadata": {},
   "outputs": [
    {
     "name": "stdout",
     "output_type": "stream",
     "text": [
      "10; 20; 30; 42; a => 1; b => 2; "
     ]
    }
   ],
   "source": [
    "c_summa(10, 20, 30, 42, a=1, b=2)"
   ]
  },
  {
   "cell_type": "code",
   "execution_count": 27,
   "metadata": {},
   "outputs": [
    {
     "name": "stdout",
     "output_type": "stream",
     "text": [
      "10; 20; 30; 40; 50; 60; 70; f => 3; g => 4; e => 5; "
     ]
    }
   ],
   "source": [
    "t4 = [10, 20, 30, 40, 50, 60, 70]\n",
    "d3 = {'f': 3, 'g': 4, 'e': 5}\n",
    "c_summa(*t4, **d3)"
   ]
  },
  {
   "cell_type": "markdown",
   "metadata": {},
   "source": [
    "# >"
   ]
  },
  {
   "cell_type": "markdown",
   "metadata": {},
   "source": [
    "------"
   ]
  },
  {
   "cell_type": "markdown",
   "metadata": {},
   "source": [
    "<a class=\"anchor\" id=\"аннотации\"></a>\n",
    "\n",
    "# Аннотации и документирование функций\n",
    "\n",
    "* [к оглавлению](#разделы)\n",
    "\n",
    "## Документирование функций"
   ]
  },
  {
   "cell_type": "code",
   "execution_count": 1,
   "metadata": {},
   "outputs": [],
   "source": [
    "def echo(m): \n",
    "    \"\"\" Пример функции с параметром \"\"\" \n",
    "    print(m) "
   ]
  },
  {
   "cell_type": "markdown",
   "metadata": {},
   "source": [
    "После объявления функции мы можем написать свой многострочный текст. Доступ к нему можно получить:\n",
    "- по команде `?` \n",
    "- с помощью функции `help()`\n",
    "- с помощью свойства \\_\\_doc\\_\\_"
   ]
  },
  {
   "cell_type": "code",
   "execution_count": 3,
   "metadata": {},
   "outputs": [],
   "source": [
    "?echo"
   ]
  },
  {
   "cell_type": "code",
   "execution_count": 5,
   "metadata": {},
   "outputs": [],
   "source": [
    "?len"
   ]
  },
  {
   "cell_type": "code",
   "execution_count": 4,
   "metadata": {},
   "outputs": [
    {
     "name": "stdout",
     "output_type": "stream",
     "text": [
      "Help on function echo in module __main__:\n",
      "\n",
      "echo(m)\n",
      "    Пример функции с параметром\n",
      "\n"
     ]
    }
   ],
   "source": [
    "help(echo)"
   ]
  },
  {
   "cell_type": "code",
   "execution_count": 7,
   "metadata": {
    "scrolled": true
   },
   "outputs": [
    {
     "data": {
      "text/plain": [
       "' Пример функции с параметром '"
      ]
     },
     "execution_count": 7,
     "metadata": {},
     "output_type": "execute_result"
    }
   ],
   "source": [
    "echo.__doc__"
   ]
  },
  {
   "cell_type": "markdown",
   "metadata": {},
   "source": [
    "Среди разработчиков на Python популярно несколько стандартов документирования функции. Использование стандартов позволяет автоматически генерировать документацию с помощью специальных инструментов.\n",
    "\n",
    "__reST__\n",
    "\n",
    "Возможно наиболее распространенный стандарт. Формат используется инструментом __Sphinx__ (https://www.sphinx-doc.org/en/master/) для генерации документации. Этот формат по умолчанию используется IDE PyCharm.\n",
    "\n",
    "_Пример:_\n",
    "```python\n",
    "\"\"\"\n",
    "This is a reST style.\n",
    "\n",
    ":param param1: this is a first param\n",
    ":param param2: this is a second param\n",
    ":returns: this is a description of what is returned\n",
    ":raises keyError: raises an exception\n",
    "\"\"\"\n",
    "```\n",
    "\n",
    "__Google__\n",
    "\n",
    "Компания Google поддерживает собственный формат комментариев функций. Он тоже может использоваться инструментом Sphinx (необходимо использование плагина Napoleon).\n",
    "\n",
    "_Пример:_\n",
    "```python\n",
    "\"\"\"\n",
    "This is an example of Google style.\n",
    "\n",
    "Args:\n",
    "    param1: This is the first param.\n",
    "    param2: This is a second param.\n",
    "\n",
    "Returns:\n",
    "    This is a description of what is returned.\n",
    "\n",
    "Raises:\n",
    "    KeyError: Raises an exception.\n",
    "\"\"\"\n",
    "```\n",
    "\n",
    "__Numpydoc__\n",
    "\n",
    "Библиотека NumPy рекомендует использовать собственный стиль описания функций (базируется на стиле Google и может использоватьс в Sphinx).\n",
    "\n",
    "_Пример:_\n",
    "```python\n",
    "\"\"\"\n",
    "My numpydoc description of a kind\n",
    "of very exhautive numpydoc format docstring.\n",
    "\n",
    "Parameters\n",
    "----------\n",
    "first : array_like\n",
    "    the 1st param name `first`\n",
    "second :\n",
    "    the 2nd param\n",
    "third : {'value', 'other'}, optional\n",
    "    the 3rd param, by default 'value'\n",
    "\n",
    "Returns\n",
    "-------\n",
    "string\n",
    "    a value in a string\n",
    "\n",
    "Raises\n",
    "------\n",
    "KeyError\n",
    "    when a key error\n",
    "OtherError\n",
    "    when an other error\n",
    "\"\"\"\n",
    "```\n",
    "\n",
    "__Epytext__\n",
    "\n",
    "Стиль поддерживаемый инструментом для генерации документации Epydoc (http://epydoc.sourceforge.net) называется форматом Epytext format.\n",
    " \n",
    "_Пример:_\n",
    "```python\n",
    "\"\"\"\n",
    "This is a javadoc style.\n",
    "\n",
    "@param param1: this is a first param\n",
    "@param param2: this is a second param\n",
    "@return: this is a description of what is returned\n",
    "@raise keyError: raises an exception\n",
    "\"\"\"\n",
    "```"
   ]
  },
  {
   "cell_type": "markdown",
   "metadata": {},
   "source": [
    "## Аннотации типов данных\n",
    "\n",
    "__Аннотации типов__ (type hints) считываются интерпретатором Python и никак более не обрабатываются, но доступны для использования из стороннего кода и упрощают работу:\n",
    "* статических анализаторов;\n",
    "* интегрированных сред разработки (IDE);\n",
    "* по документированию кода.\n",
    "\n",
    "Применение аннотаций позволяет:\n",
    "* быстрее обнаруживать ошибки\n",
    "* повышает эффективность использования IDE\n",
    "* упрощает разработку в больших проектах\n",
    "\n",
    "Подробнее см.:\n",
    "* https://mypy.readthedocs.io/en/stable/cheat_sheet_py3.html\n",
    "* https://docs.python.org/3/library/typing.html\n",
    "\n",
    "Рассмотрим несколько примеров аннотаций."
   ]
  },
  {
   "cell_type": "code",
   "execution_count": 9,
   "metadata": {},
   "outputs": [],
   "source": [
    "from typing import Any, Callable, Dict, get_type_hints, Iterator, Iterable\n",
    "from typing import List, Mapping, Optional, Tuple, Union\n",
    "import __main__"
   ]
  },
  {
   "cell_type": "code",
   "execution_count": 4,
   "metadata": {},
   "outputs": [],
   "source": [
    "# аннотация для аргумента и возвращаемого значения:\n",
    "def stringify(num: int) -> str:\n",
    "    return str(num)\n",
    "\n",
    "# аннотация для функции многих аргументов:\n",
    "def plus(num1: int, num2: int) -> int:\n",
    "    return num1 + num2\n",
    "\n",
    "# аннотация для функций с несколькими параметрами и значением по умолчанию:\n",
    "def f(num1: int, my_float: float = 3.5) -> float:\n",
    "    return num1 + my_float"
   ]
  },
  {
   "cell_type": "code",
   "execution_count": 5,
   "metadata": {},
   "outputs": [
    {
     "data": {
      "text/plain": [
       "{'num': int, 'return': str}"
      ]
     },
     "execution_count": 5,
     "metadata": {},
     "output_type": "execute_result"
    }
   ],
   "source": [
    "# получение аннотации функции:\n",
    "stringify.__annotations__"
   ]
  },
  {
   "cell_type": "markdown",
   "metadata": {},
   "source": [
    "Аннотации можно использовать не только для параметров функций, но и для переменных:"
   ]
  },
  {
   "cell_type": "code",
   "execution_count": 10,
   "metadata": {},
   "outputs": [],
   "source": [
    "li1: List[int] = [1, 2]"
   ]
  },
  {
   "cell_type": "code",
   "execution_count": 11,
   "metadata": {},
   "outputs": [],
   "source": [
    "di1: Dict[str, float] = {'length': 10.0, 'width': 100.0}"
   ]
  },
  {
   "cell_type": "code",
   "execution_count": 12,
   "metadata": {},
   "outputs": [],
   "source": [
    "tu1: Tuple[str, float, float] = (\"rect\", 10.0, 100.0)"
   ]
  },
  {
   "cell_type": "code",
   "execution_count": 13,
   "metadata": {},
   "outputs": [],
   "source": [
    "# аннтация переменной, которая может указывать на кортеж разного размера\n",
    "tu1: Tuple[int, ...] = (1, 2, 3) "
   ]
  },
  {
   "cell_type": "code",
   "execution_count": 14,
   "metadata": {},
   "outputs": [],
   "source": [
    "# можно даже проаннотировать не инициализированную переменную:\n",
    "wo_init: str"
   ]
  },
  {
   "cell_type": "code",
   "execution_count": 15,
   "metadata": {},
   "outputs": [
    {
     "data": {
      "text/plain": [
       "{'li1': typing.List[int],\n",
       " 'di1': typing.Dict[str, float],\n",
       " 'tu1': typing.Tuple[int, ...],\n",
       " 'wo_init': str}"
      ]
     },
     "execution_count": 15,
     "metadata": {},
     "output_type": "execute_result"
    }
   ],
   "source": [
    "# получение аннотаций переменных текущего модуля:\n",
    "get_type_hints(__main__)"
   ]
  },
  {
   "cell_type": "markdown",
   "metadata": {},
   "source": [
    "Более сложные варианты:"
   ]
  },
  {
   "cell_type": "code",
   "execution_count": 16,
   "metadata": {},
   "outputs": [],
   "source": [
    "# Union используется если что-то может относиться к нескольким типам:\n",
    "x: List[Union[int, str]] = [3, 5, \"test\", \"fun\"]"
   ]
  },
  {
   "cell_type": "code",
   "execution_count": 17,
   "metadata": {},
   "outputs": [],
   "source": [
    "# Optional[X] эквивалентно: Union[X, None]\n",
    "st1: Optional[str] = None # переменная может быть либо None, либо строкой"
   ]
  },
  {
   "cell_type": "code",
   "execution_count": 18,
   "metadata": {},
   "outputs": [],
   "source": [
    "st1 = 'My string'"
   ]
  },
  {
   "cell_type": "code",
   "execution_count": 19,
   "metadata": {},
   "outputs": [],
   "source": [
    "def mystery_function():\n",
    "    return None"
   ]
  },
  {
   "cell_type": "code",
   "execution_count": 21,
   "metadata": {},
   "outputs": [],
   "source": [
    "# Аннотация Any для случая, когда тип неизвестен\n",
    "x: Any = mystery_function()"
   ]
  },
  {
   "cell_type": "markdown",
   "metadata": {},
   "source": [
    "Аннотация функций работающих с контейнерами:"
   ]
  },
  {
   "cell_type": "code",
   "execution_count": 22,
   "metadata": {},
   "outputs": [],
   "source": [
    "def scale(scalar: float, vector: List[float]) -> List[float]:\n",
    "    \"\"\"\n",
    "    Один из параметров функции - список вещественных чисел.\n",
    "    Функция возвращает также список вещественных чисел.\n",
    "    \"\"\"\n",
    "    return [scalar * num for num in vector]\n",
    "\n",
    "new_vector = scale(2.0, [1.0, -4.2, 5.4])"
   ]
  },
  {
   "cell_type": "code",
   "execution_count": 23,
   "metadata": {},
   "outputs": [
    {
     "data": {
      "text/plain": [
       "{'scalar': float, 'vector': typing.List[float], 'return': typing.List[float]}"
      ]
     },
     "execution_count": 23,
     "metadata": {},
     "output_type": "execute_result"
    }
   ],
   "source": [
    "scale.__annotations__"
   ]
  },
  {
   "cell_type": "markdown",
   "metadata": {},
   "source": [
    "Определение собственных типов для аннотации:"
   ]
  },
  {
   "cell_type": "code",
   "execution_count": 25,
   "metadata": {},
   "outputs": [
    {
     "data": {
      "text/plain": [
       "[2.0, -8.4, 10.8]"
      ]
     },
     "execution_count": 25,
     "metadata": {},
     "output_type": "execute_result"
    }
   ],
   "source": [
    "Vector = List[float] # Собственный тип\n",
    "\n",
    "def scale2(scalar: float, vector: Vector) -> Vector:\n",
    "    return [scalar * num for num in vector]\n",
    "\n",
    "new_vector = scale2(2.0, [1.0, -4.2, 5.4])\n",
    "new_vector"
   ]
  },
  {
   "cell_type": "code",
   "execution_count": 26,
   "metadata": {},
   "outputs": [
    {
     "data": {
      "text/plain": [
       "{'scalar': float, 'vector': typing.List[float], 'return': typing.List[float]}"
      ]
     },
     "execution_count": 26,
     "metadata": {},
     "output_type": "execute_result"
    }
   ],
   "source": [
    "scale2.__annotations__"
   ]
  },
  {
   "cell_type": "markdown",
   "metadata": {},
   "source": [
    "Более сложные типы аннотаций:"
   ]
  },
  {
   "cell_type": "code",
   "execution_count": 27,
   "metadata": {},
   "outputs": [
    {
     "data": {
      "text/plain": [
       "['1', '2']"
      ]
     },
     "execution_count": 27,
     "metadata": {},
     "output_type": "execute_result"
    }
   ],
   "source": [
    "# Анотация Iterable используется для любых представителей \n",
    "# iterables (что-то что можно обойти с помощьюу \"for\"),\n",
    "# и Sequence (поддерживают \"len\" и \"__getitem__\") \n",
    "def f(ints: Iterable[int]) -> List[str]:\n",
    "    return [str(x) for x in ints]\n",
    "\n",
    "f(range(1, 3))"
   ]
  },
  {
   "cell_type": "code",
   "execution_count": 131,
   "metadata": {},
   "outputs": [],
   "source": [
    "# Mapping описывает объекты с интерфейсом словаря (имеющие \"__getitem__\") (для не поддерживающих изменения)\n",
    "# и для поддерживающих изменения: MutableMapping (имеющие и \"__getitem__\" и \"__setitem__\")\n",
    "def f(my_mapping: Mapping[int, str]) -> List[int]:\n",
    "#     my_mapping[5] = 'maybe'  # if we try this, mypy will throw an error...\n",
    "    return list(my_mapping.keys())"
   ]
  },
  {
   "cell_type": "markdown",
   "metadata": {},
   "source": [
    "----"
   ]
  },
  {
   "cell_type": "markdown",
   "metadata": {},
   "source": [
    "# >"
   ]
  },
  {
   "cell_type": "markdown",
   "metadata": {},
   "source": [
    "------"
   ]
  },
  {
   "cell_type": "markdown",
   "metadata": {},
   "source": [
    "#  Глобальные и локальные переменные <a class=\"anchor\" id=\"глобальные-локальные\"></a>\n",
    "* [к оглавлению](#разделы)"
   ]
  },
  {
   "cell_type": "markdown",
   "metadata": {},
   "source": [
    "### Передача параметров функций"
   ]
  },
  {
   "cell_type": "markdown",
   "metadata": {},
   "source": [
    "Объекты в  функцию передаются по ссылке. Если объект относится к  неизменяемому типу, то изменение значения внутри функции не затронет значение переменной вне функuии."
   ]
  },
  {
   "cell_type": "code",
   "execution_count": 1,
   "metadata": {},
   "outputs": [],
   "source": [
    "def change(a, b): \n",
    "    а = 20\n",
    "    b = 'str'"
   ]
  },
  {
   "cell_type": "code",
   "execution_count": 2,
   "metadata": {},
   "outputs": [
    {
     "name": "stdout",
     "output_type": "stream",
     "text": [
      "v1: 30\n",
      "v2: val\n"
     ]
    }
   ],
   "source": [
    "v1 = 30\n",
    "v2 = 'val'\n",
    "change(v1, v2)\n",
    "print(f'v1: {v1}')\n",
    "print(f'v2: {v2}')"
   ]
  },
  {
   "cell_type": "markdown",
   "metadata": {},
   "source": [
    "Отметим, что после выхода из функции *change()* значения *v1* и *v2* не изменились.\n",
    "\n",
    "Если же параметр изменяемого типа, то передаваемый в функцию объект может быть неявно изменен."
   ]
  },
  {
   "cell_type": "code",
   "execution_count": 3,
   "metadata": {},
   "outputs": [],
   "source": [
    "def change2(a):\n",
    "    a.append(10)"
   ]
  },
  {
   "cell_type": "code",
   "execution_count": 4,
   "metadata": {},
   "outputs": [
    {
     "data": {
      "text/plain": [
       "[1, 10]"
      ]
     },
     "execution_count": 4,
     "metadata": {},
     "output_type": "execute_result"
    }
   ],
   "source": [
    "s1 = [1] # Изменяемый объект может быть неявно изменен внутри функции\n",
    "\n",
    "change2(s1)\n",
    "s1"
   ]
  },
  {
   "cell_type": "markdown",
   "metadata": {},
   "source": [
    "##  Глобальные и локальные переменные"
   ]
  },
  {
   "cell_type": "markdown",
   "metadata": {},
   "source": [
    "__Глобальные  переменные__ — это переменные, объявленные в программе вне функции. В Python глобальные переменные видны в любой части функции."
   ]
  },
  {
   "cell_type": "code",
   "execution_count": 37,
   "metadata": {},
   "outputs": [
    {
     "name": "stdout",
     "output_type": "stream",
     "text": [
      "Значение глобальной nеременной glоb =  5\n",
      "Значение глобальной nеременной glоb2 =  50\n",
      "----Вход в функцию func_glob\n",
      "    Значение  глобальной nеременной glоb =  5\n",
      "    Значение  ЛОКАЛЬНОЙ nеременной glоb2 =  77\n",
      "    Значение  ЛОКАЛЬНОЙ переменной glob2 =  87\n",
      "----Выход из функции func_glob\n",
      "Значение глобальной nеременной glоb =  5\n",
      "Значение глобальной nеременной glоb2 =  50\n"
     ]
    }
   ],
   "source": [
    "def func_glob(glob2):\n",
    "    print(\"----Вход в функцию func_glob\")\n",
    "    print(\"    Значение  глобальной nеременной glоb = \",  glob)     \n",
    "    print(\"    Значение  ЛОКАЛЬНОЙ nеременной glоb2 = \",  glob2) \n",
    "    glob2 += 10 \n",
    "    print(\"    Значение  ЛОКАЛЬНОЙ переменной glob2 = \", glob2) \n",
    "    print(\"----Выход из функции func_glob\")    \n",
    "\n",
    "glob, glob2 = 5, 50 \n",
    "print(\"Значение глобальной nеременной glоb = \",  glob)     \n",
    "print(\"Значение глобальной nеременной glоb2 = \",  glob2) \n",
    "func_glob(77)  #  Вызываем функцию \n",
    "print(\"Значение глобальной nеременной glоb = \",  glob)     \n",
    "print(\"Значение глобальной nеременной glоb2 = \",  glob2)"
   ]
  },
  {
   "cell_type": "markdown",
   "metadata": {},
   "source": [
    "Внутри тела функции доступно значение переменной *glob*, объявленной вне функции.\n",
    "\n",
    "Переменной *glob2*  внутри функции присваивается значение, переданное при вызове функции. По этой причине создается новое имя *glob2*,  которое является __локальным__. Все изменения этой переменной внутри функции не затронут значение одноименной глобальной переменной. \n",
    "\n",
    "__Локальные переменные__ — это переменные, которым внутри функции присваивается значение.\n",
    "\n",
    "* Если имя локальной переменной совпадает с  именем глобальной переменной, то все операции внутри функции осуществляются с локальной переменной.\n",
    "* Значение глобальной переменной, \"затенённой\" локальной переменной, не изменяется.\n",
    "* Локальные персменные видны только внутри тела функции."
   ]
  },
  {
   "cell_type": "code",
   "execution_count": 38,
   "metadata": {},
   "outputs": [
    {
     "name": "stdout",
     "output_type": "stream",
     "text": [
      "Значение glob внутри функции:  25\n",
      "Значение glob вне функции:     10\n",
      "Переменная lос не видна вне функции\n"
     ]
    }
   ],
   "source": [
    "def func():\n",
    "    loc = 77 # Локальная  переменная\n",
    "    glob = 25 # Локальная  переменная\n",
    "    print(f'{\"Значение glob внутри функции:\":<30} {glob}')\n",
    "\n",
    "glob = 10 #  Глобальная  переменная\n",
    "func() # Вызываем функцию\n",
    "\n",
    "print(f'{\"Значение glob вне функции:\":<30} {glob}')\n",
    "try: \n",
    "    print(loc)  #  Вызовет исключение NameError\n",
    "except NameError:  #  Обрабатываем исключение\n",
    "    print(\"Переменная lос не видна вне функции\")"
   ]
  },
  {
   "cell_type": "markdown",
   "metadata": {},
   "source": [
    "Как видно из примера, переменная *loc*, объявленная внутри функции *func()*, недоступна вне функции. Объявление внутри функции локальной переменной *glob* не изменило значения одноименной глобальной переменной.\n",
    "\n",
    "Если обращение к переменной производится до присвоения ей значения (даже если существует одноименная глобальная переменная), то будет возбуждено исключение `UnboundLocalError`.\n",
    "\n",
    "В следующем примере попытка изменения переменной внутри функции привела к ошибке `UnboundLocalError`.\n",
    "\n",
    "```python\n",
    "def func2():\n",
    "    glob += 1\n",
    "\n",
    "glob = 100\n",
    "func2()\n",
    "\n",
    "---------------------------------------------------------------------------\n",
    "UnboundLocalError                         Traceback (most recent call last)\n",
    "Cell In[40], line 5\n",
    "      2     glob +=1\n",
    "      4 glob = 100\n",
    "----> 5 func2()\n",
    "\n",
    "Cell In[40], line 2, in func2()\n",
    "      1 def func2():\n",
    "----> 2     glob +=1\n",
    "\n",
    "UnboundLocalError: cannot access local variable 'glob' where it is not associated with a value\n",
    "```"
   ]
  },
  {
   "cell_type": "markdown",
   "metadata": {},
   "source": [
    "Для того __чтобы  значение глобальной переменной можно было  изменить внутри функции__, необходимо объявить переменную глобальной с помощью ключевого слова `global`."
   ]
  },
  {
   "cell_type": "code",
   "execution_count": 41,
   "metadata": {},
   "outputs": [
    {
     "name": "stdout",
     "output_type": "stream",
     "text": [
      "Значение glob внутри функции:  25\n",
      "Значение glob вне функции:     25\n"
     ]
    }
   ],
   "source": [
    "def func():\n",
    "    global glob\n",
    "    loc = 77 #  Локальная  переменная \n",
    "    glob = 25 #  Локальная  переменная \n",
    "    print(f'{\"Значение glob внутри функции:\":<30} {glob}')\n",
    "\n",
    "glob = 10 #  Глобальная  переменная \n",
    "func() # Вызываем функцию \n",
    "print(f'{\"Значение glob вне функции:\":<30} {glob}')"
   ]
  },
  {
   "cell_type": "markdown",
   "metadata": {},
   "source": [
    "Поиск  идентификатора, используемого внутри функции, производится в следующем порядке: \n",
    "1.  Поиск объявления идентификатора внутри функции (в локальной области видимости). \n",
    "2.  Поиск объявления идентификатора в глобальной области. \n",
    "3.  Поиск во встроенной области видимости (встроенне функции, классы и т. д.). "
   ]
  },
  {
   "cell_type": "markdown",
   "metadata": {},
   "source": [
    "Получить все идентификаторы и их значения позволяют следующие функции:\n",
    "* `globals()` — возвращает словарь с  глобальными идентификаторами; \n",
    "* `locals()` — возвращает словарь с локальными идентификаторами;\n",
    "* `vars( [<Объект>] )` — если  вызывается  без  параметра  внутри  функции, то возвращает словарь с локальными идентификаторами. Если вызывается без параметра вне функции, то возвращает словарь с глобальными идентификаторами. При указании объекта в  качестве параметра возвращает идентификаторы этого объекта (эквивалентно  вызову \n",
    "`<Объект>.__dict__` )"
   ]
  },
  {
   "cell_type": "code",
   "execution_count": 42,
   "metadata": {
    "scrolled": true
   },
   "outputs": [
    {
     "data": {
      "text/plain": [
       "{'__name__': '__main__',\n",
       " '__doc__': 'Automatically created module for IPython interactive environment',\n",
       " '__package__': None,\n",
       " '__loader__': None,\n",
       " '__spec__': None,\n",
       " '__builtin__': <module 'builtins' (built-in)>,\n",
       " '__builtins__': <module 'builtins' (built-in)>,\n",
       " '_ih': ['',\n",
       "  \"def change(a, b): \\n    а = 20\\n    b = 'str'\",\n",
       "  \"v1 = 30\\nv2 = 'val'\\nchange(v1, v2)\\nprint(f'v1: {v1}')\\nprint(f'v2: {v2}')\",\n",
       "  'def change2(a):\\n    a.append(10)',\n",
       "  's1 = [1] # Изменяемый объект может быть неявно изменен внутри функции\\n\\nchange2(s1)\\ns1',\n",
       "  'def func_glob(glob2): \\n    print(\"----Вход в функцию func_glob\")\\n    print(\"    Значение  глобальной nеременной glоb = \",  glob)     \\n    print(\"    Значение  ЛОКАЛЬНОЙ nеременной glоb2 = \",  glob2) \\n    glob2 += 10 \\n    print(\"    Значение  ЛОКАЛЬНОЙ переменной glob2 = \", glob2) \\n    print(\"----Выход из функции func_glob\")    \\n\\nglob, glob2 = 5, 50 \\nprint(\"Значение глобальной nеременной glоb = \",  glob)     \\nprint(\"Значение глобальной nеременной glоb2 = \",  glob2) \\nfunc_glob(77)  #  Вызываем функцию \\nprint(\"Значение глобальной nеременной glоb = \",  glob)     \\nprint(\"Значение глобальной nеременной glоb2 = \",  glob2)',\n",
       "  'def func():\\n    loc = 77 # Локальная  переменная \\n    glob = 25 # Локальная  переменная \\n    print(f\\'Значение glob внутри функции: \\' {:10glob})\\n\\nglob = 10 #  Глобальная  переменная \\nfunc() # Вызываем функцию \\n\\nprint(\"Значение glob вне  функции: \", glob) \\ntry: \\n    print(loc)  #  Вызовет исключение NameError \\nexcept NameError:  #  Обрабатываем исключение \\n    print(\"Переменная lос не видна вне функции\") ',\n",
       "  'def func():\\n    loc = 77 # Локальная  переменная \\n    glob = 25 # Локальная  переменная \\n    print(f\\'Значение glob внутри функции: \\' {glob:10})\\n\\nglob = 10 #  Глобальная  переменная \\nfunc() # Вызываем функцию \\n\\nprint(\"Значение glob вне  функции: \", glob) \\ntry: \\n    print(loc)  #  Вызовет исключение NameError \\nexcept NameError:  #  Обрабатываем исключение \\n    print(\"Переменная lос не видна вне функции\") ',\n",
       "  'def func():\\n    loc = 77 # Локальная  переменная \\n    glob = 25 # Локальная  переменная \\n    print(f\\'Значение glob внутри функции: \\' {glob:>10})\\n\\nglob = 10 #  Глобальная  переменная \\nfunc() # Вызываем функцию \\n\\nprint(\"Значение glob вне  функции: \", glob) \\ntry: \\n    print(loc)  #  Вызовет исключение NameError \\nexcept NameError:  #  Обрабатываем исключение \\n    print(\"Переменная lос не видна вне функции\") ',\n",
       "  'def func():\\n    loc = 77 # Локальная  переменная \\n    glob = 25 # Локальная  переменная \\n    print(f\\'Значение glob внутри функции:  {glob:>10}\\')\\n\\nglob = 10 #  Глобальная  переменная \\nfunc() # Вызываем функцию \\n\\nprint(\"Значение glob вне  функции: \", glob) \\ntry: \\n    print(loc)  #  Вызовет исключение NameError \\nexcept NameError:  #  Обрабатываем исключение \\n    print(\"Переменная lос не видна вне функции\") ',\n",
       "  'def func():\\n    loc = 77 # Локальная  переменная \\n    glob = 25 # Локальная  переменная \\n    print(f\\'Значение glob внутри функции: {glob:>10}\\')\\n\\nglob = 10 #  Глобальная  переменная \\nfunc() # Вызываем функцию \\n\\nprint(\"Значение glob вне  функции: \", {glob:>10}) \\ntry: \\n    print(loc)  #  Вызовет исключение NameError \\nexcept NameError:  #  Обрабатываем исключение \\n    print(\"Переменная lос не видна вне функции\") ',\n",
       "  'def func():\\n    loc = 77 # Локальная  переменная \\n    glob = 25 # Локальная  переменная \\n    print(f\\'Значение glob внутри функции: {glob:>10}\\')\\n\\nglob = 10 #  Глобальная  переменная \\nfunc() # Вызываем функцию \\n\\nprint(\"Значение glob вне  функции: {glob:>10}\\') \\ntry: \\n    print(loc)  #  Вызовет исключение NameError \\nexcept NameError:  #  Обрабатываем исключение \\n    print(\"Переменная lос не видна вне функции\") ',\n",
       "  'def func():\\n    loc = 77 # Локальная  переменная \\n    glob = 25 # Локальная  переменная \\n    print(f\\'Значение glob внутри функции: {glob:>10}\\')\\n\\nglob = 10 #  Глобальная  переменная \\nfunc() # Вызываем функцию \\n\\nprint(f\\'Значение glob вне  функции: {glob:>10}\\') \\ntry: \\n    print(loc)  #  Вызовет исключение NameError \\nexcept NameError:  #  Обрабатываем исключение \\n    print(\"Переменная lос не видна вне функции\") ',\n",
       "  'def func():\\n    loc = 77 # Локальная  переменная \\n    glob = 25 # Локальная  переменная \\n    print(f\\'Значение glob внутри функции: {glob:>10}\\')\\n\\nglob = 10 #  Глобальная  переменная \\nfunc() # Вызываем функцию \\n\\nprint(f\\'Значение glob вне  функции: {glob}:>10\\') \\ntry: \\n    print(loc)  #  Вызовет исключение NameError \\nexcept NameError:  #  Обрабатываем исключение \\n    print(\"Переменная lос не видна вне функции\") ',\n",
       "  'def func():\\n    loc = 77 # Локальная  переменная \\n    glob = 25 # Локальная  переменная \\n    print(f\\'Значение glob внутри функции: {glob:>10}\\')\\n\\nglob = 10 #  Глобальная  переменная \\nfunc() # Вызываем функцию \\n\\nprint(f\\'{\"Значение glob вне  функции:\"} {glob}\\') \\ntry: \\n    print(loc)  #  Вызовет исключение NameError \\nexcept NameError:  #  Обрабатываем исключение \\n    print(\"Переменная lос не видна вне функции\") ',\n",
       "  'def func():\\n    loc = 77 # Локальная  переменная \\n    glob = 25 # Локальная  переменная \\n    print(f\\'Значение glob внутри функции: {glob:>10}\\')\\n\\nglob = 10 #  Глобальная  переменная \\nfunc() # Вызываем функцию \\n\\nprint(f\\'{\"Значение glob вне  функции:\"<10} {glob}\\') \\ntry: \\n    print(loc)  #  Вызовет исключение NameError \\nexcept NameError:  #  Обрабатываем исключение \\n    print(\"Переменная lос не видна вне функции\") ',\n",
       "  'def func():\\n    loc = 77 # Локальная  переменная \\n    glob = 25 # Локальная  переменная \\n    print(f\\'Значение glob внутри функции: {glob:>10}\\')\\n\\nglob = 10 #  Глобальная  переменная \\nfunc() # Вызываем функцию \\n\\nprint(f\\'{\"Значение glob вне  функции:\"} {glob}\\') \\ntry: \\n    print(loc)  #  Вызовет исключение NameError \\nexcept NameError:  #  Обрабатываем исключение \\n    print(\"Переменная lос не видна вне функции\") ',\n",
       "  'def func():\\n    loc = 77 # Локальная  переменная \\n    glob = 25 # Локальная  переменная \\n    print(f\\'Значение glob внутри функции: {glob:>10}\\')\\n\\nglob = 10 #  Глобальная  переменная \\nfunc() # Вызываем функцию \\n\\nprint(f\\'{\"Значение glob вне  функции:>10\"} {glob}\\') \\ntry: \\n    print(loc)  #  Вызовет исключение NameError \\nexcept NameError:  #  Обрабатываем исключение \\n    print(\"Переменная lос не видна вне функции\") ',\n",
       "  'def func():\\n    loc = 77 # Локальная  переменная \\n    glob = 25 # Локальная  переменная \\n    print(f\\'Значение glob внутри функции: {glob:>10}\\')\\n\\nglob = 10 #  Глобальная  переменная \\nfunc() # Вызываем функцию \\n\\nprint(f\\'{\"Значение glob вне  функции:\":10} {glob}\\') \\ntry: \\n    print(loc)  #  Вызовет исключение NameError \\nexcept NameError:  #  Обрабатываем исключение \\n    print(\"Переменная lос не видна вне функции\") ',\n",
       "  'def func():\\n    loc = 77 # Локальная  переменная \\n    glob = 25 # Локальная  переменная \\n    print(f\\'Значение glob внутри функции: {glob:>10}\\')\\n\\nglob = 10 #  Глобальная  переменная \\nfunc() # Вызываем функцию \\n\\nprint(f\\'{\"Значение glob вне  функции:\":15} {glob}\\') \\ntry: \\n    print(loc)  #  Вызовет исключение NameError \\nexcept NameError:  #  Обрабатываем исключение \\n    print(\"Переменная lос не видна вне функции\") ',\n",
       "  'def func():\\n    loc = 77 # Локальная  переменная \\n    glob = 25 # Локальная  переменная \\n    print(f\\'Значение glob внутри функции: {glob:>10}\\')\\n\\nglob = 10 #  Глобальная  переменная \\nfunc() # Вызываем функцию \\n\\nprint(f\\'{\"Значение glob вне  функции:\":45} {glob}\\') \\ntry: \\n    print(loc)  #  Вызовет исключение NameError \\nexcept NameError:  #  Обрабатываем исключение \\n    print(\"Переменная lос не видна вне функции\") ',\n",
       "  'def func():\\n    loc = 77 # Локальная  переменная \\n    glob = 25 # Локальная  переменная \\n    print(f\\'Значение glob внутри функции: {glob:>10}\\')\\n\\nglob = 10 #  Глобальная  переменная \\nfunc() # Вызываем функцию \\n\\nprint(f\\'{\"Значение glob вне  функции:\":>45} {glob}\\') \\ntry: \\n    print(loc)  #  Вызовет исключение NameError \\nexcept NameError:  #  Обрабатываем исключение \\n    print(\"Переменная lос не видна вне функции\") ',\n",
       "  'def func():\\n    loc = 77 # Локальная  переменная \\n    glob = 25 # Локальная  переменная \\n    print(f\\'Значение glob внутри функции: {glob:>10}\\')\\n\\nglob = 10 #  Глобальная  переменная \\nfunc() # Вызываем функцию \\n\\nprint(f\\'{\"Значение glob вне  функции:\":<45} {glob}\\') \\ntry: \\n    print(loc)  #  Вызовет исключение NameError \\nexcept NameError:  #  Обрабатываем исключение \\n    print(\"Переменная lос не видна вне функции\") ',\n",
       "  'def func():\\n    loc = 77 # Локальная  переменная \\n    glob = 25 # Локальная  переменная \\n    print(f\\'Значение glob внутри функции: {glob:>10}\\')\\n\\nglob = 10 #  Глобальная  переменная \\nfunc() # Вызываем функцию \\n\\nprint(f\\'{\"Значение glob вне  функции:\":<20} {glob}\\') \\ntry: \\n    print(loc)  #  Вызовет исключение NameError \\nexcept NameError:  #  Обрабатываем исключение \\n    print(\"Переменная lос не видна вне функции\") ',\n",
       "  'def func():\\n    loc = 77 # Локальная  переменная \\n    glob = 25 # Локальная  переменная \\n    print(f\\'Значение glob внутри функции: {glob:>10}\\')\\n\\nglob = 10 #  Глобальная  переменная \\nfunc() # Вызываем функцию \\n\\nprint(f\\'{\"Значение glob вне  функции:\":<30} {glob}\\') \\ntry: \\n    print(loc)  #  Вызовет исключение NameError \\nexcept NameError:  #  Обрабатываем исключение \\n    print(\"Переменная lос не видна вне функции\") ',\n",
       "  'def func():\\n    loc = 77 # Локальная  переменная \\n    glob = 25 # Локальная  переменная \\n    print(f\\'{\"Значение glob внутри функции:\"<30} {glob:>10}\\')\\n\\nglob = 10 #  Глобальная  переменная \\nfunc() # Вызываем функцию \\n\\nprint(f\\'{\"Значение glob вне  функции:\":<30} {glob}\\') \\ntry: \\n    print(loc)  #  Вызовет исключение NameError \\nexcept NameError:  #  Обрабатываем исключение \\n    print(\"Переменная lос не видна вне функции\") ',\n",
       "  'def func():\\n    loc = 77 # Локальная  переменная \\n    glob = 25 # Локальная  переменная \\n#     print(f\\'{\"Значение glob внутри функции:\"<30} {glob:>10}\\')\\n\\nglob = 10 #  Глобальная  переменная \\nfunc() # Вызываем функцию \\n\\nprint(f\\'{\"Значение glob вне  функции:\":<30} {glob}\\') \\ntry: \\n    print(loc)  #  Вызовет исключение NameError \\nexcept NameError:  #  Обрабатываем исключение \\n    print(\"Переменная lос не видна вне функции\") ',\n",
       "  'def func():\\n    loc = 77 # Локальная  переменная \\n    glob = 25 # Локальная  переменная \\n    print(f\\'{\"Значение glob внутри функции:\"<30} {glob}\\')\\n\\nglob = 10 #  Глобальная  переменная \\nfunc() # Вызываем функцию \\n\\nprint(f\\'{\"Значение glob вне  функции:\":<30} {glob}\\') \\ntry: \\n    print(loc)  #  Вызовет исключение NameError \\nexcept NameError:  #  Обрабатываем исключение \\n    print(\"Переменная lос не видна вне функции\") ',\n",
       "  'print(f\\'{\"Значение glob внутри функции:\"<30} {glob}\\')',\n",
       "  'glob = 100\\nprint(f\\'{\"Значение glob внутри функции:\"<30} {glob}\\')',\n",
       "  'glob = 100\\nprint(f\\'{\"Значение glob внутри функции:\"} {glob}\\')',\n",
       "  'glob = 100\\nprint(f\\'{\"Значение glob внутри функции:\"} {glob}\\')\\nprint(f\\'{\"Значение glob вне функции:\":<30} {glob}\\') ',\n",
       "  'glob = 100\\nprint(f\\'{\"Значение glob внутри функции:\":<30} {glob}\\')\\nprint(f\\'{\"Значение glob вне функции:\":<30} {glob}\\') ',\n",
       "  'def func():\\n    loc = 77 # Локальная  переменная \\n    glob = 25 # Локальная  переменная \\n    print(f\\'{\"Значение glob внутри функции:\":<30} {glob}\\')\\n\\nglob = 10 #  Глобальная  переменная \\nfunc() # Вызываем функцию \\n\\nprint(f\\'{\"Значение glob вне функции:\":<30} {glob}\\') \\ntry: \\n    print(loc)  #  Вызовет исключение NameError \\nexcept NameError:  #  Обрабатываем исключение \\n    print(\"Переменная lос не видна вне функции\") ',\n",
       "  'def func_glob(glob2): \\n    print(\"----Вход в функцию func_glob----\")\\n    print(\"    Значение  глобальной nеременной glоb = \",  glob)     \\n    print(\"    Значение  ЛОКАЛЬНОЙ nеременной glоb2 = \",  glob2) \\n    glob2 += 10 \\n    print(\"    Значение  ЛОКАЛЬНОЙ переменной glob2 = \", glob2) \\n    print(\"----Выход из функции func_glob----\")    \\n\\nglob, glob2 = 5, 50 \\nprint(\"Значение глобальной nеременной glоb = \",  glob)     \\nprint(\"Значение глобальной nеременной glоb2 = \",  glob2) \\nfunc_glob(77)  #  Вызываем функцию \\nprint(\"Значение глобальной nеременной glоb = \",  glob)     \\nprint(\"Значение глобальной nеременной glоb2 = \",  glob2)',\n",
       "  'def func_glob(glob2): \\n    print(\"----Вход в функцию func_glob\")\\n    print(\"    Значение  глобальной nеременной glоb = \",  glob)     \\n    print(\"    Значение  ЛОКАЛЬНОЙ nеременной glоb2 = \",  glob2) \\n    glob2 += 10 \\n    print(\"    Значение  ЛОКАЛЬНОЙ переменной glob2 = \", glob2) \\n    print(\"----Выход из функции func_glob\")    \\n\\nglob, glob2 = 5, 50 \\nprint(\"Значение глобальной nеременной glоb = \",  glob)     \\nprint(\"Значение глобальной nеременной glоb2 = \",  glob2) \\nfunc_glob(77)  #  Вызываем функцию \\nprint(\"Значение глобальной nеременной glоb = \",  glob)     \\nprint(\"Значение глобальной nеременной glоb2 = \",  glob2)',\n",
       "  'def func_glob(glob2):\\n    glob += 777\\n    print(\"----Вход в функцию func_glob\")\\n    print(\"    Значение  глобальной nеременной glоb = \",  glob)     \\n    print(\"    Значение  ЛОКАЛЬНОЙ nеременной glоb2 = \",  glob2) \\n    glob2 += 10 \\n    print(\"    Значение  ЛОКАЛЬНОЙ переменной glob2 = \", glob2) \\n    print(\"----Выход из функции func_glob\")    \\n\\nglob, glob2 = 5, 50 \\nprint(\"Значение глобальной nеременной glоb = \",  glob)     \\nprint(\"Значение глобальной nеременной glоb2 = \",  glob2) \\nfunc_glob(77)  #  Вызываем функцию \\nprint(\"Значение глобальной nеременной glоb = \",  glob)     \\nprint(\"Значение глобальной nеременной glоb2 = \",  glob2)',\n",
       "  'def func_glob(glob2):\\n    print(\"----Вход в функцию func_glob\")\\n    print(\"    Значение  глобальной nеременной glоb = \",  glob)     \\n    print(\"    Значение  ЛОКАЛЬНОЙ nеременной glоb2 = \",  glob2) \\n    glob2 += 10 \\n    print(\"    Значение  ЛОКАЛЬНОЙ переменной glob2 = \", glob2) \\n    print(\"----Выход из функции func_glob\")    \\n\\nglob, glob2 = 5, 50 \\nprint(\"Значение глобальной nеременной glоb = \",  glob)     \\nprint(\"Значение глобальной nеременной glоb2 = \",  glob2) \\nfunc_glob(77)  #  Вызываем функцию \\nprint(\"Значение глобальной nеременной glоb = \",  glob)     \\nprint(\"Значение глобальной nеременной glоb2 = \",  glob2)',\n",
       "  'def func():\\n    loc = 77 # Локальная  переменная \\n    glob = 25 # Локальная  переменная \\n    print(f\\'{\"Значение glob внутри функции:\":<30} {glob}\\')\\n\\nglob = 10 #  Глобальная  переменная \\nfunc() # Вызываем функцию \\n\\nprint(f\\'{\"Значение glob вне функции:\":<30} {glob}\\') \\ntry: \\n    print(loc)  #  Вызовет исключение NameError \\nexcept NameError:  #  Обрабатываем исключение \\n    print(\"Переменная lос не видна вне функции\") ',\n",
       "  'def func2():\\n    glob +=1\\n\\nglob = 100\\nfunc2',\n",
       "  'def func2():\\n    glob +=1\\n\\nglob = 100\\nfunc2()',\n",
       "  'def func():\\n    global glob\\n    loc = 77 #  Локальная  переменная \\n    glob = 25 #  Локальная  переменная \\n    print(f\\'{\"Значение glob внутри функции:\":<30} {glob}\\')\\n\\nglob = 10 #  Глобальная  переменная \\nfunc() # Вызываем функцию \\nprint(f\\'{\"Значение glob вне функции:\":<30} {glob}\\')',\n",
       "  'globals()'],\n",
       " '_oh': {4: [1, 10], 39: <function __main__.func2()>},\n",
       " '_dh': [WindowsPath('D:/Smirnov/FinU/2024-2025/АиСД_Python/04_Функции')],\n",
       " 'In': ['',\n",
       "  \"def change(a, b): \\n    а = 20\\n    b = 'str'\",\n",
       "  \"v1 = 30\\nv2 = 'val'\\nchange(v1, v2)\\nprint(f'v1: {v1}')\\nprint(f'v2: {v2}')\",\n",
       "  'def change2(a):\\n    a.append(10)',\n",
       "  's1 = [1] # Изменяемый объект может быть неявно изменен внутри функции\\n\\nchange2(s1)\\ns1',\n",
       "  'def func_glob(glob2): \\n    print(\"----Вход в функцию func_glob\")\\n    print(\"    Значение  глобальной nеременной glоb = \",  glob)     \\n    print(\"    Значение  ЛОКАЛЬНОЙ nеременной glоb2 = \",  glob2) \\n    glob2 += 10 \\n    print(\"    Значение  ЛОКАЛЬНОЙ переменной glob2 = \", glob2) \\n    print(\"----Выход из функции func_glob\")    \\n\\nglob, glob2 = 5, 50 \\nprint(\"Значение глобальной nеременной glоb = \",  glob)     \\nprint(\"Значение глобальной nеременной glоb2 = \",  glob2) \\nfunc_glob(77)  #  Вызываем функцию \\nprint(\"Значение глобальной nеременной glоb = \",  glob)     \\nprint(\"Значение глобальной nеременной glоb2 = \",  glob2)',\n",
       "  'def func():\\n    loc = 77 # Локальная  переменная \\n    glob = 25 # Локальная  переменная \\n    print(f\\'Значение glob внутри функции: \\' {:10glob})\\n\\nglob = 10 #  Глобальная  переменная \\nfunc() # Вызываем функцию \\n\\nprint(\"Значение glob вне  функции: \", glob) \\ntry: \\n    print(loc)  #  Вызовет исключение NameError \\nexcept NameError:  #  Обрабатываем исключение \\n    print(\"Переменная lос не видна вне функции\") ',\n",
       "  'def func():\\n    loc = 77 # Локальная  переменная \\n    glob = 25 # Локальная  переменная \\n    print(f\\'Значение glob внутри функции: \\' {glob:10})\\n\\nglob = 10 #  Глобальная  переменная \\nfunc() # Вызываем функцию \\n\\nprint(\"Значение glob вне  функции: \", glob) \\ntry: \\n    print(loc)  #  Вызовет исключение NameError \\nexcept NameError:  #  Обрабатываем исключение \\n    print(\"Переменная lос не видна вне функции\") ',\n",
       "  'def func():\\n    loc = 77 # Локальная  переменная \\n    glob = 25 # Локальная  переменная \\n    print(f\\'Значение glob внутри функции: \\' {glob:>10})\\n\\nglob = 10 #  Глобальная  переменная \\nfunc() # Вызываем функцию \\n\\nprint(\"Значение glob вне  функции: \", glob) \\ntry: \\n    print(loc)  #  Вызовет исключение NameError \\nexcept NameError:  #  Обрабатываем исключение \\n    print(\"Переменная lос не видна вне функции\") ',\n",
       "  'def func():\\n    loc = 77 # Локальная  переменная \\n    glob = 25 # Локальная  переменная \\n    print(f\\'Значение glob внутри функции:  {glob:>10}\\')\\n\\nglob = 10 #  Глобальная  переменная \\nfunc() # Вызываем функцию \\n\\nprint(\"Значение glob вне  функции: \", glob) \\ntry: \\n    print(loc)  #  Вызовет исключение NameError \\nexcept NameError:  #  Обрабатываем исключение \\n    print(\"Переменная lос не видна вне функции\") ',\n",
       "  'def func():\\n    loc = 77 # Локальная  переменная \\n    glob = 25 # Локальная  переменная \\n    print(f\\'Значение glob внутри функции: {glob:>10}\\')\\n\\nglob = 10 #  Глобальная  переменная \\nfunc() # Вызываем функцию \\n\\nprint(\"Значение glob вне  функции: \", {glob:>10}) \\ntry: \\n    print(loc)  #  Вызовет исключение NameError \\nexcept NameError:  #  Обрабатываем исключение \\n    print(\"Переменная lос не видна вне функции\") ',\n",
       "  'def func():\\n    loc = 77 # Локальная  переменная \\n    glob = 25 # Локальная  переменная \\n    print(f\\'Значение glob внутри функции: {glob:>10}\\')\\n\\nglob = 10 #  Глобальная  переменная \\nfunc() # Вызываем функцию \\n\\nprint(\"Значение glob вне  функции: {glob:>10}\\') \\ntry: \\n    print(loc)  #  Вызовет исключение NameError \\nexcept NameError:  #  Обрабатываем исключение \\n    print(\"Переменная lос не видна вне функции\") ',\n",
       "  'def func():\\n    loc = 77 # Локальная  переменная \\n    glob = 25 # Локальная  переменная \\n    print(f\\'Значение glob внутри функции: {glob:>10}\\')\\n\\nglob = 10 #  Глобальная  переменная \\nfunc() # Вызываем функцию \\n\\nprint(f\\'Значение glob вне  функции: {glob:>10}\\') \\ntry: \\n    print(loc)  #  Вызовет исключение NameError \\nexcept NameError:  #  Обрабатываем исключение \\n    print(\"Переменная lос не видна вне функции\") ',\n",
       "  'def func():\\n    loc = 77 # Локальная  переменная \\n    glob = 25 # Локальная  переменная \\n    print(f\\'Значение glob внутри функции: {glob:>10}\\')\\n\\nglob = 10 #  Глобальная  переменная \\nfunc() # Вызываем функцию \\n\\nprint(f\\'Значение glob вне  функции: {glob}:>10\\') \\ntry: \\n    print(loc)  #  Вызовет исключение NameError \\nexcept NameError:  #  Обрабатываем исключение \\n    print(\"Переменная lос не видна вне функции\") ',\n",
       "  'def func():\\n    loc = 77 # Локальная  переменная \\n    glob = 25 # Локальная  переменная \\n    print(f\\'Значение glob внутри функции: {glob:>10}\\')\\n\\nglob = 10 #  Глобальная  переменная \\nfunc() # Вызываем функцию \\n\\nprint(f\\'{\"Значение glob вне  функции:\"} {glob}\\') \\ntry: \\n    print(loc)  #  Вызовет исключение NameError \\nexcept NameError:  #  Обрабатываем исключение \\n    print(\"Переменная lос не видна вне функции\") ',\n",
       "  'def func():\\n    loc = 77 # Локальная  переменная \\n    glob = 25 # Локальная  переменная \\n    print(f\\'Значение glob внутри функции: {glob:>10}\\')\\n\\nglob = 10 #  Глобальная  переменная \\nfunc() # Вызываем функцию \\n\\nprint(f\\'{\"Значение glob вне  функции:\"<10} {glob}\\') \\ntry: \\n    print(loc)  #  Вызовет исключение NameError \\nexcept NameError:  #  Обрабатываем исключение \\n    print(\"Переменная lос не видна вне функции\") ',\n",
       "  'def func():\\n    loc = 77 # Локальная  переменная \\n    glob = 25 # Локальная  переменная \\n    print(f\\'Значение glob внутри функции: {glob:>10}\\')\\n\\nglob = 10 #  Глобальная  переменная \\nfunc() # Вызываем функцию \\n\\nprint(f\\'{\"Значение glob вне  функции:\"} {glob}\\') \\ntry: \\n    print(loc)  #  Вызовет исключение NameError \\nexcept NameError:  #  Обрабатываем исключение \\n    print(\"Переменная lос не видна вне функции\") ',\n",
       "  'def func():\\n    loc = 77 # Локальная  переменная \\n    glob = 25 # Локальная  переменная \\n    print(f\\'Значение glob внутри функции: {glob:>10}\\')\\n\\nglob = 10 #  Глобальная  переменная \\nfunc() # Вызываем функцию \\n\\nprint(f\\'{\"Значение glob вне  функции:>10\"} {glob}\\') \\ntry: \\n    print(loc)  #  Вызовет исключение NameError \\nexcept NameError:  #  Обрабатываем исключение \\n    print(\"Переменная lос не видна вне функции\") ',\n",
       "  'def func():\\n    loc = 77 # Локальная  переменная \\n    glob = 25 # Локальная  переменная \\n    print(f\\'Значение glob внутри функции: {glob:>10}\\')\\n\\nglob = 10 #  Глобальная  переменная \\nfunc() # Вызываем функцию \\n\\nprint(f\\'{\"Значение glob вне  функции:\":10} {glob}\\') \\ntry: \\n    print(loc)  #  Вызовет исключение NameError \\nexcept NameError:  #  Обрабатываем исключение \\n    print(\"Переменная lос не видна вне функции\") ',\n",
       "  'def func():\\n    loc = 77 # Локальная  переменная \\n    glob = 25 # Локальная  переменная \\n    print(f\\'Значение glob внутри функции: {glob:>10}\\')\\n\\nglob = 10 #  Глобальная  переменная \\nfunc() # Вызываем функцию \\n\\nprint(f\\'{\"Значение glob вне  функции:\":15} {glob}\\') \\ntry: \\n    print(loc)  #  Вызовет исключение NameError \\nexcept NameError:  #  Обрабатываем исключение \\n    print(\"Переменная lос не видна вне функции\") ',\n",
       "  'def func():\\n    loc = 77 # Локальная  переменная \\n    glob = 25 # Локальная  переменная \\n    print(f\\'Значение glob внутри функции: {glob:>10}\\')\\n\\nglob = 10 #  Глобальная  переменная \\nfunc() # Вызываем функцию \\n\\nprint(f\\'{\"Значение glob вне  функции:\":45} {glob}\\') \\ntry: \\n    print(loc)  #  Вызовет исключение NameError \\nexcept NameError:  #  Обрабатываем исключение \\n    print(\"Переменная lос не видна вне функции\") ',\n",
       "  'def func():\\n    loc = 77 # Локальная  переменная \\n    glob = 25 # Локальная  переменная \\n    print(f\\'Значение glob внутри функции: {glob:>10}\\')\\n\\nglob = 10 #  Глобальная  переменная \\nfunc() # Вызываем функцию \\n\\nprint(f\\'{\"Значение glob вне  функции:\":>45} {glob}\\') \\ntry: \\n    print(loc)  #  Вызовет исключение NameError \\nexcept NameError:  #  Обрабатываем исключение \\n    print(\"Переменная lос не видна вне функции\") ',\n",
       "  'def func():\\n    loc = 77 # Локальная  переменная \\n    glob = 25 # Локальная  переменная \\n    print(f\\'Значение glob внутри функции: {glob:>10}\\')\\n\\nglob = 10 #  Глобальная  переменная \\nfunc() # Вызываем функцию \\n\\nprint(f\\'{\"Значение glob вне  функции:\":<45} {glob}\\') \\ntry: \\n    print(loc)  #  Вызовет исключение NameError \\nexcept NameError:  #  Обрабатываем исключение \\n    print(\"Переменная lос не видна вне функции\") ',\n",
       "  'def func():\\n    loc = 77 # Локальная  переменная \\n    glob = 25 # Локальная  переменная \\n    print(f\\'Значение glob внутри функции: {glob:>10}\\')\\n\\nglob = 10 #  Глобальная  переменная \\nfunc() # Вызываем функцию \\n\\nprint(f\\'{\"Значение glob вне  функции:\":<20} {glob}\\') \\ntry: \\n    print(loc)  #  Вызовет исключение NameError \\nexcept NameError:  #  Обрабатываем исключение \\n    print(\"Переменная lос не видна вне функции\") ',\n",
       "  'def func():\\n    loc = 77 # Локальная  переменная \\n    glob = 25 # Локальная  переменная \\n    print(f\\'Значение glob внутри функции: {glob:>10}\\')\\n\\nglob = 10 #  Глобальная  переменная \\nfunc() # Вызываем функцию \\n\\nprint(f\\'{\"Значение glob вне  функции:\":<30} {glob}\\') \\ntry: \\n    print(loc)  #  Вызовет исключение NameError \\nexcept NameError:  #  Обрабатываем исключение \\n    print(\"Переменная lос не видна вне функции\") ',\n",
       "  'def func():\\n    loc = 77 # Локальная  переменная \\n    glob = 25 # Локальная  переменная \\n    print(f\\'{\"Значение glob внутри функции:\"<30} {glob:>10}\\')\\n\\nglob = 10 #  Глобальная  переменная \\nfunc() # Вызываем функцию \\n\\nprint(f\\'{\"Значение glob вне  функции:\":<30} {glob}\\') \\ntry: \\n    print(loc)  #  Вызовет исключение NameError \\nexcept NameError:  #  Обрабатываем исключение \\n    print(\"Переменная lос не видна вне функции\") ',\n",
       "  'def func():\\n    loc = 77 # Локальная  переменная \\n    glob = 25 # Локальная  переменная \\n#     print(f\\'{\"Значение glob внутри функции:\"<30} {glob:>10}\\')\\n\\nglob = 10 #  Глобальная  переменная \\nfunc() # Вызываем функцию \\n\\nprint(f\\'{\"Значение glob вне  функции:\":<30} {glob}\\') \\ntry: \\n    print(loc)  #  Вызовет исключение NameError \\nexcept NameError:  #  Обрабатываем исключение \\n    print(\"Переменная lос не видна вне функции\") ',\n",
       "  'def func():\\n    loc = 77 # Локальная  переменная \\n    glob = 25 # Локальная  переменная \\n    print(f\\'{\"Значение glob внутри функции:\"<30} {glob}\\')\\n\\nglob = 10 #  Глобальная  переменная \\nfunc() # Вызываем функцию \\n\\nprint(f\\'{\"Значение glob вне  функции:\":<30} {glob}\\') \\ntry: \\n    print(loc)  #  Вызовет исключение NameError \\nexcept NameError:  #  Обрабатываем исключение \\n    print(\"Переменная lос не видна вне функции\") ',\n",
       "  'print(f\\'{\"Значение glob внутри функции:\"<30} {glob}\\')',\n",
       "  'glob = 100\\nprint(f\\'{\"Значение glob внутри функции:\"<30} {glob}\\')',\n",
       "  'glob = 100\\nprint(f\\'{\"Значение glob внутри функции:\"} {glob}\\')',\n",
       "  'glob = 100\\nprint(f\\'{\"Значение glob внутри функции:\"} {glob}\\')\\nprint(f\\'{\"Значение glob вне функции:\":<30} {glob}\\') ',\n",
       "  'glob = 100\\nprint(f\\'{\"Значение glob внутри функции:\":<30} {glob}\\')\\nprint(f\\'{\"Значение glob вне функции:\":<30} {glob}\\') ',\n",
       "  'def func():\\n    loc = 77 # Локальная  переменная \\n    glob = 25 # Локальная  переменная \\n    print(f\\'{\"Значение glob внутри функции:\":<30} {glob}\\')\\n\\nglob = 10 #  Глобальная  переменная \\nfunc() # Вызываем функцию \\n\\nprint(f\\'{\"Значение glob вне функции:\":<30} {glob}\\') \\ntry: \\n    print(loc)  #  Вызовет исключение NameError \\nexcept NameError:  #  Обрабатываем исключение \\n    print(\"Переменная lос не видна вне функции\") ',\n",
       "  'def func_glob(glob2): \\n    print(\"----Вход в функцию func_glob----\")\\n    print(\"    Значение  глобальной nеременной glоb = \",  glob)     \\n    print(\"    Значение  ЛОКАЛЬНОЙ nеременной glоb2 = \",  glob2) \\n    glob2 += 10 \\n    print(\"    Значение  ЛОКАЛЬНОЙ переменной glob2 = \", glob2) \\n    print(\"----Выход из функции func_glob----\")    \\n\\nglob, glob2 = 5, 50 \\nprint(\"Значение глобальной nеременной glоb = \",  glob)     \\nprint(\"Значение глобальной nеременной glоb2 = \",  glob2) \\nfunc_glob(77)  #  Вызываем функцию \\nprint(\"Значение глобальной nеременной glоb = \",  glob)     \\nprint(\"Значение глобальной nеременной glоb2 = \",  glob2)',\n",
       "  'def func_glob(glob2): \\n    print(\"----Вход в функцию func_glob\")\\n    print(\"    Значение  глобальной nеременной glоb = \",  glob)     \\n    print(\"    Значение  ЛОКАЛЬНОЙ nеременной glоb2 = \",  glob2) \\n    glob2 += 10 \\n    print(\"    Значение  ЛОКАЛЬНОЙ переменной glob2 = \", glob2) \\n    print(\"----Выход из функции func_glob\")    \\n\\nglob, glob2 = 5, 50 \\nprint(\"Значение глобальной nеременной glоb = \",  glob)     \\nprint(\"Значение глобальной nеременной glоb2 = \",  glob2) \\nfunc_glob(77)  #  Вызываем функцию \\nprint(\"Значение глобальной nеременной glоb = \",  glob)     \\nprint(\"Значение глобальной nеременной glоb2 = \",  glob2)',\n",
       "  'def func_glob(glob2):\\n    glob += 777\\n    print(\"----Вход в функцию func_glob\")\\n    print(\"    Значение  глобальной nеременной glоb = \",  glob)     \\n    print(\"    Значение  ЛОКАЛЬНОЙ nеременной glоb2 = \",  glob2) \\n    glob2 += 10 \\n    print(\"    Значение  ЛОКАЛЬНОЙ переменной glob2 = \", glob2) \\n    print(\"----Выход из функции func_glob\")    \\n\\nglob, glob2 = 5, 50 \\nprint(\"Значение глобальной nеременной glоb = \",  glob)     \\nprint(\"Значение глобальной nеременной glоb2 = \",  glob2) \\nfunc_glob(77)  #  Вызываем функцию \\nprint(\"Значение глобальной nеременной glоb = \",  glob)     \\nprint(\"Значение глобальной nеременной glоb2 = \",  glob2)',\n",
       "  'def func_glob(glob2):\\n    print(\"----Вход в функцию func_glob\")\\n    print(\"    Значение  глобальной nеременной glоb = \",  glob)     \\n    print(\"    Значение  ЛОКАЛЬНОЙ nеременной glоb2 = \",  glob2) \\n    glob2 += 10 \\n    print(\"    Значение  ЛОКАЛЬНОЙ переменной glob2 = \", glob2) \\n    print(\"----Выход из функции func_glob\")    \\n\\nglob, glob2 = 5, 50 \\nprint(\"Значение глобальной nеременной glоb = \",  glob)     \\nprint(\"Значение глобальной nеременной glоb2 = \",  glob2) \\nfunc_glob(77)  #  Вызываем функцию \\nprint(\"Значение глобальной nеременной glоb = \",  glob)     \\nprint(\"Значение глобальной nеременной glоb2 = \",  glob2)',\n",
       "  'def func():\\n    loc = 77 # Локальная  переменная \\n    glob = 25 # Локальная  переменная \\n    print(f\\'{\"Значение glob внутри функции:\":<30} {glob}\\')\\n\\nglob = 10 #  Глобальная  переменная \\nfunc() # Вызываем функцию \\n\\nprint(f\\'{\"Значение glob вне функции:\":<30} {glob}\\') \\ntry: \\n    print(loc)  #  Вызовет исключение NameError \\nexcept NameError:  #  Обрабатываем исключение \\n    print(\"Переменная lос не видна вне функции\") ',\n",
       "  'def func2():\\n    glob +=1\\n\\nglob = 100\\nfunc2',\n",
       "  'def func2():\\n    glob +=1\\n\\nglob = 100\\nfunc2()',\n",
       "  'def func():\\n    global glob\\n    loc = 77 #  Локальная  переменная \\n    glob = 25 #  Локальная  переменная \\n    print(f\\'{\"Значение glob внутри функции:\":<30} {glob}\\')\\n\\nglob = 10 #  Глобальная  переменная \\nfunc() # Вызываем функцию \\nprint(f\\'{\"Значение glob вне функции:\":<30} {glob}\\')',\n",
       "  'globals()'],\n",
       " 'Out': {4: [1, 10], 39: <function __main__.func2()>},\n",
       " 'get_ipython': <bound method InteractiveShell.get_ipython of <ipykernel.zmqshell.ZMQInteractiveShell object at 0x0000023B3C8A43D0>>,\n",
       " 'exit': <IPython.core.autocall.ZMQExitAutocall at 0x23b3c8b0350>,\n",
       " 'quit': <IPython.core.autocall.ZMQExitAutocall at 0x23b3c8b0350>,\n",
       " 'open': <function io.open(file, mode='r', buffering=-1, encoding=None, errors=None, newline=None, closefd=True, opener=None)>,\n",
       " '_': <function __main__.func2()>,\n",
       " '__': [1, 10],\n",
       " '___': '',\n",
       " '_i': 'def func():\\n    global glob\\n    loc = 77 #  Локальная  переменная \\n    glob = 25 #  Локальная  переменная \\n    print(f\\'{\"Значение glob внутри функции:\":<30} {glob}\\')\\n\\nglob = 10 #  Глобальная  переменная \\nfunc() # Вызываем функцию \\nprint(f\\'{\"Значение glob вне функции:\":<30} {glob}\\')',\n",
       " '_ii': 'def func2():\\n    glob +=1\\n\\nglob = 100\\nfunc2()',\n",
       " '_iii': 'def func2():\\n    glob +=1\\n\\nglob = 100\\nfunc2',\n",
       " '_i1': \"def change(a, b): \\n    а = 20\\n    b = 'str'\",\n",
       " 'change': <function __main__.change(a, b)>,\n",
       " '_i2': \"v1 = 30\\nv2 = 'val'\\nchange(v1, v2)\\nprint(f'v1: {v1}')\\nprint(f'v2: {v2}')\",\n",
       " 'v1': 30,\n",
       " 'v2': 'val',\n",
       " '_i3': 'def change2(a):\\n    a.append(10)',\n",
       " 'change2': <function __main__.change2(a)>,\n",
       " '_i4': 's1 = [1] # Изменяемый объект может быть неявно изменен внутри функции\\n\\nchange2(s1)\\ns1',\n",
       " 's1': [1, 10],\n",
       " '_4': [1, 10],\n",
       " '_i5': 'def func_glob(glob2): \\n    print(\"----Вход в функцию func_glob\")\\n    print(\"    Значение  глобальной nеременной glоb = \",  glob)     \\n    print(\"    Значение  ЛОКАЛЬНОЙ nеременной glоb2 = \",  glob2) \\n    glob2 += 10 \\n    print(\"    Значение  ЛОКАЛЬНОЙ переменной glob2 = \", glob2) \\n    print(\"----Выход из функции func_glob\")    \\n\\nglob, glob2 = 5, 50 \\nprint(\"Значение глобальной nеременной glоb = \",  glob)     \\nprint(\"Значение глобальной nеременной glоb2 = \",  glob2) \\nfunc_glob(77)  #  Вызываем функцию \\nprint(\"Значение глобальной nеременной glоb = \",  glob)     \\nprint(\"Значение глобальной nеременной glоb2 = \",  glob2)',\n",
       " 'func_glob': <function __main__.func_glob(glob2)>,\n",
       " 'glob': 25,\n",
       " 'glob2': 50,\n",
       " '_i6': 'def func():\\n    loc = 77 # Локальная  переменная \\n    glob = 25 # Локальная  переменная \\n    print(f\\'Значение glob внутри функции: \\' {:10glob})\\n\\nglob = 10 #  Глобальная  переменная \\nfunc() # Вызываем функцию \\n\\nprint(\"Значение glob вне  функции: \", glob) \\ntry: \\n    print(loc)  #  Вызовет исключение NameError \\nexcept NameError:  #  Обрабатываем исключение \\n    print(\"Переменная lос не видна вне функции\") ',\n",
       " '_i7': 'def func():\\n    loc = 77 # Локальная  переменная \\n    glob = 25 # Локальная  переменная \\n    print(f\\'Значение glob внутри функции: \\' {glob:10})\\n\\nglob = 10 #  Глобальная  переменная \\nfunc() # Вызываем функцию \\n\\nprint(\"Значение glob вне  функции: \", glob) \\ntry: \\n    print(loc)  #  Вызовет исключение NameError \\nexcept NameError:  #  Обрабатываем исключение \\n    print(\"Переменная lос не видна вне функции\") ',\n",
       " '_i8': 'def func():\\n    loc = 77 # Локальная  переменная \\n    glob = 25 # Локальная  переменная \\n    print(f\\'Значение glob внутри функции: \\' {glob:>10})\\n\\nglob = 10 #  Глобальная  переменная \\nfunc() # Вызываем функцию \\n\\nprint(\"Значение glob вне  функции: \", glob) \\ntry: \\n    print(loc)  #  Вызовет исключение NameError \\nexcept NameError:  #  Обрабатываем исключение \\n    print(\"Переменная lос не видна вне функции\") ',\n",
       " '_i9': 'def func():\\n    loc = 77 # Локальная  переменная \\n    glob = 25 # Локальная  переменная \\n    print(f\\'Значение glob внутри функции:  {glob:>10}\\')\\n\\nglob = 10 #  Глобальная  переменная \\nfunc() # Вызываем функцию \\n\\nprint(\"Значение glob вне  функции: \", glob) \\ntry: \\n    print(loc)  #  Вызовет исключение NameError \\nexcept NameError:  #  Обрабатываем исключение \\n    print(\"Переменная lос не видна вне функции\") ',\n",
       " 'func': <function __main__.func()>,\n",
       " '_i10': 'def func():\\n    loc = 77 # Локальная  переменная \\n    glob = 25 # Локальная  переменная \\n    print(f\\'Значение glob внутри функции: {glob:>10}\\')\\n\\nglob = 10 #  Глобальная  переменная \\nfunc() # Вызываем функцию \\n\\nprint(\"Значение glob вне  функции: \", {glob:>10}) \\ntry: \\n    print(loc)  #  Вызовет исключение NameError \\nexcept NameError:  #  Обрабатываем исключение \\n    print(\"Переменная lос не видна вне функции\") ',\n",
       " '_i11': 'def func():\\n    loc = 77 # Локальная  переменная \\n    glob = 25 # Локальная  переменная \\n    print(f\\'Значение glob внутри функции: {glob:>10}\\')\\n\\nglob = 10 #  Глобальная  переменная \\nfunc() # Вызываем функцию \\n\\nprint(\"Значение glob вне  функции: {glob:>10}\\') \\ntry: \\n    print(loc)  #  Вызовет исключение NameError \\nexcept NameError:  #  Обрабатываем исключение \\n    print(\"Переменная lос не видна вне функции\") ',\n",
       " '_i12': 'def func():\\n    loc = 77 # Локальная  переменная \\n    glob = 25 # Локальная  переменная \\n    print(f\\'Значение glob внутри функции: {glob:>10}\\')\\n\\nglob = 10 #  Глобальная  переменная \\nfunc() # Вызываем функцию \\n\\nprint(f\\'Значение glob вне  функции: {glob:>10}\\') \\ntry: \\n    print(loc)  #  Вызовет исключение NameError \\nexcept NameError:  #  Обрабатываем исключение \\n    print(\"Переменная lос не видна вне функции\") ',\n",
       " '_i13': 'def func():\\n    loc = 77 # Локальная  переменная \\n    glob = 25 # Локальная  переменная \\n    print(f\\'Значение glob внутри функции: {glob:>10}\\')\\n\\nglob = 10 #  Глобальная  переменная \\nfunc() # Вызываем функцию \\n\\nprint(f\\'Значение glob вне  функции: {glob}:>10\\') \\ntry: \\n    print(loc)  #  Вызовет исключение NameError \\nexcept NameError:  #  Обрабатываем исключение \\n    print(\"Переменная lос не видна вне функции\") ',\n",
       " '_i14': 'def func():\\n    loc = 77 # Локальная  переменная \\n    glob = 25 # Локальная  переменная \\n    print(f\\'Значение glob внутри функции: {glob:>10}\\')\\n\\nglob = 10 #  Глобальная  переменная \\nfunc() # Вызываем функцию \\n\\nprint(f\\'{\"Значение glob вне  функции:\"} {glob}\\') \\ntry: \\n    print(loc)  #  Вызовет исключение NameError \\nexcept NameError:  #  Обрабатываем исключение \\n    print(\"Переменная lос не видна вне функции\") ',\n",
       " '_i15': 'def func():\\n    loc = 77 # Локальная  переменная \\n    glob = 25 # Локальная  переменная \\n    print(f\\'Значение glob внутри функции: {glob:>10}\\')\\n\\nglob = 10 #  Глобальная  переменная \\nfunc() # Вызываем функцию \\n\\nprint(f\\'{\"Значение glob вне  функции:\"<10} {glob}\\') \\ntry: \\n    print(loc)  #  Вызовет исключение NameError \\nexcept NameError:  #  Обрабатываем исключение \\n    print(\"Переменная lос не видна вне функции\") ',\n",
       " '_i16': 'def func():\\n    loc = 77 # Локальная  переменная \\n    glob = 25 # Локальная  переменная \\n    print(f\\'Значение glob внутри функции: {glob:>10}\\')\\n\\nglob = 10 #  Глобальная  переменная \\nfunc() # Вызываем функцию \\n\\nprint(f\\'{\"Значение glob вне  функции:\"} {glob}\\') \\ntry: \\n    print(loc)  #  Вызовет исключение NameError \\nexcept NameError:  #  Обрабатываем исключение \\n    print(\"Переменная lос не видна вне функции\") ',\n",
       " '_i17': 'def func():\\n    loc = 77 # Локальная  переменная \\n    glob = 25 # Локальная  переменная \\n    print(f\\'Значение glob внутри функции: {glob:>10}\\')\\n\\nglob = 10 #  Глобальная  переменная \\nfunc() # Вызываем функцию \\n\\nprint(f\\'{\"Значение glob вне  функции:>10\"} {glob}\\') \\ntry: \\n    print(loc)  #  Вызовет исключение NameError \\nexcept NameError:  #  Обрабатываем исключение \\n    print(\"Переменная lос не видна вне функции\") ',\n",
       " '_i18': 'def func():\\n    loc = 77 # Локальная  переменная \\n    glob = 25 # Локальная  переменная \\n    print(f\\'Значение glob внутри функции: {glob:>10}\\')\\n\\nglob = 10 #  Глобальная  переменная \\nfunc() # Вызываем функцию \\n\\nprint(f\\'{\"Значение glob вне  функции:\":10} {glob}\\') \\ntry: \\n    print(loc)  #  Вызовет исключение NameError \\nexcept NameError:  #  Обрабатываем исключение \\n    print(\"Переменная lос не видна вне функции\") ',\n",
       " '_i19': 'def func():\\n    loc = 77 # Локальная  переменная \\n    glob = 25 # Локальная  переменная \\n    print(f\\'Значение glob внутри функции: {glob:>10}\\')\\n\\nglob = 10 #  Глобальная  переменная \\nfunc() # Вызываем функцию \\n\\nprint(f\\'{\"Значение glob вне  функции:\":15} {glob}\\') \\ntry: \\n    print(loc)  #  Вызовет исключение NameError \\nexcept NameError:  #  Обрабатываем исключение \\n    print(\"Переменная lос не видна вне функции\") ',\n",
       " '_i20': 'def func():\\n    loc = 77 # Локальная  переменная \\n    glob = 25 # Локальная  переменная \\n    print(f\\'Значение glob внутри функции: {glob:>10}\\')\\n\\nglob = 10 #  Глобальная  переменная \\nfunc() # Вызываем функцию \\n\\nprint(f\\'{\"Значение glob вне  функции:\":45} {glob}\\') \\ntry: \\n    print(loc)  #  Вызовет исключение NameError \\nexcept NameError:  #  Обрабатываем исключение \\n    print(\"Переменная lос не видна вне функции\") ',\n",
       " '_i21': 'def func():\\n    loc = 77 # Локальная  переменная \\n    glob = 25 # Локальная  переменная \\n    print(f\\'Значение glob внутри функции: {glob:>10}\\')\\n\\nglob = 10 #  Глобальная  переменная \\nfunc() # Вызываем функцию \\n\\nprint(f\\'{\"Значение glob вне  функции:\":>45} {glob}\\') \\ntry: \\n    print(loc)  #  Вызовет исключение NameError \\nexcept NameError:  #  Обрабатываем исключение \\n    print(\"Переменная lос не видна вне функции\") ',\n",
       " '_i22': 'def func():\\n    loc = 77 # Локальная  переменная \\n    glob = 25 # Локальная  переменная \\n    print(f\\'Значение glob внутри функции: {glob:>10}\\')\\n\\nglob = 10 #  Глобальная  переменная \\nfunc() # Вызываем функцию \\n\\nprint(f\\'{\"Значение glob вне  функции:\":<45} {glob}\\') \\ntry: \\n    print(loc)  #  Вызовет исключение NameError \\nexcept NameError:  #  Обрабатываем исключение \\n    print(\"Переменная lос не видна вне функции\") ',\n",
       " '_i23': 'def func():\\n    loc = 77 # Локальная  переменная \\n    glob = 25 # Локальная  переменная \\n    print(f\\'Значение glob внутри функции: {glob:>10}\\')\\n\\nglob = 10 #  Глобальная  переменная \\nfunc() # Вызываем функцию \\n\\nprint(f\\'{\"Значение glob вне  функции:\":<20} {glob}\\') \\ntry: \\n    print(loc)  #  Вызовет исключение NameError \\nexcept NameError:  #  Обрабатываем исключение \\n    print(\"Переменная lос не видна вне функции\") ',\n",
       " '_i24': 'def func():\\n    loc = 77 # Локальная  переменная \\n    glob = 25 # Локальная  переменная \\n    print(f\\'Значение glob внутри функции: {glob:>10}\\')\\n\\nglob = 10 #  Глобальная  переменная \\nfunc() # Вызываем функцию \\n\\nprint(f\\'{\"Значение glob вне  функции:\":<30} {glob}\\') \\ntry: \\n    print(loc)  #  Вызовет исключение NameError \\nexcept NameError:  #  Обрабатываем исключение \\n    print(\"Переменная lос не видна вне функции\") ',\n",
       " '_i25': 'def func():\\n    loc = 77 # Локальная  переменная \\n    glob = 25 # Локальная  переменная \\n    print(f\\'{\"Значение glob внутри функции:\"<30} {glob:>10}\\')\\n\\nglob = 10 #  Глобальная  переменная \\nfunc() # Вызываем функцию \\n\\nprint(f\\'{\"Значение glob вне  функции:\":<30} {glob}\\') \\ntry: \\n    print(loc)  #  Вызовет исключение NameError \\nexcept NameError:  #  Обрабатываем исключение \\n    print(\"Переменная lос не видна вне функции\") ',\n",
       " '_i26': 'def func():\\n    loc = 77 # Локальная  переменная \\n    glob = 25 # Локальная  переменная \\n#     print(f\\'{\"Значение glob внутри функции:\"<30} {glob:>10}\\')\\n\\nglob = 10 #  Глобальная  переменная \\nfunc() # Вызываем функцию \\n\\nprint(f\\'{\"Значение glob вне  функции:\":<30} {glob}\\') \\ntry: \\n    print(loc)  #  Вызовет исключение NameError \\nexcept NameError:  #  Обрабатываем исключение \\n    print(\"Переменная lос не видна вне функции\") ',\n",
       " '_i27': 'def func():\\n    loc = 77 # Локальная  переменная \\n    glob = 25 # Локальная  переменная \\n    print(f\\'{\"Значение glob внутри функции:\"<30} {glob}\\')\\n\\nglob = 10 #  Глобальная  переменная \\nfunc() # Вызываем функцию \\n\\nprint(f\\'{\"Значение glob вне  функции:\":<30} {glob}\\') \\ntry: \\n    print(loc)  #  Вызовет исключение NameError \\nexcept NameError:  #  Обрабатываем исключение \\n    print(\"Переменная lос не видна вне функции\") ',\n",
       " '_i28': 'print(f\\'{\"Значение glob внутри функции:\"<30} {glob}\\')',\n",
       " '_i29': 'glob = 100\\nprint(f\\'{\"Значение glob внутри функции:\"<30} {glob}\\')',\n",
       " '_i30': 'glob = 100\\nprint(f\\'{\"Значение glob внутри функции:\"} {glob}\\')',\n",
       " '_i31': 'glob = 100\\nprint(f\\'{\"Значение glob внутри функции:\"} {glob}\\')\\nprint(f\\'{\"Значение glob вне функции:\":<30} {glob}\\') ',\n",
       " '_i32': 'glob = 100\\nprint(f\\'{\"Значение glob внутри функции:\":<30} {glob}\\')\\nprint(f\\'{\"Значение glob вне функции:\":<30} {glob}\\') ',\n",
       " '_i33': 'def func():\\n    loc = 77 # Локальная  переменная \\n    glob = 25 # Локальная  переменная \\n    print(f\\'{\"Значение glob внутри функции:\":<30} {glob}\\')\\n\\nglob = 10 #  Глобальная  переменная \\nfunc() # Вызываем функцию \\n\\nprint(f\\'{\"Значение glob вне функции:\":<30} {glob}\\') \\ntry: \\n    print(loc)  #  Вызовет исключение NameError \\nexcept NameError:  #  Обрабатываем исключение \\n    print(\"Переменная lос не видна вне функции\") ',\n",
       " '_i34': 'def func_glob(glob2): \\n    print(\"----Вход в функцию func_glob----\")\\n    print(\"    Значение  глобальной nеременной glоb = \",  glob)     \\n    print(\"    Значение  ЛОКАЛЬНОЙ nеременной glоb2 = \",  glob2) \\n    glob2 += 10 \\n    print(\"    Значение  ЛОКАЛЬНОЙ переменной glob2 = \", glob2) \\n    print(\"----Выход из функции func_glob----\")    \\n\\nglob, glob2 = 5, 50 \\nprint(\"Значение глобальной nеременной glоb = \",  glob)     \\nprint(\"Значение глобальной nеременной glоb2 = \",  glob2) \\nfunc_glob(77)  #  Вызываем функцию \\nprint(\"Значение глобальной nеременной glоb = \",  glob)     \\nprint(\"Значение глобальной nеременной glоb2 = \",  glob2)',\n",
       " '_i35': 'def func_glob(glob2): \\n    print(\"----Вход в функцию func_glob\")\\n    print(\"    Значение  глобальной nеременной glоb = \",  glob)     \\n    print(\"    Значение  ЛОКАЛЬНОЙ nеременной glоb2 = \",  glob2) \\n    glob2 += 10 \\n    print(\"    Значение  ЛОКАЛЬНОЙ переменной glob2 = \", glob2) \\n    print(\"----Выход из функции func_glob\")    \\n\\nglob, glob2 = 5, 50 \\nprint(\"Значение глобальной nеременной glоb = \",  glob)     \\nprint(\"Значение глобальной nеременной glоb2 = \",  glob2) \\nfunc_glob(77)  #  Вызываем функцию \\nprint(\"Значение глобальной nеременной glоb = \",  glob)     \\nprint(\"Значение глобальной nеременной glоb2 = \",  glob2)',\n",
       " '_i36': 'def func_glob(glob2):\\n    glob += 777\\n    print(\"----Вход в функцию func_glob\")\\n    print(\"    Значение  глобальной nеременной glоb = \",  glob)     \\n    print(\"    Значение  ЛОКАЛЬНОЙ nеременной glоb2 = \",  glob2) \\n    glob2 += 10 \\n    print(\"    Значение  ЛОКАЛЬНОЙ переменной glob2 = \", glob2) \\n    print(\"----Выход из функции func_glob\")    \\n\\nglob, glob2 = 5, 50 \\nprint(\"Значение глобальной nеременной glоb = \",  glob)     \\nprint(\"Значение глобальной nеременной glоb2 = \",  glob2) \\nfunc_glob(77)  #  Вызываем функцию \\nprint(\"Значение глобальной nеременной glоb = \",  glob)     \\nprint(\"Значение глобальной nеременной glоb2 = \",  glob2)',\n",
       " '_i37': 'def func_glob(glob2):\\n    print(\"----Вход в функцию func_glob\")\\n    print(\"    Значение  глобальной nеременной glоb = \",  glob)     \\n    print(\"    Значение  ЛОКАЛЬНОЙ nеременной glоb2 = \",  glob2) \\n    glob2 += 10 \\n    print(\"    Значение  ЛОКАЛЬНОЙ переменной glob2 = \", glob2) \\n    print(\"----Выход из функции func_glob\")    \\n\\nglob, glob2 = 5, 50 \\nprint(\"Значение глобальной nеременной glоb = \",  glob)     \\nprint(\"Значение глобальной nеременной glоb2 = \",  glob2) \\nfunc_glob(77)  #  Вызываем функцию \\nprint(\"Значение глобальной nеременной glоb = \",  glob)     \\nprint(\"Значение глобальной nеременной glоb2 = \",  glob2)',\n",
       " '_i38': 'def func():\\n    loc = 77 # Локальная  переменная \\n    glob = 25 # Локальная  переменная \\n    print(f\\'{\"Значение glob внутри функции:\":<30} {glob}\\')\\n\\nglob = 10 #  Глобальная  переменная \\nfunc() # Вызываем функцию \\n\\nprint(f\\'{\"Значение glob вне функции:\":<30} {glob}\\') \\ntry: \\n    print(loc)  #  Вызовет исключение NameError \\nexcept NameError:  #  Обрабатываем исключение \\n    print(\"Переменная lос не видна вне функции\") ',\n",
       " '_i39': 'def func2():\\n    glob +=1\\n\\nglob = 100\\nfunc2',\n",
       " 'func2': <function __main__.func2()>,\n",
       " '_39': <function __main__.func2()>,\n",
       " '_i40': 'def func2():\\n    glob +=1\\n\\nglob = 100\\nfunc2()',\n",
       " '_i41': 'def func():\\n    global glob\\n    loc = 77 #  Локальная  переменная \\n    glob = 25 #  Локальная  переменная \\n    print(f\\'{\"Значение glob внутри функции:\":<30} {glob}\\')\\n\\nglob = 10 #  Глобальная  переменная \\nfunc() # Вызываем функцию \\nprint(f\\'{\"Значение glob вне функции:\":<30} {glob}\\')',\n",
       " '_i42': 'globals()'}"
      ]
     },
     "execution_count": 42,
     "metadata": {},
     "output_type": "execute_result"
    }
   ],
   "source": [
    "globals()"
   ]
  },
  {
   "cell_type": "code",
   "execution_count": 43,
   "metadata": {
    "scrolled": true
   },
   "outputs": [
    {
     "data": {
      "text/plain": [
       "{'__name__': '__main__',\n",
       " '__doc__': 'Automatically created module for IPython interactive environment',\n",
       " '__package__': None,\n",
       " '__loader__': None,\n",
       " '__spec__': None,\n",
       " '__builtin__': <module 'builtins' (built-in)>,\n",
       " '__builtins__': <module 'builtins' (built-in)>,\n",
       " '_ih': ['',\n",
       "  \"def change(a, b): \\n    а = 20\\n    b = 'str'\",\n",
       "  \"v1 = 30\\nv2 = 'val'\\nchange(v1, v2)\\nprint(f'v1: {v1}')\\nprint(f'v2: {v2}')\",\n",
       "  'def change2(a):\\n    a.append(10)',\n",
       "  's1 = [1] # Изменяемый объект может быть неявно изменен внутри функции\\n\\nchange2(s1)\\ns1',\n",
       "  'def func_glob(glob2): \\n    print(\"----Вход в функцию func_glob\")\\n    print(\"    Значение  глобальной nеременной glоb = \",  glob)     \\n    print(\"    Значение  ЛОКАЛЬНОЙ nеременной glоb2 = \",  glob2) \\n    glob2 += 10 \\n    print(\"    Значение  ЛОКАЛЬНОЙ переменной glob2 = \", glob2) \\n    print(\"----Выход из функции func_glob\")    \\n\\nglob, glob2 = 5, 50 \\nprint(\"Значение глобальной nеременной glоb = \",  glob)     \\nprint(\"Значение глобальной nеременной glоb2 = \",  glob2) \\nfunc_glob(77)  #  Вызываем функцию \\nprint(\"Значение глобальной nеременной glоb = \",  glob)     \\nprint(\"Значение глобальной nеременной glоb2 = \",  glob2)',\n",
       "  'def func():\\n    loc = 77 # Локальная  переменная \\n    glob = 25 # Локальная  переменная \\n    print(f\\'Значение glob внутри функции: \\' {:10glob})\\n\\nglob = 10 #  Глобальная  переменная \\nfunc() # Вызываем функцию \\n\\nprint(\"Значение glob вне  функции: \", glob) \\ntry: \\n    print(loc)  #  Вызовет исключение NameError \\nexcept NameError:  #  Обрабатываем исключение \\n    print(\"Переменная lос не видна вне функции\") ',\n",
       "  'def func():\\n    loc = 77 # Локальная  переменная \\n    glob = 25 # Локальная  переменная \\n    print(f\\'Значение glob внутри функции: \\' {glob:10})\\n\\nglob = 10 #  Глобальная  переменная \\nfunc() # Вызываем функцию \\n\\nprint(\"Значение glob вне  функции: \", glob) \\ntry: \\n    print(loc)  #  Вызовет исключение NameError \\nexcept NameError:  #  Обрабатываем исключение \\n    print(\"Переменная lос не видна вне функции\") ',\n",
       "  'def func():\\n    loc = 77 # Локальная  переменная \\n    glob = 25 # Локальная  переменная \\n    print(f\\'Значение glob внутри функции: \\' {glob:>10})\\n\\nglob = 10 #  Глобальная  переменная \\nfunc() # Вызываем функцию \\n\\nprint(\"Значение glob вне  функции: \", glob) \\ntry: \\n    print(loc)  #  Вызовет исключение NameError \\nexcept NameError:  #  Обрабатываем исключение \\n    print(\"Переменная lос не видна вне функции\") ',\n",
       "  'def func():\\n    loc = 77 # Локальная  переменная \\n    glob = 25 # Локальная  переменная \\n    print(f\\'Значение glob внутри функции:  {glob:>10}\\')\\n\\nglob = 10 #  Глобальная  переменная \\nfunc() # Вызываем функцию \\n\\nprint(\"Значение glob вне  функции: \", glob) \\ntry: \\n    print(loc)  #  Вызовет исключение NameError \\nexcept NameError:  #  Обрабатываем исключение \\n    print(\"Переменная lос не видна вне функции\") ',\n",
       "  'def func():\\n    loc = 77 # Локальная  переменная \\n    glob = 25 # Локальная  переменная \\n    print(f\\'Значение glob внутри функции: {glob:>10}\\')\\n\\nglob = 10 #  Глобальная  переменная \\nfunc() # Вызываем функцию \\n\\nprint(\"Значение glob вне  функции: \", {glob:>10}) \\ntry: \\n    print(loc)  #  Вызовет исключение NameError \\nexcept NameError:  #  Обрабатываем исключение \\n    print(\"Переменная lос не видна вне функции\") ',\n",
       "  'def func():\\n    loc = 77 # Локальная  переменная \\n    glob = 25 # Локальная  переменная \\n    print(f\\'Значение glob внутри функции: {glob:>10}\\')\\n\\nglob = 10 #  Глобальная  переменная \\nfunc() # Вызываем функцию \\n\\nprint(\"Значение glob вне  функции: {glob:>10}\\') \\ntry: \\n    print(loc)  #  Вызовет исключение NameError \\nexcept NameError:  #  Обрабатываем исключение \\n    print(\"Переменная lос не видна вне функции\") ',\n",
       "  'def func():\\n    loc = 77 # Локальная  переменная \\n    glob = 25 # Локальная  переменная \\n    print(f\\'Значение glob внутри функции: {glob:>10}\\')\\n\\nglob = 10 #  Глобальная  переменная \\nfunc() # Вызываем функцию \\n\\nprint(f\\'Значение glob вне  функции: {glob:>10}\\') \\ntry: \\n    print(loc)  #  Вызовет исключение NameError \\nexcept NameError:  #  Обрабатываем исключение \\n    print(\"Переменная lос не видна вне функции\") ',\n",
       "  'def func():\\n    loc = 77 # Локальная  переменная \\n    glob = 25 # Локальная  переменная \\n    print(f\\'Значение glob внутри функции: {glob:>10}\\')\\n\\nglob = 10 #  Глобальная  переменная \\nfunc() # Вызываем функцию \\n\\nprint(f\\'Значение glob вне  функции: {glob}:>10\\') \\ntry: \\n    print(loc)  #  Вызовет исключение NameError \\nexcept NameError:  #  Обрабатываем исключение \\n    print(\"Переменная lос не видна вне функции\") ',\n",
       "  'def func():\\n    loc = 77 # Локальная  переменная \\n    glob = 25 # Локальная  переменная \\n    print(f\\'Значение glob внутри функции: {glob:>10}\\')\\n\\nglob = 10 #  Глобальная  переменная \\nfunc() # Вызываем функцию \\n\\nprint(f\\'{\"Значение glob вне  функции:\"} {glob}\\') \\ntry: \\n    print(loc)  #  Вызовет исключение NameError \\nexcept NameError:  #  Обрабатываем исключение \\n    print(\"Переменная lос не видна вне функции\") ',\n",
       "  'def func():\\n    loc = 77 # Локальная  переменная \\n    glob = 25 # Локальная  переменная \\n    print(f\\'Значение glob внутри функции: {glob:>10}\\')\\n\\nglob = 10 #  Глобальная  переменная \\nfunc() # Вызываем функцию \\n\\nprint(f\\'{\"Значение glob вне  функции:\"<10} {glob}\\') \\ntry: \\n    print(loc)  #  Вызовет исключение NameError \\nexcept NameError:  #  Обрабатываем исключение \\n    print(\"Переменная lос не видна вне функции\") ',\n",
       "  'def func():\\n    loc = 77 # Локальная  переменная \\n    glob = 25 # Локальная  переменная \\n    print(f\\'Значение glob внутри функции: {glob:>10}\\')\\n\\nglob = 10 #  Глобальная  переменная \\nfunc() # Вызываем функцию \\n\\nprint(f\\'{\"Значение glob вне  функции:\"} {glob}\\') \\ntry: \\n    print(loc)  #  Вызовет исключение NameError \\nexcept NameError:  #  Обрабатываем исключение \\n    print(\"Переменная lос не видна вне функции\") ',\n",
       "  'def func():\\n    loc = 77 # Локальная  переменная \\n    glob = 25 # Локальная  переменная \\n    print(f\\'Значение glob внутри функции: {glob:>10}\\')\\n\\nglob = 10 #  Глобальная  переменная \\nfunc() # Вызываем функцию \\n\\nprint(f\\'{\"Значение glob вне  функции:>10\"} {glob}\\') \\ntry: \\n    print(loc)  #  Вызовет исключение NameError \\nexcept NameError:  #  Обрабатываем исключение \\n    print(\"Переменная lос не видна вне функции\") ',\n",
       "  'def func():\\n    loc = 77 # Локальная  переменная \\n    glob = 25 # Локальная  переменная \\n    print(f\\'Значение glob внутри функции: {glob:>10}\\')\\n\\nglob = 10 #  Глобальная  переменная \\nfunc() # Вызываем функцию \\n\\nprint(f\\'{\"Значение glob вне  функции:\":10} {glob}\\') \\ntry: \\n    print(loc)  #  Вызовет исключение NameError \\nexcept NameError:  #  Обрабатываем исключение \\n    print(\"Переменная lос не видна вне функции\") ',\n",
       "  'def func():\\n    loc = 77 # Локальная  переменная \\n    glob = 25 # Локальная  переменная \\n    print(f\\'Значение glob внутри функции: {glob:>10}\\')\\n\\nglob = 10 #  Глобальная  переменная \\nfunc() # Вызываем функцию \\n\\nprint(f\\'{\"Значение glob вне  функции:\":15} {glob}\\') \\ntry: \\n    print(loc)  #  Вызовет исключение NameError \\nexcept NameError:  #  Обрабатываем исключение \\n    print(\"Переменная lос не видна вне функции\") ',\n",
       "  'def func():\\n    loc = 77 # Локальная  переменная \\n    glob = 25 # Локальная  переменная \\n    print(f\\'Значение glob внутри функции: {glob:>10}\\')\\n\\nglob = 10 #  Глобальная  переменная \\nfunc() # Вызываем функцию \\n\\nprint(f\\'{\"Значение glob вне  функции:\":45} {glob}\\') \\ntry: \\n    print(loc)  #  Вызовет исключение NameError \\nexcept NameError:  #  Обрабатываем исключение \\n    print(\"Переменная lос не видна вне функции\") ',\n",
       "  'def func():\\n    loc = 77 # Локальная  переменная \\n    glob = 25 # Локальная  переменная \\n    print(f\\'Значение glob внутри функции: {glob:>10}\\')\\n\\nglob = 10 #  Глобальная  переменная \\nfunc() # Вызываем функцию \\n\\nprint(f\\'{\"Значение glob вне  функции:\":>45} {glob}\\') \\ntry: \\n    print(loc)  #  Вызовет исключение NameError \\nexcept NameError:  #  Обрабатываем исключение \\n    print(\"Переменная lос не видна вне функции\") ',\n",
       "  'def func():\\n    loc = 77 # Локальная  переменная \\n    glob = 25 # Локальная  переменная \\n    print(f\\'Значение glob внутри функции: {glob:>10}\\')\\n\\nglob = 10 #  Глобальная  переменная \\nfunc() # Вызываем функцию \\n\\nprint(f\\'{\"Значение glob вне  функции:\":<45} {glob}\\') \\ntry: \\n    print(loc)  #  Вызовет исключение NameError \\nexcept NameError:  #  Обрабатываем исключение \\n    print(\"Переменная lос не видна вне функции\") ',\n",
       "  'def func():\\n    loc = 77 # Локальная  переменная \\n    glob = 25 # Локальная  переменная \\n    print(f\\'Значение glob внутри функции: {glob:>10}\\')\\n\\nglob = 10 #  Глобальная  переменная \\nfunc() # Вызываем функцию \\n\\nprint(f\\'{\"Значение glob вне  функции:\":<20} {glob}\\') \\ntry: \\n    print(loc)  #  Вызовет исключение NameError \\nexcept NameError:  #  Обрабатываем исключение \\n    print(\"Переменная lос не видна вне функции\") ',\n",
       "  'def func():\\n    loc = 77 # Локальная  переменная \\n    glob = 25 # Локальная  переменная \\n    print(f\\'Значение glob внутри функции: {glob:>10}\\')\\n\\nglob = 10 #  Глобальная  переменная \\nfunc() # Вызываем функцию \\n\\nprint(f\\'{\"Значение glob вне  функции:\":<30} {glob}\\') \\ntry: \\n    print(loc)  #  Вызовет исключение NameError \\nexcept NameError:  #  Обрабатываем исключение \\n    print(\"Переменная lос не видна вне функции\") ',\n",
       "  'def func():\\n    loc = 77 # Локальная  переменная \\n    glob = 25 # Локальная  переменная \\n    print(f\\'{\"Значение glob внутри функции:\"<30} {glob:>10}\\')\\n\\nglob = 10 #  Глобальная  переменная \\nfunc() # Вызываем функцию \\n\\nprint(f\\'{\"Значение glob вне  функции:\":<30} {glob}\\') \\ntry: \\n    print(loc)  #  Вызовет исключение NameError \\nexcept NameError:  #  Обрабатываем исключение \\n    print(\"Переменная lос не видна вне функции\") ',\n",
       "  'def func():\\n    loc = 77 # Локальная  переменная \\n    glob = 25 # Локальная  переменная \\n#     print(f\\'{\"Значение glob внутри функции:\"<30} {glob:>10}\\')\\n\\nglob = 10 #  Глобальная  переменная \\nfunc() # Вызываем функцию \\n\\nprint(f\\'{\"Значение glob вне  функции:\":<30} {glob}\\') \\ntry: \\n    print(loc)  #  Вызовет исключение NameError \\nexcept NameError:  #  Обрабатываем исключение \\n    print(\"Переменная lос не видна вне функции\") ',\n",
       "  'def func():\\n    loc = 77 # Локальная  переменная \\n    glob = 25 # Локальная  переменная \\n    print(f\\'{\"Значение glob внутри функции:\"<30} {glob}\\')\\n\\nglob = 10 #  Глобальная  переменная \\nfunc() # Вызываем функцию \\n\\nprint(f\\'{\"Значение glob вне  функции:\":<30} {glob}\\') \\ntry: \\n    print(loc)  #  Вызовет исключение NameError \\nexcept NameError:  #  Обрабатываем исключение \\n    print(\"Переменная lос не видна вне функции\") ',\n",
       "  'print(f\\'{\"Значение glob внутри функции:\"<30} {glob}\\')',\n",
       "  'glob = 100\\nprint(f\\'{\"Значение glob внутри функции:\"<30} {glob}\\')',\n",
       "  'glob = 100\\nprint(f\\'{\"Значение glob внутри функции:\"} {glob}\\')',\n",
       "  'glob = 100\\nprint(f\\'{\"Значение glob внутри функции:\"} {glob}\\')\\nprint(f\\'{\"Значение glob вне функции:\":<30} {glob}\\') ',\n",
       "  'glob = 100\\nprint(f\\'{\"Значение glob внутри функции:\":<30} {glob}\\')\\nprint(f\\'{\"Значение glob вне функции:\":<30} {glob}\\') ',\n",
       "  'def func():\\n    loc = 77 # Локальная  переменная \\n    glob = 25 # Локальная  переменная \\n    print(f\\'{\"Значение glob внутри функции:\":<30} {glob}\\')\\n\\nglob = 10 #  Глобальная  переменная \\nfunc() # Вызываем функцию \\n\\nprint(f\\'{\"Значение glob вне функции:\":<30} {glob}\\') \\ntry: \\n    print(loc)  #  Вызовет исключение NameError \\nexcept NameError:  #  Обрабатываем исключение \\n    print(\"Переменная lос не видна вне функции\") ',\n",
       "  'def func_glob(glob2): \\n    print(\"----Вход в функцию func_glob----\")\\n    print(\"    Значение  глобальной nеременной glоb = \",  glob)     \\n    print(\"    Значение  ЛОКАЛЬНОЙ nеременной glоb2 = \",  glob2) \\n    glob2 += 10 \\n    print(\"    Значение  ЛОКАЛЬНОЙ переменной glob2 = \", glob2) \\n    print(\"----Выход из функции func_glob----\")    \\n\\nglob, glob2 = 5, 50 \\nprint(\"Значение глобальной nеременной glоb = \",  glob)     \\nprint(\"Значение глобальной nеременной glоb2 = \",  glob2) \\nfunc_glob(77)  #  Вызываем функцию \\nprint(\"Значение глобальной nеременной glоb = \",  glob)     \\nprint(\"Значение глобальной nеременной glоb2 = \",  glob2)',\n",
       "  'def func_glob(glob2): \\n    print(\"----Вход в функцию func_glob\")\\n    print(\"    Значение  глобальной nеременной glоb = \",  glob)     \\n    print(\"    Значение  ЛОКАЛЬНОЙ nеременной glоb2 = \",  glob2) \\n    glob2 += 10 \\n    print(\"    Значение  ЛОКАЛЬНОЙ переменной glob2 = \", glob2) \\n    print(\"----Выход из функции func_glob\")    \\n\\nglob, glob2 = 5, 50 \\nprint(\"Значение глобальной nеременной glоb = \",  glob)     \\nprint(\"Значение глобальной nеременной glоb2 = \",  glob2) \\nfunc_glob(77)  #  Вызываем функцию \\nprint(\"Значение глобальной nеременной glоb = \",  glob)     \\nprint(\"Значение глобальной nеременной glоb2 = \",  glob2)',\n",
       "  'def func_glob(glob2):\\n    glob += 777\\n    print(\"----Вход в функцию func_glob\")\\n    print(\"    Значение  глобальной nеременной glоb = \",  glob)     \\n    print(\"    Значение  ЛОКАЛЬНОЙ nеременной glоb2 = \",  glob2) \\n    glob2 += 10 \\n    print(\"    Значение  ЛОКАЛЬНОЙ переменной glob2 = \", glob2) \\n    print(\"----Выход из функции func_glob\")    \\n\\nglob, glob2 = 5, 50 \\nprint(\"Значение глобальной nеременной glоb = \",  glob)     \\nprint(\"Значение глобальной nеременной glоb2 = \",  glob2) \\nfunc_glob(77)  #  Вызываем функцию \\nprint(\"Значение глобальной nеременной glоb = \",  glob)     \\nprint(\"Значение глобальной nеременной glоb2 = \",  glob2)',\n",
       "  'def func_glob(glob2):\\n    print(\"----Вход в функцию func_glob\")\\n    print(\"    Значение  глобальной nеременной glоb = \",  glob)     \\n    print(\"    Значение  ЛОКАЛЬНОЙ nеременной glоb2 = \",  glob2) \\n    glob2 += 10 \\n    print(\"    Значение  ЛОКАЛЬНОЙ переменной glob2 = \", glob2) \\n    print(\"----Выход из функции func_glob\")    \\n\\nglob, glob2 = 5, 50 \\nprint(\"Значение глобальной nеременной glоb = \",  glob)     \\nprint(\"Значение глобальной nеременной glоb2 = \",  glob2) \\nfunc_glob(77)  #  Вызываем функцию \\nprint(\"Значение глобальной nеременной glоb = \",  glob)     \\nprint(\"Значение глобальной nеременной glоb2 = \",  glob2)',\n",
       "  'def func():\\n    loc = 77 # Локальная  переменная \\n    glob = 25 # Локальная  переменная \\n    print(f\\'{\"Значение glob внутри функции:\":<30} {glob}\\')\\n\\nglob = 10 #  Глобальная  переменная \\nfunc() # Вызываем функцию \\n\\nprint(f\\'{\"Значение glob вне функции:\":<30} {glob}\\') \\ntry: \\n    print(loc)  #  Вызовет исключение NameError \\nexcept NameError:  #  Обрабатываем исключение \\n    print(\"Переменная lос не видна вне функции\") ',\n",
       "  'def func2():\\n    glob +=1\\n\\nglob = 100\\nfunc2',\n",
       "  'def func2():\\n    glob +=1\\n\\nglob = 100\\nfunc2()',\n",
       "  'def func():\\n    global glob\\n    loc = 77 #  Локальная  переменная \\n    glob = 25 #  Локальная  переменная \\n    print(f\\'{\"Значение glob внутри функции:\":<30} {glob}\\')\\n\\nglob = 10 #  Глобальная  переменная \\nfunc() # Вызываем функцию \\nprint(f\\'{\"Значение glob вне функции:\":<30} {glob}\\')',\n",
       "  'globals()',\n",
       "  'locals()'],\n",
       " '_oh': {4: [1, 10], 39: <function __main__.func2()>, 42: {...}},\n",
       " '_dh': [WindowsPath('D:/Smirnov/FinU/2024-2025/АиСД_Python/04_Функции')],\n",
       " 'In': ['',\n",
       "  \"def change(a, b): \\n    а = 20\\n    b = 'str'\",\n",
       "  \"v1 = 30\\nv2 = 'val'\\nchange(v1, v2)\\nprint(f'v1: {v1}')\\nprint(f'v2: {v2}')\",\n",
       "  'def change2(a):\\n    a.append(10)',\n",
       "  's1 = [1] # Изменяемый объект может быть неявно изменен внутри функции\\n\\nchange2(s1)\\ns1',\n",
       "  'def func_glob(glob2): \\n    print(\"----Вход в функцию func_glob\")\\n    print(\"    Значение  глобальной nеременной glоb = \",  glob)     \\n    print(\"    Значение  ЛОКАЛЬНОЙ nеременной glоb2 = \",  glob2) \\n    glob2 += 10 \\n    print(\"    Значение  ЛОКАЛЬНОЙ переменной glob2 = \", glob2) \\n    print(\"----Выход из функции func_glob\")    \\n\\nglob, glob2 = 5, 50 \\nprint(\"Значение глобальной nеременной glоb = \",  glob)     \\nprint(\"Значение глобальной nеременной glоb2 = \",  glob2) \\nfunc_glob(77)  #  Вызываем функцию \\nprint(\"Значение глобальной nеременной glоb = \",  glob)     \\nprint(\"Значение глобальной nеременной glоb2 = \",  glob2)',\n",
       "  'def func():\\n    loc = 77 # Локальная  переменная \\n    glob = 25 # Локальная  переменная \\n    print(f\\'Значение glob внутри функции: \\' {:10glob})\\n\\nglob = 10 #  Глобальная  переменная \\nfunc() # Вызываем функцию \\n\\nprint(\"Значение glob вне  функции: \", glob) \\ntry: \\n    print(loc)  #  Вызовет исключение NameError \\nexcept NameError:  #  Обрабатываем исключение \\n    print(\"Переменная lос не видна вне функции\") ',\n",
       "  'def func():\\n    loc = 77 # Локальная  переменная \\n    glob = 25 # Локальная  переменная \\n    print(f\\'Значение glob внутри функции: \\' {glob:10})\\n\\nglob = 10 #  Глобальная  переменная \\nfunc() # Вызываем функцию \\n\\nprint(\"Значение glob вне  функции: \", glob) \\ntry: \\n    print(loc)  #  Вызовет исключение NameError \\nexcept NameError:  #  Обрабатываем исключение \\n    print(\"Переменная lос не видна вне функции\") ',\n",
       "  'def func():\\n    loc = 77 # Локальная  переменная \\n    glob = 25 # Локальная  переменная \\n    print(f\\'Значение glob внутри функции: \\' {glob:>10})\\n\\nglob = 10 #  Глобальная  переменная \\nfunc() # Вызываем функцию \\n\\nprint(\"Значение glob вне  функции: \", glob) \\ntry: \\n    print(loc)  #  Вызовет исключение NameError \\nexcept NameError:  #  Обрабатываем исключение \\n    print(\"Переменная lос не видна вне функции\") ',\n",
       "  'def func():\\n    loc = 77 # Локальная  переменная \\n    glob = 25 # Локальная  переменная \\n    print(f\\'Значение glob внутри функции:  {glob:>10}\\')\\n\\nglob = 10 #  Глобальная  переменная \\nfunc() # Вызываем функцию \\n\\nprint(\"Значение glob вне  функции: \", glob) \\ntry: \\n    print(loc)  #  Вызовет исключение NameError \\nexcept NameError:  #  Обрабатываем исключение \\n    print(\"Переменная lос не видна вне функции\") ',\n",
       "  'def func():\\n    loc = 77 # Локальная  переменная \\n    glob = 25 # Локальная  переменная \\n    print(f\\'Значение glob внутри функции: {glob:>10}\\')\\n\\nglob = 10 #  Глобальная  переменная \\nfunc() # Вызываем функцию \\n\\nprint(\"Значение glob вне  функции: \", {glob:>10}) \\ntry: \\n    print(loc)  #  Вызовет исключение NameError \\nexcept NameError:  #  Обрабатываем исключение \\n    print(\"Переменная lос не видна вне функции\") ',\n",
       "  'def func():\\n    loc = 77 # Локальная  переменная \\n    glob = 25 # Локальная  переменная \\n    print(f\\'Значение glob внутри функции: {glob:>10}\\')\\n\\nglob = 10 #  Глобальная  переменная \\nfunc() # Вызываем функцию \\n\\nprint(\"Значение glob вне  функции: {glob:>10}\\') \\ntry: \\n    print(loc)  #  Вызовет исключение NameError \\nexcept NameError:  #  Обрабатываем исключение \\n    print(\"Переменная lос не видна вне функции\") ',\n",
       "  'def func():\\n    loc = 77 # Локальная  переменная \\n    glob = 25 # Локальная  переменная \\n    print(f\\'Значение glob внутри функции: {glob:>10}\\')\\n\\nglob = 10 #  Глобальная  переменная \\nfunc() # Вызываем функцию \\n\\nprint(f\\'Значение glob вне  функции: {glob:>10}\\') \\ntry: \\n    print(loc)  #  Вызовет исключение NameError \\nexcept NameError:  #  Обрабатываем исключение \\n    print(\"Переменная lос не видна вне функции\") ',\n",
       "  'def func():\\n    loc = 77 # Локальная  переменная \\n    glob = 25 # Локальная  переменная \\n    print(f\\'Значение glob внутри функции: {glob:>10}\\')\\n\\nglob = 10 #  Глобальная  переменная \\nfunc() # Вызываем функцию \\n\\nprint(f\\'Значение glob вне  функции: {glob}:>10\\') \\ntry: \\n    print(loc)  #  Вызовет исключение NameError \\nexcept NameError:  #  Обрабатываем исключение \\n    print(\"Переменная lос не видна вне функции\") ',\n",
       "  'def func():\\n    loc = 77 # Локальная  переменная \\n    glob = 25 # Локальная  переменная \\n    print(f\\'Значение glob внутри функции: {glob:>10}\\')\\n\\nglob = 10 #  Глобальная  переменная \\nfunc() # Вызываем функцию \\n\\nprint(f\\'{\"Значение glob вне  функции:\"} {glob}\\') \\ntry: \\n    print(loc)  #  Вызовет исключение NameError \\nexcept NameError:  #  Обрабатываем исключение \\n    print(\"Переменная lос не видна вне функции\") ',\n",
       "  'def func():\\n    loc = 77 # Локальная  переменная \\n    glob = 25 # Локальная  переменная \\n    print(f\\'Значение glob внутри функции: {glob:>10}\\')\\n\\nglob = 10 #  Глобальная  переменная \\nfunc() # Вызываем функцию \\n\\nprint(f\\'{\"Значение glob вне  функции:\"<10} {glob}\\') \\ntry: \\n    print(loc)  #  Вызовет исключение NameError \\nexcept NameError:  #  Обрабатываем исключение \\n    print(\"Переменная lос не видна вне функции\") ',\n",
       "  'def func():\\n    loc = 77 # Локальная  переменная \\n    glob = 25 # Локальная  переменная \\n    print(f\\'Значение glob внутри функции: {glob:>10}\\')\\n\\nglob = 10 #  Глобальная  переменная \\nfunc() # Вызываем функцию \\n\\nprint(f\\'{\"Значение glob вне  функции:\"} {glob}\\') \\ntry: \\n    print(loc)  #  Вызовет исключение NameError \\nexcept NameError:  #  Обрабатываем исключение \\n    print(\"Переменная lос не видна вне функции\") ',\n",
       "  'def func():\\n    loc = 77 # Локальная  переменная \\n    glob = 25 # Локальная  переменная \\n    print(f\\'Значение glob внутри функции: {glob:>10}\\')\\n\\nglob = 10 #  Глобальная  переменная \\nfunc() # Вызываем функцию \\n\\nprint(f\\'{\"Значение glob вне  функции:>10\"} {glob}\\') \\ntry: \\n    print(loc)  #  Вызовет исключение NameError \\nexcept NameError:  #  Обрабатываем исключение \\n    print(\"Переменная lос не видна вне функции\") ',\n",
       "  'def func():\\n    loc = 77 # Локальная  переменная \\n    glob = 25 # Локальная  переменная \\n    print(f\\'Значение glob внутри функции: {glob:>10}\\')\\n\\nglob = 10 #  Глобальная  переменная \\nfunc() # Вызываем функцию \\n\\nprint(f\\'{\"Значение glob вне  функции:\":10} {glob}\\') \\ntry: \\n    print(loc)  #  Вызовет исключение NameError \\nexcept NameError:  #  Обрабатываем исключение \\n    print(\"Переменная lос не видна вне функции\") ',\n",
       "  'def func():\\n    loc = 77 # Локальная  переменная \\n    glob = 25 # Локальная  переменная \\n    print(f\\'Значение glob внутри функции: {glob:>10}\\')\\n\\nglob = 10 #  Глобальная  переменная \\nfunc() # Вызываем функцию \\n\\nprint(f\\'{\"Значение glob вне  функции:\":15} {glob}\\') \\ntry: \\n    print(loc)  #  Вызовет исключение NameError \\nexcept NameError:  #  Обрабатываем исключение \\n    print(\"Переменная lос не видна вне функции\") ',\n",
       "  'def func():\\n    loc = 77 # Локальная  переменная \\n    glob = 25 # Локальная  переменная \\n    print(f\\'Значение glob внутри функции: {glob:>10}\\')\\n\\nglob = 10 #  Глобальная  переменная \\nfunc() # Вызываем функцию \\n\\nprint(f\\'{\"Значение glob вне  функции:\":45} {glob}\\') \\ntry: \\n    print(loc)  #  Вызовет исключение NameError \\nexcept NameError:  #  Обрабатываем исключение \\n    print(\"Переменная lос не видна вне функции\") ',\n",
       "  'def func():\\n    loc = 77 # Локальная  переменная \\n    glob = 25 # Локальная  переменная \\n    print(f\\'Значение glob внутри функции: {glob:>10}\\')\\n\\nglob = 10 #  Глобальная  переменная \\nfunc() # Вызываем функцию \\n\\nprint(f\\'{\"Значение glob вне  функции:\":>45} {glob}\\') \\ntry: \\n    print(loc)  #  Вызовет исключение NameError \\nexcept NameError:  #  Обрабатываем исключение \\n    print(\"Переменная lос не видна вне функции\") ',\n",
       "  'def func():\\n    loc = 77 # Локальная  переменная \\n    glob = 25 # Локальная  переменная \\n    print(f\\'Значение glob внутри функции: {glob:>10}\\')\\n\\nglob = 10 #  Глобальная  переменная \\nfunc() # Вызываем функцию \\n\\nprint(f\\'{\"Значение glob вне  функции:\":<45} {glob}\\') \\ntry: \\n    print(loc)  #  Вызовет исключение NameError \\nexcept NameError:  #  Обрабатываем исключение \\n    print(\"Переменная lос не видна вне функции\") ',\n",
       "  'def func():\\n    loc = 77 # Локальная  переменная \\n    glob = 25 # Локальная  переменная \\n    print(f\\'Значение glob внутри функции: {glob:>10}\\')\\n\\nglob = 10 #  Глобальная  переменная \\nfunc() # Вызываем функцию \\n\\nprint(f\\'{\"Значение glob вне  функции:\":<20} {glob}\\') \\ntry: \\n    print(loc)  #  Вызовет исключение NameError \\nexcept NameError:  #  Обрабатываем исключение \\n    print(\"Переменная lос не видна вне функции\") ',\n",
       "  'def func():\\n    loc = 77 # Локальная  переменная \\n    glob = 25 # Локальная  переменная \\n    print(f\\'Значение glob внутри функции: {glob:>10}\\')\\n\\nglob = 10 #  Глобальная  переменная \\nfunc() # Вызываем функцию \\n\\nprint(f\\'{\"Значение glob вне  функции:\":<30} {glob}\\') \\ntry: \\n    print(loc)  #  Вызовет исключение NameError \\nexcept NameError:  #  Обрабатываем исключение \\n    print(\"Переменная lос не видна вне функции\") ',\n",
       "  'def func():\\n    loc = 77 # Локальная  переменная \\n    glob = 25 # Локальная  переменная \\n    print(f\\'{\"Значение glob внутри функции:\"<30} {glob:>10}\\')\\n\\nglob = 10 #  Глобальная  переменная \\nfunc() # Вызываем функцию \\n\\nprint(f\\'{\"Значение glob вне  функции:\":<30} {glob}\\') \\ntry: \\n    print(loc)  #  Вызовет исключение NameError \\nexcept NameError:  #  Обрабатываем исключение \\n    print(\"Переменная lос не видна вне функции\") ',\n",
       "  'def func():\\n    loc = 77 # Локальная  переменная \\n    glob = 25 # Локальная  переменная \\n#     print(f\\'{\"Значение glob внутри функции:\"<30} {glob:>10}\\')\\n\\nglob = 10 #  Глобальная  переменная \\nfunc() # Вызываем функцию \\n\\nprint(f\\'{\"Значение glob вне  функции:\":<30} {glob}\\') \\ntry: \\n    print(loc)  #  Вызовет исключение NameError \\nexcept NameError:  #  Обрабатываем исключение \\n    print(\"Переменная lос не видна вне функции\") ',\n",
       "  'def func():\\n    loc = 77 # Локальная  переменная \\n    glob = 25 # Локальная  переменная \\n    print(f\\'{\"Значение glob внутри функции:\"<30} {glob}\\')\\n\\nglob = 10 #  Глобальная  переменная \\nfunc() # Вызываем функцию \\n\\nprint(f\\'{\"Значение glob вне  функции:\":<30} {glob}\\') \\ntry: \\n    print(loc)  #  Вызовет исключение NameError \\nexcept NameError:  #  Обрабатываем исключение \\n    print(\"Переменная lос не видна вне функции\") ',\n",
       "  'print(f\\'{\"Значение glob внутри функции:\"<30} {glob}\\')',\n",
       "  'glob = 100\\nprint(f\\'{\"Значение glob внутри функции:\"<30} {glob}\\')',\n",
       "  'glob = 100\\nprint(f\\'{\"Значение glob внутри функции:\"} {glob}\\')',\n",
       "  'glob = 100\\nprint(f\\'{\"Значение glob внутри функции:\"} {glob}\\')\\nprint(f\\'{\"Значение glob вне функции:\":<30} {glob}\\') ',\n",
       "  'glob = 100\\nprint(f\\'{\"Значение glob внутри функции:\":<30} {glob}\\')\\nprint(f\\'{\"Значение glob вне функции:\":<30} {glob}\\') ',\n",
       "  'def func():\\n    loc = 77 # Локальная  переменная \\n    glob = 25 # Локальная  переменная \\n    print(f\\'{\"Значение glob внутри функции:\":<30} {glob}\\')\\n\\nglob = 10 #  Глобальная  переменная \\nfunc() # Вызываем функцию \\n\\nprint(f\\'{\"Значение glob вне функции:\":<30} {glob}\\') \\ntry: \\n    print(loc)  #  Вызовет исключение NameError \\nexcept NameError:  #  Обрабатываем исключение \\n    print(\"Переменная lос не видна вне функции\") ',\n",
       "  'def func_glob(glob2): \\n    print(\"----Вход в функцию func_glob----\")\\n    print(\"    Значение  глобальной nеременной glоb = \",  glob)     \\n    print(\"    Значение  ЛОКАЛЬНОЙ nеременной glоb2 = \",  glob2) \\n    glob2 += 10 \\n    print(\"    Значение  ЛОКАЛЬНОЙ переменной glob2 = \", glob2) \\n    print(\"----Выход из функции func_glob----\")    \\n\\nglob, glob2 = 5, 50 \\nprint(\"Значение глобальной nеременной glоb = \",  glob)     \\nprint(\"Значение глобальной nеременной glоb2 = \",  glob2) \\nfunc_glob(77)  #  Вызываем функцию \\nprint(\"Значение глобальной nеременной glоb = \",  glob)     \\nprint(\"Значение глобальной nеременной glоb2 = \",  glob2)',\n",
       "  'def func_glob(glob2): \\n    print(\"----Вход в функцию func_glob\")\\n    print(\"    Значение  глобальной nеременной glоb = \",  glob)     \\n    print(\"    Значение  ЛОКАЛЬНОЙ nеременной glоb2 = \",  glob2) \\n    glob2 += 10 \\n    print(\"    Значение  ЛОКАЛЬНОЙ переменной glob2 = \", glob2) \\n    print(\"----Выход из функции func_glob\")    \\n\\nglob, glob2 = 5, 50 \\nprint(\"Значение глобальной nеременной glоb = \",  glob)     \\nprint(\"Значение глобальной nеременной glоb2 = \",  glob2) \\nfunc_glob(77)  #  Вызываем функцию \\nprint(\"Значение глобальной nеременной glоb = \",  glob)     \\nprint(\"Значение глобальной nеременной glоb2 = \",  glob2)',\n",
       "  'def func_glob(glob2):\\n    glob += 777\\n    print(\"----Вход в функцию func_glob\")\\n    print(\"    Значение  глобальной nеременной glоb = \",  glob)     \\n    print(\"    Значение  ЛОКАЛЬНОЙ nеременной glоb2 = \",  glob2) \\n    glob2 += 10 \\n    print(\"    Значение  ЛОКАЛЬНОЙ переменной glob2 = \", glob2) \\n    print(\"----Выход из функции func_glob\")    \\n\\nglob, glob2 = 5, 50 \\nprint(\"Значение глобальной nеременной glоb = \",  glob)     \\nprint(\"Значение глобальной nеременной glоb2 = \",  glob2) \\nfunc_glob(77)  #  Вызываем функцию \\nprint(\"Значение глобальной nеременной glоb = \",  glob)     \\nprint(\"Значение глобальной nеременной glоb2 = \",  glob2)',\n",
       "  'def func_glob(glob2):\\n    print(\"----Вход в функцию func_glob\")\\n    print(\"    Значение  глобальной nеременной glоb = \",  glob)     \\n    print(\"    Значение  ЛОКАЛЬНОЙ nеременной glоb2 = \",  glob2) \\n    glob2 += 10 \\n    print(\"    Значение  ЛОКАЛЬНОЙ переменной glob2 = \", glob2) \\n    print(\"----Выход из функции func_glob\")    \\n\\nglob, glob2 = 5, 50 \\nprint(\"Значение глобальной nеременной glоb = \",  glob)     \\nprint(\"Значение глобальной nеременной glоb2 = \",  glob2) \\nfunc_glob(77)  #  Вызываем функцию \\nprint(\"Значение глобальной nеременной glоb = \",  glob)     \\nprint(\"Значение глобальной nеременной glоb2 = \",  glob2)',\n",
       "  'def func():\\n    loc = 77 # Локальная  переменная \\n    glob = 25 # Локальная  переменная \\n    print(f\\'{\"Значение glob внутри функции:\":<30} {glob}\\')\\n\\nglob = 10 #  Глобальная  переменная \\nfunc() # Вызываем функцию \\n\\nprint(f\\'{\"Значение glob вне функции:\":<30} {glob}\\') \\ntry: \\n    print(loc)  #  Вызовет исключение NameError \\nexcept NameError:  #  Обрабатываем исключение \\n    print(\"Переменная lос не видна вне функции\") ',\n",
       "  'def func2():\\n    glob +=1\\n\\nglob = 100\\nfunc2',\n",
       "  'def func2():\\n    glob +=1\\n\\nglob = 100\\nfunc2()',\n",
       "  'def func():\\n    global glob\\n    loc = 77 #  Локальная  переменная \\n    glob = 25 #  Локальная  переменная \\n    print(f\\'{\"Значение glob внутри функции:\":<30} {glob}\\')\\n\\nglob = 10 #  Глобальная  переменная \\nfunc() # Вызываем функцию \\nprint(f\\'{\"Значение glob вне функции:\":<30} {glob}\\')',\n",
       "  'globals()',\n",
       "  'locals()'],\n",
       " 'Out': {4: [1, 10], 39: <function __main__.func2()>, 42: {...}},\n",
       " 'get_ipython': <bound method InteractiveShell.get_ipython of <ipykernel.zmqshell.ZMQInteractiveShell object at 0x0000023B3C8A43D0>>,\n",
       " 'exit': <IPython.core.autocall.ZMQExitAutocall at 0x23b3c8b0350>,\n",
       " 'quit': <IPython.core.autocall.ZMQExitAutocall at 0x23b3c8b0350>,\n",
       " 'open': <function io.open(file, mode='r', buffering=-1, encoding=None, errors=None, newline=None, closefd=True, opener=None)>,\n",
       " '_': {...},\n",
       " '__': <function __main__.func2()>,\n",
       " '___': [1, 10],\n",
       " '_i': 'globals()',\n",
       " '_ii': 'def func():\\n    global glob\\n    loc = 77 #  Локальная  переменная \\n    glob = 25 #  Локальная  переменная \\n    print(f\\'{\"Значение glob внутри функции:\":<30} {glob}\\')\\n\\nglob = 10 #  Глобальная  переменная \\nfunc() # Вызываем функцию \\nprint(f\\'{\"Значение glob вне функции:\":<30} {glob}\\')',\n",
       " '_iii': 'def func2():\\n    glob +=1\\n\\nglob = 100\\nfunc2()',\n",
       " '_i1': \"def change(a, b): \\n    а = 20\\n    b = 'str'\",\n",
       " 'change': <function __main__.change(a, b)>,\n",
       " '_i2': \"v1 = 30\\nv2 = 'val'\\nchange(v1, v2)\\nprint(f'v1: {v1}')\\nprint(f'v2: {v2}')\",\n",
       " 'v1': 30,\n",
       " 'v2': 'val',\n",
       " '_i3': 'def change2(a):\\n    a.append(10)',\n",
       " 'change2': <function __main__.change2(a)>,\n",
       " '_i4': 's1 = [1] # Изменяемый объект может быть неявно изменен внутри функции\\n\\nchange2(s1)\\ns1',\n",
       " 's1': [1, 10],\n",
       " '_4': [1, 10],\n",
       " '_i5': 'def func_glob(glob2): \\n    print(\"----Вход в функцию func_glob\")\\n    print(\"    Значение  глобальной nеременной glоb = \",  glob)     \\n    print(\"    Значение  ЛОКАЛЬНОЙ nеременной glоb2 = \",  glob2) \\n    glob2 += 10 \\n    print(\"    Значение  ЛОКАЛЬНОЙ переменной glob2 = \", glob2) \\n    print(\"----Выход из функции func_glob\")    \\n\\nglob, glob2 = 5, 50 \\nprint(\"Значение глобальной nеременной glоb = \",  glob)     \\nprint(\"Значение глобальной nеременной glоb2 = \",  glob2) \\nfunc_glob(77)  #  Вызываем функцию \\nprint(\"Значение глобальной nеременной glоb = \",  glob)     \\nprint(\"Значение глобальной nеременной glоb2 = \",  glob2)',\n",
       " 'func_glob': <function __main__.func_glob(glob2)>,\n",
       " 'glob': 25,\n",
       " 'glob2': 50,\n",
       " '_i6': 'def func():\\n    loc = 77 # Локальная  переменная \\n    glob = 25 # Локальная  переменная \\n    print(f\\'Значение glob внутри функции: \\' {:10glob})\\n\\nglob = 10 #  Глобальная  переменная \\nfunc() # Вызываем функцию \\n\\nprint(\"Значение glob вне  функции: \", glob) \\ntry: \\n    print(loc)  #  Вызовет исключение NameError \\nexcept NameError:  #  Обрабатываем исключение \\n    print(\"Переменная lос не видна вне функции\") ',\n",
       " '_i7': 'def func():\\n    loc = 77 # Локальная  переменная \\n    glob = 25 # Локальная  переменная \\n    print(f\\'Значение glob внутри функции: \\' {glob:10})\\n\\nglob = 10 #  Глобальная  переменная \\nfunc() # Вызываем функцию \\n\\nprint(\"Значение glob вне  функции: \", glob) \\ntry: \\n    print(loc)  #  Вызовет исключение NameError \\nexcept NameError:  #  Обрабатываем исключение \\n    print(\"Переменная lос не видна вне функции\") ',\n",
       " '_i8': 'def func():\\n    loc = 77 # Локальная  переменная \\n    glob = 25 # Локальная  переменная \\n    print(f\\'Значение glob внутри функции: \\' {glob:>10})\\n\\nglob = 10 #  Глобальная  переменная \\nfunc() # Вызываем функцию \\n\\nprint(\"Значение glob вне  функции: \", glob) \\ntry: \\n    print(loc)  #  Вызовет исключение NameError \\nexcept NameError:  #  Обрабатываем исключение \\n    print(\"Переменная lос не видна вне функции\") ',\n",
       " '_i9': 'def func():\\n    loc = 77 # Локальная  переменная \\n    glob = 25 # Локальная  переменная \\n    print(f\\'Значение glob внутри функции:  {glob:>10}\\')\\n\\nglob = 10 #  Глобальная  переменная \\nfunc() # Вызываем функцию \\n\\nprint(\"Значение glob вне  функции: \", glob) \\ntry: \\n    print(loc)  #  Вызовет исключение NameError \\nexcept NameError:  #  Обрабатываем исключение \\n    print(\"Переменная lос не видна вне функции\") ',\n",
       " 'func': <function __main__.func()>,\n",
       " '_i10': 'def func():\\n    loc = 77 # Локальная  переменная \\n    glob = 25 # Локальная  переменная \\n    print(f\\'Значение glob внутри функции: {glob:>10}\\')\\n\\nglob = 10 #  Глобальная  переменная \\nfunc() # Вызываем функцию \\n\\nprint(\"Значение glob вне  функции: \", {glob:>10}) \\ntry: \\n    print(loc)  #  Вызовет исключение NameError \\nexcept NameError:  #  Обрабатываем исключение \\n    print(\"Переменная lос не видна вне функции\") ',\n",
       " '_i11': 'def func():\\n    loc = 77 # Локальная  переменная \\n    glob = 25 # Локальная  переменная \\n    print(f\\'Значение glob внутри функции: {glob:>10}\\')\\n\\nglob = 10 #  Глобальная  переменная \\nfunc() # Вызываем функцию \\n\\nprint(\"Значение glob вне  функции: {glob:>10}\\') \\ntry: \\n    print(loc)  #  Вызовет исключение NameError \\nexcept NameError:  #  Обрабатываем исключение \\n    print(\"Переменная lос не видна вне функции\") ',\n",
       " '_i12': 'def func():\\n    loc = 77 # Локальная  переменная \\n    glob = 25 # Локальная  переменная \\n    print(f\\'Значение glob внутри функции: {glob:>10}\\')\\n\\nglob = 10 #  Глобальная  переменная \\nfunc() # Вызываем функцию \\n\\nprint(f\\'Значение glob вне  функции: {glob:>10}\\') \\ntry: \\n    print(loc)  #  Вызовет исключение NameError \\nexcept NameError:  #  Обрабатываем исключение \\n    print(\"Переменная lос не видна вне функции\") ',\n",
       " '_i13': 'def func():\\n    loc = 77 # Локальная  переменная \\n    glob = 25 # Локальная  переменная \\n    print(f\\'Значение glob внутри функции: {glob:>10}\\')\\n\\nglob = 10 #  Глобальная  переменная \\nfunc() # Вызываем функцию \\n\\nprint(f\\'Значение glob вне  функции: {glob}:>10\\') \\ntry: \\n    print(loc)  #  Вызовет исключение NameError \\nexcept NameError:  #  Обрабатываем исключение \\n    print(\"Переменная lос не видна вне функции\") ',\n",
       " '_i14': 'def func():\\n    loc = 77 # Локальная  переменная \\n    glob = 25 # Локальная  переменная \\n    print(f\\'Значение glob внутри функции: {glob:>10}\\')\\n\\nglob = 10 #  Глобальная  переменная \\nfunc() # Вызываем функцию \\n\\nprint(f\\'{\"Значение glob вне  функции:\"} {glob}\\') \\ntry: \\n    print(loc)  #  Вызовет исключение NameError \\nexcept NameError:  #  Обрабатываем исключение \\n    print(\"Переменная lос не видна вне функции\") ',\n",
       " '_i15': 'def func():\\n    loc = 77 # Локальная  переменная \\n    glob = 25 # Локальная  переменная \\n    print(f\\'Значение glob внутри функции: {glob:>10}\\')\\n\\nglob = 10 #  Глобальная  переменная \\nfunc() # Вызываем функцию \\n\\nprint(f\\'{\"Значение glob вне  функции:\"<10} {glob}\\') \\ntry: \\n    print(loc)  #  Вызовет исключение NameError \\nexcept NameError:  #  Обрабатываем исключение \\n    print(\"Переменная lос не видна вне функции\") ',\n",
       " '_i16': 'def func():\\n    loc = 77 # Локальная  переменная \\n    glob = 25 # Локальная  переменная \\n    print(f\\'Значение glob внутри функции: {glob:>10}\\')\\n\\nglob = 10 #  Глобальная  переменная \\nfunc() # Вызываем функцию \\n\\nprint(f\\'{\"Значение glob вне  функции:\"} {glob}\\') \\ntry: \\n    print(loc)  #  Вызовет исключение NameError \\nexcept NameError:  #  Обрабатываем исключение \\n    print(\"Переменная lос не видна вне функции\") ',\n",
       " '_i17': 'def func():\\n    loc = 77 # Локальная  переменная \\n    glob = 25 # Локальная  переменная \\n    print(f\\'Значение glob внутри функции: {glob:>10}\\')\\n\\nglob = 10 #  Глобальная  переменная \\nfunc() # Вызываем функцию \\n\\nprint(f\\'{\"Значение glob вне  функции:>10\"} {glob}\\') \\ntry: \\n    print(loc)  #  Вызовет исключение NameError \\nexcept NameError:  #  Обрабатываем исключение \\n    print(\"Переменная lос не видна вне функции\") ',\n",
       " '_i18': 'def func():\\n    loc = 77 # Локальная  переменная \\n    glob = 25 # Локальная  переменная \\n    print(f\\'Значение glob внутри функции: {glob:>10}\\')\\n\\nglob = 10 #  Глобальная  переменная \\nfunc() # Вызываем функцию \\n\\nprint(f\\'{\"Значение glob вне  функции:\":10} {glob}\\') \\ntry: \\n    print(loc)  #  Вызовет исключение NameError \\nexcept NameError:  #  Обрабатываем исключение \\n    print(\"Переменная lос не видна вне функции\") ',\n",
       " '_i19': 'def func():\\n    loc = 77 # Локальная  переменная \\n    glob = 25 # Локальная  переменная \\n    print(f\\'Значение glob внутри функции: {glob:>10}\\')\\n\\nglob = 10 #  Глобальная  переменная \\nfunc() # Вызываем функцию \\n\\nprint(f\\'{\"Значение glob вне  функции:\":15} {glob}\\') \\ntry: \\n    print(loc)  #  Вызовет исключение NameError \\nexcept NameError:  #  Обрабатываем исключение \\n    print(\"Переменная lос не видна вне функции\") ',\n",
       " '_i20': 'def func():\\n    loc = 77 # Локальная  переменная \\n    glob = 25 # Локальная  переменная \\n    print(f\\'Значение glob внутри функции: {glob:>10}\\')\\n\\nglob = 10 #  Глобальная  переменная \\nfunc() # Вызываем функцию \\n\\nprint(f\\'{\"Значение glob вне  функции:\":45} {glob}\\') \\ntry: \\n    print(loc)  #  Вызовет исключение NameError \\nexcept NameError:  #  Обрабатываем исключение \\n    print(\"Переменная lос не видна вне функции\") ',\n",
       " '_i21': 'def func():\\n    loc = 77 # Локальная  переменная \\n    glob = 25 # Локальная  переменная \\n    print(f\\'Значение glob внутри функции: {glob:>10}\\')\\n\\nglob = 10 #  Глобальная  переменная \\nfunc() # Вызываем функцию \\n\\nprint(f\\'{\"Значение glob вне  функции:\":>45} {glob}\\') \\ntry: \\n    print(loc)  #  Вызовет исключение NameError \\nexcept NameError:  #  Обрабатываем исключение \\n    print(\"Переменная lос не видна вне функции\") ',\n",
       " '_i22': 'def func():\\n    loc = 77 # Локальная  переменная \\n    glob = 25 # Локальная  переменная \\n    print(f\\'Значение glob внутри функции: {glob:>10}\\')\\n\\nglob = 10 #  Глобальная  переменная \\nfunc() # Вызываем функцию \\n\\nprint(f\\'{\"Значение glob вне  функции:\":<45} {glob}\\') \\ntry: \\n    print(loc)  #  Вызовет исключение NameError \\nexcept NameError:  #  Обрабатываем исключение \\n    print(\"Переменная lос не видна вне функции\") ',\n",
       " '_i23': 'def func():\\n    loc = 77 # Локальная  переменная \\n    glob = 25 # Локальная  переменная \\n    print(f\\'Значение glob внутри функции: {glob:>10}\\')\\n\\nglob = 10 #  Глобальная  переменная \\nfunc() # Вызываем функцию \\n\\nprint(f\\'{\"Значение glob вне  функции:\":<20} {glob}\\') \\ntry: \\n    print(loc)  #  Вызовет исключение NameError \\nexcept NameError:  #  Обрабатываем исключение \\n    print(\"Переменная lос не видна вне функции\") ',\n",
       " '_i24': 'def func():\\n    loc = 77 # Локальная  переменная \\n    glob = 25 # Локальная  переменная \\n    print(f\\'Значение glob внутри функции: {glob:>10}\\')\\n\\nglob = 10 #  Глобальная  переменная \\nfunc() # Вызываем функцию \\n\\nprint(f\\'{\"Значение glob вне  функции:\":<30} {glob}\\') \\ntry: \\n    print(loc)  #  Вызовет исключение NameError \\nexcept NameError:  #  Обрабатываем исключение \\n    print(\"Переменная lос не видна вне функции\") ',\n",
       " '_i25': 'def func():\\n    loc = 77 # Локальная  переменная \\n    glob = 25 # Локальная  переменная \\n    print(f\\'{\"Значение glob внутри функции:\"<30} {glob:>10}\\')\\n\\nglob = 10 #  Глобальная  переменная \\nfunc() # Вызываем функцию \\n\\nprint(f\\'{\"Значение glob вне  функции:\":<30} {glob}\\') \\ntry: \\n    print(loc)  #  Вызовет исключение NameError \\nexcept NameError:  #  Обрабатываем исключение \\n    print(\"Переменная lос не видна вне функции\") ',\n",
       " '_i26': 'def func():\\n    loc = 77 # Локальная  переменная \\n    glob = 25 # Локальная  переменная \\n#     print(f\\'{\"Значение glob внутри функции:\"<30} {glob:>10}\\')\\n\\nglob = 10 #  Глобальная  переменная \\nfunc() # Вызываем функцию \\n\\nprint(f\\'{\"Значение glob вне  функции:\":<30} {glob}\\') \\ntry: \\n    print(loc)  #  Вызовет исключение NameError \\nexcept NameError:  #  Обрабатываем исключение \\n    print(\"Переменная lос не видна вне функции\") ',\n",
       " '_i27': 'def func():\\n    loc = 77 # Локальная  переменная \\n    glob = 25 # Локальная  переменная \\n    print(f\\'{\"Значение glob внутри функции:\"<30} {glob}\\')\\n\\nglob = 10 #  Глобальная  переменная \\nfunc() # Вызываем функцию \\n\\nprint(f\\'{\"Значение glob вне  функции:\":<30} {glob}\\') \\ntry: \\n    print(loc)  #  Вызовет исключение NameError \\nexcept NameError:  #  Обрабатываем исключение \\n    print(\"Переменная lос не видна вне функции\") ',\n",
       " '_i28': 'print(f\\'{\"Значение glob внутри функции:\"<30} {glob}\\')',\n",
       " '_i29': 'glob = 100\\nprint(f\\'{\"Значение glob внутри функции:\"<30} {glob}\\')',\n",
       " '_i30': 'glob = 100\\nprint(f\\'{\"Значение glob внутри функции:\"} {glob}\\')',\n",
       " '_i31': 'glob = 100\\nprint(f\\'{\"Значение glob внутри функции:\"} {glob}\\')\\nprint(f\\'{\"Значение glob вне функции:\":<30} {glob}\\') ',\n",
       " '_i32': 'glob = 100\\nprint(f\\'{\"Значение glob внутри функции:\":<30} {glob}\\')\\nprint(f\\'{\"Значение glob вне функции:\":<30} {glob}\\') ',\n",
       " '_i33': 'def func():\\n    loc = 77 # Локальная  переменная \\n    glob = 25 # Локальная  переменная \\n    print(f\\'{\"Значение glob внутри функции:\":<30} {glob}\\')\\n\\nglob = 10 #  Глобальная  переменная \\nfunc() # Вызываем функцию \\n\\nprint(f\\'{\"Значение glob вне функции:\":<30} {glob}\\') \\ntry: \\n    print(loc)  #  Вызовет исключение NameError \\nexcept NameError:  #  Обрабатываем исключение \\n    print(\"Переменная lос не видна вне функции\") ',\n",
       " '_i34': 'def func_glob(glob2): \\n    print(\"----Вход в функцию func_glob----\")\\n    print(\"    Значение  глобальной nеременной glоb = \",  glob)     \\n    print(\"    Значение  ЛОКАЛЬНОЙ nеременной glоb2 = \",  glob2) \\n    glob2 += 10 \\n    print(\"    Значение  ЛОКАЛЬНОЙ переменной glob2 = \", glob2) \\n    print(\"----Выход из функции func_glob----\")    \\n\\nglob, glob2 = 5, 50 \\nprint(\"Значение глобальной nеременной glоb = \",  glob)     \\nprint(\"Значение глобальной nеременной glоb2 = \",  glob2) \\nfunc_glob(77)  #  Вызываем функцию \\nprint(\"Значение глобальной nеременной glоb = \",  glob)     \\nprint(\"Значение глобальной nеременной glоb2 = \",  glob2)',\n",
       " '_i35': 'def func_glob(glob2): \\n    print(\"----Вход в функцию func_glob\")\\n    print(\"    Значение  глобальной nеременной glоb = \",  glob)     \\n    print(\"    Значение  ЛОКАЛЬНОЙ nеременной glоb2 = \",  glob2) \\n    glob2 += 10 \\n    print(\"    Значение  ЛОКАЛЬНОЙ переменной glob2 = \", glob2) \\n    print(\"----Выход из функции func_glob\")    \\n\\nglob, glob2 = 5, 50 \\nprint(\"Значение глобальной nеременной glоb = \",  glob)     \\nprint(\"Значение глобальной nеременной glоb2 = \",  glob2) \\nfunc_glob(77)  #  Вызываем функцию \\nprint(\"Значение глобальной nеременной glоb = \",  glob)     \\nprint(\"Значение глобальной nеременной glоb2 = \",  glob2)',\n",
       " '_i36': 'def func_glob(glob2):\\n    glob += 777\\n    print(\"----Вход в функцию func_glob\")\\n    print(\"    Значение  глобальной nеременной glоb = \",  glob)     \\n    print(\"    Значение  ЛОКАЛЬНОЙ nеременной glоb2 = \",  glob2) \\n    glob2 += 10 \\n    print(\"    Значение  ЛОКАЛЬНОЙ переменной glob2 = \", glob2) \\n    print(\"----Выход из функции func_glob\")    \\n\\nglob, glob2 = 5, 50 \\nprint(\"Значение глобальной nеременной glоb = \",  glob)     \\nprint(\"Значение глобальной nеременной glоb2 = \",  glob2) \\nfunc_glob(77)  #  Вызываем функцию \\nprint(\"Значение глобальной nеременной glоb = \",  glob)     \\nprint(\"Значение глобальной nеременной glоb2 = \",  glob2)',\n",
       " '_i37': 'def func_glob(glob2):\\n    print(\"----Вход в функцию func_glob\")\\n    print(\"    Значение  глобальной nеременной glоb = \",  glob)     \\n    print(\"    Значение  ЛОКАЛЬНОЙ nеременной glоb2 = \",  glob2) \\n    glob2 += 10 \\n    print(\"    Значение  ЛОКАЛЬНОЙ переменной glob2 = \", glob2) \\n    print(\"----Выход из функции func_glob\")    \\n\\nglob, glob2 = 5, 50 \\nprint(\"Значение глобальной nеременной glоb = \",  glob)     \\nprint(\"Значение глобальной nеременной glоb2 = \",  glob2) \\nfunc_glob(77)  #  Вызываем функцию \\nprint(\"Значение глобальной nеременной glоb = \",  glob)     \\nprint(\"Значение глобальной nеременной glоb2 = \",  glob2)',\n",
       " '_i38': 'def func():\\n    loc = 77 # Локальная  переменная \\n    glob = 25 # Локальная  переменная \\n    print(f\\'{\"Значение glob внутри функции:\":<30} {glob}\\')\\n\\nglob = 10 #  Глобальная  переменная \\nfunc() # Вызываем функцию \\n\\nprint(f\\'{\"Значение glob вне функции:\":<30} {glob}\\') \\ntry: \\n    print(loc)  #  Вызовет исключение NameError \\nexcept NameError:  #  Обрабатываем исключение \\n    print(\"Переменная lос не видна вне функции\") ',\n",
       " '_i39': 'def func2():\\n    glob +=1\\n\\nglob = 100\\nfunc2',\n",
       " 'func2': <function __main__.func2()>,\n",
       " '_39': <function __main__.func2()>,\n",
       " '_i40': 'def func2():\\n    glob +=1\\n\\nglob = 100\\nfunc2()',\n",
       " '_i41': 'def func():\\n    global glob\\n    loc = 77 #  Локальная  переменная \\n    glob = 25 #  Локальная  переменная \\n    print(f\\'{\"Значение glob внутри функции:\":<30} {glob}\\')\\n\\nglob = 10 #  Глобальная  переменная \\nfunc() # Вызываем функцию \\nprint(f\\'{\"Значение glob вне функции:\":<30} {glob}\\')',\n",
       " '_i42': 'globals()',\n",
       " '_42': {...},\n",
       " '_i43': 'locals()'}"
      ]
     },
     "execution_count": 43,
     "metadata": {},
     "output_type": "execute_result"
    }
   ],
   "source": [
    "locals()"
   ]
  },
  {
   "cell_type": "code",
   "execution_count": 44,
   "metadata": {},
   "outputs": [],
   "source": [
    "def func(): \n",
    "    loc = 54 \n",
    "    glob2 = 25 \n",
    "    print(\"Локальные идентификаторы внутри  функции\", sorted(vars().keys())) "
   ]
  },
  {
   "cell_type": "code",
   "execution_count": 45,
   "metadata": {},
   "outputs": [
    {
     "name": "stdout",
     "output_type": "stream",
     "text": [
      "Локальные идентификаторы внутри  функции ['glob2', 'loc']\n"
     ]
    }
   ],
   "source": [
    "func()"
   ]
  },
  {
   "cell_type": "markdown",
   "metadata": {},
   "source": [
    "## Вложенные функции"
   ]
  },
  {
   "cell_type": "markdown",
   "metadata": {},
   "source": [
    "Одну функцию можно вложить в другую функцию, причем уровень вложенности неограничен. В этом случае вложенная функция получает свою собственную локальную область видимости и  имеет доступ к идентификаторам функции-родителя. "
   ]
  },
  {
   "cell_type": "code",
   "execution_count": 46,
   "metadata": {},
   "outputs": [],
   "source": [
    "def f1(x): \n",
    "    def f2(): \n",
    "        print(x) \n",
    "    return f2 "
   ]
  },
  {
   "cell_type": "code",
   "execution_count": 47,
   "metadata": {},
   "outputs": [
    {
     "name": "stdout",
     "output_type": "stream",
     "text": [
      "12\n"
     ]
    }
   ],
   "source": [
    "fa = f1(12)\n",
    "fa()"
   ]
  },
  {
   "cell_type": "code",
   "execution_count": 48,
   "metadata": {},
   "outputs": [
    {
     "name": "stdout",
     "output_type": "stream",
     "text": [
      "22\n"
     ]
    }
   ],
   "source": [
    "fb = f1(22)\n",
    "fb()"
   ]
  },
  {
   "cell_type": "markdown",
   "metadata": {},
   "source": [
    "# >"
   ]
  },
  {
   "cell_type": "markdown",
   "metadata": {},
   "source": [
    "-------"
   ]
  }
 ],
 "metadata": {
  "anaconda-cloud": {},
  "kernelspec": {
   "display_name": "Python 3 (ipykernel)",
   "language": "python",
   "name": "python3"
  },
  "language_info": {
   "codemirror_mode": {
    "name": "ipython",
    "version": 3
   },
   "file_extension": ".py",
   "mimetype": "text/x-python",
   "name": "python",
   "nbconvert_exporter": "python",
   "pygments_lexer": "ipython3",
   "version": "3.12.4"
  }
 },
 "nbformat": 4,
 "nbformat_minor": 4
}
