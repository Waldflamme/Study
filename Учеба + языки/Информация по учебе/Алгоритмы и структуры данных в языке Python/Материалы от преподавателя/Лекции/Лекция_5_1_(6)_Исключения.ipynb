{
 "cells": [
  {
   "cell_type": "markdown",
   "metadata": {},
   "source": [
    "<img src=\"../Img/ФинУ.jpg\">\n",
    "\n",
    "# Алгоритмы и структуры данных в языке Python\n",
    "\n",
    "# Лекция 6. Обработка исключений\n",
    "\n",
    "Лектор: Смирнов Михаил Викторович, доцент кафедры информационных технологий Финансового университета при Правительстве Российской Федерации"
   ]
  },
  {
   "cell_type": "markdown",
   "metadata": {},
   "source": [
    "## Разделы: <a class=\"anchor\" id=\"разделы\"></a>\n",
    "\n",
    "* [Виды ошибок](#виды_ошибок)\n",
    "* [Чтение сообщений об ошибках](#чтение_сообщений_об_ошибках)\n",
    "* [Стек вызова](#стек_вызова)\n",
    "* [Что такое исключение](#что_такое_исключение)\n",
    "* [Инструкция try ... except ... else ... finally](#инструкция-try)\n",
    "* [Классы встроенных исключений](#встроенных-исключений)\n",
    "* [Пользовательские исключения](#пользовательские-исключения)\n",
    "* [Инструкция assert](#инструкция-assert)\n",
    "\n",
    "-\n",
    "* [к оглавлению](#разделы)"
   ]
  },
  {
   "cell_type": "markdown",
   "metadata": {},
   "source": [
    "<a class=\"anchor\" id=\"виды_ошибок\"></a>\n",
    "\n",
    "## Виды ошибок\n",
    "\n",
    "* [к оглавлению](#разделы)\n",
    "\n",
    "Основные виды ошибок в программировании:\n",
    "- синтаксические\n",
    "- логические\n",
    "- исключения\n",
    "\n",
    "\n",
    "**Синтаксические ошибки**. Возникают, когда код нарушает правила языка программирования, такие как пропуск точки с запятой, незакрытые скобки или неправильный отступ кода.\n",
    "\n",
    "**Логические ошибки**. Возникают, когда в коде реализована некорректная логика и код выдает неожиданный результат.\n",
    "\n",
    "**Исключения**. Это ошибки, вызванные неожиданным условием, возникшим при выполнении кода. Это могут быть ссылки на несуществующие объекты, неверное число обязательных параметров функции, ошибки выхода за пределы массива и т. д.\n",
    "\n",
    "Рассмотрим основные приемы и подходы исправления и обработки ошибок в программировании на Python."
   ]
  },
  {
   "cell_type": "markdown",
   "metadata": {},
   "source": [
    "<a class=\"anchor\" id=\"чтение_сообщений_об_ошибках\"></a>\n",
    "\n",
    "## Чтение сообщений об ошибках\n",
    "\n",
    "* [к оглавлению](#разделы)\n",
    "\n",
    "Программа – набор инструкций, которые мы отправляем интерпретатору. Когда интерпретатор не понимает наших инструкций, он сообщает об этом. В сообщениях об ошибках в Python содержится много полезной информации, и правильно их читать – полезный навык.\n",
    "\n",
    "<i><u>Пример<u><i>"
   ]
  },
  {
   "cell_type": "code",
   "execution_count": 5,
   "metadata": {},
   "outputs": [
    {
     "ename": "SyntaxError",
     "evalue": "unterminated string literal (detected at line 1) (1040585027.py, line 1)",
     "output_type": "error",
     "traceback": [
      "\u001b[1;36m  Cell \u001b[1;32mIn[5], line 1\u001b[1;36m\u001b[0m\n\u001b[1;33m    print(\"hello')\u001b[0m\n\u001b[1;37m          ^\u001b[0m\n\u001b[1;31mSyntaxError\u001b[0m\u001b[1;31m:\u001b[0m unterminated string literal (detected at line 1)\n"
     ]
    }
   ],
   "source": [
    "print(\"hello')"
   ]
  },
  {
   "cell_type": "markdown",
   "metadata": {},
   "source": [
    "Мы допустили синтаксическую ошибку и получили сообщение:\n",
    "```python\n",
    "SyntaxError: unterminated string literal (detected at line 1)\n",
    "```"
   ]
  },
  {
   "cell_type": "markdown",
   "metadata": {},
   "source": [
    "На что стоит обратить внимание:\n",
    "\n",
    "- Сообщение начинается с названия файла, где допущена ошибка. В примере это ячейка из Jupyter, поэтому название является техническим.\n",
    "- После названия файла идёт номер строки с ошибкой, в данном случае – первая строка (line 1).\n",
    "- Дальше выводится строка из кода, так что вы сразу можете оценить, что пошло не так. Маленькая стрелка указывает на место в строке, где возникла проблема.\n",
    "- В конце указывается, что это была синтаксическая ошибка (SyntaxError), и идёт пояснение. У разных ошибок пояснение разное, оно обычно позволяет понять, как исправить ошибку."
   ]
  },
  {
   "cell_type": "markdown",
   "metadata": {},
   "source": [
    "### Исключения\n",
    "\n",
    "**Синтаксические ошибки** исправлять проще всего: это небольшие опечатки, и даже если мы их допустили, часто они находятся в одной строчке, на которую нам указывает интерпретатор. Более интересный класс ошибок – исключения, неудачные сочетания логики и данных.\n",
    "\n",
    "<u><i>Пример</i></u>. Как мы уже узнали на первой лекции, Python – это язык с сильной типизацией, поэтому смешение типов данных в операциях приводит к выбросу исключений."
   ]
  },
  {
   "cell_type": "code",
   "execution_count": 1,
   "metadata": {},
   "outputs": [
    {
     "ename": "TypeError",
     "evalue": "unsupported operand type(s) for +: 'int' and 'str'",
     "output_type": "error",
     "traceback": [
      "\u001b[1;31m---------------------------------------------------------------------------\u001b[0m",
      "\u001b[1;31mTypeError\u001b[0m                                 Traceback (most recent call last)",
      "Cell \u001b[1;32mIn[1], line 1\u001b[0m\n\u001b[1;32m----> 1\u001b[0m \u001b[38;5;241m10\u001b[39m \u001b[38;5;241m+\u001b[39m \u001b[38;5;124m'\u001b[39m\u001b[38;5;124m5\u001b[39m\u001b[38;5;124m'\u001b[39m\n",
      "\u001b[1;31mTypeError\u001b[0m: unsupported operand type(s) for +: 'int' and 'str'"
     ]
    }
   ],
   "source": [
    "10 + '5'"
   ]
  },
  {
   "cell_type": "markdown",
   "metadata": {},
   "source": [
    "Мы попытались суммировать данные, для которых операция сложения не определена, и получили выброс исключения *TypeError*. Из сообщения интерпретатора Python мы узнали:\n",
    "\n",
    "- название исключения *TypeError*;\n",
    "- файл, номер строки и сама проблемная строка;\n",
    "- название исключения повторяется и добавляется поясняющее сообщение `unsupported operand type(s) ...`\n",
    "\n",
    "Если ошибка будет в другом, название исключения и поясняющее сообщение изменится."
   ]
  },
  {
   "cell_type": "code",
   "execution_count": 7,
   "metadata": {},
   "outputs": [
    {
     "ename": "IndexError",
     "evalue": "list index out of range",
     "output_type": "error",
     "traceback": [
      "\u001b[1;31m---------------------------------------------------------------------------\u001b[0m",
      "\u001b[1;31mIndexError\u001b[0m                                Traceback (most recent call last)",
      "Cell \u001b[1;32mIn[7], line 2\u001b[0m\n\u001b[0;32m      1\u001b[0m data \u001b[38;5;241m=\u001b[39m [\u001b[38;5;124m'\u001b[39m\u001b[38;5;124ma\u001b[39m\u001b[38;5;124m'\u001b[39m, \u001b[38;5;124m'\u001b[39m\u001b[38;5;124mb\u001b[39m\u001b[38;5;124m'\u001b[39m, \u001b[38;5;124m'\u001b[39m\u001b[38;5;124mc\u001b[39m\u001b[38;5;124m'\u001b[39m]\n\u001b[1;32m----> 2\u001b[0m data[\u001b[38;5;241m3\u001b[39m]\n",
      "\u001b[1;31mIndexError\u001b[0m: list index out of range"
     ]
    }
   ],
   "source": [
    "data = ['a', 'b', 'c']\n",
    "data[3]"
   ]
  },
  {
   "cell_type": "markdown",
   "metadata": {},
   "source": [
    "Здесь мы получили исключение *IndexError*, так как в списке *data* нет элемента с индексом $3$."
   ]
  },
  {
   "cell_type": "markdown",
   "metadata": {},
   "source": [
    "<a class=\"anchor\" id=\"стек_вызова\"></a>\n",
    "\n",
    "## Стек вызова \n",
    "\n",
    "* [к оглавлению](#разделы)\n",
    "\n",
    "Мы говорили, что в сообщении об ошибке указывается файл и номер строки, где она случилась. На самом деле указывается *стэк вызова (Traceback)*. Это весь путь, который проходит интерпретатор до того, как встретил ошибку.\n",
    "\n",
    "<i><u>Пример</u></i>. Программа генерирует номера домов на улице, добавляя номер дома к названию улицы.\n",
    "\n",
    "```python\n",
    "# адрес одного дома\n",
    "def house_address(street, number):\n",
    "    return street + ' ' + number\n",
    "  \n",
    "# адреса домов на улице\n",
    "def street(street_name, last_house):\n",
    "    addresses = []\n",
    "    for i in range(last_house):\n",
    "        addresses.append(house_address(street_name, i+1))\n",
    "        \n",
    "    return addresses\n",
    "street(\"4-й Вешняковский проезд\", 4)\n",
    "\n",
    "=>\n",
    "TypeError                                 Traceback (most recent call last)\n",
    "<ipython-input-3-c08909840697> in <module>\n",
    "     10 \n",
    "     11     return addresses\n",
    "---> 12 street(\"4-й Вешняковский проезд\", 4)\n",
    "\n",
    "<ipython-input-3-c08909840697> in street(street_name, last_house)\n",
    "      7     addresses = []\n",
    "      8     for i in range(last_house):\n",
    "----> 9         addresses.append(house_address(street_name, i+1))\n",
    "     10 \n",
    "     11     return addresses\n",
    "\n",
    "<ipython-input-3-c08909840697> in house_address(street, number)\n",
    "      1 # адрес одного дома\n",
    "      2 def house_address(street, number):\n",
    "----> 3     return street + ' ' + number\n",
    "      4 \n",
    "      5 # адреса домов на улице\n",
    "\n",
    "TypeError: can only concatenate str (not \"int\") to str\n",
    "\n",
    "```"
   ]
  },
  {
   "cell_type": "code",
   "execution_count": 3,
   "metadata": {
    "scrolled": true
   },
   "outputs": [
    {
     "ename": "TypeError",
     "evalue": "can only concatenate str (not \"int\") to str",
     "output_type": "error",
     "traceback": [
      "\u001b[1;31m---------------------------------------------------------------------------\u001b[0m",
      "\u001b[1;31mTypeError\u001b[0m                                 Traceback (most recent call last)",
      "Cell \u001b[1;32mIn[3], line 12\u001b[0m\n\u001b[0;32m      9\u001b[0m         addresses\u001b[38;5;241m.\u001b[39mappend(house_address(street_name, i\u001b[38;5;241m+\u001b[39m\u001b[38;5;241m1\u001b[39m))\n\u001b[0;32m     11\u001b[0m     \u001b[38;5;28;01mreturn\u001b[39;00m addresses\n\u001b[1;32m---> 12\u001b[0m street(\u001b[38;5;124m\"\u001b[39m\u001b[38;5;124m4-й Вешняковский проезд\u001b[39m\u001b[38;5;124m\"\u001b[39m, \u001b[38;5;241m4\u001b[39m)\n",
      "Cell \u001b[1;32mIn[3], line 9\u001b[0m, in \u001b[0;36mstreet\u001b[1;34m(street_name, last_house)\u001b[0m\n\u001b[0;32m      7\u001b[0m addresses \u001b[38;5;241m=\u001b[39m []\n\u001b[0;32m      8\u001b[0m \u001b[38;5;28;01mfor\u001b[39;00m i \u001b[38;5;129;01min\u001b[39;00m \u001b[38;5;28mrange\u001b[39m(last_house):\n\u001b[1;32m----> 9\u001b[0m     addresses\u001b[38;5;241m.\u001b[39mappend(house_address(street_name, i\u001b[38;5;241m+\u001b[39m\u001b[38;5;241m1\u001b[39m))\n\u001b[0;32m     11\u001b[0m \u001b[38;5;28;01mreturn\u001b[39;00m addresses\n",
      "Cell \u001b[1;32mIn[3], line 3\u001b[0m, in \u001b[0;36mhouse_address\u001b[1;34m(street, number)\u001b[0m\n\u001b[0;32m      2\u001b[0m \u001b[38;5;28;01mdef\u001b[39;00m \u001b[38;5;21mhouse_address\u001b[39m(street, number):\n\u001b[1;32m----> 3\u001b[0m     \u001b[38;5;28;01mreturn\u001b[39;00m street \u001b[38;5;241m+\u001b[39m \u001b[38;5;124m'\u001b[39m\u001b[38;5;124m \u001b[39m\u001b[38;5;124m'\u001b[39m \u001b[38;5;241m+\u001b[39m number\n",
      "\u001b[1;31mTypeError\u001b[0m: can only concatenate str (not \"int\") to str"
     ]
    }
   ],
   "source": [
    "# адрес одного дома\n",
    "def house_address(street, number):\n",
    "    return street + ' ' + number\n",
    "  \n",
    "# адреса домов на улице\n",
    "def street(street_name, last_house):\n",
    "    addresses = []\n",
    "    for i in range(last_house):\n",
    "        addresses.append(house_address(street_name, i+1))\n",
    "        \n",
    "    return addresses\n",
    "street(\"4-й Вешняковский проезд\", 4)"
   ]
  },
  {
   "cell_type": "markdown",
   "metadata": {},
   "source": [
    "Мы сначала вызвали функцию *street*, которая воспользовалась *house_address*, где уже закралась ошибка. Сообщение большое и может казаться неподъёмным, но это просто список всех наших функций с их местоположением и кодом, приведённый в том порядке, как мы их вызывали:\n",
    "\n",
    "- вызов функции *street* в 12-й строке;\n",
    "- вызов функции *house_address* внутри *street* в 9-й строке;\n",
    "- ошибка в 3-й строке;\n",
    "- интерпретатор получил число там, где ожидал строку.\n",
    "\n",
    "Мы пытаемся сложить строку *street* с числом *number*. Достаточно поменять `street + ' ' + number` на форматированную строку `f\"{street} {number}\"`, чтобы программа корректно заработала."
   ]
  },
  {
   "cell_type": "code",
   "execution_count": 5,
   "metadata": {
    "scrolled": true
   },
   "outputs": [
    {
     "data": {
      "text/plain": [
       "['4-й Вешняковский проезд 1',\n",
       " '4-й Вешняковский проезд 2',\n",
       " '4-й Вешняковский проезд 3',\n",
       " '4-й Вешняковский проезд 4']"
      ]
     },
     "execution_count": 5,
     "metadata": {},
     "output_type": "execute_result"
    }
   ],
   "source": [
    "# адрес одного дома\n",
    "def house_address(street, number):\n",
    "    return f\"{street} {number}\"\n",
    "  \n",
    "# адреса домов на улице\n",
    "def street(street_name, last_house):\n",
    "    addresses = []\n",
    "    for i in range(last_house):\n",
    "        addresses.append(house_address(street_name, i+1))\n",
    "        \n",
    "    return addresses\n",
    "\n",
    "street(\"4-й Вешняковский проезд\", 4)"
   ]
  },
  {
   "cell_type": "markdown",
   "metadata": {},
   "source": [
    "<a class=\"anchor\" id=\"что_такое_исключение\"></a>\n",
    "\n",
    "## Что такое исключение\n",
    "\n",
    "* [к оглавлению](#разделы)\n",
    "\n",
    "Исключения – это ещё один тип данных, как строки или числа."
   ]
  },
  {
   "cell_type": "code",
   "execution_count": 14,
   "metadata": {},
   "outputs": [
    {
     "name": "stdout",
     "output_type": "stream",
     "text": [
      "<class 'str'>\n",
      "<class 'int'>\n",
      "<class 'ValueError'>\n"
     ]
    }
   ],
   "source": [
    "print(type(\"Финансовый университет\"))\n",
    "# => <class 'str'>  \n",
    "print(type(42))\n",
    "# => <class 'int'>\n",
    "print(type(ValueError()))\n",
    "# => <class 'ValueError'>"
   ]
  },
  {
   "cell_type": "markdown",
   "metadata": {},
   "source": [
    "Когда программа встречает некорректные ситуации, она выбрасывает исключения. Для базовых случаев это делает сам интерпретатор, но могут делать и авторы программ. Для этого есть специальный синтаксис *raise Exception()*"
   ]
  },
  {
   "cell_type": "code",
   "execution_count": 13,
   "metadata": {},
   "outputs": [
    {
     "data": {
      "text/plain": [
       "Exception"
      ]
     },
     "execution_count": 13,
     "metadata": {},
     "output_type": "execute_result"
    }
   ],
   "source": [
    "type(Exception())"
   ]
  },
  {
   "cell_type": "code",
   "execution_count": 15,
   "metadata": {
    "scrolled": true
   },
   "outputs": [
    {
     "ename": "Exception",
     "evalue": "Числа меньше нуля не допускаются",
     "output_type": "error",
     "traceback": [
      "\u001b[1;31m---------------------------------------------------------------------------\u001b[0m",
      "\u001b[1;31mException\u001b[0m                                 Traceback (most recent call last)",
      "Cell \u001b[1;32mIn[15], line 4\u001b[0m\n\u001b[0;32m      1\u001b[0m x \u001b[38;5;241m=\u001b[39m \u001b[38;5;241m-\u001b[39m\u001b[38;5;241m1\u001b[39m\n\u001b[0;32m      3\u001b[0m \u001b[38;5;28;01mif\u001b[39;00m x \u001b[38;5;241m<\u001b[39m \u001b[38;5;241m0\u001b[39m:\n\u001b[1;32m----> 4\u001b[0m     \u001b[38;5;28;01mraise\u001b[39;00m \u001b[38;5;167;01mException\u001b[39;00m(\u001b[38;5;124m\"\u001b[39m\u001b[38;5;124mЧисла меньше нуля не допускаются\u001b[39m\u001b[38;5;124m\"\u001b[39m)\n",
      "\u001b[1;31mException\u001b[0m: Числа меньше нуля не допускаются"
     ]
    }
   ],
   "source": [
    "x = -1\n",
    "\n",
    "if x < 0:\n",
    "    raise Exception(\"Числа меньше нуля не допускаются\")"
   ]
  },
  {
   "cell_type": "markdown",
   "metadata": {},
   "source": [
    "Зачем специально генерировать ошибку в собственном коде? Для того, чтобы писать более предсказуемый код, во многих ситуациях выбросить ошибку лучше, чем работать с некорректными данными. Выбрасывание исключений является повсеместной практикой в Python и других языках программирования.\n",
    "\n",
    "Давайте посмотрим на примере: у вас есть функция, которая сортирует объекты и делает разные действия. Пусть она сортирует фрукты на яблоки и апельсины."
   ]
  },
  {
   "cell_type": "code",
   "execution_count": 16,
   "metadata": {},
   "outputs": [
    {
     "name": "stdout",
     "output_type": "stream",
     "text": [
      "Можно есть\n"
     ]
    }
   ],
   "source": [
    "def show_fruit(fruit):\n",
    "    if fruit == \"apple\":\n",
    "        print(\"Можно есть\")\n",
    "    elif fruit == \"orange\":\n",
    "        print(\"Сначала очистить\")\n",
    "\n",
    "show_fruit(\"apple\")"
   ]
  },
  {
   "cell_type": "markdown",
   "metadata": {},
   "source": [
    "Что произойдёт, если мы вызовем эту функцию для моркови? Ни синтаксической ошибки, ни исключения не будет, то есть мы некорректно использовали функцию, и она нам позволила это сделать."
   ]
  },
  {
   "cell_type": "code",
   "execution_count": 17,
   "metadata": {},
   "outputs": [],
   "source": [
    "show_fruit(\"carrot\")"
   ]
  },
  {
   "cell_type": "markdown",
   "metadata": {},
   "source": [
    "Более корректно было бы выбросить ошибку."
   ]
  },
  {
   "cell_type": "code",
   "execution_count": 6,
   "metadata": {},
   "outputs": [
    {
     "name": "stdout",
     "output_type": "stream",
     "text": [
      "Можно есть\n",
      "Сначала очистить\n"
     ]
    },
    {
     "ename": "ValueError",
     "evalue": "",
     "output_type": "error",
     "traceback": [
      "\u001b[1;31m---------------------------------------------------------------------------\u001b[0m",
      "\u001b[1;31mValueError\u001b[0m                                Traceback (most recent call last)",
      "Cell \u001b[1;32mIn[6], line 11\u001b[0m\n\u001b[0;32m      9\u001b[0m show_fruit(\u001b[38;5;124m\"\u001b[39m\u001b[38;5;124mapple\u001b[39m\u001b[38;5;124m\"\u001b[39m)\n\u001b[0;32m     10\u001b[0m show_fruit(\u001b[38;5;124m\"\u001b[39m\u001b[38;5;124morange\u001b[39m\u001b[38;5;124m\"\u001b[39m)\n\u001b[1;32m---> 11\u001b[0m show_fruit(\u001b[38;5;124m\"\u001b[39m\u001b[38;5;124mcarrot\u001b[39m\u001b[38;5;124m\"\u001b[39m)\n",
      "Cell \u001b[1;32mIn[6], line 7\u001b[0m, in \u001b[0;36mshow_fruit\u001b[1;34m(fruit)\u001b[0m\n\u001b[0;32m      5\u001b[0m     \u001b[38;5;28mprint\u001b[39m(\u001b[38;5;124m\"\u001b[39m\u001b[38;5;124mСначала очистить\u001b[39m\u001b[38;5;124m\"\u001b[39m)\n\u001b[0;32m      6\u001b[0m \u001b[38;5;28;01melse\u001b[39;00m:\n\u001b[1;32m----> 7\u001b[0m     \u001b[38;5;28;01mraise\u001b[39;00m \u001b[38;5;167;01mValueError\u001b[39;00m\n",
      "\u001b[1;31mValueError\u001b[0m: "
     ]
    }
   ],
   "source": [
    "def show_fruit(fruit):\n",
    "    if fruit == \"apple\":\n",
    "        print(\"Можно есть\")\n",
    "    elif fruit == \"orange\":\n",
    "        print(\"Сначала очистить\")\n",
    "    else:\n",
    "        raise ValueError\n",
    "\n",
    "show_fruit(\"apple\")\n",
    "show_fruit(\"orange\")\n",
    "show_fruit(\"carrot\")"
   ]
  },
  {
   "cell_type": "markdown",
   "metadata": {},
   "source": [
    "Здесь мы выбросили ошибку значения для некорректных данных *ValueError*, но ошибка не информативная. Мы можем добавить поясняющее сообщение в скобках, чтобы было проще понять причину."
   ]
  },
  {
   "cell_type": "code",
   "execution_count": 7,
   "metadata": {},
   "outputs": [
    {
     "name": "stdout",
     "output_type": "stream",
     "text": [
      "Можно есть\n",
      "Сначала очистить\n"
     ]
    },
    {
     "ename": "ValueError",
     "evalue": "Некорректное название фрукта",
     "output_type": "error",
     "traceback": [
      "\u001b[1;31m---------------------------------------------------------------------------\u001b[0m",
      "\u001b[1;31mValueError\u001b[0m                                Traceback (most recent call last)",
      "Cell \u001b[1;32mIn[7], line 11\u001b[0m\n\u001b[0;32m      9\u001b[0m show_fruit(\u001b[38;5;124m\"\u001b[39m\u001b[38;5;124mapple\u001b[39m\u001b[38;5;124m\"\u001b[39m)\n\u001b[0;32m     10\u001b[0m show_fruit(\u001b[38;5;124m\"\u001b[39m\u001b[38;5;124morange\u001b[39m\u001b[38;5;124m\"\u001b[39m)\n\u001b[1;32m---> 11\u001b[0m show_fruit(\u001b[38;5;124m\"\u001b[39m\u001b[38;5;124mcarrot\u001b[39m\u001b[38;5;124m\"\u001b[39m)\n",
      "Cell \u001b[1;32mIn[7], line 7\u001b[0m, in \u001b[0;36mshow_fruit\u001b[1;34m(fruit)\u001b[0m\n\u001b[0;32m      5\u001b[0m     \u001b[38;5;28mprint\u001b[39m(\u001b[38;5;124m\"\u001b[39m\u001b[38;5;124mСначала очистить\u001b[39m\u001b[38;5;124m\"\u001b[39m)\n\u001b[0;32m      6\u001b[0m \u001b[38;5;28;01melse\u001b[39;00m:\n\u001b[1;32m----> 7\u001b[0m     \u001b[38;5;28;01mraise\u001b[39;00m \u001b[38;5;167;01mValueError\u001b[39;00m(\u001b[38;5;124m'\u001b[39m\u001b[38;5;124mНекорректное название фрукта\u001b[39m\u001b[38;5;124m'\u001b[39m)\n",
      "\u001b[1;31mValueError\u001b[0m: Некорректное название фрукта"
     ]
    }
   ],
   "source": [
    "def show_fruit(fruit):\n",
    "    if fruit == \"apple\":\n",
    "        print(\"Можно есть\")\n",
    "    elif fruit == \"orange\":\n",
    "        print(\"Сначала очистить\")\n",
    "    else:\n",
    "        raise ValueError('Некорректное название фрукта')\n",
    "\n",
    "show_fruit(\"apple\")\n",
    "show_fruit(\"orange\")\n",
    "show_fruit(\"carrot\")"
   ]
  },
  {
   "cell_type": "markdown",
   "metadata": {},
   "source": [
    "В последней строчке у нас добавилось пояснение, что мы передали какой-то некорректный фрукт. В Python достаточно много встроенных типов исключений. Вы можете посмотреть их в <a href=https://docs.python.org/3/library/exceptions.html>документации</a> к языку и выбрать подходящий по смыслу для вашей ситуации."
   ]
  },
  {
   "cell_type": "markdown",
   "metadata": {},
   "source": [
    "<a class=\"anchor\" id=\"инструкция-try\"></a>\n",
    "\n",
    "## Инструкция try ... except ... else ... finally \n",
    "\n",
    "* [к оглавлению](#разделы)"
   ]
  },
  {
   "cell_type": "markdown",
   "metadata": {},
   "source": [
    "Для обработки исключений предназначена инструкция *try*. Формат инструкции: \n",
    "\n",
    "```python\n",
    "try:\n",
    "    <Блок, в котором перехватываются исключения>\n",
    "[ except [<Исключение1> [as <Объект  исключения>] ] :\n",
    "    <Блок выполняется при возникновении исключения>\n",
    "[  ... \n",
    "except  [<ИсключениеN> [as <Объект исключения>]]:\n",
    "    <Блок выполняется при возникновении исключения>]]\n",
    "[else:\n",
    "    <Блок выполняется, если исключения не было>]\n",
    "[finally:\n",
    "    <Блок выполняется в любом случае>]\n",
    "```\n",
    "\n",
    "Инструкции, в которых перехватываются исключения, должны быть расположены внутри блока *try*.  В блоке *except* в параметре <Исключение1> указывается класс обрабатываемого исключения."
   ]
  },
  {
   "cell_type": "markdown",
   "metadata": {},
   "source": [
    "Например, обработать исключение, возникающее при делении на ноль, можно так:"
   ]
  },
  {
   "cell_type": "code",
   "execution_count": 8,
   "metadata": {},
   "outputs": [
    {
     "name": "stdout",
     "output_type": "stream",
     "text": [
      "Обработали деление на 0\n",
      "100\n"
     ]
    }
   ],
   "source": [
    "x = 100\n",
    "try: # Перехватьшаем исключения\n",
    "    x = x/0 # Ошибка: деление на 0\n",
    "except ZeroDivisionError: # Указьшаем класс исключения\n",
    "    print(\"Обработали деление на 0\")\n",
    "\n",
    "print(x)"
   ]
  },
  {
   "cell_type": "markdown",
   "metadata": {},
   "source": [
    "Блоков *except* может быть больше одного.\n",
    "\n",
    "<i><u>Пример</u></i>"
   ]
  },
  {
   "cell_type": "code",
   "execution_count": 35,
   "metadata": {},
   "outputs": [
    {
     "name": "stdout",
     "output_type": "stream",
     "text": [
      "Обработка деления на 0\n",
      "-1\n"
     ]
    }
   ],
   "source": [
    "x = 100\n",
    "\n",
    "try:\n",
    "    х = x/0\n",
    "except NameError: \n",
    "    print(\"Неопределенный идентификатор\") \n",
    "except IndexError: \n",
    "    print(\"Несуществующий индекс\") \n",
    "except ZeroDivisionError: \n",
    "    print(\"Обработка деления на 0\") \n",
    "    x = -1\n",
    "\n",
    "print(x)"
   ]
  },
  {
   "cell_type": "markdown",
   "metadata": {},
   "source": [
    "В инструкции *except* можно указать сразу несколько исключений, перечислив их через запятую внутри круглых скобок."
   ]
  },
  {
   "cell_type": "code",
   "execution_count": 5,
   "metadata": {},
   "outputs": [
    {
     "name": "stdout",
     "output_type": "stream",
     "text": [
      "Ошибка\n",
      "-1\n"
     ]
    }
   ],
   "source": [
    "x = 100\n",
    "\n",
    "try:\n",
    "    x = x/0\n",
    "except (NameError, IndexError, ZeroDivisionError):\n",
    "    print('Ошибка')\n",
    "    x = -1\n",
    "\n",
    "print(x) # Выведет: 0 "
   ]
  },
  {
   "cell_type": "markdown",
   "metadata": {},
   "source": [
    "Дополнительно к перечислению типов исключительных ситуаций можно указать имя переменной, в которую будет помещен объект исключительной ситуации. Создадим такую переменную с именем *err*. В строке\n",
    "\n",
    "```python\n",
    "except (NameError, IndexError, ZeroDivisionError) as err:\n",
    "```\n",
    "\n",
    "в переменную *err* помещается объект конкретной случившейся исключительнеой ситуации. Далее в программе с помощью данного объекта мы можем понять, какая конкретно исключительная ситуация произошла. Это можно сделать, если получить значение имени `__name__` класса объекта:\n",
    "\n",
    "```python\n",
    "err.__class__.__name__\n",
    "```\n",
    "\n",
    "<u><i>Пример</i></u>. Получение имени ошибки и сообщения."
   ]
  },
  {
   "cell_type": "code",
   "execution_count": 3,
   "metadata": {},
   "outputs": [
    {
     "name": "stdout",
     "output_type": "stream",
     "text": [
      "ZeroDivisionError\n",
      "division by zero\n"
     ]
    }
   ],
   "source": [
    "x = 100\n",
    "try: # Обрабатьшаем исключения\n",
    "    х = x/0 # Ошибка: деление на 0\n",
    "except (NameError, IndexError, ZeroDivisionError) as err:\n",
    "    print(err.__class__.__name__) # Название  класса  исключения\n",
    "    print(err) # Текст сообщения об ошибке"
   ]
  },
  {
   "cell_type": "markdown",
   "metadata": {},
   "source": [
    "Для получения  информации об исключении можно воспользоваться функцией *ехс_info()* из модуля *sys*, которая возвращает кортеж из трех элементов: типа исключения, значения и трассировочной информации. Преобразовать эти значения в удобочитаемый вид позволяет модуль *traceback*."
   ]
  },
  {
   "cell_type": "code",
   "execution_count": 18,
   "metadata": {},
   "outputs": [
    {
     "name": "stdout",
     "output_type": "stream",
     "text": [
      "Type: <class 'ZeroDivisionError'>, Value: division by zero, Trace: <traceback object at 0x000002EB93FD5D80> \n",
      "\n",
      " -----------print_exception() -----------\n",
      "Traceback (most recent call last):\n",
      "  File \"C:\\Users\\myfri\\AppData\\Local\\Temp\\ipykernel_3340\\2371101685.py\", line 5, in <module>\n",
      "    х = x/0\n",
      "        ~^~\n",
      "ZeroDivisionError: division by zero\n",
      "\n",
      " ---------------print_tb()---------------\n",
      "  File \"C:\\Users\\myfri\\AppData\\Local\\Temp\\ipykernel_3340\\2371101685.py\", line 5, in <module>\n",
      "    х = x/0\n",
      "        ~^~\n",
      "\n",
      " -----------format_exception()-----------\n",
      "['Traceback (most recent call last):\\n', '  File \"C:\\\\Users\\\\myfri\\\\AppData\\\\Local\\\\Temp\\\\ipykernel_3340\\\\2371101685.py\", line 5, in <module>\\n    х = x/0\\n        ~^~\\n', 'ZeroDivisionError: division by zero\\n']\n",
      "\n",
      " --------format_exception_only()---------\n",
      "['ZeroDivisionError: division by zero\\n']\n"
     ]
    }
   ],
   "source": [
    "import sys, traceback\n",
    "\n",
    "x = 100\n",
    "try:\n",
    "    х = x/0\n",
    "except ZeroDivisionError as err:\n",
    "    etype, value, trace = sys.exc_info()\n",
    "    print(\"Type: {}, Value: {}, Trace: {} \".format(etype, value, trace))\n",
    "    print(\"\\n\", \"print_exception() \".center(40,  \"-\"))\n",
    "    traceback.print_exception(etype, value, trace, file=sys.stdout)\n",
    "    print(\"\\n\",  \"print_tb()\".center(40,  \"-\"))\n",
    "    traceback.print_tb(trace, file=sys.stdout)\n",
    "    print(\"\\n\",  \"format_exception()\".center(40, \"-\"))\n",
    "    print(traceback.format_exception(etype, value, trace))\n",
    "    print(\"\\n\",  \"format_exception_only()\".center(40,\"-\"))\n",
    "    print(traceback.format_exception_only(etype, value))   "
   ]
  },
  {
   "cell_type": "markdown",
   "metadata": {},
   "source": [
    "Если в  инструкции *except*  не указан  класс  исключения, то такой блок перехватывает все исключения."
   ]
  },
  {
   "cell_type": "code",
   "execution_count": 22,
   "metadata": {},
   "outputs": [
    {
     "name": "stdout",
     "output_type": "stream",
     "text": [
      "-1\n"
     ]
    }
   ],
   "source": [
    "x = 100\n",
    "try:\n",
    "    x = x/0\n",
    "except: \n",
    "    x = -1\n",
    "print(x) # Выведет: -1 "
   ]
  },
  {
   "cell_type": "markdown",
   "metadata": {},
   "source": [
    "Следует избегать пустых инструкций *except*, т. к. это приводит к неверной логике программы. Здесь разумно вспомнить некоторые из утверждений *The Zen of Python*, а именно:\n",
    "\n",
    "- Explicit is better than implicit — Явное лучше неявного\n",
    "- Readability counts — Удобочитаемость имеет значение\n",
    "- Errors should never pass silently — Ошибки никогда не должны оставаться незамеченными\n",
    "- In the face of ambiguity, refuse the temptation to guess — Перед лицом неопределенности откажитесь от искушения угадать"
   ]
  },
  {
   "cell_type": "markdown",
   "metadata": {},
   "source": [
    "Если в обработчике присутствует блок *else*, то инструкции внутри этого блока будут выnолнены только при отсутствии ошибок. При необходимости _выполнить какие-либо завершающие действия_ вне зависимости от того, возникло исключение или нет, следует восnользоваться блоком *finally*."
   ]
  },
  {
   "cell_type": "code",
   "execution_count": 28,
   "metadata": {},
   "outputs": [
    {
     "name": "stdout",
     "output_type": "stream",
     "text": [
      "Блок else\n",
      "Блок finally\n",
      "x = 100\n"
     ]
    }
   ],
   "source": [
    "x = 100\n",
    "try:\n",
    "    х = x/10 # Ошибки нет\n",
    "except ZeroDivisionError:\n",
    "    print('Деление на 0')\n",
    "    x = -1\n",
    "else:\n",
    "    print('Блок else')\n",
    "finally:\n",
    "    print('Блок finally')\n",
    "\n",
    "print(f'x = {x}')"
   ]
  },
  {
   "cell_type": "markdown",
   "metadata": {},
   "source": [
    "Необходимо заметить, что при наличии исключения и отсутствии блока *except* сначала будут выполнены инструкции внутри блока *finally*, затем управление передается обработчику пo умолчанию, который выбрасывает исключение и прерывает выполнение программы."
   ]
  },
  {
   "cell_type": "code",
   "execution_count": 38,
   "metadata": {},
   "outputs": [
    {
     "name": "stdout",
     "output_type": "stream",
     "text": [
      "Блок finally\n"
     ]
    },
    {
     "ename": "ZeroDivisionError",
     "evalue": "division by zero",
     "output_type": "error",
     "traceback": [
      "\u001b[1;31m---------------------------------------------------------------------------\u001b[0m",
      "\u001b[1;31mZeroDivisionError\u001b[0m                         Traceback (most recent call last)",
      "Cell \u001b[1;32mIn[38], line 3\u001b[0m\n\u001b[0;32m      1\u001b[0m x \u001b[38;5;241m=\u001b[39m \u001b[38;5;241m100\u001b[39m\n\u001b[0;32m      2\u001b[0m \u001b[38;5;28;01mtry\u001b[39;00m:\n\u001b[1;32m----> 3\u001b[0m     х \u001b[38;5;241m=\u001b[39m x\u001b[38;5;241m/\u001b[39m\u001b[38;5;241m0\u001b[39m \u001b[38;5;66;03m# Ошибка: деление на 0\u001b[39;00m\n\u001b[0;32m      4\u001b[0m     х \u001b[38;5;241m=\u001b[39m \u001b[38;5;241m1\u001b[39m\u001b[38;5;241m/\u001b[39m\u001b[38;5;241m10\u001b[39m\n\u001b[0;32m      5\u001b[0m \u001b[38;5;28;01mfinally\u001b[39;00m:\n",
      "\u001b[1;31mZeroDivisionError\u001b[0m: division by zero"
     ]
    }
   ],
   "source": [
    "x = 100\n",
    "try:\n",
    "    х = x/0 # Ошибка: деление на 0\n",
    "    х = 1/10\n",
    "finally:\n",
    "    print('Блок finally')\n",
    "\n",
    "print(f'x = {x}')"
   ]
  },
  {
   "cell_type": "markdown",
   "metadata": {},
   "source": [
    "<a class=\"anchor\" id=\"встроенных-исключений\"></a>\n",
    "\n",
    "## Классы встроенных исключений \n",
    "\n",
    "* [к оглавлению](#разделы)"
   ]
  },
  {
   "cell_type": "markdown",
   "metadata": {},
   "source": [
    "* BaseException \n",
    "    * GeneratorExit \n",
    "    * Keyboardinterrupt \n",
    "    * SystemExit \n",
    "    * Exception \n",
    "        * Stopiteration \n",
    "        * Warning \n",
    "            * BytesWarning,  ResourceWarning, \n",
    "            * DeprecationWarning,  FutureWarning,  ImportWarning, \n",
    "            * PendingDeprecationWarning,  RuntimeWarning,  SyntaxWarning, \n",
    "            * UnicodeWarning,  UserWarning \n",
    "        * ArithmeticError \n",
    "            * FloatingPointError,  OverflowError,  ZeroDivisionError \n",
    "        * AssertionError \n",
    "        * AttributeError \n",
    "        * BufferError \n",
    "        * EnvironmentError \n",
    "            * IOError \n",
    "            * OSError \n",
    "                * WindowsError \n",
    "        * EOFError \n",
    "        * ImportError \n",
    "        * LookupError \n",
    "            * IndexError,  KeyError \n",
    "        * MemoryError \n",
    "        * NameError \n",
    "            * UnboundLocalError \n",
    "        * ReferenceError \n",
    "        * RuntimeError \n",
    "            * NotimplementedError \n",
    "        * SyntaxError \n",
    "            * IndentationError \n",
    "                * TabError \n",
    "        * SystemError \n",
    "        * TypeError \n",
    "        * ValueError \n",
    "            * UnicodeError \n",
    "                * UnicodeDecodeError,  UnicodeEncodeError \n",
    "                * UnicodeTranslateError "
   ]
  },
  {
   "cell_type": "markdown",
   "metadata": {},
   "source": [
    "Основное преимущество использования классов для обработки исключений заключается в возможности указания базового класса для  перехвата всех исключений соответствующих классов-потомков. Например, для перехвата деления на ноль мы использовали класс *ZeroDivisionError*. Если вместо этого класса указать базовый класс *ArithmeticError*, то будут перехватываться исключения классов *FloatingPointError*, *OverflowError* и *ZeroDivisionError*."
   ]
  },
  {
   "cell_type": "code",
   "execution_count": 41,
   "metadata": {},
   "outputs": [
    {
     "name": "stdout",
     "output_type": "stream",
     "text": [
      "Возникла ошибка ZeroDivisionError\n",
      "x = -1\n"
     ]
    }
   ],
   "source": [
    "x = 100\n",
    "\n",
    "try:\n",
    "    x /= 0\n",
    "except ArithmeticError as err: # Указываем базовый класс\n",
    "    print(f'Возникла ошибка {err.__class__.__name__}')\n",
    "    x = -1\n",
    "\n",
    "print(f'x = {x}')"
   ]
  },
  {
   "cell_type": "markdown",
   "metadata": {},
   "source": [
    "Рассмотрим основные классы исключений:\n",
    "\n",
    "- BaseException — является классом самого верхнего уровня;\n",
    "- Exception — именно этот класс, а не BaseException, необходимо наследовать при создании пользовательских классов исключений;\n",
    "- AssertionError — возбуждается инструкцией assert; \n",
    "- AttributeError — попытка обращения к несуществующему атрибуту объекта; \n",
    "- EOFError — возбуждается функцией input() при достижении конца файла;\n",
    "- IOError — ошибка доступа к файлу;\n",
    "- ImportError — невозможно подключить модуль или пакет;\n",
    "- IndentationError — неправильно расставлены отступы в программе;\n",
    "- IndexError — указанный индекс не существует в nоследовательности;\n",
    "- KeyError — указанного ключа нет в словаре;\n",
    "- KeyboardInterrupt — нажата комбинация клавиш \\<Ctrl+C\\>;\n",
    "- NameError — попытка обращения к идентификатору до его определения;\n",
    "- StopIteration — возникает, когда больше нет элементов, которые мог бы вернуть итератор;\n",
    "- SyntaxError — синтаксическая ошибка;\n",
    "- TypeError — тип объекта не соответствует ожидаемому;\n",
    "- UnboundLocalError — внутри функции переменной присваивается значение после обращения к одноименной глобальной переменной; \n",
    "- UnicodeDecodeError — ошибка преобразования последовательности байтов в строку;\n",
    "- UnicodeEncodeError — ошибка преобразования строки в последовательность байтов;\n",
    "- ValueError — переданный параметр не соответствует ожидаемому значению;\n",
    "- ZeroDivisionError — попытка деления на ноль."
   ]
  },
  {
   "cell_type": "markdown",
   "metadata": {},
   "source": [
    "<u><i>Пример</i></u> возникновения и обработки ошибки *StopIteration*"
   ]
  },
  {
   "cell_type": "code",
   "execution_count": 49,
   "metadata": {},
   "outputs": [
    {
     "name": "stdout",
     "output_type": "stream",
     "text": [
      "1\n",
      "2\n",
      "3\n",
      "StopIteration\n"
     ]
    }
   ],
   "source": [
    "my_set = {1, 2, 3}\n",
    "my_iterator = iter(my_set) # Функция iter() создает итератор\n",
    "\n",
    "while True:\n",
    "    try:\n",
    "        item = next(my_iterator)\n",
    "        print(item)\n",
    "    except StopIteration as err:\n",
    "        print(err.__class__.__name__)\n",
    "        break"
   ]
  },
  {
   "cell_type": "markdown",
   "metadata": {},
   "source": [
    "<a class=\"anchor\" id=\"пользовательские-исключения\"></a>\n",
    "\n",
    "##  Пользовательские исключения\n",
    "\n",
    "* [к оглавлению](#разделы)"
   ]
  },
  {
   "cell_type": "markdown",
   "metadata": {},
   "source": [
    "Пользовательские исключения возбуждаются с помощью инструкций *raise* и *assert*.\n",
    "\n",
    "Инструкция *raise* имеет несколько форматов: \n",
    "* raise <Экземпляр класса> \n",
    "* raise <Имя класса>"
   ]
  },
  {
   "cell_type": "markdown",
   "metadata": {},
   "source": [
    "В первом формате инструкции *raise* указывается экземпляр класса возбуждаемого исключения. При создании экземпляра можно передать данные конструктору класса."
   ]
  },
  {
   "cell_type": "code",
   "execution_count": 51,
   "metadata": {},
   "outputs": [
    {
     "name": "stdout",
     "output_type": "stream",
     "text": [
      "Oпиcaниe исключения\n"
     ]
    }
   ],
   "source": [
    "try:\n",
    "    raise ValueError('Oпиcaниe исключения')\n",
    "except ValueError  as  msg:\n",
    "    print(msg)"
   ]
  },
  {
   "cell_type": "markdown",
   "metadata": {},
   "source": [
    "В другом случае указывается имя класса."
   ]
  },
  {
   "cell_type": "code",
   "execution_count": 52,
   "metadata": {
    "scrolled": true
   },
   "outputs": [
    {
     "name": "stdout",
     "output_type": "stream",
     "text": [
      "Сообщение об ошибке\n"
     ]
    }
   ],
   "source": [
    "try:\n",
    "    raise ValueError\n",
    "except ValueError:\n",
    "    print('Сообщение об ошибке')"
   ]
  },
  {
   "cell_type": "markdown",
   "metadata": {},
   "source": [
    "<a class=\"anchor\" id=\"инструкция-assert\"></a>\n",
    "\n",
    "## Инструкция assert\n",
    "\n",
    "* [к оглавлению](#разделы)"
   ]
  },
  {
   "cell_type": "markdown",
   "metadata": {},
   "source": [
    "Инструкция *assert* возбуждает исключение *AssertionError*, если логическое выражение возвращает *False*. Инструкция имеет следующий формат:\n",
    "\n",
    "assert <Логическое  выражение> [, <Сообщение>] \n",
    "\n",
    "Инструкция assert эквивалентна следующему коду:\n",
    "\n",
    "```Python\n",
    "if __debug__: \n",
    "    if not <Логическое  выражение>: \n",
    "        raise  AssertionError(<Сообщение>)\n",
    "```"
   ]
  },
  {
   "cell_type": "code",
   "execution_count": 59,
   "metadata": {},
   "outputs": [
    {
     "data": {
      "text/plain": [
       "True"
      ]
     },
     "execution_count": 59,
     "metadata": {},
     "output_type": "execute_result"
    }
   ],
   "source": [
    "__debug__"
   ]
  },
  {
   "cell_type": "markdown",
   "metadata": {},
   "source": [
    "Если установить флаг \\_\\_debug\\_\\_ в False или если при запуске программы используется флаг -о, то переменная \\_\\_debug\\_\\_ получает ложное значение и проверка *assert* не выполняется."
   ]
  },
  {
   "cell_type": "code",
   "execution_count": 54,
   "metadata": {},
   "outputs": [
    {
     "name": "stdout",
     "output_type": "stream",
     "text": [
      "Сообщение об ошибке\n"
     ]
    }
   ],
   "source": [
    "try: \n",
    "    х = -3 \n",
    "    assert х >= 0, \"Сообщение об ошибке\" \n",
    "except AssertionError as err: \n",
    "    print(err)"
   ]
  },
  {
   "cell_type": "code",
   "execution_count": 55,
   "metadata": {},
   "outputs": [],
   "source": [
    "def factorial(n):\n",
    "    \"\"\"Возвращает Факториал числа n.\n",
    "    Аргумент n - не отрицательное целое число.\"\"\"\n",
    "    assert n >= 0, 'Аргумент n должен быть больше 0!'\n",
    "    assert n % 1 == 0, 'Аргумент n должен быть целым!'\n",
    "    f = 1\n",
    "    for i in range(2, n+1):\n",
    "        f *= i\n",
    "    return f"
   ]
  },
  {
   "cell_type": "code",
   "execution_count": 56,
   "metadata": {},
   "outputs": [
    {
     "ename": "AssertionError",
     "evalue": "Аргумент n должен быть больше 0!",
     "output_type": "error",
     "traceback": [
      "\u001b[1;31m---------------------------------------------------------------------------\u001b[0m",
      "\u001b[1;31mAssertionError\u001b[0m                            Traceback (most recent call last)",
      "Cell \u001b[1;32mIn[56], line 1\u001b[0m\n\u001b[1;32m----> 1\u001b[0m factorial(\u001b[38;5;241m-\u001b[39m\u001b[38;5;241m1\u001b[39m)\n",
      "Cell \u001b[1;32mIn[55], line 4\u001b[0m, in \u001b[0;36mfactorial\u001b[1;34m(n)\u001b[0m\n\u001b[0;32m      1\u001b[0m \u001b[38;5;28;01mdef\u001b[39;00m \u001b[38;5;21mfactorial\u001b[39m(n):\n\u001b[0;32m      2\u001b[0m \u001b[38;5;250m    \u001b[39m\u001b[38;5;124;03m\"\"\"Возвращает Факториал числа n.\u001b[39;00m\n\u001b[0;32m      3\u001b[0m \u001b[38;5;124;03m    Аргумент n - не отрицательное целое число.\"\"\"\u001b[39;00m\n\u001b[1;32m----> 4\u001b[0m     \u001b[38;5;28;01massert\u001b[39;00m n \u001b[38;5;241m>\u001b[39m\u001b[38;5;241m=\u001b[39m \u001b[38;5;241m0\u001b[39m, \u001b[38;5;124m'\u001b[39m\u001b[38;5;124mАргумент n должен быть больше 0!\u001b[39m\u001b[38;5;124m'\u001b[39m\n\u001b[0;32m      5\u001b[0m     \u001b[38;5;28;01massert\u001b[39;00m n \u001b[38;5;241m%\u001b[39m \u001b[38;5;241m1\u001b[39m \u001b[38;5;241m==\u001b[39m \u001b[38;5;241m0\u001b[39m, \u001b[38;5;124m'\u001b[39m\u001b[38;5;124mАргумент n должен быть целым!\u001b[39m\u001b[38;5;124m'\u001b[39m\n\u001b[0;32m      6\u001b[0m     f \u001b[38;5;241m=\u001b[39m \u001b[38;5;241m1\u001b[39m\n",
      "\u001b[1;31mAssertionError\u001b[0m: Аргумент n должен быть больше 0!"
     ]
    }
   ],
   "source": [
    "factorial(-1)"
   ]
  },
  {
   "cell_type": "code",
   "execution_count": 57,
   "metadata": {},
   "outputs": [
    {
     "ename": "AssertionError",
     "evalue": "Аргумент n должен быть целым!",
     "output_type": "error",
     "traceback": [
      "\u001b[1;31m---------------------------------------------------------------------------\u001b[0m",
      "\u001b[1;31mAssertionError\u001b[0m                            Traceback (most recent call last)",
      "Cell \u001b[1;32mIn[57], line 1\u001b[0m\n\u001b[1;32m----> 1\u001b[0m factorial(\u001b[38;5;241m5.5\u001b[39m)\n",
      "Cell \u001b[1;32mIn[55], line 5\u001b[0m, in \u001b[0;36mfactorial\u001b[1;34m(n)\u001b[0m\n\u001b[0;32m      2\u001b[0m \u001b[38;5;250m\u001b[39m\u001b[38;5;124;03m\"\"\"Возвращает Факториал числа n.\u001b[39;00m\n\u001b[0;32m      3\u001b[0m \u001b[38;5;124;03mАргумент n - не отрицательное целое число.\"\"\"\u001b[39;00m\n\u001b[0;32m      4\u001b[0m \u001b[38;5;28;01massert\u001b[39;00m n \u001b[38;5;241m>\u001b[39m\u001b[38;5;241m=\u001b[39m \u001b[38;5;241m0\u001b[39m, \u001b[38;5;124m'\u001b[39m\u001b[38;5;124mАргумент n должен быть больше 0!\u001b[39m\u001b[38;5;124m'\u001b[39m\n\u001b[1;32m----> 5\u001b[0m \u001b[38;5;28;01massert\u001b[39;00m n \u001b[38;5;241m%\u001b[39m \u001b[38;5;241m1\u001b[39m \u001b[38;5;241m==\u001b[39m \u001b[38;5;241m0\u001b[39m, \u001b[38;5;124m'\u001b[39m\u001b[38;5;124mАргумент n должен быть целым!\u001b[39m\u001b[38;5;124m'\u001b[39m\n\u001b[0;32m      6\u001b[0m f \u001b[38;5;241m=\u001b[39m \u001b[38;5;241m1\u001b[39m\n\u001b[0;32m      7\u001b[0m \u001b[38;5;28;01mfor\u001b[39;00m i \u001b[38;5;129;01min\u001b[39;00m \u001b[38;5;28mrange\u001b[39m(\u001b[38;5;241m2\u001b[39m, n\u001b[38;5;241m+\u001b[39m\u001b[38;5;241m1\u001b[39m):\n",
      "\u001b[1;31mAssertionError\u001b[0m: Аргумент n должен быть целым!"
     ]
    }
   ],
   "source": [
    "factorial(5.5)"
   ]
  },
  {
   "cell_type": "code",
   "execution_count": 21,
   "metadata": {},
   "outputs": [
    {
     "data": {
      "text/plain": [
       "1"
      ]
     },
     "execution_count": 21,
     "metadata": {},
     "output_type": "execute_result"
    }
   ],
   "source": [
    "factorial(0)"
   ]
  },
  {
   "cell_type": "code",
   "execution_count": 23,
   "metadata": {},
   "outputs": [
    {
     "data": {
      "text/plain": [
       "1"
      ]
     },
     "execution_count": 23,
     "metadata": {},
     "output_type": "execute_result"
    }
   ],
   "source": [
    "factorial(1)"
   ]
  },
  {
   "cell_type": "code",
   "execution_count": 24,
   "metadata": {},
   "outputs": [
    {
     "data": {
      "text/plain": [
       "2"
      ]
     },
     "execution_count": 24,
     "metadata": {},
     "output_type": "execute_result"
    }
   ],
   "source": [
    "factorial(2)"
   ]
  },
  {
   "cell_type": "code",
   "execution_count": 25,
   "metadata": {},
   "outputs": [
    {
     "data": {
      "text/plain": [
       "120"
      ]
     },
     "execution_count": 25,
     "metadata": {},
     "output_type": "execute_result"
    }
   ],
   "source": [
    "factorial(5)"
   ]
  }
 ],
 "metadata": {
  "anaconda-cloud": {},
  "kernelspec": {
   "display_name": "Python 3 (ipykernel)",
   "language": "python",
   "name": "python3"
  },
  "language_info": {
   "codemirror_mode": {
    "name": "ipython",
    "version": 3
   },
   "file_extension": ".py",
   "mimetype": "text/x-python",
   "name": "python",
   "nbconvert_exporter": "python",
   "pygments_lexer": "ipython3",
   "version": "3.11.5"
  }
 },
 "nbformat": 4,
 "nbformat_minor": 4
}
