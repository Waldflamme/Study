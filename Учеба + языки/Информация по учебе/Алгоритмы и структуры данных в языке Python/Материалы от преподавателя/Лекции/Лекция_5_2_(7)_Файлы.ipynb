{
 "cells": [
  {
   "cell_type": "markdown",
   "metadata": {},
   "source": [
    "<img src=\"../Img/ФинУ.jpg\">\n",
    "\n",
    "# Алгоритмы и структуры данных в языке Python\n",
    "\n",
    "# Лекция 7. Работа с файлами\n",
    "\n",
    "Лектор: Смирнов Михаил Викторович, доцент кафедры информационных технологий Финансового университета при Правительстве Российской Федерации"
   ]
  },
  {
   "cell_type": "markdown",
   "metadata": {},
   "source": [
    "## Разделы: <a class=\"anchor\" id=\"разделы\"></a>\n",
    "-\n",
    "* [К оглавлению](#разделы)\n",
    "\n",
    "* [Файл](#файл)\n",
    "* [Открытие файла](#открытие-файла)\n",
    "* [Инструкция with ... as](#инструкция-with)\n",
    "* [Методы работы с файлами](#работа-с-файлами)\n",
    "* [Модуль CSV](#csv)\n",
    "\n",
    "-\n",
    "* [к оглавлению](#разделы)"
   ]
  },
  {
   "cell_type": "markdown",
   "metadata": {},
   "source": [
    "### Файл <a class=\"anchor\" id=\"файл\"></a>\n",
    "-\n",
    "* [к оглавлению](#разделы)\n"
   ]
  },
  {
   "cell_type": "markdown",
   "metadata": {},
   "source": [
    "Файл – именованная область данных на носителе информации. Работа с файлами реализуется средствами операционной системы. \n",
    "Операционная система предоставляет приложениям интерфейс (Application Program Interface, API) – набор инструментов для работы с файлами.\n",
    "\n",
    "Можно выделить два типа операций с файлом – связанные с его открытием и выполняющиеся без его открытия. \n",
    "\n",
    "- Операции первого типа обычно служат для **чтения и записи информации** или подготовки к чтению или записи. \n",
    "- Операции второго типа выполняются с файлом как **с объектом файловой системы**, в котором файл является наименьшим элементом структурирования."
   ]
  },
  {
   "cell_type": "markdown",
   "metadata": {},
   "source": [
    "В большинстве современных операционных систем файлы организованы в виде одномерных массивов байтов.\n",
    "\n",
    "Обычно выделяют следующие сущности, связанные с работой с файлом:\n",
    "\n",
    "- **Файловый поток и дескриптор**. Когда вы открываете файл, ОС создает поток для этого файла и дескриптор. Дескриптор – это целое число например (... 100, 101, 102 ...), которое идентифицирует открытый файл.\n",
    "<br>\n",
    "\n",
    "- **Файловый указатель**. Файл можно рассматривать как последовательность байт на диске. Файловый указатель – это число, являющееся смещением относительно нулевого байта в файле. Обычно по этому адресу осуществляется чтение/запись. При выполнении операций чтения или записи файловый указатель увеличивается на число прочитанных или записанных байт. Последовательный вызов операций чтения таким образом позволяет прочитать весь файл последовательно, не заботясь о позиционировании.\n",
    "<br>\n",
    "\n",
    "- **Файловый буфер**. Операционная система (или библиотека языка программирования) осуществляет кэширование файловых операций в специальном буфере (участке оперативной памяти). Как правило, операции на диске выполняются медленнее, чем в оперативной памяти. Для оптимизации работы с памятью используется файловый буфер, в котором доступна некоторая часть файла, как правило, некоторая окрестность файлового указателя. Наличие такого буфера является некоторым компромиссом между надежностью хранения информации и скоростью. При закрытии файла буфер сбрасывается.\n",
    "<br>\n",
    "\n",
    "- **Режим доступа**. В зависимости от потребностей программы файл может быть открыт на чтение или запись. Кроме того, некоторые операционные системы и библиотеки предусматривают режим работы с текстовыми файлами.\n",
    "<br>\n",
    "\n",
    "- **Режим общего доступа**. Предназначен для регулирования совместного доступа к одному файлу несколькими программами в операционной системе."
   ]
  },
  {
   "cell_type": "markdown",
   "metadata": {},
   "source": [
    "Базовые операции для работы с файлом:\n",
    "\n",
    "- **Открытие файла**. В качестве параметров передаются имя файла и режим доступа, а в качестве результата выступает файловый поток.\n",
    "<br>\n",
    "\n",
    "- __Закрытие файла__. Файловый буфер сбрасывается.\n",
    "<br>\n",
    "\n",
    "- __Запись__. В файл помещаются данные.\n",
    "<br>\n",
    "\n",
    "- __Чтение__. Данные из файла помещаются в область памяти.\n",
    "<br>\n",
    "\n",
    "- __Перемещение указателя__. Указатель смещается на указанное число байт относительно начала файла или конкретной позиции.\n",
    "<br>\n",
    "\n",
    "- **Позиционирование**. Получение текущего значения файлового указателя.\n",
    "<br>\n",
    "\n",
    "- **Сброс буфера**. Содержимое файлового буфера записывается в файл. Используется обычно для указания на завершение записи логического блока (для сохранения данных в файле на случай сбоя)."
   ]
  },
  {
   "cell_type": "markdown",
   "metadata": {},
   "source": [
    "### Открытие файла <a class=\"anchor\" id=\"открытие-файла\"></a>\n",
    "-\n",
    "* [к оглавлению](#разделы)"
   ]
  },
  {
   "cell_type": "markdown",
   "metadata": {},
   "source": [
    "Прежде чем работать с файлом, необходимо создать объект файлового потока с помощью функции *open()*. Функция имеет следующий формат: \n",
    "\n",
    "```python\n",
    "ореn(<Путь к файлу>[, mode='r'][, buffering=-1][, encoding=None][, errors=None][, newline=None][, closefd=True])\n",
    "```\n",
    "\n",
    "В первом параметре указывается путь к файлу. Путь может быть абсолютным или относительным. Следует учитывать, что в операционных системах слеш часто является экранирующим символом. По этой причине слеш необходимо удваивать или вместо обычных строк использовать неформатированные строки.\n",
    "\n",
    "Документация по функции *open()*: https://docs.python.org/3/library/functions.html#open"
   ]
  },
  {
   "cell_type": "code",
   "execution_count": 1,
   "metadata": {},
   "outputs": [
    {
     "data": {
      "text/plain": [
       "'C:\\\\temp\\\\new\\\\file.txt'"
      ]
     },
     "execution_count": 1,
     "metadata": {},
     "output_type": "execute_result"
    }
   ],
   "source": [
    "# Правильно\n",
    "fn = 'C:\\\\temp\\\\new\\\\file.txt' # Двойной слэш\n",
    "fn"
   ]
  },
  {
   "cell_type": "code",
   "execution_count": 2,
   "metadata": {},
   "outputs": [
    {
     "data": {
      "text/plain": [
       "'C:\\\\temp\\\\new\\\\file.txt'"
      ]
     },
     "execution_count": 2,
     "metadata": {},
     "output_type": "execute_result"
    }
   ],
   "source": [
    "# Правильно\n",
    "fn = r'C:\\temp\\new\\file.txt' # Необработанная строка (raw sting)\n",
    "fn"
   ]
  },
  {
   "cell_type": "code",
   "execution_count": 3,
   "metadata": {},
   "outputs": [
    {
     "data": {
      "text/plain": [
       "'C:/temp/new/file.txt'"
      ]
     },
     "execution_count": 3,
     "metadata": {},
     "output_type": "execute_result"
    }
   ],
   "source": [
    "# Правильно\n",
    "fn = 'C:/temp/new/file.txt' # Слеш в стиле Линукс\n",
    "fn"
   ]
  },
  {
   "cell_type": "code",
   "execution_count": 4,
   "metadata": {},
   "outputs": [
    {
     "name": "stdout",
     "output_type": "stream",
     "text": [
      "C:\temp\n",
      "ew\f",
      "ile.txt\n"
     ]
    }
   ],
   "source": [
    "# Неправильно!\n",
    "# В этом пути присутствуют сразу три специальных символа: \\t, \\n и \\f. После преобразования специальных символов nуть \n",
    "# будет выглядеть следующим образом: С:<Табуляция>еmр<Перевод строки>еwilе.tхt\n",
    "# \\f  - специальный символ form feed, в ранних версиях Windows использовался для инструкции\n",
    "# принтерам продолжить печать на следующей странице.\n",
    "fn = 'C:\\temp\\new\\file.txt'\n",
    "print(fn)"
   ]
  },
  {
   "cell_type": "markdown",
   "metadata": {},
   "source": [
    "Иногда в программном коде появляется необходимость обратиться к имени файла программы, получить текстовое значение выполняемого в настоящий момент скрипта. В Jupyter Notebook это можно сделать следующим образом:"
   ]
  },
  {
   "cell_type": "code",
   "execution_count": 5,
   "metadata": {},
   "outputs": [
    {
     "data": {
      "application/javascript": [
       "IPython.notebook.kernel.execute('nb_name = \"' + IPython.notebook.notebook_name + '\"')\n"
      ],
      "text/plain": [
       "<IPython.core.display.Javascript object>"
      ]
     },
     "metadata": {},
     "output_type": "display_data"
    }
   ],
   "source": [
    "%%javascript\n",
    "IPython.notebook.kernel.execute('nb_name = \"' + IPython.notebook.notebook_name + '\"')"
   ]
  },
  {
   "cell_type": "markdown",
   "metadata": {},
   "source": [
    "и далее в отдельной ячейке напишем:"
   ]
  },
  {
   "cell_type": "code",
   "execution_count": 6,
   "metadata": {},
   "outputs": [
    {
     "data": {
      "text/plain": [
       "'D:\\\\Smirnov\\\\FinU\\\\2024-2025\\\\АиСД_Python\\\\05_Файлы_и_исключения\\\\Лекция_5_2_(6)_Файлы.ipynb'"
      ]
     },
     "execution_count": 6,
     "metadata": {},
     "output_type": "execute_result"
    }
   ],
   "source": [
    "import os\n",
    "nb_full_path = os.path.join(os.getcwd(), nb_name)\n",
    "nb_full_path"
   ]
  },
  {
   "cell_type": "markdown",
   "metadata": {},
   "source": [
    "В этом примере функция *getcwd()* возвращает текущую папку."
   ]
  },
  {
   "cell_type": "code",
   "execution_count": 7,
   "metadata": {},
   "outputs": [
    {
     "data": {
      "text/plain": [
       "'D:\\\\Smirnov\\\\FinU\\\\2024-2025\\\\АиСД_Python\\\\05_Файлы_и_исключения'"
      ]
     },
     "execution_count": 7,
     "metadata": {},
     "output_type": "execute_result"
    }
   ],
   "source": [
    "os.getcwd()"
   ]
  },
  {
   "cell_type": "markdown",
   "metadata": {},
   "source": [
    "Для обращения к файлу можно использовать относительный путь. Eсли открываемый файл находится в той же папке, что и программа Python (в текущей папке), то можно указать только название файла. После выполнения следующей команды будет создан файл в текущей папке на диске. Если такой файл уже существует, он будет создан заново без предупреждения.\n",
    "\n",
    "Отметим, что функция *open()* возвращает объект потока ввода-вывода данных. В данном случае возвращается объект *TextIOWrapper* потока текстовых данных."
   ]
  },
  {
   "cell_type": "code",
   "execution_count": 8,
   "metadata": {},
   "outputs": [
    {
     "name": "stdout",
     "output_type": "stream",
     "text": [
      "<class '_io.TextIOWrapper'>\n"
     ]
    }
   ],
   "source": [
    "f1 = open('file_01.txt', mode='w')\n",
    "print(type(f1))\n",
    "f1.close()"
   ]
  },
  {
   "cell_type": "markdown",
   "metadata": {},
   "source": [
    "Чтобы узнать, какие файлы есть в текущей папке, можно выполнить функцию *listdir()* из библиотеки *os*."
   ]
  },
  {
   "cell_type": "code",
   "execution_count": 9,
   "metadata": {
    "scrolled": false
   },
   "outputs": [
    {
     "data": {
      "text/plain": [
       "['.ipynb_checkpoints',\n",
       " 'file_01.txt',\n",
       " 'file_03.txt',\n",
       " 'file_04.txt',\n",
       " 'file_05.txt',\n",
       " 'file_06.txt',\n",
       " 'file_07.txt',\n",
       " 'file_08.txt',\n",
       " 'file_09.txt',\n",
       " 'file_10.txt',\n",
       " 'file_11.bak',\n",
       " 'file_11.dat',\n",
       " 'file_11.dir',\n",
       " 'Folder_01',\n",
       " 'participants.csv',\n",
       " 'ДЗ_11_Исключения.ipynb',\n",
       " 'ДЗ_11_Исключения_Решение.ipynb',\n",
       " 'ДЗ_12_Файлы.ipynb',\n",
       " 'ДЗ_12_Файлы_Решение.ipynb',\n",
       " 'Дополнительно',\n",
       " 'Лекция_5_1_(5)_Исключения.ipynb',\n",
       " 'Лекция_5_2_(6)_Файлы.ipynb',\n",
       " 'Семинар_5_1_(11)_Исключения_Решение.ipynb',\n",
       " 'Семинар_5_2_(12)_Файлы.ipynb',\n",
       " 'Семинар_5_2_(13)_Файлы_Полиция_Решение.py']"
      ]
     },
     "execution_count": 9,
     "metadata": {},
     "output_type": "execute_result"
    }
   ],
   "source": [
    "os.listdir()"
   ]
  },
  {
   "cell_type": "markdown",
   "metadata": {},
   "source": [
    "Если открываемый файл расположен во вложенной папке, то перед названием файла указывается название этой папки.\n",
    "\n",
    "<i><u>Пример</u></i>. В текущей папке создать вложенную папку, создать файл во вложенной папке."
   ]
  },
  {
   "cell_type": "code",
   "execution_count": 10,
   "metadata": {},
   "outputs": [
    {
     "name": "stdout",
     "output_type": "stream",
     "text": [
      "[WinError 183] Невозможно создать файл, так как он уже существует: 'Folder_01'\n"
     ]
    }
   ],
   "source": [
    "import os\n",
    "\n",
    "# Если папка с таким именем уже есть, возникнет исключение FileExistsError\n",
    "try:\n",
    "    os.mkdir('Folder_01')\n",
    "except FileExistsError as err:\n",
    "    print(err)\n",
    "\n",
    "f2 = open('Folder_01\\\\file_02.txt', mode='w')\n",
    "f2.close()"
   ]
  },
  {
   "cell_type": "markdown",
   "metadata": {},
   "source": [
    "Изменение текущей папки возможно с помощью команды *cd*. Сменим текущую папку и распечатаем список файлов в ней."
   ]
  },
  {
   "cell_type": "code",
   "execution_count": 11,
   "metadata": {},
   "outputs": [
    {
     "name": "stdout",
     "output_type": "stream",
     "text": [
      "D:\\Smirnov\\FinU\\2024-2025\\АиСД_Python\\05_Файлы_и_исключения\\Folder_01\n"
     ]
    }
   ],
   "source": [
    "cd Folder_01"
   ]
  },
  {
   "cell_type": "code",
   "execution_count": 12,
   "metadata": {},
   "outputs": [
    {
     "data": {
      "text/plain": [
       "['file_02.txt']"
      ]
     },
     "execution_count": 12,
     "metadata": {},
     "output_type": "execute_result"
    }
   ],
   "source": [
    "os.listdir()"
   ]
  },
  {
   "cell_type": "markdown",
   "metadata": {},
   "source": [
    "При указании пути можно ссылаться на текущую папку с помощью символа `.` и на родительскую папку с помощью символа `..`.\n",
    "\n",
    "Если папка с файлом расположена выше уровнем, то перед названием файла указываются две точки и слэш `..\\\\`.\n",
    "\n",
    "<i><u>Пример</u></i>. Создать файл в родительской папке."
   ]
  },
  {
   "cell_type": "code",
   "execution_count": 13,
   "metadata": {},
   "outputs": [],
   "source": [
    "f3 = open('..\\\\file_03.txt', mode='w')\n",
    "f3.close()"
   ]
  },
  {
   "cell_type": "markdown",
   "metadata": {},
   "source": [
    "Перейдем в родительскую папку и распечатаем ее содержимое."
   ]
  },
  {
   "cell_type": "code",
   "execution_count": 14,
   "metadata": {},
   "outputs": [
    {
     "name": "stdout",
     "output_type": "stream",
     "text": [
      "D:\\Smirnov\\FinU\\2024-2025\\АиСД_Python\\05_Файлы_и_исключения\n"
     ]
    }
   ],
   "source": [
    "cd .."
   ]
  },
  {
   "cell_type": "code",
   "execution_count": 15,
   "metadata": {
    "scrolled": true
   },
   "outputs": [
    {
     "data": {
      "text/plain": [
       "['.ipynb_checkpoints',\n",
       " 'file_01.txt',\n",
       " 'file_03.txt',\n",
       " 'file_04.txt',\n",
       " 'file_05.txt',\n",
       " 'file_06.txt',\n",
       " 'file_07.txt',\n",
       " 'file_08.txt',\n",
       " 'file_09.txt',\n",
       " 'file_10.txt',\n",
       " 'file_11.bak',\n",
       " 'file_11.dat',\n",
       " 'file_11.dir',\n",
       " 'Folder_01',\n",
       " 'participants.csv',\n",
       " 'ДЗ_11_Исключения.ipynb',\n",
       " 'ДЗ_11_Исключения_Решение.ipynb',\n",
       " 'ДЗ_12_Файлы.ipynb',\n",
       " 'ДЗ_12_Файлы_Решение.ipynb',\n",
       " 'Дополнительно',\n",
       " 'Лекция_5_1_(5)_Исключения.ipynb',\n",
       " 'Лекция_5_2_(6)_Файлы.ipynb',\n",
       " 'Семинар_5_1_(11)_Исключения_Решение.ipynb',\n",
       " 'Семинар_5_2_(12)_Файлы.ipynb',\n",
       " 'Семинар_5_2_(13)_Файлы_Полиция_Решение.py']"
      ]
     },
     "execution_count": 15,
     "metadata": {},
     "output_type": "execute_result"
    }
   ],
   "source": [
    "os.listdir()"
   ]
  },
  {
   "cell_type": "markdown",
   "metadata": {},
   "source": [
    "Функция *listdir(path)* возвращает все объекты (и файлы, и папки), располагающиеся по указанному пути. Для проверки, является ли найденный объект файлом можно использовать функции *isfile(), join()* из модуля *os.path*.\n",
    "\n",
    "Функция *join()* выполняет конкатенцию имен папки и файла с учётом особенностей операционной системы."
   ]
  },
  {
   "cell_type": "code",
   "execution_count": 16,
   "metadata": {},
   "outputs": [
    {
     "data": {
      "text/plain": [
       "'folder_name\\\\file_name'"
      ]
     },
     "execution_count": 16,
     "metadata": {},
     "output_type": "execute_result"
    }
   ],
   "source": [
    "os.path.join('folder_name', 'file_name')"
   ]
  },
  {
   "cell_type": "markdown",
   "metadata": {},
   "source": [
    "<u><i>Пример</i></u>. Получить все папки и файлы, находящиеся в текущей папке."
   ]
  },
  {
   "cell_type": "code",
   "execution_count": 17,
   "metadata": {},
   "outputs": [
    {
     "data": {
      "text/plain": [
       "['.ipynb_checkpoints',\n",
       " 'file_01.txt',\n",
       " 'file_03.txt',\n",
       " 'file_04.txt',\n",
       " 'file_05.txt',\n",
       " 'file_06.txt',\n",
       " 'file_07.txt',\n",
       " 'file_08.txt',\n",
       " 'file_09.txt',\n",
       " 'file_10.txt',\n",
       " 'file_11.bak',\n",
       " 'file_11.dat',\n",
       " 'file_11.dir',\n",
       " 'Folder_01',\n",
       " 'participants.csv',\n",
       " 'ДЗ_11_Исключения.ipynb',\n",
       " 'ДЗ_11_Исключения_Решение.ipynb',\n",
       " 'ДЗ_12_Файлы.ipynb',\n",
       " 'ДЗ_12_Файлы_Решение.ipynb',\n",
       " 'Дополнительно',\n",
       " 'Лекция_5_1_(5)_Исключения.ipynb',\n",
       " 'Лекция_5_2_(6)_Файлы.ipynb',\n",
       " 'Семинар_5_1_(11)_Исключения_Решение.ipynb',\n",
       " 'Семинар_5_2_(12)_Файлы.ipynb',\n",
       " 'Семинар_5_2_(13)_Файлы_Полиция_Решение.py']"
      ]
     },
     "execution_count": 17,
     "metadata": {},
     "output_type": "execute_result"
    }
   ],
   "source": [
    "mypath = '.' # Точка указывает на текущую папку\n",
    "files_and_folders = [f for f in os.listdir(mypath)]\n",
    "files_and_folders"
   ]
  },
  {
   "cell_type": "code",
   "execution_count": 18,
   "metadata": {},
   "outputs": [
    {
     "name": "stdout",
     "output_type": "stream",
     "text": [
      "['.ipynb_checkpoints', 'file_01.txt', 'file_03.txt', 'file_04.txt', 'file_05.txt', 'file_06.txt', 'file_07.txt', 'file_08.txt', 'file_09.txt', 'file_10.txt', 'file_11.bak', 'file_11.dat', 'file_11.dir', 'Folder_01', 'participants.csv', 'ДЗ_11_Исключения.ipynb', 'ДЗ_11_Исключения_Решение.ipynb', 'ДЗ_12_Файлы.ipynb', 'ДЗ_12_Файлы_Решение.ipynb', 'Дополнительно', 'Лекция_5_1_(5)_Исключения.ipynb', 'Лекция_5_2_(6)_Файлы.ipynb', 'Семинар_5_1_(11)_Исключения_Решение.ipynb', 'Семинар_5_2_(12)_Файлы.ipynb', 'Семинар_5_2_(13)_Файлы_Полиция_Решение.py']\n"
     ]
    }
   ],
   "source": [
    "mypath = '.' # Точка указывает на текущую папку\n",
    "files_and_folders = os.listdir(mypath)\n",
    "print(files_and_folders)"
   ]
  },
  {
   "cell_type": "markdown",
   "metadata": {},
   "source": [
    "Выполним проверку на тип объекта – файл или папка? Если объект является файлом, функция *os.path.isfile()* вернет *True*."
   ]
  },
  {
   "cell_type": "code",
   "execution_count": 19,
   "metadata": {},
   "outputs": [
    {
     "name": "stdout",
     "output_type": "stream",
     "text": [
      "False\n",
      "True\n"
     ]
    }
   ],
   "source": [
    "mypath = '.' # Точка указывает на текущую папку\n",
    "f0 = files_and_folders[0] # Папка .ipynb_checkpoints\n",
    "print(os.path.isfile(os.path.join(mypath, f0))) # False\n",
    "\n",
    "f1 = files_and_folders[1] # Файл file_01.txt\n",
    "print(os.path.isfile(os.path.join(mypath, f1))) # True"
   ]
  },
  {
   "cell_type": "markdown",
   "metadata": {},
   "source": [
    "<u><i>Пример</i></u>. Получить только файлы (не папки) в текущей папке."
   ]
  },
  {
   "cell_type": "code",
   "execution_count": 20,
   "metadata": {},
   "outputs": [
    {
     "name": "stdout",
     "output_type": "stream",
     "text": [
      "['file_01.txt', 'file_03.txt', 'file_04.txt', 'file_05.txt', 'file_06.txt', 'file_07.txt', 'file_08.txt', 'file_09.txt', 'file_10.txt', 'file_11.bak', 'file_11.dat', 'file_11.dir', 'participants.csv', 'ДЗ_11_Исключения.ipynb', 'ДЗ_11_Исключения_Решение.ipynb', 'ДЗ_12_Файлы.ipynb', 'ДЗ_12_Файлы_Решение.ipynb', 'Лекция_5_1_(5)_Исключения.ipynb', 'Лекция_5_2_(6)_Файлы.ipynb', 'Семинар_5_1_(11)_Исключения_Решение.ipynb', 'Семинар_5_2_(12)_Файлы.ipynb', 'Семинар_5_2_(13)_Файлы_Полиция_Решение.py']\n"
     ]
    }
   ],
   "source": [
    "mypath = '.'\n",
    "files_and_folders = os.listdir(mypath)\n",
    "files_only = [fname for fname in files_and_folders if os.path.isfile(os.path.join(mypath, fname))]\n",
    "\n",
    "print(files_only)"
   ]
  },
  {
   "cell_type": "markdown",
   "metadata": {},
   "source": [
    "<b>Дополнительные параметры функции *open*</b>\n",
    "\n",
    "Необязательный параметр *mode* функции *open()* может принимать следующие значения: \n",
    "\n",
    "* r – только чтение (значение по умолчанию). После открытия файла указатель устанавливается на начало файла. Если файл не существует, то возбуждается исключение IOError; \n",
    "* r+ – чтение и запись. После открытия файла указатель устанавливается на начало файла. Если файл не существует, то возбуждается исключение IOError; \n",
    "* w – запись. Если файл не существует, то он будет создан. Если файл существует, то он будет перезаписан. После открытия файла указатель устанавливается на начало файла; \n",
    "* w+ – чтение и запись. Если файл не существует, то он будет создан. Если файл существует, то он будет перезаписан. После открытия файла указатель устанавливается на начало файла; \n",
    "* а – запись. Если файл не существует, то он будет создан. Запись осуществляется в конец файла. Содержимое файла не удаляется; \n",
    "* а+ – чтение и запись. Если файл не существует, то он будет создан. Запись осуществляется в конец файла. Содержимое файла не удаляется. \n",
    "\n",
    "Кроме того, после параметра *mode* может следовать модификатор: \n",
    "* b – файл будет открыт в бинарном режиме. Файловые методы принимают и возвращают объекты типа *bytes*; \n",
    "* t – файл будет открыт в текстовом режиме (значение по умолчанию в Windows). Файловые методы принимают и возвращают объекты типа *str*. \n",
    "\n",
    "Разные платформы (ОС) используют разные коды в качестве символа новой строки, в частности:\n",
    "* Windows: `\\r\\n`\n",
    "* Unix: `\\n`\n",
    "* Старые компьютеры Макинтош: `\\r`\n",
    "* Существуют системы, использующие: `\\n\\r`\n",
    "\n",
    "При открытии файла в текстовом режиме в Python 3 все варианты окончания строки будут автоматически конвертироваться к `\\n`. Например, в этом режиме в Windows при чтении символ `\\r` будет удален, а при записи, наоборот, добавлен.\n",
    "\n",
    "<u><i>Пример</i></u>. Записать данные в файл."
   ]
  },
  {
   "cell_type": "code",
   "execution_count": 21,
   "metadata": {},
   "outputs": [
    {
     "name": "stdout",
     "output_type": "stream",
     "text": [
      "15\n"
     ]
    }
   ],
   "source": [
    "f4 = open('file_04.txt', mode='w')\n",
    "\n",
    "# Возвращается количество записанных символов (значение всегда совпадает с длиной строки).\n",
    "print(f4.write(\"String1\\nString2\"))\n",
    "\n",
    "f4.close()"
   ]
  },
  {
   "cell_type": "markdown",
   "metadata": {},
   "source": [
    "<a class=\"anchor\" id=\"инструкция-with\"></a>\n",
    "\n",
    "## Менеджер контекста. Инструкция *with ... as* <a class=\"anchor\" id=\"инструкция-with\"></a>\n",
    "-\n",
    "* [к оглавлению](#разделы)"
   ]
  },
  {
   "cell_type": "markdown",
   "metadata": {},
   "source": [
    "Менеджер контекста *with ... as* гарантирует выполнение завершающих действий (закрытие файла, освобождение ресурсов и т. д.) даже если внутри блока кода произошло исключение.\n",
    "\n",
    "<u><i>Пример</i></u>. С помощью менеджера контекста открыть файл на чтение в бинарном режиме."
   ]
  },
  {
   "cell_type": "code",
   "execution_count": 22,
   "metadata": {
    "scrolled": true
   },
   "outputs": [
    {
     "name": "stdout",
     "output_type": "stream",
     "text": [
      "<class 'bytes'>\n",
      "b'String1\\r\\n'\n",
      "<class 'bytes'>\n",
      "b'String2'\n"
     ]
    }
   ],
   "source": [
    "with open(\"file_04.txt\", \"rb\") as f: # Открываем файл для чтения в бинарном режиме.\n",
    "    for line in f:\n",
    "        print(type(line))\n",
    "        print(line)"
   ]
  },
  {
   "cell_type": "markdown",
   "metadata": {},
   "source": [
    "Мы видим, что каждая строка файла является байтовой последовательностью. При выводе на экран она предваряется символом *b* и выглядит как строка, но на самом деле это последовательность байт.\n",
    "\n",
    "По окончании выполнения блока кода менеджер контекста закрывает файл автоматически.\n",
    "\n",
    "<b>Буферизация<b>\n",
    "\n",
    "Для ускорения работы производится буферизация записываемых данных. В необязательном параметре *buffering* можно указать размер буфера. Если в указан 0, то данные сразу записываются в файл (значение допустимо только в бинарном режиме).\n",
    "\n",
    "Значение 1 используется при построчной записи в файл (значение допустимо только в текстовом режиме), другое положительное число задает примерный размер буфера в байтах, а отрицательное значение (или отсутствие значения) означает установку размера, применяемого в системе по умолчанию.\n",
    "\n",
    "При использовании текстового режима (используется по умолчанию) при чтении производится попытка преобразовать данные в кодировку *Unicode*, а при записи выполняется обратная операция: строка преобразуется в последовательность байтов. По умолчанию используется кодировка, используемая в системе. Если преобразование невозможно, то возбуждается исключение. Указать кодировку, которая будет использоваться при записи и чтении файла, позволяет параметр *encoding*. В качестве примера запишем данные в кодировке *UTF-8*:\n",
    "\n",
    "<u><i>Пример</i></u>. С помощью менеджера контекста записать данные в файл в кодировке *utf-8* и прочитать их."
   ]
  },
  {
   "cell_type": "code",
   "execution_count": 23,
   "metadata": {},
   "outputs": [],
   "source": [
    "with open(\"file_05.txt\", \"w\", encoding=\"utf-8\") as f: # Указываем кодировку файла\n",
    "    f.write(\"Важные сведения\") # Заnисываем строку в файл"
   ]
  },
  {
   "cell_type": "code",
   "execution_count": 24,
   "metadata": {
    "scrolled": true
   },
   "outputs": [
    {
     "name": "stdout",
     "output_type": "stream",
     "text": [
      "Важные сведения\n"
     ]
    }
   ],
   "source": [
    "with open(\"file_05.txt\", \"r\", encoding=\"utf-8\") as f: \n",
    "    for line in f:\n",
    "        print(line)"
   ]
  },
  {
   "cell_type": "markdown",
   "metadata": {},
   "source": [
    "## Методы работы с файлами  <a class=\"anchor\" id=\"работа-с-файлами\"></a>\n",
    "-\n",
    "* [к оглавлению](#разделы)"
   ]
  },
  {
   "cell_type": "markdown",
   "metadata": {},
   "source": [
    "- close\n",
    "\n",
    "Метод *close()* закрывает файл. Так как интерпретатор автоматически удаляет объект, когда отсутствуют ссылки на него, можно явно не закрывать файл в небольших программах. Тем не менее явное закрытие файла является признаком хорошего стиля программирования. Менеджер контекста гарантирует закрытие файла вне зависимости от того, произошло исключение внутри блока кода или нет.\n",
    "\n",
    "- write\n",
    "\n",
    "Метод `write(<Данные>)` записывает строку или последовательность байтов в файл. Если в качестве параметра указана строка, то файл должен быть открыт в текстовом режиме. Для записи последовательности байтов необходимо открыть файл в бинарном режиме. Метод возвращает количество записанных символов или байтов.\n",
    "\n",
    "<u><i>Пример</i></u>. Записать в файл последовательность байтов."
   ]
  },
  {
   "cell_type": "code",
   "execution_count": 1,
   "metadata": {},
   "outputs": [
    {
     "data": {
      "text/plain": [
       "(15, 8)"
      ]
     },
     "execution_count": 1,
     "metadata": {},
     "output_type": "execute_result"
    }
   ],
   "source": [
    "# Бинарный режим:\n",
    "with open('file_06.txt', 'wb') as f: \n",
    "    number_1 = f.write(bytes('Строка1\\nСтрока2', 'cp1251')) \n",
    "    number_2 = f.write(bytearray('\\nCтpoкaЗ', 'cp1251'))\n",
    "\n",
    "number_1, number_2 # Число записанных байтов в файл."
   ]
  },
  {
   "cell_type": "markdown",
   "metadata": {},
   "source": [
    "Конструктор *bytes()* возвращает последовательность байт, которые можно распечатать в шестнадцатеричном виде."
   ]
  },
  {
   "cell_type": "code",
   "execution_count": 3,
   "metadata": {},
   "outputs": [
    {
     "data": {
      "text/plain": [
       "b'\\xd1\\xf2\\xf0\\xee\\xea\\xe01\\n\\xd1\\xf2\\xf0\\xee\\xea\\xe02'"
      ]
     },
     "execution_count": 3,
     "metadata": {},
     "output_type": "execute_result"
    }
   ],
   "source": [
    "# Обязательные параметры конструктора bytes: строка и кодировка строки\n",
    "bytes('Строка1\\nСтрока2', 'cp1251')"
   ]
  },
  {
   "cell_type": "markdown",
   "metadata": {},
   "source": [
    "Мы можем преобразовать в последовательность байтов не только символы, но и числа."
   ]
  },
  {
   "cell_type": "code",
   "execution_count": 4,
   "metadata": {},
   "outputs": [
    {
     "data": {
      "text/plain": [
       "b'\\x00\\x01\\x02\\x03\\x04\\x05\\x06\\x07\\x08\\t\\n\\x0b\\x0c\\r\\x0e\\x0f\\x10\\x11\\x12\\x13'"
      ]
     },
     "execution_count": 4,
     "metadata": {},
     "output_type": "execute_result"
    }
   ],
   "source": [
    "bs = bytes(range(20))\n",
    "bs"
   ]
  },
  {
   "cell_type": "markdown",
   "metadata": {},
   "source": [
    "По последовательности байтов можно выполнить итерацию."
   ]
  },
  {
   "cell_type": "code",
   "execution_count": 5,
   "metadata": {},
   "outputs": [
    {
     "name": "stdout",
     "output_type": "stream",
     "text": [
      "0 1 2 3 4 5 6 7 8 9 10 11 12 13 14 15 16 17 18 19 "
     ]
    }
   ],
   "source": [
    "for b in bs:\n",
    "    print(b, end = ' ')"
   ]
  },
  {
   "cell_type": "markdown",
   "metadata": {},
   "source": [
    "Число, преобразуемое конструктором *bytes()* к бинарному виду не должно превышать 255."
   ]
  },
  {
   "cell_type": "code",
   "execution_count": 8,
   "metadata": {},
   "outputs": [
    {
     "name": "stdout",
     "output_type": "stream",
     "text": [
      "bytes must be in range(0, 256)\n"
     ]
    }
   ],
   "source": [
    "try:\n",
    "    bytes(range(255, 257))\n",
    "except ValueError as err:\n",
    "    print(err)"
   ]
  },
  {
   "cell_type": "markdown",
   "metadata": {},
   "source": [
    "- print\n",
    "\n",
    "Запись в файл можно выполнять при помощи функции *print()*, передав файл в необязательный атрибут *file*:"
   ]
  },
  {
   "cell_type": "code",
   "execution_count": 30,
   "metadata": {},
   "outputs": [],
   "source": [
    "with open('file_07.txt', 'w', encoding='cp1251') as f: \n",
    "    print('Строка 1.\\nСтрока 2.', file=f)\n",
    "    print('Строка 3.', end=' ', file=f) # значение по умолчанию end='\\n'\n",
    "    print('Продолжение строки 3.', file=f)"
   ]
  },
  {
   "cell_type": "markdown",
   "metadata": {},
   "source": [
    "- writelines\n",
    "\n",
    "Метод `writelines([<Строка_1>[, <Строка_2>, ... <Строка_n>]])` записывает в файл элементы списка."
   ]
  },
  {
   "cell_type": "code",
   "execution_count": 32,
   "metadata": {},
   "outputs": [
    {
     "name": "stdout",
     "output_type": "stream",
     "text": [
      "Строка 1\n",
      "Строка 2\n",
      "Строка 3\n",
      "Строка 4\n"
     ]
    }
   ],
   "source": [
    "with open('file_08.txt', 'w', encoding='utf-8') as f: \n",
    "    f.writelines(['Строка 1\\n', 'Строка 2'])\n",
    "\n",
    "with open('file_08.txt', 'a', encoding='utf-8') as f:\n",
    "    f.writelines(['\\nСтрока 3', '\\nСтрока 4'])\n",
    "\n",
    "with open('file_08.txt', 'r', encoding='utf-8') as f: \n",
    "    print(f.read())"
   ]
  },
  {
   "cell_type": "markdown",
   "metadata": {},
   "source": [
    "- read\n",
    "\n",
    "Метод `read([<Количество>])` считывает данные из файла. Если файл открыт в текстовом режиме, то возвращается строка, а если в бинарном – последовательность байтов. Если параметр не указан, то возвращается содержимое файла от текущей позиции указателя до конца файла.\n",
    "\n",
    "<u><i>Пример</i></u>. С помощью метода *read()* прочесть содержимое файла."
   ]
  },
  {
   "cell_type": "code",
   "execution_count": 33,
   "metadata": {},
   "outputs": [
    {
     "name": "stdout",
     "output_type": "stream",
     "text": [
      "Строка 1.\n",
      "Строка 2.\n",
      "Строка 3. Продолжение строки 3.\n",
      "\n"
     ]
    }
   ],
   "source": [
    "with open('file_07.txt', \"r\", encoding=\"cp1251\") as f:\n",
    "    print(f.read())"
   ]
  },
  {
   "cell_type": "markdown",
   "metadata": {},
   "source": [
    "<u><i>Пример</i></u>. С помощью *read()* прочесть две порции по 4 символа, а затем до конца файла."
   ]
  },
  {
   "cell_type": "code",
   "execution_count": 34,
   "metadata": {
    "scrolled": true
   },
   "outputs": [
    {
     "name": "stdout",
     "output_type": "stream",
     "text": [
      "Стро\n",
      "ка 1\n",
      "\n",
      "Строка 2\n",
      "Строка 3\n",
      "Строка 4\n"
     ]
    }
   ],
   "source": [
    "with open('file_08.txt', 'r', encoding='utf-8') as f:\n",
    "    print(f.read(4))\n",
    "    print(f.read(4))\n",
    "    print(f.read()) # Читаем файл от текущей позиции указателя до конца"
   ]
  },
  {
   "cell_type": "markdown",
   "metadata": {},
   "source": [
    "По достижении конца файла метод *read()* возвращает пустую строку. Этим можно воспользоваться для проверки, достигнут ли конец файла.\n",
    "\n",
    "<u><i>Пример</i></u>. Прочитать весь файл порциями по 4 символа."
   ]
  },
  {
   "cell_type": "code",
   "execution_count": 35,
   "metadata": {},
   "outputs": [
    {
     "name": "stdout",
     "output_type": "stream",
     "text": [
      "Стро\n",
      "ка 1\n",
      "\n",
      "Стр\n",
      "ока \n",
      "2\n",
      "Ст\n",
      "рока\n",
      " 3\n",
      "С\n",
      "трок\n",
      "а 4\n",
      "Конец файла\n"
     ]
    }
   ],
   "source": [
    "with open('file_08.txt', 'r', encoding='utf-8') as f:\n",
    "    part = True # Предполагаем, что файл изначально не пустой.\n",
    "    while part:\n",
    "        part = f.read(4)\n",
    "        print(part) if part else print('Конец файла')"
   ]
  },
  {
   "cell_type": "markdown",
   "metadata": {},
   "source": [
    "<u><i>Пример</i></u>. Прочесть файл в бинарном формате."
   ]
  },
  {
   "cell_type": "code",
   "execution_count": 36,
   "metadata": {},
   "outputs": [
    {
     "name": "stdout",
     "output_type": "stream",
     "text": [
      "b'\\xd0\\xa1\\xd1\\x82\\xd1\\x80\\xd0\\xbe\\xd0\\xba\\xd0\\xb0 1\\r\\n\\xd0\\xa1\\xd1\\x82\\xd1\\x80\\xd0\\xbe\\xd0\\xba\\xd0\\xb0 2\\r\\n\\xd0\\xa1\\xd1\\x82\\xd1\\x80\\xd0\\xbe\\xd0\\xba\\xd0\\xb0 3\\r\\n\\xd0\\xa1\\xd1\\x82\\xd1\\x80\\xd0\\xbe\\xd0\\xba\\xd0\\xb0 4'\n"
     ]
    }
   ],
   "source": [
    "with open(\"file_08.txt\", \"rb\") as f:\n",
    "    print(f.read())"
   ]
  },
  {
   "cell_type": "markdown",
   "metadata": {},
   "source": [
    "<u><i>Пример</i></u>. Прочесть указанное число байт в бинарном формате."
   ]
  },
  {
   "cell_type": "code",
   "execution_count": 37,
   "metadata": {},
   "outputs": [
    {
     "name": "stdout",
     "output_type": "stream",
     "text": [
      "b'\\xd0\\xa1\\xd1\\x82'\n"
     ]
    }
   ],
   "source": [
    "with open(\"file_08.txt\", \"rb\") as f: \n",
    "    print(f.read(4))"
   ]
  },
  {
   "cell_type": "markdown",
   "metadata": {},
   "source": [
    "- readline\n",
    "\n",
    "Метод `readline([<Количество>])` считывает из файла одну строку при каждом вызове. Если файл открыт в текстовом режиме, то возвращается строка, а если в бинарном – последовательность байтов. При достижении конца файла возвращается пустая строка.\n",
    "\n",
    "Если в необязательном параметре указано число, то считывание будет выполняться до тех пор, пока не встретится символ новой строки (\\n), или из файла не будет прочитано указанное количество символов."
   ]
  },
  {
   "cell_type": "code",
   "execution_count": 38,
   "metadata": {},
   "outputs": [
    {
     "name": "stdout",
     "output_type": "stream",
     "text": [
      "Строка 1\n",
      "\n",
      "----\n",
      "Строка 2\n",
      "\n",
      "----\n",
      "Строка 3\n",
      "\n"
     ]
    }
   ],
   "source": [
    "with open(\"file_08.txt\", \"r\", encoding=\"utf-8\") as f:\n",
    "    print(f.readline())\n",
    "    print('----')\n",
    "    print(f.readline())\n",
    "    print('----')\n",
    "    print(f.readline())"
   ]
  },
  {
   "cell_type": "code",
   "execution_count": 39,
   "metadata": {},
   "outputs": [
    {
     "name": "stdout",
     "output_type": "stream",
     "text": [
      "b'\\xd0\\xa1\\xd1\\x82\\xd1\\x80\\xd0\\xbe\\xd0\\xba\\xd0\\xb0 1\\r\\n'\n",
      "----\n",
      "b'\\xd0\\xa1\\xd1\\x82\\xd1\\x80\\xd0\\xbe\\xd0\\xba\\xd0\\xb0 2\\r\\n'\n",
      "----\n",
      "b'\\xd0\\xa1\\xd1\\x82\\xd1\\x80\\xd0\\xbe\\xd0\\xba\\xd0\\xb0 3\\r\\n'\n"
     ]
    }
   ],
   "source": [
    "with open(\"file_08.txt\", \"rb\") as f:\n",
    "    print(f.readline())\n",
    "    print('----')\n",
    "    print(f.readline())\n",
    "    print('----')\n",
    "    print(f.readline())"
   ]
  },
  {
   "cell_type": "markdown",
   "metadata": {},
   "source": [
    "Метод `readlines()` считывает все содержимое файла в список строк. Если файл открыт в текстовом режиме, то возвращается список строк, а если в бинарном – список байтов."
   ]
  },
  {
   "cell_type": "code",
   "execution_count": 40,
   "metadata": {},
   "outputs": [
    {
     "data": {
      "text/plain": [
       "['Строка 1\\n', 'Строка 2\\n', 'Строка 3\\n', 'Строка 4']"
      ]
     },
     "execution_count": 40,
     "metadata": {},
     "output_type": "execute_result"
    }
   ],
   "source": [
    "with open('file_08.txt', 'r', encoding='utf-8') as f:\n",
    "    lines = f.readlines()\n",
    "lines"
   ]
  },
  {
   "cell_type": "markdown",
   "metadata": {},
   "source": [
    "- \\_\\_next\\_\\_\n",
    "\n",
    "`__next__()` считывает одну строку при каждом вызове. Если файл открыт в текстовом режиме, то возвращается строка, а если в бинарном – последовательность байтов. При достижении конца файла возбуждается исключение *StopIteration*."
   ]
  },
  {
   "cell_type": "code",
   "execution_count": 41,
   "metadata": {},
   "outputs": [
    {
     "name": "stdout",
     "output_type": "stream",
     "text": [
      "Строка 1\n",
      "\n",
      "Строка 2\n",
      "\n",
      "Строка 3\n",
      "\n",
      "Строка 4\n"
     ]
    }
   ],
   "source": [
    "with open('file_08.txt', 'r', encoding='utf-8') as f: \n",
    "    for line in f:\n",
    "        print(line)"
   ]
  },
  {
   "cell_type": "markdown",
   "metadata": {},
   "source": [
    "- flush\n",
    "\n",
    "`flush()` записывает данные из буфера на диск."
   ]
  },
  {
   "cell_type": "markdown",
   "metadata": {},
   "source": [
    "С помощью *tell()* и *seek()* можно управлять указателем файла.\n",
    "\n",
    "- tell\n",
    "\n",
    "`tell()` возвращает позицию указателя относительно начала файла в виде целого числа. Обратите внимание на то, что в Windows метод `tell()` считает символ `\\r` как дополнительный байт, хотя этот символ удаляется при открытии файла в текстовом режиме, поэтому если возникает несоответствие, следует открывать файл в бинарном режиме."
   ]
  },
  {
   "cell_type": "markdown",
   "metadata": {},
   "source": [
    "- seek\n",
    "\n",
    "`seek(<Смещение> [, <Позиция>])` устанавливает указатель в позицию, имеющую смещение <Смещение> относительно позиции <Позиция>. В параметре <Позиция> могут быть указаны следующие атрибуты из модуля io или соответствующие им значения: \n",
    "\n",
    "* io.SEEK_SET или 0 — начало файла (значение по умолчанию); \n",
    "* io.SEEK_CUR или 1 — текущая позиция указателя; \n",
    "* io.SEEK_END или 2 — конец файла. "
   ]
  },
  {
   "cell_type": "markdown",
   "metadata": {},
   "source": [
    "<u><i>Пример</i></u>. Используя методы работы с файлом, узнаем размер файла в байтах."
   ]
  },
  {
   "cell_type": "code",
   "execution_count": 1,
   "metadata": {},
   "outputs": [
    {
     "data": {
      "text/plain": [
       "['Строка 1\\n', 'Строка 2\\n', 'Строка 3\\n', 'Строка 4']"
      ]
     },
     "execution_count": 1,
     "metadata": {},
     "output_type": "execute_result"
    }
   ],
   "source": [
    "with open('file_08.txt', 'r', encoding='utf-8') as f:\n",
    "    data = f.readlines()\n",
    "data"
   ]
  },
  {
   "cell_type": "code",
   "execution_count": 2,
   "metadata": {},
   "outputs": [
    {
     "name": "stdout",
     "output_type": "stream",
     "text": [
      "62\n"
     ]
    }
   ],
   "source": [
    "# С помощью seek и tell\n",
    "import io\n",
    "with open('file_08.txt', 'r', encoding='utf-8') as f:\n",
    "    f.seek(0, io.SEEK_END)\n",
    "    print(f.tell())"
   ]
  },
  {
   "cell_type": "code",
   "execution_count": 3,
   "metadata": {},
   "outputs": [
    {
     "data": {
      "text/plain": [
       "62"
      ]
     },
     "execution_count": 3,
     "metadata": {},
     "output_type": "execute_result"
    }
   ],
   "source": [
    "# С помощью функции stat из бибилиотеки os\n",
    "import os\n",
    "with open(\"file_08.txt\", \"r\", encoding=\"utf-8\") as f:\n",
    "    filesize = os.stat('file_08.txt') # Возвращается кортеж\n",
    "filesize.st_size"
   ]
  },
  {
   "cell_type": "markdown",
   "metadata": {},
   "source": [
    "Помимо методов объекты файлов поддерживают атрибуты \n",
    "- name – содержит название файла; \n",
    "- mode – режим, в котором был открыт файл; \n",
    "- closed – возвращает True, если файл был закрыт, и False в противном случае. \n",
    "- encoding – название кодировки, которая будет использоваться для преобразования строк перед записью в файл или при чтении. Обратите внимание на то, что изменить значение атрибута нельзя, т. к. атрибут доступен только для чтения. Атрибут доступен только в текстовом режиме."
   ]
  },
  {
   "cell_type": "code",
   "execution_count": 14,
   "metadata": {},
   "outputs": [
    {
     "data": {
      "text/plain": [
       "('file_08.txt', 'r', True, 'utf-8')"
      ]
     },
     "execution_count": 14,
     "metadata": {},
     "output_type": "execute_result"
    }
   ],
   "source": [
    "f.name, f.mode, f.closed, f.encoding"
   ]
  },
  {
   "cell_type": "markdown",
   "metadata": {},
   "source": [
    "<a class=\"anchor\" id=\"csv\"></a>\n",
    "\n",
    "\n",
    "# Модуль CSV\n",
    "-\n",
    "* [к оглавлению](#разделы)"
   ]
  },
  {
   "cell_type": "markdown",
   "metadata": {},
   "source": [
    "Формат CSV (Comma Separated Values) является наиболее распространенным форматом импорта и экспорта электронных таблиц и баз данных. Формат CSV использовался в течение многих лет до попыток стандартизированного описания формата в <a href=\"https://datatracker.ietf.org/doc/html/rfc4180.html\">RFC 4180</a>. Отсутствие четко определенного стандарта означает, что в данных, создаваемых и потребляемых различными приложениями, часто существуют тонкие различия. Эти различия могут сделать раздражающим процесс обработки CSV-файлов из нескольких источников. Тем не менее, хотя разделители и символы кавычек различаются, общий формат достаточно похож, чтобы можно было написать один модуль, который может эффективно манипулировать такими данными, скрывая детали чтения и записи данных от программиста.\n",
    "\n",
    "Модуль CSV реализует классы для чтения и записи табличных данных в формате CSV. Он позволяет программистам сказать: «записать эти данные в формате, предпочитаемом Excel» или «прочитать данные из этого файла, который был сгенерирован Excel», не зная точных деталей формата CSV, используемого Excel.\n",
    "\n",
    "Рассмотрим функции CSV-модуля:\n",
    "- reader\n",
    "- writer\n",
    "\n",
    "и классы CSV-модуля:\n",
    "- DictReader\n",
    "- DictWriter\n",
    "\n",
    "### Функция *reader*\n",
    "\n",
    "```python\n",
    "csv.reader(csvfile, dialect='excel', **fmtparams)\n",
    "```\n",
    "\n",
    "Возвращает объект, который будет обрабатывать строки из указанного файла csv. Файл csv должен быть итерируемым набором строк, каждая из которых находится в формате csv.\n",
    "\n",
    "Необязательный параметр *dialect* облегчает работу с csv-файлами когда требуется учесть особенности сторонних приложений, с помощью которых csv-файлы подготовлены.\n",
    "\n",
    "*fmtparams* – это необязательные параметры форматирования, например, параметр `delimiter=','` задает значение символа разделителя. Другими параметрами форматирования являются *doublequote*, *escapechar*, *lineterminator*. Более подробно с параметрами форматирования можно ознакомиться в <a href=\"https://docs.python.org/3/library/csv.html#csv-fmt-params\">документации</a>.\n",
    "\n",
    "Создадим в папке *Data* электронного курса csv-файл с именем *Дети.csv* следующего содержимого:\n",
    "\n",
    "```python\n",
    "Имя,Возраст,Рост\n",
    "Маша,5,116\n",
    "Вася,4,110\n",
    "Федя,9,142\n",
    "\n",
    "```"
   ]
  },
  {
   "cell_type": "code",
   "execution_count": 18,
   "metadata": {},
   "outputs": [],
   "source": [
    "with open('../Data/Дети.csv', mode='w', encoding='utf-8') as f:\n",
    "    f.write('Имя,Возраст,Рост\\n')\n",
    "    f.write('Маша,5,116\\n')\n",
    "    f.write('Вася,4,110\\n')\n",
    "    f.write('Федя,9,142')"
   ]
  },
  {
   "cell_type": "markdown",
   "metadata": {},
   "source": [
    "<u><i>Пример</i></u>. Прочесть построчно файл *Дети.csv*."
   ]
  },
  {
   "cell_type": "code",
   "execution_count": 19,
   "metadata": {},
   "outputs": [
    {
     "name": "stdout",
     "output_type": "stream",
     "text": [
      "['Имя', 'Возраст', 'Рост']\n",
      "['Маша', '5', '116']\n",
      "['Вася', '4', '110']\n",
      "['Федя', '9', '142']\n"
     ]
    }
   ],
   "source": [
    "import csv\n",
    "with open('../Data/Дети.csv', encoding='utf8') as f:\n",
    "    children = csv.reader(f)\n",
    "\n",
    "    for child in children:\n",
    "        print(child)"
   ]
  },
  {
   "cell_type": "markdown",
   "metadata": {},
   "source": [
    "Легко заметить, что у файла есть заголовок, он находится в первой строке. Прочитаем его отдельно.\n",
    "\n",
    "<u><i>Пример</i></u>. Заголовок файла *Дети.csv* прочесть отдельно и распечатать, прочесть остальные строки файла и также распечатать."
   ]
  },
  {
   "cell_type": "code",
   "execution_count": 76,
   "metadata": {},
   "outputs": [
    {
     "name": "stdout",
     "output_type": "stream",
     "text": [
      "Заголовок:\n",
      " ['Имя', 'Возраст', 'Рост']\n",
      "Данные:\n",
      "['Маша', '5', '116']\n",
      "['Вася', '4', '110']\n",
      "['Федя', '9', '142']\n"
     ]
    }
   ],
   "source": [
    "with open('../Data/Дети.csv', encoding='utf8') as f:\n",
    "    children = csv.reader(f)\n",
    "    \n",
    "    header = next(children)\n",
    "    print('Заголовок:\\n', header)\n",
    "\n",
    "    print('Данные:')\n",
    "    for child in children:\n",
    "        print(child)"
   ]
  },
  {
   "cell_type": "markdown",
   "metadata": {},
   "source": [
    "В этом примере мы использовали функцию *next()*, которая выполнила одну итерацию, а именно: прочла одну строку, вернула ее значение в переменную *header* и сместила указатель чтения файла на следующую строку.\n",
    "\n",
    "\n",
    "### Класс *DictReader*\n",
    "\n",
    "Используем класс *DictReader* чтобы представить строки csv-файла в виде словарей.\n",
    "\n",
    "<u><i>Пример</i></u>. Прочесть данные в файле *Дети.csv* и вернуть значения в виде словарей. Распечатать результат. Найти возраст Васи."
   ]
  },
  {
   "cell_type": "code",
   "execution_count": 77,
   "metadata": {},
   "outputs": [
    {
     "name": "stdout",
     "output_type": "stream",
     "text": [
      "{'Имя': 'Маша', 'Возраст': '5', 'Рост': '116'}\n",
      "{'Имя': 'Вася', 'Возраст': '4', 'Рост': '110'}\n",
      "{'Имя': 'Федя', 'Возраст': '9', 'Рост': '142'}\n",
      "Возраст Васи 4\n"
     ]
    }
   ],
   "source": [
    "with open('../Data/Дети.csv', encoding='utf8') as f:\n",
    "    dict_reader = csv.DictReader(f)\n",
    "    \n",
    "    for child in dict_reader:\n",
    "        print(child)\n",
    "        if child['Имя'] == 'Вася':\n",
    "            vasya_age = child['Возраст']\n",
    "    \n",
    "print('Возраст Васи', vasya_age)"
   ]
  },
  {
   "cell_type": "markdown",
   "metadata": {},
   "source": [
    "### Функция *writer*\n",
    "\n",
    "Используем функцию *writer*, чтобы добавить к списку еще двух детей."
   ]
  },
  {
   "cell_type": "code",
   "execution_count": 20,
   "metadata": {},
   "outputs": [],
   "source": [
    "with open('../Data/Дети.csv', encoding='utf8', mode='a', newline='') as f:\n",
    "    writer = csv.writer(f)\n",
    "    \n",
    "    writer.writerow('') # Добавляем пустую строку, чтобы новые данные начинались с новой строки\n",
    "    writer.writerow('Ахмед,7,120'.split(','))\n",
    "    writer.writerow('Иса,6,118'.split(','))"
   ]
  },
  {
   "cell_type": "markdown",
   "metadata": {},
   "source": [
    "Пусть сведения о детях уже находятся в списке.\n",
    "\n",
    "```python\n",
    "children = [\n",
    "    ['Виталий', 10, 135],\n",
    "    ['Ангелина', 9, 110]\n",
    "]\n",
    "```\n",
    "\n",
    "Тогда добавим их в имеющийся файл с помощью всего одной команды *writerows*."
   ]
  },
  {
   "cell_type": "code",
   "execution_count": 21,
   "metadata": {},
   "outputs": [],
   "source": [
    "children = [\n",
    "    ['Виталий', 10, 135],\n",
    "    ['Ангелина', 9, 110]\n",
    "]\n",
    "\n",
    "with open('../Data/Дети.csv', encoding='utf8', mode='a', newline='') as f:\n",
    "    writer = csv.writer(f)\n",
    "    writer.writerows(children)"
   ]
  },
  {
   "cell_type": "markdown",
   "metadata": {},
   "source": [
    "Еще раз прочитаем csv-файл и распечатаем результат."
   ]
  },
  {
   "cell_type": "code",
   "execution_count": 22,
   "metadata": {
    "scrolled": true
   },
   "outputs": [
    {
     "name": "stdout",
     "output_type": "stream",
     "text": [
      "['Имя', 'Возраст', 'Рост']\n",
      "['Маша', '5', '116']\n",
      "['Вася', '4', '110']\n",
      "['Федя', '9', '142']\n",
      "['Ахмед', '7', '120']\n",
      "['Иса', '6', '118']\n",
      "['Виталий', '10', '135']\n",
      "['Ангелина', '9', '110']\n"
     ]
    }
   ],
   "source": [
    "with open('../Data/Дети.csv', encoding='utf8') as f:\n",
    "    children = csv.reader(f)\n",
    "\n",
    "    for child in children:\n",
    "        print(child) if child else None"
   ]
  },
  {
   "cell_type": "markdown",
   "metadata": {},
   "source": [
    "* [к оглавлению](#разделы)"
   ]
  },
  {
   "cell_type": "markdown",
   "metadata": {},
   "source": [
    "Литература\n",
    "\n",
    "- https://docs.python.org/3/library/csv.html#module-csv\n",
    "- https://pymotw.com/2/csv/\n",
    "- https://www.w3schools.com/python/pandas/pandas_csv.asp"
   ]
  }
 ],
 "metadata": {
  "anaconda-cloud": {},
  "kernelspec": {
   "display_name": "Python 3 (ipykernel)",
   "language": "python",
   "name": "python3"
  },
  "language_info": {
   "codemirror_mode": {
    "name": "ipython",
    "version": 3
   },
   "file_extension": ".py",
   "mimetype": "text/x-python",
   "name": "python",
   "nbconvert_exporter": "python",
   "pygments_lexer": "ipython3",
   "version": "3.11.5"
  }
 },
 "nbformat": 4,
 "nbformat_minor": 1
}
