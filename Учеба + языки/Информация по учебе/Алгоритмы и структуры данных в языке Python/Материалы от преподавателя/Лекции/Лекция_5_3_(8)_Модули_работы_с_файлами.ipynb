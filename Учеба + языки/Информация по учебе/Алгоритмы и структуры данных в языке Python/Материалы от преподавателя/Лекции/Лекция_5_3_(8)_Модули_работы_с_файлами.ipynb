{
 "cells": [
  {
   "cell_type": "markdown",
   "metadata": {},
   "source": [
    "<img src=\"../Img/ФинУ.jpg\">\n",
    "\n",
    "# Алгоритмы и структуры данных в языке Python\n",
    "\n",
    "# Лекция 8. Модули для работы с файлами\n",
    "\n",
    "Лектор: Смирнов Михаил Викторович, доцент кафедры информационных технологий Финансового университета при Правительстве Российской Федерации"
   ]
  },
  {
   "cell_type": "markdown",
   "metadata": {},
   "source": [
    "## Оглавление <a class=\"anchor\" id=\"разделы\"></a>\n",
    "-\n",
    "* [К оглавлению](#разделы)\n",
    "-\n",
    "\n",
    "* [Модуль Pickle](#pickle)\n",
    "* [Модуль Shelve](#shelve)\n",
    "* [Модуль JSON](#json)\n",
    "* [Модуль XML](#xml)\n",
    "-\n",
    "* [К оглавлению](#разделы)"
   ]
  },
  {
   "cell_type": "markdown",
   "metadata": {},
   "source": [
    "<a class=\"anchor\" id=\"pickle\"></a>\n",
    "\n",
    "# Модуль *Pickle*\n",
    "-\n",
    "* [к оглавлению](#разделы)\n",
    "\n",
    "Модуль *Pickle* обеспечивает сериализацию объектов Python.\n",
    "\n",
    "Модуль *Pickle* предоставляет следующие функции:\n",
    "* `dump(obj, file[, protocol=None][, fix_imports=True])` – производит сериализацию объекта *obj* и записывает данные в указанный файл. В параметре <Файл> указывается файловый объект, открытый на запись в бинарном режиме. \n",
    "* `load(file[, fix_imports=True][, encoding=\"ASCII\"][, errors=\"strict\"])` – читает данные из файла и преобразует их в объект. В параметре <Файл> указывается файловый объект, открытый на чтение в бинарном режиме.\n",
    "\n",
    "<p style=\"color:gray\">Необязательные аргументы fix_imports, encoding и errors используются для управления поддержкой совместимости для потока pickle, сгенерированного Python 2. Если fix_imports имеет значение true, pickle попытается сопоставить старые имена Python 2 с новыми именами, используемыми в Python 3. Кодировка и ошибки сообщают pickle, как декодировать 8-битные строковые экземпляры, сохраненные Python 2.</p>"
   ]
  },
  {
   "cell_type": "code",
   "execution_count": 7,
   "metadata": {},
   "outputs": [],
   "source": [
    "import pickle\n",
    "\n",
    "obj_1 = ['Строка', (1, 2, 3)] # Объект для сохранения в файле\n",
    "\n",
    "with open('file_09.pkl', 'wb') as f:\n",
    "    pickle.dump(obj_1, f)"
   ]
  },
  {
   "cell_type": "markdown",
   "metadata": {},
   "source": [
    "Перезагрузим ядро Jupyter Notebook."
   ]
  },
  {
   "cell_type": "code",
   "execution_count": 2,
   "metadata": {},
   "outputs": [
    {
     "data": {
      "text/plain": [
       "['Строка', (1, 2, 3)]"
      ]
     },
     "execution_count": 2,
     "metadata": {},
     "output_type": "execute_result"
    }
   ],
   "source": [
    "import pickle\n",
    "\n",
    "with open('file_09.pkl', 'rb') as f:\n",
    "    data = pickle.load(f)\n",
    "data"
   ]
  },
  {
   "cell_type": "markdown",
   "metadata": {},
   "source": [
    "В один файл можно сохранить сразу несколько объектов Python, последовательно вызывая функцию *dump()*. Создадим объекты разных типов и поместим их в *Pickle*-файл."
   ]
  },
  {
   "cell_type": "code",
   "execution_count": 3,
   "metadata": {},
   "outputs": [],
   "source": [
    "obj_1 = ['Строка', (1, 2, 3)]\n",
    "obj_2 = (6, 7, 8, 9, 10)\n",
    "obj_3 = {'fruits': 30, 'nuts': 50}\n",
    "obj_4 = 77.9\n",
    "\n",
    "with open('file_10.pkl', 'wb') as f:\n",
    "    pickle.dump(obj_1, f)\n",
    "    pickle.dump(obj_2, f)\n",
    "    pickle.dump(obj_3, f)\n",
    "    pickle.dump(obj_4, f)"
   ]
  },
  {
   "cell_type": "markdown",
   "metadata": {},
   "source": [
    "Перезагрузим ядро Jupyter Notebook."
   ]
  },
  {
   "cell_type": "code",
   "execution_count": 2,
   "metadata": {},
   "outputs": [
    {
     "name": "stdout",
     "output_type": "stream",
     "text": [
      "['Строка', (1, 2, 3)]\n",
      "(6, 7, 8, 9, 10)\n",
      "{'fruits': 30, 'nuts': 50}\n"
     ]
    }
   ],
   "source": [
    "import pickle\n",
    "\n",
    "with open('file_10.pkl', 'rb') as f:\n",
    "    data_1 = pickle.load(f)\n",
    "    data_2 = pickle.load(f)\n",
    "    data_3 = pickle.load(f)\n",
    "print(data_1)\n",
    "print(data_2)\n",
    "print(data_3)"
   ]
  },
  {
   "cell_type": "markdown",
   "metadata": {},
   "source": [
    "Получим все объекты в цикле."
   ]
  },
  {
   "cell_type": "code",
   "execution_count": 3,
   "metadata": {},
   "outputs": [
    {
     "name": "stdout",
     "output_type": "stream",
     "text": [
      "['Строка', (1, 2, 3)]\n",
      "(6, 7, 8, 9, 10)\n",
      "{'fruits': 30, 'nuts': 50}\n",
      "77.9\n"
     ]
    }
   ],
   "source": [
    "with open('file_10.pkl', 'rb') as f:\n",
    "    \n",
    "    while True:\n",
    "        try:\n",
    "            print(pickle.load(f))\n",
    "        except EOFError:\n",
    "            break"
   ]
  },
  {
   "cell_type": "markdown",
   "metadata": {},
   "source": [
    "Таким образом, одним из подходов практического использования *Pickle* является сериализация объектов *Python* с целью передачи на другой компьютер с последующей десериализацией.\n",
    "\n",
    "Вместо сохранения в файл, *Pickle* позволяет также преобразовать объект в последовательность байтов и восстановить объект из этой последовательности. Для этого предназначены функции *dumps* и *lоаds*: \n",
    "\n",
    "- `dumps(<Объект> [, <Протокол>] [, fix_imports=True])` – производит сериализацию объекта и возвращает последовательность байтов специального формата.\n",
    "\n",
    "- `lоаds(<Последовательность байтов>[, fix_imports=True] [, errors=\"strict\"])` – преобразует последовательность байтов \n",
    "обратно в объект (десериализация)."
   ]
  },
  {
   "cell_type": "code",
   "execution_count": 6,
   "metadata": {},
   "outputs": [
    {
     "data": {
      "text/plain": [
       "b'\\x80\\x04\\x95\\x1c\\x00\\x00\\x00\\x00\\x00\\x00\\x00]\\x94(\\x8c\\x0c\\xd0\\xa1\\xd1\\x82\\xd1\\x80\\xd0\\xbe\\xd0\\xba\\xd0\\xb0\\x94K\\x01K\\x02K\\x03\\x87\\x94e.'"
      ]
     },
     "execution_count": 6,
     "metadata": {},
     "output_type": "execute_result"
    }
   ],
   "source": [
    "obj_1 = ['Строка', (1, 2, 3)]\n",
    "bs = pickle.dumps(obj_1)\n",
    "bs"
   ]
  },
  {
   "cell_type": "code",
   "execution_count": 7,
   "metadata": {},
   "outputs": [
    {
     "data": {
      "text/plain": [
       "['Строка', (1, 2, 3)]"
      ]
     },
     "execution_count": 7,
     "metadata": {},
     "output_type": "execute_result"
    }
   ],
   "source": [
    "pickle.loads(bs)"
   ]
  },
  {
   "cell_type": "markdown",
   "metadata": {},
   "source": [
    "<a class=\"anchor\" id=\"shelve\"></a>\n",
    "\n",
    "# Модуль *Shelve*\n",
    "-\n",
    "* [к оглавлению](#разделы)\n",
    "\n",
    "### Введение\n",
    "\n",
    "Модуль *Shelve Python* – это инструмент хранения данных и управления данными в файлах. Модуль *Shelve* можно использоватьдля хранения данных в стиле реляционной базы данных.\n",
    "\n",
    "С помощью *Shelve* создается файловый объект, который действует как объект типа словаря и хранится  в постоянной памяти компьютера. Таким образом мы можем создавать *Shelve*-хранилища данных и управлять ими.\n",
    "\n",
    "В модуль *Shelve* входят следующие классы.\n",
    "\n",
    "<table><tbody><tr><th style=\"text-align:left\">№</th><th style=\"text-align:left\">Класс</th><th style=\"text-align:left\">Описание</th></tr><tr><td>1</td><td style=\"text-align:left\">Класс Shelf</td><td style=\"text-align:left\">Класс Shelf является базовым классом модуля Shelve.</td></tr><tr><td>2</td><td style=\"text-align:left\">Класс DBFileNameShelf</td><td style=\"text-align:left\">Это подкласс базового класса Shelf, он принимает имя файлов Shelf в качестве параметра своего конструктора</td></tr><tr><td>3</td><td style=\"text-align:left\">Класс BsdDbShelf</td><td style=\"text-align:left\">Класс BsdDbShelf также является подклассом базового класса Shelf, принимает объект типа dict в качестве параметра, что отличает этот подкласс от класса DBFileNameShelf. Параметр объекта типа dict, который мы передаем в качестве параметра его конструкторам, должен поддерживать методы first(), last(), previous(), next() и set_location().</td></tr></tbody></table>"
   ]
  },
  {
   "cell_type": "markdown",
   "metadata": {},
   "source": [
    "Изучим следующие действия с файлами с помощью *Shelve*:\n",
    "\n",
    "- Создание файла для хранения данных\n",
    "- Извлечение данных из файла\n",
    "- Обновление данных в файле\n",
    "\n",
    "*Shelve*-файл создают с помощью функции *open()* модуля *Shelve*.\n",
    "\n",
    "```python\n",
    "shelve_file = open(NameOfFile, flag = 'c', protocol = None, writeback = True)\n",
    "```\n",
    "\n",
    "Эта функция возвращает объект класса *DBFileNameShelf* и использует следующие параметры:\n",
    "\n",
    "- NameOfFile: это имя файла, который мы создаем или открываем.\n",
    "\n",
    "- flag: Параметры флага для синтаксиса функции open() – *'c', 'w', 'n', 'r'*, где *'c'* – параметр по умолчанию – доступ на чтение и запись, *'w'* – доступ на запись, *'r'* – доступ на чтение, а *'n'* – создаем новый файл с именем *NameOfFile*.\n",
    "\n",
    "- Writeback: Обратная запись. Параметр обратной записи по умолчанию имеет значение False, но если мы установим этот параметр как True, записи, которые мы передаем в файл *Shelve*, будут кэшироваться в кэш-памяти.\n",
    "\n",
    "- protocol: Протокол обработки записей.\n",
    "\n",
    "<u><i>Пример</i></u>. Создать *Shelve*-файл с данными."
   ]
  },
  {
   "cell_type": "code",
   "execution_count": 1,
   "metadata": {},
   "outputs": [],
   "source": [
    "# Импортируем модуль Shelve\n",
    "import shelve  \n",
    "\n",
    "# shelve-файл с данными о струдниках\n",
    "with shelve.open('file_shelve') as shelveData: \n",
    "\n",
    "    # Вносим в файл данные\n",
    "    shelveData['Employee Name'] = 'Василий Васильевич'\n",
    "    shelveData['Employee Age'] = 30\n",
    "    shelveData['Employee Department'] = 'Склад'\n",
    "    shelveData['Employee Performance'] = 'Отлично'\n",
    "    shelveData['Employee Score'] = 6"
   ]
  },
  {
   "cell_type": "markdown",
   "metadata": {},
   "source": [
    "В результате выполнения данной программы на диске созданы файлы *.dir* и *.dat* с указанным содержимым.\n",
    "\n",
    "**Методы библиотеки shelve**\n",
    "\n",
    "<table class=\"alt\"><tbody>\n",
    "    <tr><th style=\"text-align:left\">Sr No</th><th style=\"text-align:left\">Method Name</th><th style=\"text-align:left\">Описание</th></tr>\n",
    "    <tr><td style=\"text-align:left\">1</td><td style=\"text-align:left\">get()</td><td style=\"text-align:left\">Возвращает значение, связанное с ключом (указанным как аргумент метода).\n",
    "    </td></tr><tr><td style=\"text-align:left\">2</td><td style=\"text-align:left\">keys()</td><td style=\"text-align:left\">Возвращает имена ключей Shelve-файла.\n",
    "    </td></tr><tr><td style=\"text-align:left\">3</td><td style=\"text-align:left\">values()</td><td style=\"text-align:left\">The values() method works very similarly to the keys() method of the shelve module as it returns the values present in a shelve file.\n",
    "    </td></tr><tr><td style=\"text-align:left\">4</td><td style=\"text-align:left\">items()</td><td style=\"text-align:left\">If we want to get both keys and values from a shelve file in a single call, we can use this items() method by providing the name of the shelve file as an argument in the method.\n",
    "    </td></tr><tr><td style=\"text-align:left\">5</td><td style=\"text-align:left\">close()</td><td style=\"text-align:left\">The close method first synchronizes the items we gave for the shelve file, and then it closes the persistent dict object, which we initialized while opening/creating the shelve file.\n",
    "    </td></tr><tr><td style=\"text-align:left\">6</td><td style=\"text-align:left\">update()</td><td style=\"text-align:left\">If we want to update our shelve file and add more entries, we can use the update() method to do the same.\n",
    "    </td></tr><tr><td style=\"text-align:left\">7</td><td style=\"text-align:left\">pop()</td><td style=\"text-align:left\">Метод pop() является противоположностью методу update(), поскольку он используется для удаления записи (ключ и значение) из файла Shelve.\n",
    "    </td></tr><tr><td style=\"text-align:left\">8</td><td style=\"text-align:left\">sync()</td><td style=\"text-align:left\">sync() method is used to write back all the entries into the cache memory of the program whenever we set writeback to True while opening the shelve file.</td></tr></tbody></table>"
   ]
  },
  {
   "cell_type": "markdown",
   "metadata": {},
   "source": [
    "## Извлечение данных из файла *Shelve*\n",
    "\n",
    "После создания файла *Shelve* и внесения записей первое, что мы хотим сделать, это проверить, все ли записи успешно внесены в файл или нет. Наглядный способ проверки – распечатать эти записи. Мы можем получить доступ к данным из *Shelve* многими методами, такими как *get(), values(), items() и keys()*.\n",
    "\n",
    "<u><i>Пример</i></u>. Получить значение по ключу, указав ключ внутри метода *get()*."
   ]
  },
  {
   "cell_type": "code",
   "execution_count": 2,
   "metadata": {},
   "outputs": [
    {
     "name": "stdout",
     "output_type": "stream",
     "text": [
      "Имя: Василий Васильевич\n",
      "Возраст: 30\n",
      "Управление: Склад\n",
      "Словесная оценка: Отлично\n",
      "Оценка в баллах: 6\n"
     ]
    }
   ],
   "source": [
    "# Открываем shelve-файл\n",
    "with shelve.open('file_shelve') as shelveData:\n",
    "\n",
    "    # Распечатываем записи shelve-файла\n",
    "    print('Имя:', shelveData.get('Employee Name')) # метод get()\n",
    "    print('Возраст:', shelveData.get('Employee Age')) # метод get()\n",
    "    print('Управление:', shelveData['Employee Department'])\n",
    "    print('Словесная оценка:', shelveData['Employee Performance'])\n",
    "    print('Оценка в баллах:', shelveData['Employee Score'])"
   ]
  },
  {
   "cell_type": "markdown",
   "metadata": {},
   "source": [
    "Методу *get()* можно передать необязательный второй параметр – возвращаемое значение, если ключ не найден.\n",
    "\n",
    "<u><i>Пример</i></u>. Попытаться получить значение по отсутсвующему ключу."
   ]
  },
  {
   "cell_type": "code",
   "execution_count": 3,
   "metadata": {},
   "outputs": [
    {
     "name": "stdout",
     "output_type": "stream",
     "text": [
      "Город: не указано\n"
     ]
    }
   ],
   "source": [
    "with shelve.open('file_shelve') as shelveData:\n",
    "\n",
    "    print('Город:', shelveData.get('City', 'не указано'))"
   ]
  },
  {
   "cell_type": "markdown",
   "metadata": {},
   "source": [
    "## Получение пар ключей-значений из *Shelve*-файла\n",
    "\n",
    "Если мы хотим получить все записи *Shelve*-файла, мы можем использовать метод *items()*.\n",
    "\n",
    "<u><i>Пример</i></u>. Получить все записи *Shelve*-файла."
   ]
  },
  {
   "cell_type": "code",
   "execution_count": 4,
   "metadata": {},
   "outputs": [
    {
     "name": "stdout",
     "output_type": "stream",
     "text": [
      "Содержимое Shelve-файла:  [('Employee Name', 'Василий Васильевич'), ('Employee Age', 30), ('Employee Department', 'Склад'), ('Employee Performance', 'Отлично'), ('Employee Score', 6)]\n"
     ]
    }
   ],
   "source": [
    "# Открываем Shelve-файл\n",
    "with shelve.open('file_shelve') as shelveData:\n",
    "\n",
    "    # Распечатываем все записи в виде списка кортежей\n",
    "    print(\"Содержимое Shelve-файла: \", list(shelveData.items()))"
   ]
  },
  {
   "cell_type": "markdown",
   "metadata": {},
   "source": [
    "## Извлечение только ключей из *Shelve*-файла\n",
    "\n",
    "Если мы хотим напечатать только ключи, присутствующие в *Shelve*-файле, мы можем использовать метод *keys()*.\n",
    "\n",
    "<u><i>Пример</i></u>. Получить список ключей *Shelve*-файла."
   ]
  },
  {
   "cell_type": "code",
   "execution_count": 5,
   "metadata": {},
   "outputs": [
    {
     "name": "stdout",
     "output_type": "stream",
     "text": [
      "Ключи Shelve-файла:  ['Employee Name', 'Employee Age', 'Employee Department', 'Employee Performance', 'Employee Score']\n"
     ]
    }
   ],
   "source": [
    "with shelve.open('file_shelve') as shelveData:\n",
    "    # Распечатываем ключи\n",
    "    print(\"Ключи Shelve-файла: \", list(shelveData.keys()))"
   ]
  },
  {
   "cell_type": "markdown",
   "metadata": {},
   "source": [
    "## Извлечение значений из *Shelve*-файла\n",
    "\n",
    "<u><i>Пример</i></u>. Получить список значений *Shelve*-файла."
   ]
  },
  {
   "cell_type": "code",
   "execution_count": 6,
   "metadata": {},
   "outputs": [
    {
     "name": "stdout",
     "output_type": "stream",
     "text": [
      "Значения Shelve-файла: ['Василий Васильевич', 30, 'Склад', 'Отлично', 6]\n"
     ]
    }
   ],
   "source": [
    "with shelve.open('file_shelve') as shelveData:\n",
    "    print('Значения Shelve-файла:', list(shelveData.values()))"
   ]
  },
  {
   "cell_type": "markdown",
   "metadata": {},
   "source": [
    "### Обновление данных в  *Shelve*-файле\n",
    "\n",
    "Мы можем обновить данные, уже имеющиеся в *Shelve*-файле:\n",
    "\n",
    "1) добавить новые записи;\n",
    "2) изменить значения;\n",
    "3) удалить записи.\n",
    "\n",
    "\n",
    "### Добавление записей в *Shelve*-файл\n",
    "\n",
    "Для добавления записей, сначала создадим словарь в программе. После этого мы используем метод *update()*, указав имя переменной словаря в качестве аргумента метода.\n",
    "\n",
    "<u><i>Пример.</i></u> Добавить записи в *Shelve*-файл."
   ]
  },
  {
   "cell_type": "code",
   "execution_count": 7,
   "metadata": {},
   "outputs": [
    {
     "name": "stdout",
     "output_type": "stream",
     "text": [
      "Содержимое Shelve-файла: [('Employee Name', 'Василий Васильевич'), ('Employee Age', 30), ('Employee Department', 'Склад'), ('Employee Performance', 'Отлично'), ('Employee Score', 6), ('Salary', 100000), ('Function', 'Организация хранения товаров')]\n"
     ]
    }
   ],
   "source": [
    "# Создаем словарь\n",
    "sampleDict = {'Salary': 100000, 'Function': 'Организация хранения товаров'}\n",
    "\n",
    "with shelve.open('file_shelve') as shelveData:\n",
    "    shelveData.update(sampleDict)\n",
    "    \n",
    "    # Печать данных Shelve-файла\n",
    "    print('Содержимое Shelve-файла:', list(shelveData.items()))"
   ]
  },
  {
   "cell_type": "markdown",
   "metadata": {},
   "source": [
    "### Изменение значений\n",
    "\n",
    "Изменим значение возраста сотрудника. Установим значение, равное 28.\n",
    "\n",
    "<u><i>Пример.</i></u> Изменить значение возраста сотрудника в *Shelve*-файле."
   ]
  },
  {
   "cell_type": "code",
   "execution_count": 8,
   "metadata": {},
   "outputs": [
    {
     "name": "stdout",
     "output_type": "stream",
     "text": [
      "Содержимое Shelve-файла: [('Employee Name', 'Василий Васильевич'), ('Employee Age', 28), ('Employee Department', 'Склад'), ('Employee Performance', 'Отлично'), ('Employee Score', 6), ('Salary', 100000), ('Function', 'Организация хранения товаров')]\n"
     ]
    }
   ],
   "source": [
    "with shelve.open('file_shelve') as shelveData:\n",
    "    shelveData['Employee Age'] = 28\n",
    "    \n",
    "    print('Содержимое Shelve-файла:', list(shelveData.items()))"
   ]
  },
  {
   "cell_type": "markdown",
   "metadata": {},
   "source": [
    "### Удаление записи из *Shelve*-файла\n",
    "\n",
    "Для удаления существующей записи используем метод *pop(<ключ>)*.\n",
    "\n",
    "<u><i>Пример</i></u>. Удалить запись по ключу."
   ]
  },
  {
   "cell_type": "code",
   "execution_count": 9,
   "metadata": {},
   "outputs": [
    {
     "name": "stdout",
     "output_type": "stream",
     "text": [
      "Содержимое Shelve-файла: [('Employee Name', 'Василий Васильевич'), ('Employee Age', 28), ('Employee Department', 'Склад'), ('Employee Score', 6), ('Salary', 100000), ('Function', 'Организация хранения товаров')]\n"
     ]
    }
   ],
   "source": [
    "# Удаление поля shelve-файла\n",
    "with shelve.open('file_shelve') as shelveData:\n",
    "    \n",
    "    if 'Employee Performance' in shelveData.keys(): # Проверяем наличие ключа\n",
    "        shelveData.pop('Employee Performance')\n",
    "    \n",
    "    # Печать\n",
    "    print('Содержимое Shelve-файла:', list(shelveData.items()))"
   ]
  },
  {
   "cell_type": "markdown",
   "metadata": {},
   "source": [
    "Как видим, удаленная пара «ключ-значение» отсутствует в распечатке.\n",
    "\n",
    "Также удалаять данные из *Shelve*-файла можно с помощью оператора *del*.\n",
    "\n",
    "<u><i>Пример</i></u>. Удалить запись с помощью оператора *del*."
   ]
  },
  {
   "cell_type": "code",
   "execution_count": 11,
   "metadata": {},
   "outputs": [
    {
     "name": "stdout",
     "output_type": "stream",
     "text": [
      "Содержимое Shelve-файла:  [('Employee Name', 'Василий Васильевич'), ('Employee Age', 28), ('Employee Score', 6), ('Salary', 100000), ('Function', 'Организация хранения товаров')]\n"
     ]
    }
   ],
   "source": [
    "with shelve.open('file_shelve') as shelveData:\n",
    "    \n",
    "    if 'Employee Department' in shelveData.keys():\n",
    "        del shelveData['Employee Department']\n",
    "    \n",
    "    print(\"Содержимое Shelve-файла: \", list(shelveData.items()))"
   ]
  },
  {
   "cell_type": "markdown",
   "metadata": {},
   "source": [
    "### Очистка содержимого *Shelve*-файла\n",
    "\n",
    "Для удаления всех записей из *Shelve*-файла воспользуемся методом *clear*.\n",
    "\n",
    "<u><i>Пример</i></u>. Очистить содержимое *Shelve*-файла."
   ]
  },
  {
   "cell_type": "code",
   "execution_count": 12,
   "metadata": {},
   "outputs": [
    {
     "name": "stdout",
     "output_type": "stream",
     "text": [
      "Содержимое Shelve-файла:  []\n"
     ]
    }
   ],
   "source": [
    "with shelve.open('file_shelve') as shelveData:\n",
    "    shelveData.clear()\n",
    "    \n",
    "    print(\"Содержимое Shelve-файла: \", list(shelveData.items()))"
   ]
  },
  {
   "cell_type": "markdown",
   "metadata": {},
   "source": [
    "Источники литературы о модуле *Shelve*:\n",
    "\n",
    "- https://metanit.com/python/tutorial/4.6.php\n",
    "- https://www.javatpoint.com/python-shelve-module"
   ]
  },
  {
   "cell_type": "markdown",
   "metadata": {},
   "source": [
    "<a class=\"anchor\" id=\"json\"></a>\n",
    "\n",
    "\n",
    "# Модуль JSON\n",
    "-\n",
    "* [к оглавлению](#разделы)\n"
   ]
  },
  {
   "cell_type": "markdown",
   "metadata": {},
   "source": [
    "JSON – это текст, написанный с помощью нотации объектов JavaScript. Синтаксис JSON удобен для хранения и обмена данными. В Python есть встроенный модуль JSON, который можно использовать для работы с данными JSON. Рвссмотрим слкдующие методы модуля JSON:\n",
    "\n",
    "- json.dumps()\n",
    "- json.loads()\n",
    "- json.dump()\n",
    "- json.load()\n",
    "\n",
    "\n",
    "### Парсинг *JSON*\n",
    "\n",
    "Парсинг JSON – это преобразование JSON-текста в объекты языка Python. Выполнить парсинг JSON можно с помощью метода json.loads()."
   ]
  },
  {
   "cell_type": "code",
   "execution_count": 13,
   "metadata": {},
   "outputs": [
    {
     "name": "stdout",
     "output_type": "stream",
     "text": [
      "30\n"
     ]
    }
   ],
   "source": [
    "import json\n",
    "\n",
    "# Текст JSON\n",
    "x = '{ \"name\": \"John\", \"age\": 30, \"city\": \"New York\"}'\n",
    "\n",
    "# Парсинг x\n",
    "y = json.loads(x)\n",
    "\n",
    "# Результатом является словарь Python\n",
    "print(y[\"age\"])"
   ]
  },
  {
   "cell_type": "markdown",
   "metadata": {},
   "source": [
    "### Из Python в JSON\n",
    "\n",
    "Объекты Python можно преобразовать в форматированный JSON-текст с помощью метода *json.dumps()*."
   ]
  },
  {
   "cell_type": "code",
   "execution_count": 3,
   "metadata": {},
   "outputs": [
    {
     "name": "stdout",
     "output_type": "stream",
     "text": [
      "{\"name\": \"John\", \"age\": 30, \"city\": \"New York\"}\n",
      "<class 'str'>\n"
     ]
    }
   ],
   "source": [
    "import json\n",
    "\n",
    "# Объект Python - словарь\n",
    "x = {\n",
    "  \"name\": \"John\",\n",
    "  \"age\": 30,\n",
    "  \"city\": \"New York\"\n",
    "}\n",
    "\n",
    "# convert into JSON:\n",
    "y = json.dumps(x)\n",
    "\n",
    "# Результатом является JSON-строка\n",
    "print(y)\n",
    "print(type(y))"
   ]
  },
  {
   "cell_type": "markdown",
   "metadata": {},
   "source": [
    "Конвертировать в JSON-строку можно следующие объекты Python.\n",
    "\n",
    "- dict\n",
    "- list\n",
    "- tuple\n",
    "- string\n",
    "- int\n",
    "- float\n",
    "- True\n",
    "- False\n",
    "- None\n",
    "\n",
    "Каждый из этих объектов Python конвертируестя в соответсвующий эквивалент JavaScript.\n",
    "\n",
    "```\n",
    "-----------------\n",
    "Python\t   JSON\n",
    "-----------------\n",
    "dict\t   Object\n",
    "list\t   Array\n",
    "tuple\t   Array\n",
    "str        String\n",
    "int        Number\n",
    "float\t   Number\n",
    "True\t   true\n",
    "False\t   false\n",
    "None\t   null\n",
    "-----------------\n",
    "```"
   ]
  },
  {
   "cell_type": "code",
   "execution_count": 4,
   "metadata": {},
   "outputs": [
    {
     "name": "stdout",
     "output_type": "stream",
     "text": [
      "{\"name\": \"John\", \"age\": 30}\n",
      "[\"apple\", \"bananas\"]\n",
      "[\"apple\", \"bananas\"]\n",
      "\"hello\"\n",
      "42\n",
      "31.76\n",
      "true\n",
      "false\n",
      "null\n"
     ]
    }
   ],
   "source": [
    "print(json.dumps({\"name\": \"John\", \"age\": 30}))\n",
    "print(json.dumps([\"apple\", \"bananas\"]))\n",
    "print(json.dumps((\"apple\", \"bananas\")))\n",
    "print(json.dumps(\"hello\"))\n",
    "print(json.dumps(42))\n",
    "print(json.dumps(31.76))\n",
    "print(json.dumps(True))\n",
    "print(json.dumps(False))\n",
    "print(json.dumps(None))"
   ]
  },
  {
   "cell_type": "markdown",
   "metadata": {},
   "source": [
    "<i><u>Пример</u></i>. Преобразовать в JSON объекты всех поддерживаемых для операции преобразования типов."
   ]
  },
  {
   "cell_type": "code",
   "execution_count": 6,
   "metadata": {},
   "outputs": [
    {
     "name": "stdout",
     "output_type": "stream",
     "text": [
      "{\"name\": \"John\", \"age\": 30, \"married\": true, \"divorced\": false, \"children\": [\"Ann\", \"Billy\"], \"pets\": null, \"cars\": [{\"model\": \"BMW 230\", \"mpg\": 27.5}, {\"model\": \"Ford Edge\", \"mpg\": 24.1}]}\n",
      "<class 'str'>\n"
     ]
    }
   ],
   "source": [
    "x = {\n",
    "  \"name\": \"John\",\n",
    "  \"age\": 30,\n",
    "  \"married\": True,\n",
    "  \"divorced\": False,\n",
    "  \"children\": (\"Ann\",\"Billy\"),\n",
    "  \"pets\": None,\n",
    "  \"cars\": [\n",
    "    {\"model\": \"BMW 230\", \"mpg\": 27.5},\n",
    "    {\"model\": \"Ford Edge\", \"mpg\": 24.1}\n",
    "  ]\n",
    "}\n",
    "\n",
    "y = json.dumps(x)\n",
    "\n",
    "print(y)\n",
    "print(type(y))"
   ]
  },
  {
   "cell_type": "markdown",
   "metadata": {},
   "source": [
    "### Форматирование результата преобразования\n",
    "\n",
    "В примере выше выводится строка JSON, но ее не очень легко читать, так как нет отступов и переносов строк. Метод *json.dumps()* имеет параметры, облегчающие чтение результата. Один из таких параметров – *indent*, то есть отступ."
   ]
  },
  {
   "cell_type": "code",
   "execution_count": 8,
   "metadata": {},
   "outputs": [
    {
     "name": "stdout",
     "output_type": "stream",
     "text": [
      "{\n",
      "    \"name\": \"John\",\n",
      "    \"age\": 30,\n",
      "    \"married\": true,\n",
      "    \"divorced\": false,\n",
      "    \"children\": [\n",
      "        \"Ann\",\n",
      "        \"Billy\"\n",
      "    ],\n",
      "    \"pets\": null,\n",
      "    \"cars\": [\n",
      "        {\n",
      "            \"model\": \"BMW 230\",\n",
      "            \"mpg\": 27.5\n",
      "        },\n",
      "        {\n",
      "            \"model\": \"Ford Edge\",\n",
      "            \"mpg\": 24.1\n",
      "        }\n",
      "    ]\n",
      "}\n"
     ]
    }
   ],
   "source": [
    "print(json.dumps(x, indent=4))"
   ]
  },
  {
   "cell_type": "markdown",
   "metadata": {},
   "source": [
    "Вы также можете определить разделители JSON-текста. Значением по умолчанию является (\", \", \": \"), что означает использование запятой и пробела для разделения каждого объекта, а также двоеточия и пробела для разделения ключей и значений.\n",
    "\n",
    "<i><u>Пример</u></i>. Использовать другие разделители, то есть, неиспользуемые по умолчанию."
   ]
  },
  {
   "cell_type": "code",
   "execution_count": 10,
   "metadata": {},
   "outputs": [
    {
     "name": "stdout",
     "output_type": "stream",
     "text": [
      "{\n",
      "    \"name\" = \"John\". \n",
      "    \"age\" = 30. \n",
      "    \"married\" = true. \n",
      "    \"divorced\" = false. \n",
      "    \"children\" = [\n",
      "        \"Ann\". \n",
      "        \"Billy\"\n",
      "    ]. \n",
      "    \"pets\" = null. \n",
      "    \"cars\" = [\n",
      "        {\n",
      "            \"model\" = \"BMW 230\". \n",
      "            \"mpg\" = 27.5\n",
      "        }. \n",
      "        {\n",
      "            \"model\" = \"Ford Edge\". \n",
      "            \"mpg\" = 24.1\n",
      "        }\n",
      "    ]\n",
      "}\n"
     ]
    }
   ],
   "source": [
    "print(json.dumps(x, indent=4, separators=(\". \", \" = \")))"
   ]
  },
  {
   "cell_type": "markdown",
   "metadata": {},
   "source": [
    "Метод *json.dumps()* имеет параметр *sort_keys* для упорядочивания ключей в результате.\n",
    "\n",
    "<i><u>Пример</u></i>. Отсортировать результат преобразования по ключам."
   ]
  },
  {
   "cell_type": "code",
   "execution_count": 12,
   "metadata": {
    "scrolled": false
   },
   "outputs": [
    {
     "name": "stdout",
     "output_type": "stream",
     "text": [
      "{\n",
      "    \"age\": 30,\n",
      "    \"cars\": [\n",
      "        {\n",
      "            \"model\": \"BMW 230\",\n",
      "            \"mpg\": 27.5\n",
      "        },\n",
      "        {\n",
      "            \"model\": \"Ford Edge\",\n",
      "            \"mpg\": 24.1\n",
      "        }\n",
      "    ],\n",
      "    \"children\": [\n",
      "        \"Ann\",\n",
      "        \"Billy\"\n",
      "    ],\n",
      "    \"divorced\": false,\n",
      "    \"married\": true,\n",
      "    \"name\": \"John\",\n",
      "    \"pets\": null\n",
      "}\n"
     ]
    }
   ],
   "source": [
    "print(json.dumps(x, indent=4, sort_keys=True))"
   ]
  },
  {
   "cell_type": "markdown",
   "metadata": {},
   "source": [
    "### Работа с файлами JSON\n",
    "\n",
    "Метод *json.dump(obj, fp)* обеспечивает сохранение объектов Python в файлах в формате JSON."
   ]
  },
  {
   "cell_type": "code",
   "execution_count": 24,
   "metadata": {},
   "outputs": [],
   "source": [
    "import json\n",
    "\n",
    "x = {\n",
    "\"name\": \"John\",\n",
    "\"age\": 30,\n",
    "\"married\": True,\n",
    "\"divorced\": False,\n",
    "\"children\": (\"Ann\",\"Billy\"),\n",
    "\"pets\": None,\n",
    "\"cars\": [\n",
    "{\"model\": \"BMW 230\", \"mpg\": 27.5},\n",
    "{\"model\": \"Ford Edge\", \"mpg\": 24.1}\n",
    "  ]\n",
    "}\n",
    "\n",
    "\n",
    "with open('file_11.json', mode='w') as f:\n",
    "    json.dump(x, f, indent = 4)"
   ]
  },
  {
   "cell_type": "markdown",
   "metadata": {},
   "source": [
    "Метод *json.load(fp)* выполняет обратное преобразование – из файла в объекты Python."
   ]
  },
  {
   "cell_type": "code",
   "execution_count": 36,
   "metadata": {},
   "outputs": [
    {
     "name": "stdout",
     "output_type": "stream",
     "text": [
      "[{'name': 'John', 'age': 30, 'married': True, 'divorced': False, 'children': ['Ann', 'Billy'], 'pets': None, 'cars': [{'model': 'BMW 230', 'mpg': 27.5}, {'model': 'Ford Edge', 'mpg': 24.1}]}, {'name': 'Ринат', 'age': 32, 'married': True, 'divorced': False, 'children': ['Катя', 'Иван'], 'pets': 'Yes', 'cars': [{'model': 'BMW 230', 'mpg': 27.5}, {'model': 'Ford Edge', 'mpg': 24.1}]}]\n",
      "<class 'list'> <class 'dict'> <class 'int'>\n"
     ]
    }
   ],
   "source": [
    "with open('file_11.json') as f:\n",
    "    x3 = json.load(f)\n",
    "    print(x3)\n",
    "    print(type(x3), type(x3[0]), type(x3[0]['age']))"
   ]
  },
  {
   "cell_type": "markdown",
   "metadata": {},
   "source": [
    "Мы получили список, элементы которого являются объектами Python."
   ]
  },
  {
   "cell_type": "markdown",
   "metadata": {},
   "source": [
    "<a class=\"anchor\" id=\"xml\"></a>\n",
    "\n",
    "<h1 style=\"text-align:center\"> Модуль XML</h1>\n",
    "\n",
    "-\n",
    "* [к оглавлению](#разделы)\n",
    "\n",
    "\n",
    "XML означает «Расширяемый язык разметки». XML создает древовидную структуру и поддерживает иерархию.\n",
    "\n",
    "Документы XML имеют разделы, называемые элементами, определяемые начальным и конечным тегом. Тег – это конструкция разметки, которая начинается с < и заканчивается >. Символы между начальным и конечным тегом, если они есть, представляют собой содержимое элемента. Элементы могут содержать разметку, включая другие элементы, которые называются «дочерними элементами».\n",
    "\n",
    "Элемент высшего уровня называется корнем, который содержит все остальные элементы.\n",
    "\n",
    "Атрибуты представляют собой пару имя-значение, которая существует внутри начального тега или тега пустого элемента. Атрибут XML может иметь только одно значение, и каждый атрибут может появляться не более одного раза в каждом элементе.\n",
    "\n",
    "Чтобы лучше это понять, взгляните на этот XML-файл:\n",
    "\n",
    "```\n",
    "<?xml version='1.0' encoding='utf8'?>\n",
    "<collection>\n",
    "    <genre category=\"Action\">\n",
    "        <decade years=\"1980s\">\n",
    "            <movie favorite=\"True\" title=\"Indiana Jones: The raiders of the lost Ark\">\n",
    "                <format multiple=\"No\">DVD</format>\n",
    "                <year>1981</year>\n",
    "                <rating>PG</rating>\n",
    "                <description>\n",
    "                'Archaeologist and adventurer Indiana Jones \n",
    "                is hired by the U.S. government to find the Ark of the \n",
    "                Covenant before the Nazis.'\n",
    "                </description>\n",
    "            </movie>\n",
    "               <movie favorite=\"True\" title=\"THE KARATE KID\">\n",
    "               <format multiple=\"Yes\">DVD,Online</format>\n",
    "               <year>1984</year>\n",
    "               <rating>PG</rating>\n",
    "               <description>None provided.</description>\n",
    "            </movie>\n",
    "            <movie favorite=\"False\" title=\"Back 2 the Future\">\n",
    "               <format multiple=\"False\">Blu-ray</format>\n",
    "               <year>1985</year>\n",
    "               <rating>PG</rating>\n",
    "               <description>Marty McFly</description>\n",
    "            </movie>\n",
    "        </decade>\n",
    "        <decade years=\"1990s\">\n",
    "            <movie favorite=\"False\" title=\"X-Men\">\n",
    "               <format multiple=\"Yes\">dvd, digital</format>\n",
    "               <year>2000</year>\n",
    "               <rating>PG-13</rating>\n",
    "               <description>Two mutants come to a private academy for their kind whose resident superhero team must \n",
    "               oppose a terrorist organization with similar powers.</description>\n",
    "            </movie>\n",
    "            <movie favorite=\"True\" title=\"Batman Returns\">\n",
    "               <format multiple=\"No\">VHS</format>\n",
    "               <year>1992</year>\n",
    "               <rating>PG13</rating>\n",
    "               <description>NA.</description>\n",
    "            </movie>\n",
    "               <movie favorite=\"False\" title=\"Reservoir Dogs\">\n",
    "               <format multiple=\"No\">Online</format>\n",
    "               <year>1992</year>\n",
    "               <rating>R</rating>\n",
    "               <description>WhAtEvER I Want!!!?!</description>\n",
    "            </movie>\n",
    "        </decade>    \n",
    "    </genre>\n",
    "\n",
    "    <genre category=\"Thriller\">\n",
    "        <decade years=\"1970s\">\n",
    "            <movie favorite=\"False\" title=\"ALIEN\">\n",
    "                <format multiple=\"Yes\">DVD</format>\n",
    "                <year>1979</year>\n",
    "                <rating>R</rating>\n",
    "                <description>\"\"\"\"\"\"\"\"\"</description>\n",
    "            </movie>\n",
    "        </decade>\n",
    "        <decade years=\"1980s\">\n",
    "            <movie favorite=\"True\" title=\"Ferris Bueller's Day Off\">\n",
    "                <format multiple=\"No\">DVD</format>\n",
    "                <year>1986</year>\n",
    "                <rating>PG13</rating>\n",
    "                <description>Funny movie about a funny guy</description>\n",
    "            </movie>\n",
    "            <movie favorite=\"FALSE\" title=\"American Psycho\">\n",
    "                <format multiple=\"No\">blue-ray</format>\n",
    "                <year>2000</year>\n",
    "                <rating>Unrated</rating>\n",
    "                <description>psychopathic Bateman</description>\n",
    "            </movie>\n",
    "        </decade>\n",
    "    </genre>\n",
    "\t\n",
    "\t\n",
    "    <genre category=\"Comedy\">\n",
    "        <decade years=\"1960s\">\n",
    "            <movie favorite=\"False\" title=\"Batman: The Movie\">\n",
    "                <format multiple=\"Yes\">DVD,VHS</format>\n",
    "                <year>1966</year>\n",
    "                <rating>PG</rating>\n",
    "                <description>What a joke!</description>\n",
    "            </movie>\n",
    "        </decade>\n",
    "        <decade years=\"2010s\">\n",
    "            <movie favorite=\"True\" title=\"Easy A\">\n",
    "                <format multiple=\"No\">DVD</format>\n",
    "                <year>2010</year>\n",
    "                <rating>PG--13</rating>\n",
    "                <description>Emma Stone = Hester Prynne</description>\n",
    "            </movie>\n",
    "            <movie favorite=\"True\" title=\"Dinner for SCHMUCKS\">\n",
    "                <format multiple=\"Yes\">DVD,digital,Netflix</format>\n",
    "                <year>2011</year>\n",
    "                <rating>Unrated</rating>\n",
    "                <description>Tim (Rudd) is a rising executive\n",
    "                 who &#8220;succeeds&#8221; in finding the perfect guest, \n",
    "                 IRS employee Barry (Carell), for his boss&#8217; monthly event, \n",
    "                 a so-called &#8220;dinner for idiots,&#8221; which offers certain \n",
    "                 advantages to the exec who shows up with the biggest buffoon.\n",
    "                 </description>\n",
    "            </movie>\n",
    "        </decade>\n",
    "        <decade years=\"1980s\">\n",
    "            <movie favorite=\"False\" title=\"Ghostbusters\">\n",
    "                <format multiple=\"No\">Online,VHS</format>\n",
    "                <year>1984</year>\n",
    "                <rating>PG</rating>\n",
    "                <description>Who ya gonna call?</description>\n",
    "            </movie>\n",
    "        </decade>\n",
    "        <decade years=\"1990s\">\n",
    "            <movie favorite=\"True\" title=\"Robin Hood: Prince of Thieves\">\n",
    "                <format multiple=\"No\">Blu_Ray</format>\n",
    "                <year>1991</year>\n",
    "                <rating>Unknown</rating>\n",
    "                <description>Robin Hood slaying</description>\n",
    "            </movie>\n",
    "        </decade>\n",
    "    </genre>\n",
    "</collection>\n",
    "```\n",
    "\n",
    "Структура XML документа подобна дереву. Единственным корнем является `<collection>`. Корень содержит все другие элементы, такие, как `<genre>` и `<movie>` – их называют потомками или подчиненными элементами.\n",
    "\n",
    "Обратите внимание, что элементы-потомки также могут иметь своих потомков. Элементы XML-дерева могут содержать атрибуты, например, элемент `<movie>` содержит атрибут *title*.\n",
    "\n",
    "После этого короткого ознакомления со струткурой XML документа познакомимся с библиотекой ElementTree."
   ]
  },
  {
   "cell_type": "markdown",
   "metadata": {},
   "source": [
    "<h2 style=\"text-align:center\"> Библиотека ElementTree</h2>\n",
    "\n",
    "Древовидная структура XML упращает навигацию, изменение и удаление данных с помощью программирования. В Python есть встроенная библиотека *ElementTree*, в которой есть функции для чтения и управления XML-файлами (и другими файлами с аналогичной структурой).\n",
    "\n",
    "Сначала импортируйте *ElementTree*. Обычной практикой является использование псевдонима *ET*."
   ]
  },
  {
   "cell_type": "code",
   "execution_count": 2,
   "metadata": {},
   "outputs": [],
   "source": [
    "import xml.etree.ElementTree as ET"
   ]
  },
  {
   "cell_type": "markdown",
   "metadata": {},
   "source": [
    "<h2 style=\"text-align:center\">Парсинг XML-данных</h2>\n",
    "\n",
    "В предоставленном XML-файле описана коллекция фильмов. Проблема в том, что данные в беспорядке! У этой коллекции было много кураторов и у каждого был свой способ внесения данных в файл. Основная цель этого урока – прочитать и понять файл с помощью Python, а затем устранить проблемы.\n",
    "\n",
    "Сначала прочитатем файл с помощью ElementTree."
   ]
  },
  {
   "cell_type": "code",
   "execution_count": 4,
   "metadata": {},
   "outputs": [],
   "source": [
    "tree = ET.parse('../Data/movies.xml')\n",
    "root = tree.getroot()"
   ]
  },
  {
   "cell_type": "markdown",
   "metadata": {},
   "source": [
    "Мы создали дерево и его корень. У каждого элемента дерева, включая корень, имеются открывающий и закрывающий теги, кроме того, открывающие тэги могут содержать атрибуты, что позволяет отличать одноименные тэги.\n",
    "\n",
    "Например, элемент `<genre category=\"Action\">` содержит элементы `<decade years=\"1980s\">` и `<decade years=\"1990s\">`. Заканчивается элемент `genre` закрывающим тегом `</genre>`, а элементы `decade` закрывающими тегами `</decade>`. `category` является атрибутом элемента `genre`, а `years` – атрибутами элементов `decade`.\n",
    "\n",
    "С помощью свойства `.tag` получим название корневого элемента, а с помощью `.attrib` исследуем его атрибуты. У корневого элемента название *collection*, а атрибутов у него нет."
   ]
  },
  {
   "cell_type": "code",
   "execution_count": 5,
   "metadata": {},
   "outputs": [
    {
     "name": "stdout",
     "output_type": "stream",
     "text": [
      "collection\n",
      "{}\n"
     ]
    }
   ],
   "source": [
    "print(root.tag)\n",
    "print(root.attrib)"
   ]
  },
  {
   "cell_type": "markdown",
   "metadata": {},
   "source": [
    "<h2 style=\"text-align:center\"> Итерация элеметов XML-файла</h2>\n",
    "\n",
    "Элементы и вложенные элементы XML-файла являются итерируемыми объектами. С помощью цикла *for* получим названия и атрибуты ближайших потомков корня."
   ]
  },
  {
   "cell_type": "code",
   "execution_count": 4,
   "metadata": {
    "scrolled": true
   },
   "outputs": [
    {
     "name": "stdout",
     "output_type": "stream",
     "text": [
      "genre {'category': 'Action'}\n",
      "genre {'category': 'Thriller'}\n",
      "genre {'category': 'Comedy'}\n"
     ]
    }
   ],
   "source": [
    "for child in root:\n",
    "    print(child.tag, child.attrib)"
   ]
  },
  {
   "cell_type": "markdown",
   "metadata": {},
   "source": [
    "Теперь мы знаем, что потомками корня являются элементы `<genre>`. Отличать элементы `<genre>` один от другого можно с помощью атрибута `category`.\n",
    "\n",
    "Доступ к вложенному элементу можно получить по индексу. Содержание элемента можно получить с помощью свойства `.text`.\n",
    "\n",
    "<u><i>Пример</i></u>.\n",
    "\n",
    "- По индексу `root[0]` получим вложенный элемент `<genre category=\"Action\">`\n",
    "- По индексу `root[0][1]` получим вложенный элемент `<decade years=\"1990s\">`\n",
    "- По индексу `root[0][1][0]` получим вложенный элемент `<movie favorite=\"False\" title=\"X-Men\">`\n",
    "- По индексу `root[0][1][0][1]` получим вложенный элемент `<year>2000</year>`"
   ]
  },
  {
   "cell_type": "code",
   "execution_count": 5,
   "metadata": {
    "scrolled": true
   },
   "outputs": [
    {
     "name": "stdout",
     "output_type": "stream",
     "text": [
      "movie\n",
      "{'favorite': 'False', 'title': 'X-Men'}\n",
      "2000\n"
     ]
    }
   ],
   "source": [
    "print(root[0][1][0].tag)\n",
    "print(root[0][1][0].attrib)\n",
    "print(root[0][1][0][1].text)"
   ]
  },
  {
   "cell_type": "markdown",
   "metadata": {},
   "source": [
    "Часто бывает полезно получить полный список элементов дерева. Функция `root.iter()` позволяет провести итерацию по всем элементам дерева."
   ]
  },
  {
   "cell_type": "code",
   "execution_count": 6,
   "metadata": {},
   "outputs": [
    {
     "name": "stdout",
     "output_type": "stream",
     "text": [
      "['collection', 'genre', 'decade', 'movie', 'format', 'year', 'rating', 'description', 'movie', 'format', 'year', 'rating', 'description', 'movie', 'format', 'year', 'rating', 'description', 'decade', 'movie', 'format', 'year', 'rating', 'description', 'movie', 'format', 'year', 'rating', 'description', 'movie', 'format', 'year', 'rating', 'description', 'genre', 'decade', 'movie', 'format', 'year', 'rating', 'description', 'decade', 'movie', 'format', 'year', 'rating', 'description', 'movie', 'format', 'year', 'rating', 'description', 'genre', 'decade', 'movie', 'format', 'year', 'rating', 'description', 'decade', 'movie', 'format', 'year', 'rating', 'description', 'movie', 'format', 'year', 'rating', 'description', 'decade', 'movie', 'format', 'year', 'rating', 'description', 'decade', 'movie', 'format', 'year', 'rating', 'description']\n"
     ]
    }
   ],
   "source": [
    "xml_elements = [e.tag for e in root.iter()]\n",
    "print(xml_elements)"
   ]
  },
  {
   "cell_type": "markdown",
   "metadata": {},
   "source": [
    "Такой результат даёт нам общее представление об элементах XML-дерева, но ничего не говорит об атрибутах и иерархии элементов.\n",
    "\n",
    "Каждый элемент имеет метод `.tostring()`, позволяющий его распечатать. Если применить метод `.tostring()` к корню, то на печать будет выведен весь XML-файл. Необходимо указать параметры кодирования и декодирования: для XML в большинстве случаев подходит `utf-8`. Распечатаем один из элементов."
   ]
  },
  {
   "cell_type": "code",
   "execution_count": 7,
   "metadata": {},
   "outputs": [
    {
     "name": "stdout",
     "output_type": "stream",
     "text": [
      "<?xml version='1.0' encoding='utf8'?>\n",
      "<decade years=\"1990s\">\n",
      "            <movie favorite=\"False\" title=\"X-Men\">\n",
      "               <format multiple=\"Yes\">dvd, digital</format>\n",
      "               <year>2000</year>\n",
      "               <rating>PG-13</rating>\n",
      "               <description>Two mutants come to a private academy for their kind whose resident superhero team must \n",
      "               oppose a terrorist organization with similar powers.</description>\n",
      "            </movie>\n",
      "            <movie favorite=\"True\" title=\"Batman Returns\">\n",
      "               <format multiple=\"No\">VHS</format>\n",
      "               <year>1992</year>\n",
      "               <rating>PG13</rating>\n",
      "               <description>NA.</description>\n",
      "            </movie>\n",
      "               <movie favorite=\"False\" title=\"Reservoir Dogs\">\n",
      "               <format multiple=\"No\">Online</format>\n",
      "               <year>1992</year>\n",
      "               <rating>R</rating>\n",
      "               <description>WhAtEvER I Want!!!?!</description>\n",
      "            </movie>\n",
      "        </decade>    \n",
      "    \n"
     ]
    }
   ],
   "source": [
    "print(ET.tostring(root[0][1], encoding='utf8').decode('utf8'))"
   ]
  },
  {
   "cell_type": "markdown",
   "metadata": {},
   "source": [
    "Мы можем использовать `root.iter()` для более подробного изучения конкретных элементов. Если передадим в функцию `iter()` имя тега `movie`, итерация пройдет только по тегам `movie`."
   ]
  },
  {
   "cell_type": "code",
   "execution_count": 8,
   "metadata": {},
   "outputs": [
    {
     "name": "stdout",
     "output_type": "stream",
     "text": [
      "{'favorite': 'True', 'title': 'Indiana Jones: The raiders of the lost Ark'}\n",
      "{'favorite': 'True', 'title': 'THE KARATE KID'}\n",
      "{'favorite': 'False', 'title': 'Back 2 the Future'}\n",
      "{'favorite': 'False', 'title': 'X-Men'}\n",
      "{'favorite': 'True', 'title': 'Batman Returns'}\n",
      "{'favorite': 'False', 'title': 'Reservoir Dogs'}\n",
      "{'favorite': 'False', 'title': 'ALIEN'}\n",
      "{'favorite': 'True', 'title': \"Ferris Bueller's Day Off\"}\n",
      "{'favorite': 'FALSE', 'title': 'American Psycho'}\n",
      "{'favorite': 'False', 'title': 'Batman: The Movie'}\n",
      "{'favorite': 'True', 'title': 'Easy A'}\n",
      "{'favorite': 'True', 'title': 'Dinner for SCHMUCKS'}\n",
      "{'favorite': 'False', 'title': 'Ghostbusters'}\n",
      "{'favorite': 'True', 'title': 'Robin Hood: Prince of Thieves'}\n"
     ]
    }
   ],
   "source": [
    "for movie in root.iter('movie'):\n",
    "    print(movie.attrib)"
   ]
  },
  {
   "cell_type": "markdown",
   "metadata": {},
   "source": [
    "Мы видим, что названия вводились по-разному: некоторые названия введены прописными буквами.\n",
    "\n",
    "<h2 style=\"text-align:center\"> Выражения XPath</h2>\n",
    "\n",
    "Часто бывает, что у элементов нет атрибутов, но есть только текстовое содержимое. Получить его можно с помощью `.text`. Распечатаем содержимое всех элементов `<description>` в жанре на нулевой позиции в иерархии, т. е. *Action*."
   ]
  },
  {
   "cell_type": "code",
   "execution_count": 9,
   "metadata": {},
   "outputs": [
    {
     "name": "stdout",
     "output_type": "stream",
     "text": [
      "1. \n",
      "                'Archaeologist and adventurer Indiana Jones \n",
      "                is hired by the U.S. government to find the Ark of the \n",
      "                Covenant before the Nazis.'\n",
      "                \n",
      "2. None provided.\n",
      "3. Marty McFly\n",
      "4. Two mutants come to a private academy for their kind whose resident superhero team must \n",
      "               oppose a terrorist organization with similar powers.\n",
      "5. NA.\n",
      "6. WhAtEvER I Want!!!?!\n"
     ]
    }
   ],
   "source": [
    "for k, d in enumerate(root[0].iter('description')):\n",
    "    print(f'{k+1}. {d.text}')"
   ]
  },
  {
   "cell_type": "markdown",
   "metadata": {},
   "source": [
    "*XPath* является языком запросов. *XPath* означает *XML Path Language* и, как следует из названия, использует \"path like syntax\" - \"путеподобный\" синтаксис для идентификации узлов и навигации по узлам XML документа.\n",
    "\n",
    "В *ElementTree* есть функции `find()` и `.findall()`, использующие *XPath*. Найдем фильмы, вышедшие в 1984 году."
   ]
  },
  {
   "cell_type": "code",
   "execution_count": 30,
   "metadata": {},
   "outputs": [
    {
     "name": "stdout",
     "output_type": "stream",
     "text": [
      "{'favorite': 'True', 'title': 'THE KARATE KID'}\n",
      "{'favorite': 'False', 'title': 'Ghostbusters'}\n"
     ]
    }
   ],
   "source": [
    "for movie in root.findall(\"./genre/decade/movie/[year='1984']\"):\n",
    "    print(movie.attrib)"
   ]
  },
  {
   "cell_type": "markdown",
   "metadata": {},
   "source": [
    "Теперь распечатаем атрибуты только тех фильмов, которые доступны в нескольких форматах (атрибут `multiple` со значением 'Yes')."
   ]
  },
  {
   "cell_type": "code",
   "execution_count": 24,
   "metadata": {},
   "outputs": [
    {
     "name": "stdout",
     "output_type": "stream",
     "text": [
      "{'multiple': 'Yes'}\n",
      "{'multiple': 'Yes'}\n",
      "{'multiple': 'Yes'}\n",
      "{'multiple': 'Yes'}\n",
      "{'multiple': 'Yes'}\n"
     ]
    }
   ],
   "source": [
    "for movie in root.findall(\"./genre/decade/movie/format[@multiple='Yes']\"):\n",
    "    print(movie.attrib)"
   ]
  },
  {
   "cell_type": "markdown",
   "metadata": {},
   "source": [
    "<p style=\"background:powderblue\">Задание</p>\n",
    "\n",
    "Подумайте, почему мы получили такой результат, хотя хотели получить атрибуты фильмов. Как их получить? Напишите код, с помощью которого можно получить нужный результат. <br>\n",
    "<p style=\"color:gray\">Подсказка: используйте `..` в XPath чтобы получить родительский элемент.</p>"
   ]
  },
  {
   "cell_type": "code",
   "execution_count": 31,
   "metadata": {},
   "outputs": [
    {
     "name": "stdout",
     "output_type": "stream",
     "text": [
      "{'favorite': 'True', 'title': 'THE KARATE KID'}\n",
      "{'favorite': 'False', 'title': 'X-Men'}\n",
      "{'favorite': 'False', 'title': 'ALIEN'}\n",
      "{'favorite': 'False', 'title': 'Batman: The Movie'}\n",
      "{'favorite': 'True', 'title': 'Dinner for SCHMUCKS'}\n"
     ]
    }
   ],
   "source": [
    "# Ваш код здесь\n",
    "for movie in root.findall(\"./genre/decade/movie/format/[@multiple='Yes']..\"):\n",
    "    print(movie.attrib)"
   ]
  },
  {
   "cell_type": "markdown",
   "metadata": {},
   "source": [
    "<h2 style=\"text-align:center\"> Изменение XML документа</h2>\n",
    "\n",
    "Мы уже отметили, что названия XML-документа оформлены по-разному. Еще раз распечатаем их названия."
   ]
  },
  {
   "cell_type": "code",
   "execution_count": 32,
   "metadata": {},
   "outputs": [
    {
     "name": "stdout",
     "output_type": "stream",
     "text": [
      "Indiana Jones: The raiders of the lost Ark\n",
      "THE KARATE KID\n",
      "Back 2 the Future\n",
      "X-Men\n",
      "Batman Returns\n",
      "Reservoir Dogs\n",
      "ALIEN\n",
      "Ferris Bueller's Day Off\n",
      "American Psycho\n",
      "Batman: The Movie\n",
      "Easy A\n",
      "Dinner for SCHMUCKS\n",
      "Ghostbusters\n",
      "Robin Hood: Prince of Thieves\n"
     ]
    }
   ],
   "source": [
    "for movie in root.iter('movie'):\n",
    "    print(movie.attrib['title'])"
   ]
  },
  {
   "cell_type": "markdown",
   "metadata": {},
   "source": [
    "Исправим «2» в Back 2 the Future. Напишем код, чтобы найти элемент `movie` с названием \"Back 2 the Future\" и сохраним его в переменную."
   ]
  },
  {
   "cell_type": "code",
   "execution_count": 22,
   "metadata": {},
   "outputs": [
    {
     "data": {
      "text/plain": [
       "<Element 'movie' at 0x000001C5EB54BB00>"
      ]
     },
     "execution_count": 22,
     "metadata": {},
     "output_type": "execute_result"
    }
   ],
   "source": [
    "b2tf = root.find(\"./genre/decade/movie[@title='Back 2 the Future']\")\n",
    "b2tf"
   ]
  },
  {
   "cell_type": "markdown",
   "metadata": {},
   "source": [
    "Теперь к этому элементу можно оращаться по имени переменной."
   ]
  },
  {
   "cell_type": "code",
   "execution_count": 33,
   "metadata": {},
   "outputs": [
    {
     "name": "stdout",
     "output_type": "stream",
     "text": [
      "movie\n",
      "{'favorite': 'False', 'title': 'Back 2 the Future'}\n"
     ]
    }
   ],
   "source": [
    "print(b2tf.tag)\n",
    "print(b2tf.attrib)"
   ]
  },
  {
   "cell_type": "markdown",
   "metadata": {},
   "source": [
    "Присвоим атрибуту `title` этого фильма новое значение и распечатем элемент, чтобы увидеть изменения."
   ]
  },
  {
   "cell_type": "code",
   "execution_count": 34,
   "metadata": {},
   "outputs": [
    {
     "name": "stdout",
     "output_type": "stream",
     "text": [
      "<?xml version='1.0' encoding='utf8'?>\n",
      "<movie favorite=\"False\" title=\"Back to the Future\">\n",
      "               <format multiple=\"False\">Blu-ray</format>\n",
      "               <year>1985</year>\n",
      "               <rating>PG</rating>\n",
      "               <description>Marty McFly</description>\n",
      "            </movie>\n",
      "        \n"
     ]
    }
   ],
   "source": [
    "b2tf.attrib['title'] = 'Back to the Future'\n",
    "print(ET.tostring(b2tf, encoding='utf8').decode('utf8'))"
   ]
  },
  {
   "cell_type": "markdown",
   "metadata": {},
   "source": [
    "Запишем изменения в XML - файл."
   ]
  },
  {
   "cell_type": "code",
   "execution_count": 35,
   "metadata": {},
   "outputs": [],
   "source": [
    "tree.write(\"movies_improved.xml\")"
   ]
  },
  {
   "cell_type": "markdown",
   "metadata": {},
   "source": [
    "Создадим новое дерево, корень и распечатаем атрибуты элементов `movie`."
   ]
  },
  {
   "cell_type": "code",
   "execution_count": 36,
   "metadata": {},
   "outputs": [
    {
     "name": "stdout",
     "output_type": "stream",
     "text": [
      "{'favorite': 'True', 'title': 'Indiana Jones: The raiders of the lost Ark'}\n",
      "{'favorite': 'True', 'title': 'THE KARATE KID'}\n",
      "{'favorite': 'False', 'title': 'Back to the Future'}\n",
      "{'favorite': 'False', 'title': 'X-Men'}\n",
      "{'favorite': 'True', 'title': 'Batman Returns'}\n",
      "{'favorite': 'False', 'title': 'Reservoir Dogs'}\n",
      "{'favorite': 'False', 'title': 'ALIEN'}\n",
      "{'favorite': 'True', 'title': \"Ferris Bueller's Day Off\"}\n",
      "{'favorite': 'FALSE', 'title': 'American Psycho'}\n",
      "{'favorite': 'False', 'title': 'Batman: The Movie'}\n",
      "{'favorite': 'True', 'title': 'Easy A'}\n",
      "{'favorite': 'True', 'title': 'Dinner for SCHMUCKS'}\n",
      "{'favorite': 'False', 'title': 'Ghostbusters'}\n",
      "{'favorite': 'True', 'title': 'Robin Hood: Prince of Thieves'}\n"
     ]
    }
   ],
   "source": [
    "tree = ET.parse('movies_improved.xml')\n",
    "root = tree.getroot()\n",
    "\n",
    "for movie in root.iter('movie'):\n",
    "    print(movie.attrib)"
   ]
  },
  {
   "cell_type": "markdown",
   "metadata": {},
   "source": [
    "<h2 style=\"text-align:center\"> Исправление атрибутов</h2>\n",
    "\n",
    "Некоторые атрибуты `multiple` элементов `<format>` содержат некорректные значения. Чтобы убедиться в этом, распечатаем значения атрибутов и содержимое элементов `<format>`. "
   ]
  },
  {
   "cell_type": "code",
   "execution_count": 37,
   "metadata": {},
   "outputs": [
    {
     "name": "stdout",
     "output_type": "stream",
     "text": [
      "No      DVD\n",
      "Yes     DVD,Online\n",
      "False   Blu-ray\n",
      "Yes     dvd, digital\n",
      "No      VHS\n",
      "No      Online\n",
      "Yes     DVD\n",
      "No      DVD\n",
      "No      blue-ray\n",
      "Yes     DVD,VHS\n",
      "No      DVD\n",
      "Yes     DVD,digital,Netflix\n",
      "No      Online,VHS\n",
      "No      Blu_Ray\n"
     ]
    }
   ],
   "source": [
    "for f in root.findall(\"./genre/decade/movie/format\"):\n",
    "    print(f'{f.attrib[\"multiple\"] :7} {f.text}')"
   ]
  },
  {
   "cell_type": "markdown",
   "metadata": {},
   "source": [
    "Используем *регулярные выражения* чтобы найти в тексте запятые - их наличие станет признаком того, что значение `multiple='Yes'`. В противном случае значение должно быть `'No'`. Добавление и изменение атрибутов можно выполнять с помощью метода `.set()`.\n",
    "\n",
    "Дополнительно: <a href=\"https://www.datacamp.com/community/tutorials/python-regular-expression-tutorial\"> учебный материал о регулярных выражениях </a>"
   ]
  },
  {
   "cell_type": "code",
   "execution_count": 38,
   "metadata": {},
   "outputs": [
    {
     "name": "stdout",
     "output_type": "stream",
     "text": [
      "found {'multiple': 'No'}, DVD\n",
      "found {'multiple': 'Yes'}, DVD,Online\n",
      "found {'multiple': 'No'}, Blu-ray\n",
      "found {'multiple': 'Yes'}, dvd, digital\n",
      "found {'multiple': 'No'}, VHS\n",
      "found {'multiple': 'No'}, Online\n",
      "found {'multiple': 'No'}, DVD\n",
      "found {'multiple': 'No'}, DVD\n",
      "found {'multiple': 'No'}, blue-ray\n",
      "found {'multiple': 'Yes'}, DVD,VHS\n",
      "found {'multiple': 'No'}, DVD\n",
      "found {'multiple': 'Yes'}, DVD,digital,Netflix\n",
      "found {'multiple': 'Yes'}, Online,VHS\n",
      "found {'multiple': 'No'}, Blu_Ray\n"
     ]
    }
   ],
   "source": [
    "import re\n",
    "\n",
    "for f in root.findall(\"./genre/decade/movie/format\"):\n",
    "    # Ищем запятые в содержимом элементов format\n",
    "    match = re.search(',', f.text)\n",
    "    if match:\n",
    "        f.set('multiple', 'Yes')\n",
    "        print(f'found {f.attrib}, {f.text}')\n",
    "    else:\n",
    "        f.set('multiple', 'No')\n",
    "        print(f'found {f.attrib}, {f.text}')"
   ]
  },
  {
   "cell_type": "markdown",
   "metadata": {},
   "source": [
    "Теперь все значения атрибута *multiple* указаны корректно. Запишем эти изменения в файл."
   ]
  },
  {
   "cell_type": "code",
   "execution_count": 39,
   "metadata": {},
   "outputs": [
    {
     "name": "stdout",
     "output_type": "stream",
     "text": [
      "{'multiple': 'No'} DVD\n",
      "{'multiple': 'Yes'} DVD,Online\n",
      "{'multiple': 'No'} Blu-ray\n",
      "{'multiple': 'Yes'} dvd, digital\n",
      "{'multiple': 'No'} VHS\n",
      "{'multiple': 'No'} Online\n",
      "{'multiple': 'No'} DVD\n",
      "{'multiple': 'No'} DVD\n",
      "{'multiple': 'No'} blue-ray\n",
      "{'multiple': 'Yes'} DVD,VHS\n",
      "{'multiple': 'No'} DVD\n",
      "{'multiple': 'Yes'} DVD,digital,Netflix\n",
      "{'multiple': 'Yes'} Online,VHS\n",
      "{'multiple': 'No'} Blu_Ray\n"
     ]
    }
   ],
   "source": [
    "tree.write(\"movies_improved.xml\")\n",
    "tree = ET.parse('movies_improved.xml')\n",
    "root = tree.getroot()\n",
    "\n",
    "for f in root.iter('format'):\n",
    "    print(f.attrib, f.text)"
   ]
  },
  {
   "cell_type": "markdown",
   "metadata": {},
   "source": [
    "<h2 style=\"text-align:center\"> Перемещение элементов</h2>\n",
    "\n",
    "Некторые из фильмов попали не в свою декаду. Распечатаем теги `decade` и `year`."
   ]
  },
  {
   "cell_type": "code",
   "execution_count": 40,
   "metadata": {},
   "outputs": [
    {
     "name": "stdout",
     "output_type": "stream",
     "text": [
      "{'years': '1980s'}\n",
      "1981\n",
      "1984\n",
      "1985\n",
      "{'years': '1990s'}\n",
      "2000\n",
      "1992\n",
      "1992\n",
      "{'years': '1970s'}\n",
      "1979\n",
      "{'years': '1980s'}\n",
      "1986\n",
      "2000\n",
      "{'years': '1960s'}\n",
      "1966\n",
      "{'years': '2010s'}\n",
      "2010\n",
      "2011\n",
      "{'years': '1980s'}\n",
      "1984\n",
      "{'years': '1990s'}\n",
      "1991\n"
     ]
    }
   ],
   "source": [
    "for dec in root.iter(\"decade\"):\n",
    "    print(dec.attrib)\n",
    "    for y in dec.iter(\"year\"):\n",
    "        print(y.text)"
   ]
  },
  {
   "cell_type": "markdown",
   "metadata": {},
   "source": [
    "Два фильма 2000-го года попали не в свою декаду. Найдем эти фильмы, используя выражение *XPath*."
   ]
  },
  {
   "cell_type": "code",
   "execution_count": 43,
   "metadata": {},
   "outputs": [
    {
     "name": "stdout",
     "output_type": "stream",
     "text": [
      "{'favorite': 'False', 'title': 'X-Men'}\n",
      "{'favorite': 'FALSE', 'title': 'American Psycho'}\n"
     ]
    }
   ],
   "source": [
    "for movie in root.findall('./genre/decade/movie/[year=\"2000\"]'):\n",
    "    print(movie.attrib)"
   ]
  },
  {
   "cell_type": "markdown",
   "metadata": {},
   "source": [
    "Для *X-Men* потребуется добавить тег декады 2000-х в раздел жанра Экшн. Метод `.SubElement` добавит такой тег."
   ]
  },
  {
   "cell_type": "code",
   "execution_count": 44,
   "metadata": {},
   "outputs": [
    {
     "name": "stdout",
     "output_type": "stream",
     "text": [
      "<?xml version='1.0' encoding='utf8'?>\n",
      "<genre category=\"Action\">\n",
      "        <decade years=\"1980s\">\n",
      "            <movie favorite=\"True\" title=\"Indiana Jones: The raiders of the lost Ark\">\n",
      "                <format multiple=\"No\">DVD</format>\n",
      "                <year>1981</year>\n",
      "                <rating>PG</rating>\n",
      "                <description>\n",
      "                'Archaeologist and adventurer Indiana Jones \n",
      "                is hired by the U.S. government to find the Ark of the \n",
      "                Covenant before the Nazis.'\n",
      "                </description>\n",
      "            </movie>\n",
      "               <movie favorite=\"True\" title=\"THE KARATE KID\">\n",
      "               <format multiple=\"Yes\">DVD,Online</format>\n",
      "               <year>1984</year>\n",
      "               <rating>PG</rating>\n",
      "               <description>None provided.</description>\n",
      "            </movie>\n",
      "            <movie favorite=\"False\" title=\"Back to the Future\">\n",
      "               <format multiple=\"No\">Blu-ray</format>\n",
      "               <year>1985</year>\n",
      "               <rating>PG</rating>\n",
      "               <description>Marty McFly</description>\n",
      "            </movie>\n",
      "        </decade>\n",
      "        <decade years=\"1990s\">\n",
      "            <movie favorite=\"False\" title=\"X-Men\">\n",
      "               <format multiple=\"Yes\">dvd, digital</format>\n",
      "               <year>2000</year>\n",
      "               <rating>PG-13</rating>\n",
      "               <description>Two mutants come to a private academy for their kind whose resident superhero team must \n",
      "               oppose a terrorist organization with similar powers.</description>\n",
      "            </movie>\n",
      "            <movie favorite=\"True\" title=\"Batman Returns\">\n",
      "               <format multiple=\"No\">VHS</format>\n",
      "               <year>1992</year>\n",
      "               <rating>PG13</rating>\n",
      "               <description>NA.</description>\n",
      "            </movie>\n",
      "               <movie favorite=\"False\" title=\"Reservoir Dogs\">\n",
      "               <format multiple=\"No\">Online</format>\n",
      "               <year>1992</year>\n",
      "               <rating>R</rating>\n",
      "               <description>WhAtEvER I Want!!!?!</description>\n",
      "            </movie>\n",
      "        </decade>    \n",
      "    <decade years=\"2000s\" /><decade years=\"2000s\" /></genre>\n",
      "\n",
      "    \n"
     ]
    }
   ],
   "source": [
    "action = root.find(\"./genre[@category='Action']\")\n",
    "new_dec = ET.SubElement(action, 'decade')\n",
    "new_dec.attrib[\"years\"] = '2000s'\n",
    "\n",
    "print(ET.tostring(action, encoding='utf8').decode('utf8'))"
   ]
  },
  {
   "cell_type": "markdown",
   "metadata": {},
   "source": [
    "Теперь добавим фильм X-Men в раздел 2000-х, исключив его из 1990-х. Для этого используем `.append()` и `.remove()`."
   ]
  },
  {
   "cell_type": "code",
   "execution_count": 45,
   "metadata": {},
   "outputs": [
    {
     "name": "stdout",
     "output_type": "stream",
     "text": [
      "<?xml version='1.0' encoding='utf8'?>\n",
      "<genre category=\"Action\">\n",
      "        <decade years=\"1980s\">\n",
      "            <movie favorite=\"True\" title=\"Indiana Jones: The raiders of the lost Ark\">\n",
      "                <format multiple=\"No\">DVD</format>\n",
      "                <year>1981</year>\n",
      "                <rating>PG</rating>\n",
      "                <description>\n",
      "                'Archaeologist and adventurer Indiana Jones \n",
      "                is hired by the U.S. government to find the Ark of the \n",
      "                Covenant before the Nazis.'\n",
      "                </description>\n",
      "            </movie>\n",
      "               <movie favorite=\"True\" title=\"THE KARATE KID\">\n",
      "               <format multiple=\"Yes\">DVD,Online</format>\n",
      "               <year>1984</year>\n",
      "               <rating>PG</rating>\n",
      "               <description>None provided.</description>\n",
      "            </movie>\n",
      "            <movie favorite=\"False\" title=\"Back to the Future\">\n",
      "               <format multiple=\"No\">Blu-ray</format>\n",
      "               <year>1985</year>\n",
      "               <rating>PG</rating>\n",
      "               <description>Marty McFly</description>\n",
      "            </movie>\n",
      "        </decade>\n",
      "        <decade years=\"1990s\">\n",
      "            <movie favorite=\"True\" title=\"Batman Returns\">\n",
      "               <format multiple=\"No\">VHS</format>\n",
      "               <year>1992</year>\n",
      "               <rating>PG13</rating>\n",
      "               <description>NA.</description>\n",
      "            </movie>\n",
      "               <movie favorite=\"False\" title=\"Reservoir Dogs\">\n",
      "               <format multiple=\"No\">Online</format>\n",
      "               <year>1992</year>\n",
      "               <rating>R</rating>\n",
      "               <description>WhAtEvER I Want!!!?!</description>\n",
      "            </movie>\n",
      "        </decade>    \n",
      "    <decade years=\"2000s\"><movie favorite=\"False\" title=\"X-Men\">\n",
      "               <format multiple=\"Yes\">dvd, digital</format>\n",
      "               <year>2000</year>\n",
      "               <rating>PG-13</rating>\n",
      "               <description>Two mutants come to a private academy for their kind whose resident superhero team must \n",
      "               oppose a terrorist organization with similar powers.</description>\n",
      "            </movie>\n",
      "            </decade><decade years=\"2000s\" /></genre>\n",
      "\n",
      "    \n"
     ]
    }
   ],
   "source": [
    "xmen = root.find(\"./genre/decade/movie[@title='X-Men']\")\n",
    "dec2000s = root.find(\"./genre[@category='Action']/decade[@years='2000s']\")\n",
    "dec2000s.append(xmen)\n",
    "dec1990s = root.find(\"./genre[@category='Action']/decade[@years='1990s']\")\n",
    "dec1990s.remove(xmen)\n",
    "\n",
    "print(ET.tostring(action, encoding='utf8').decode('utf8'))"
   ]
  },
  {
   "cell_type": "markdown",
   "metadata": {},
   "source": [
    "<p style=\"background:powderblue\">Задание</p>\n",
    "\n",
    "Переместите фильм *American Psycho* в раздел 2000-х жанра *Thriller*."
   ]
  },
  {
   "cell_type": "code",
   "execution_count": null,
   "metadata": {},
   "outputs": [],
   "source": [
    "# Ваш код здесь.\n"
   ]
  },
  {
   "cell_type": "markdown",
   "metadata": {},
   "source": [
    "<h2 style=\"text-align:center\"> Создание XML-документов</h2>\n",
    "\n",
    "Сохраним результаты в XML-файл."
   ]
  },
  {
   "cell_type": "code",
   "execution_count": 47,
   "metadata": {
    "scrolled": false
   },
   "outputs": [
    {
     "name": "stdout",
     "output_type": "stream",
     "text": [
      "<?xml version='1.0' encoding='utf8'?>\n",
      "<collection>\n",
      "    <genre category=\"Action\">\n",
      "        <decade years=\"1980s\">\n",
      "            <movie favorite=\"True\" title=\"Indiana Jones: The raiders of the lost Ark\">\n",
      "                <format multiple=\"No\">DVD</format>\n",
      "                <year>1981</year>\n",
      "                <rating>PG</rating>\n",
      "                <description>\n",
      "                'Archaeologist and adventurer Indiana Jones \n",
      "                is hired by the U.S. government to find the Ark of the \n",
      "                Covenant before the Nazis.'\n",
      "                </description>\n",
      "            </movie>\n",
      "               <movie favorite=\"True\" title=\"THE KARATE KID\">\n",
      "               <format multiple=\"Yes\">DVD,Online</format>\n",
      "               <year>1984</year>\n",
      "               <rating>PG</rating>\n",
      "               <description>None provided.</description>\n",
      "            </movie>\n",
      "            <movie favorite=\"False\" title=\"Back to the Future\">\n",
      "               <format multiple=\"No\">Blu-ray</format>\n",
      "               <year>1985</year>\n",
      "               <rating>PG</rating>\n",
      "               <description>Marty McFly</description>\n",
      "            </movie>\n",
      "        </decade>\n",
      "        <decade years=\"1990s\">\n",
      "            <movie favorite=\"True\" title=\"Batman Returns\">\n",
      "               <format multiple=\"No\">VHS</format>\n",
      "               <year>1992</year>\n",
      "               <rating>PG13</rating>\n",
      "               <description>NA.</description>\n",
      "            </movie>\n",
      "               <movie favorite=\"False\" title=\"Reservoir Dogs\">\n",
      "               <format multiple=\"No\">Online</format>\n",
      "               <year>1992</year>\n",
      "               <rating>R</rating>\n",
      "               <description>WhAtEvER I Want!!!?!</description>\n",
      "            </movie>\n",
      "        </decade>    \n",
      "    <decade years=\"2000s\"><movie favorite=\"False\" title=\"X-Men\">\n",
      "               <format multiple=\"Yes\">dvd, digital</format>\n",
      "               <year>2000</year>\n",
      "               <rating>PG-13</rating>\n",
      "               <description>Two mutants come to a private academy for their kind whose resident superhero team must \n",
      "               oppose a terrorist organization with similar powers.</description>\n",
      "            </movie>\n",
      "            </decade><decade years=\"2000s\" /></genre>\n",
      "\n",
      "    <genre category=\"Thriller\">\n",
      "        <decade years=\"1970s\">\n",
      "            <movie favorite=\"False\" title=\"ALIEN\">\n",
      "                <format multiple=\"No\">DVD</format>\n",
      "                <year>1979</year>\n",
      "                <rating>R</rating>\n",
      "                <description>\"\"\"\"\"\"\"\"\"</description>\n",
      "            </movie>\n",
      "        </decade>\n",
      "        <decade years=\"1980s\">\n",
      "            <movie favorite=\"True\" title=\"Ferris Bueller's Day Off\">\n",
      "                <format multiple=\"No\">DVD</format>\n",
      "                <year>1986</year>\n",
      "                <rating>PG13</rating>\n",
      "                <description>Funny movie about a funny guy</description>\n",
      "            </movie>\n",
      "            <movie favorite=\"FALSE\" title=\"American Psycho\">\n",
      "                <format multiple=\"No\">blue-ray</format>\n",
      "                <year>2000</year>\n",
      "                <rating>Unrated</rating>\n",
      "                <description>psychopathic Bateman</description>\n",
      "            </movie>\n",
      "        </decade>\n",
      "    </genre>\n",
      "\t\n",
      "\t\n",
      "    <genre category=\"Comedy\">\n",
      "        <decade years=\"1960s\">\n",
      "            <movie favorite=\"False\" title=\"Batman: The Movie\">\n",
      "                <format multiple=\"Yes\">DVD,VHS</format>\n",
      "                <year>1966</year>\n",
      "                <rating>PG</rating>\n",
      "                <description>What a joke!</description>\n",
      "            </movie>\n",
      "        </decade>\n",
      "        <decade years=\"2010s\">\n",
      "            <movie favorite=\"True\" title=\"Easy A\">\n",
      "                <format multiple=\"No\">DVD</format>\n",
      "                <year>2010</year>\n",
      "                <rating>PG--13</rating>\n",
      "                <description>Emma Stone = Hester Prynne</description>\n",
      "            </movie>\n",
      "            <movie favorite=\"True\" title=\"Dinner for SCHMUCKS\">\n",
      "                <format multiple=\"Yes\">DVD,digital,Netflix</format>\n",
      "                <year>2011</year>\n",
      "                <rating>Unrated</rating>\n",
      "                <description>Tim (Rudd) is a rising executive\n",
      "                 who “succeeds” in finding the perfect guest, \n",
      "                 IRS employee Barry (Carell), for his boss’ monthly event, \n",
      "                 a so-called “dinner for idiots,” which offers certain \n",
      "                 advantages to the exec who shows up with the biggest buffoon.\n",
      "                 </description>\n",
      "            </movie>\n",
      "        </decade>\n",
      "        <decade years=\"1980s\">\n",
      "            <movie favorite=\"False\" title=\"Ghostbusters\">\n",
      "                <format multiple=\"Yes\">Online,VHS</format>\n",
      "                <year>1984</year>\n",
      "                <rating>PG</rating>\n",
      "                <description>Who ya gonna call?</description>\n",
      "            </movie>\n",
      "        </decade>\n",
      "        <decade years=\"1990s\">\n",
      "            <movie favorite=\"True\" title=\"Robin Hood: Prince of Thieves\">\n",
      "                <format multiple=\"No\">Blu_Ray</format>\n",
      "                <year>1991</year>\n",
      "                <rating>Unknown</rating>\n",
      "                <description>Robin Hood slaying</description>\n",
      "            </movie>\n",
      "        </decade>\n",
      "    </genre>\n",
      "</collection>\n"
     ]
    }
   ],
   "source": [
    "tree.write(\"movies_improved.xml\")\n",
    "\n",
    "tree = ET.parse('movies_improved.xml')\n",
    "root = tree.getroot()\n",
    "\n",
    "print(ET.tostring(root, encoding='utf8').decode('utf8'))"
   ]
  },
  {
   "cell_type": "markdown",
   "metadata": {},
   "source": [
    "<h2 style=\"text-align:center\"> Заключение</h2>\n",
    "\n",
    "Несколько важных вещей, которые следует запомнить.\n",
    "\n",
    "Теги образуют древовидную структуру. Пара из начального и конечного тега маркируют границы элемента. Каждый элемент может содерать неограниченное количество вложенных элементов.\n",
    "\n",
    "Начальный тег может содержать атрибуты, которые конкретизируют содержимое элемента. \n",
    "\n",
    "ElementTree – библиотека Python, которая позволяет анализировать XML-документ и перемещаться по нему. Использование ElementTree разбивает XML-документ на древовидную структуру, с которой легко работать. Для краткого ознакомления с содержимым всего XML-документа или его элемента, используйте `tostring()`, например `print(ET.tostring(root, encoding='utf8').decode('utf8'))`.\n",
    "\n",
    "Ссылки:<br>\n",
    "https://www.datacamp.com/tutorial/python-xml-elementtree<br>\n",
    "https://docs.python.org/3/library/xml.etree.elementtree.html<br>\n",
    "https://en.wikipedia.org/wiki/XML"
   ]
  },
  {
   "cell_type": "markdown",
   "metadata": {},
   "source": [
    "* [к оглавлению](#разделы)"
   ]
  }
 ],
 "metadata": {
  "anaconda-cloud": {},
  "kernelspec": {
   "display_name": "Python 3 (ipykernel)",
   "language": "python",
   "name": "python3"
  },
  "language_info": {
   "codemirror_mode": {
    "name": "ipython",
    "version": 3
   },
   "file_extension": ".py",
   "mimetype": "text/x-python",
   "name": "python",
   "nbconvert_exporter": "python",
   "pygments_lexer": "ipython3",
   "version": "3.11.5"
  }
 },
 "nbformat": 4,
 "nbformat_minor": 1
}
