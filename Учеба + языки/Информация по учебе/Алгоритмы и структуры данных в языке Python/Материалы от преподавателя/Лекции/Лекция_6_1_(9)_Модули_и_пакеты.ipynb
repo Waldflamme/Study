{
 "cells": [
  {
   "cell_type": "markdown",
   "id": "d1279639",
   "metadata": {},
   "source": [
    "<img src=\"../Img/ФинУ.jpg\">\n",
    "\n",
    "# Алгоритмы и структуры данных в языке Python\n",
    "\n",
    "# Лекция 9. Модули и пакеты\n",
    "\n",
    "Лектор: Смирнов Михаил Викторович, доцент кафедры информационных технологий Финансового университета при Правительстве Российской Федерации"
   ]
  },
  {
   "cell_type": "markdown",
   "id": "ba77f3d4",
   "metadata": {},
   "source": [
    "## Разделы: <a class=\"anchor\" id=\"разделы\"></a>\n",
    "-\n",
    "* [К оглавлению](#разделы)\n",
    "\n",
    "* [Организация кода в модулях](#оргкодмод)\n",
    "* [Импорт модуля](#импмод)\n",
    "* [Поиск модуля](#поискмод)\n",
    "* [Функция dir()](#funcdir)\n",
    "* [Работа с пакетами](#рабпак)\n",
    "* [Менеджер пакетов pip](#менпак)\n",
    "\n",
    "-\n",
    "* [к оглавлению](#разделы)"
   ]
  },
  {
   "cell_type": "markdown",
   "id": "1bc2111b",
   "metadata": {},
   "source": [
    "Источники\n",
    "\n",
    "- https://docs.python.org/3/tutorial/modules.html\n",
    "- https://realpython.com/python-modules-packages\n",
    "- https://realpython.com/what-is-pip/"
   ]
  },
  {
   "cell_type": "markdown",
   "id": "3279df78",
   "metadata": {},
   "source": [
    "<a class=\"anchor\" id=\"оргкодмод\"></a>\n",
    "<p style=\"font-size:150%; text-align:center\">Организация кода в модулях</p>\n",
    "<br>\n",
    "\n",
    "* [к оглавлению](#разделы)\n",
    "\n",
    "Модуль Python – это файл, содержащий определения и операторы Python. Модуль может определять функции, классы и переменные. Модуль также может включать исполняемый код. Группировка связанного кода в модуль упрощает понимание и использование кода. Имя файла модуля совпадает с названием модуля, к которому добавлен суффикс *.py*. \n",
    "\n",
    "<u><i>Пример</i></u>. с помощью текстового редактора создайте в текущем каталоге файл *module_01.py* со следующим содержимым:\n",
    "\n",
    "```python\n",
    "def fibo(n):\n",
    "    \"\"\"\n",
    "    Находит первые n чисел Фибоначчи\n",
    "    \"\"\"\n",
    "    result = [0, 1]\n",
    "    while len(result) < n:\n",
    "        result.append(result[-1] + result[-2])\n",
    "    return result\n",
    "\n",
    "def gcd(a, b):\n",
    "    \"\"\"\n",
    "    Находит наибольший общий делитель (greatest common divisor)\n",
    "    \"\"\"\n",
    "    if a != b:\n",
    "        return gcd(max(a, b) - min(a, b), min(a, b))\n",
    "    else:\n",
    "        return a\n",
    "\n",
    "def lcm(a, b):\n",
    "    \"\"\"\n",
    "    Находит наименьшее общее кратное (less common multiple)\n",
    "    \"\"\"\n",
    "    lcm = a*b / gcd(a, b)\n",
    "    return lcm\n",
    "```\n",
    "\n",
    "Импортируем модуль."
   ]
  },
  {
   "cell_type": "code",
   "execution_count": 1,
   "id": "74958ae1",
   "metadata": {},
   "outputs": [],
   "source": [
    "import module_01"
   ]
  },
  {
   "cell_type": "markdown",
   "id": "b63429d0",
   "metadata": {},
   "source": [
    "Теперь функции модуля доступны в программе."
   ]
  },
  {
   "cell_type": "code",
   "execution_count": 2,
   "id": "a5950eb8",
   "metadata": {},
   "outputs": [
    {
     "name": "stdout",
     "output_type": "stream",
     "text": [
      "[0, 1, 1, 2, 3, 5, 8, 13, 21, 34]\n",
      "30\n",
      "360.0\n"
     ]
    }
   ],
   "source": [
    "# Первые 10 чисел Фибоначчи\n",
    "print(module_01.fibo(10))\n",
    "\n",
    "# Наибольший общий делитель\n",
    "print(module_01.gcd(120, 90))\n",
    "\n",
    "# Наименьшее общее кратное\n",
    "print(module_01.lcm(120, 90))"
   ]
  },
  {
   "cell_type": "markdown",
   "id": "f1f14359",
   "metadata": {},
   "source": [
    "В момент импорта модуль автоматически выполняется в принимающей программе. Рассмотрим это на примере. Создайте модуль *module_02.py* со следующим содержимым:\n",
    "\n",
    "```python\n",
    "from datetime import datetime\n",
    "print(datetime.now())\n",
    "print('Выполняется Модуль 2')\n",
    "```\n",
    "\n",
    "Теперь выполним команду импорта модуля."
   ]
  },
  {
   "cell_type": "code",
   "execution_count": 3,
   "id": "0de7f4eb",
   "metadata": {},
   "outputs": [
    {
     "name": "stdout",
     "output_type": "stream",
     "text": [
      "2024-09-27 10:23:38.148391\n",
      "Выполняется Модуль 2\n"
     ]
    }
   ],
   "source": [
    "import module_02"
   ]
  },
  {
   "cell_type": "markdown",
   "id": "b047b910",
   "metadata": {},
   "source": [
    "Мы видим, что программа модуля автоматически выполнилась. Такое поведение модуля в принимающей программе можно предотвратить, обработав значение специальной переменной `__name__`, которая для текущей программы принимает значение `__main__`.\n",
    "\n",
    "<u><i>Пример.</i></u> Создайте модуль *module_03.py* со следующим содержимым:\n",
    "\n",
    "```python\n",
    "if __name__ == '__main__':\n",
    "    print('Сегодня гладим кошку.')\n",
    "    print(\"\"\"\n",
    "     (\\___/)\n",
    "     (='.'=)\n",
    "    ('')_('')\n",
    "    \"\"\")\n",
    "else:\n",
    "    print('Сегодня идем в горы.')\n",
    "    print(\"\"\"\n",
    "                   /\\                       /\\             \n",
    "                  /**\\                     /**\\            \n",
    "                 /****\\   /\\      /\\      /****\\   /\\      \n",
    "                /      \\ /**\\    /  \\    /      \\ /**\\      \n",
    "               /  /\\    /    \\  /    \\  /  /\\    /    \\     \n",
    "              /  /  \\  /      \\/      \\/  /  \\  /      \\    \n",
    "             /  /    \\/ /\\     \\      /  /    \\/ /\\     \\   \n",
    "            /  /      \\/  \\/\\   \\    /  /      \\/  \\/\\   \\  \n",
    "         __/__/_______/___/__\\___\\__/__/_______/___/__\\___\\ \n",
    "    \"\"\")\n",
    "```"
   ]
  },
  {
   "cell_type": "code",
   "execution_count": 4,
   "id": "0f79caf5",
   "metadata": {
    "scrolled": true
   },
   "outputs": [
    {
     "name": "stdout",
     "output_type": "stream",
     "text": [
      "Сегодня идем в горы.\n",
      "\n",
      "                   /\\                       /\\             \n",
      "                  /**\\                     /**\\            \n",
      "                 /****\\   /\\      /\\      /****\\   /\\      \n",
      "                /      \\ /**\\    /  \\    /      \\ /**\\      \n",
      "               /  /\\    /    \\  /    \\  /  /\\    /    \\     \n",
      "              /  /  \\  /      \\/      \\/  /  \\  /      \\    \n",
      "             /  /    \\/ /\\     \\      /  /    \\/ /\\     \\   \n",
      "            /  /      \\/  \\/\\   \\    /  /      \\/  \\/\\   \\  \n",
      "         __/__/_______/___/__\\___\\__/__/_______/___/__\\___\\ \n",
      "    \n"
     ]
    }
   ],
   "source": [
    "import module_03"
   ]
  },
  {
   "cell_type": "markdown",
   "id": "cb38e535",
   "metadata": {},
   "source": [
    "Однако, если запустить модуль непосредственно как скрипт, то переменной \\_\\_name\\_\\_ модуля будет присвоено значение \\_\\_main\\_\\_."
   ]
  },
  {
   "cell_type": "code",
   "execution_count": 16,
   "id": "cddfbd2a",
   "metadata": {
    "scrolled": true
   },
   "outputs": [
    {
     "name": "stdout",
     "output_type": "stream",
     "text": [
      "Сегодня гладим кошку.\n",
      "\n",
      "     (\\___/)\n",
      "     (='.'=)\n",
      "    ('')_('')\n",
      "    \n"
     ]
    }
   ],
   "source": [
    "!python module_03.py"
   ]
  },
  {
   "cell_type": "markdown",
   "id": "1e84f6b6",
   "metadata": {},
   "source": [
    "<a class=\"anchor\" id=\"импмод\"></a>\n",
    "<p style=\"font-size:150%; text-align:center\">Импорт модуля</p>\n",
    "<br>\n",
    "\n",
    "* [к оглавлению](#разделы)"
   ]
  },
  {
   "cell_type": "markdown",
   "id": "e0b0dae3",
   "metadata": {},
   "source": [
    "Рассмотрим различные способы импортирования модуля.\n",
    "\n",
    "По команде импорта имя модуля входит в текущее пространство имен Python, после чего функции модуля становятся доступны по их именам, если их указать через точку после имени модуля."
   ]
  },
  {
   "cell_type": "code",
   "execution_count": 5,
   "id": "809dae90",
   "metadata": {},
   "outputs": [
    {
     "data": {
      "text/plain": [
       "[0, 1, 1, 2, 3, 5, 8, 13, 21, 34]"
      ]
     },
     "execution_count": 5,
     "metadata": {},
     "output_type": "execute_result"
    }
   ],
   "source": [
    "module_01.fibo(10)"
   ]
  },
  {
   "cell_type": "markdown",
   "id": "42cb7061",
   "metadata": {},
   "source": [
    "Если вы собираетесь часто использовать функцию, вы можете присвоить ей локальное имя:"
   ]
  },
  {
   "cell_type": "code",
   "execution_count": 6,
   "id": "9bc04470",
   "metadata": {},
   "outputs": [
    {
     "data": {
      "text/plain": [
       "[0, 1, 1, 2, 3, 5, 8, 13, 21, 34, 55, 89]"
      ]
     },
     "execution_count": 6,
     "metadata": {},
     "output_type": "execute_result"
    }
   ],
   "source": [
    "fib = module_01.fibo\n",
    "fib(12)"
   ]
  },
  {
   "cell_type": "markdown",
   "id": "8c474c0b",
   "metadata": {},
   "source": [
    "Каждый модуль имеет свое собственное пространство имен, которое используется как глобальное пространство имен всеми функциями, определенными в модуле. Таким образом, автор модуля может использовать глобальные переменные в модуле, не беспокоясь о случайных совпадениях с глобальными переменными пользователя.\n",
    "\n",
    "Модули могут импортировать другие модули. Обычно, но не обязательно, размещать все операторы импорта в начале модуля (или скрипта). Имена импортируемых модулей добавляются в глобальное пространство имен модуля.\n",
    "\n",
    "Существует вариант оператора *import*, который импортирует имена из модуля напрямую в пространство имен импортирующего модуля. Например:"
   ]
  },
  {
   "cell_type": "code",
   "execution_count": 7,
   "id": "068b93ec",
   "metadata": {},
   "outputs": [
    {
     "data": {
      "text/plain": [
       "[0, 1, 1, 2, 3, 5, 8, 13, 21, 34]"
      ]
     },
     "execution_count": 7,
     "metadata": {},
     "output_type": "execute_result"
    }
   ],
   "source": [
    "from module_01 import fibo\n",
    "fibo(10)"
   ]
  },
  {
   "cell_type": "markdown",
   "id": "a140c091",
   "metadata": {},
   "source": [
    "Можно даже так (не рекомендуется):"
   ]
  },
  {
   "cell_type": "code",
   "execution_count": 8,
   "id": "7901ceb8",
   "metadata": {},
   "outputs": [
    {
     "data": {
      "text/plain": [
       "360.0"
      ]
     },
     "execution_count": 8,
     "metadata": {},
     "output_type": "execute_result"
    }
   ],
   "source": [
    "from module_01 import *\n",
    "lcm(90, 120)"
   ]
  },
  {
   "cell_type": "markdown",
   "id": "1baa36dc",
   "metadata": {},
   "source": [
    "Такой способ приводит к импорту всех имен, кроме тех, которые начинаются с подчеркивания (\\_). В большинстве случаев программисты Python не используют эту возможность, поскольку она вводит неизвестный набор имен в интерпретатор, возможно, скрывая некоторые объекты, которые вы уже определили.\n",
    "\n",
    "**Псевдонимы**\n",
    "\n",
    "Если после имени модуля следует ключевое слово *as*, то имя, следующее за *as*, связывается с модулем, становясь его псевдонимом. Далее обращаться к модулю следует по псевдониму."
   ]
  },
  {
   "cell_type": "code",
   "execution_count": 9,
   "id": "2ac12be1",
   "metadata": {},
   "outputs": [
    {
     "data": {
      "text/plain": [
       "[0, 1, 1, 2, 3, 5, 8, 13, 21, 34]"
      ]
     },
     "execution_count": 9,
     "metadata": {},
     "output_type": "execute_result"
    }
   ],
   "source": [
    "import module_01 as puzzles\n",
    "puzzles.fibo(10)"
   ]
  },
  {
   "cell_type": "markdown",
   "id": "a7253938",
   "metadata": {},
   "source": [
    "Функциям модуля также можно присваивать псевдонимы."
   ]
  },
  {
   "cell_type": "code",
   "execution_count": 10,
   "id": "2a2ebecb",
   "metadata": {},
   "outputs": [
    {
     "data": {
      "text/plain": [
       "[0, 1, 1, 2, 3, 5, 8, 13, 21, 34]"
      ]
     },
     "execution_count": 10,
     "metadata": {},
     "output_type": "execute_result"
    }
   ],
   "source": [
    "from module_01 import fibo as numbers\n",
    "numbers(10)"
   ]
  },
  {
   "cell_type": "markdown",
   "id": "75f36745",
   "metadata": {},
   "source": [
    "**Повторная загрузка модулей**\n",
    "\n",
    "Из соображений эффективности каждый модуль импортируется только один раз за сеанс интерпретатора."
   ]
  },
  {
   "cell_type": "code",
   "execution_count": 11,
   "id": "41e9ef3b",
   "metadata": {},
   "outputs": [],
   "source": [
    "import module_03"
   ]
  },
  {
   "cell_type": "markdown",
   "id": "7383aa88",
   "metadata": {},
   "source": [
    "Мы видим, что код модуля не выполнился, так как модуль импортирован ранее.\n",
    "\n",
    "Поэтому, если вы изменяете модули, вам необходимо перезапустить интерпретатор – или, если это всего один модуль, который вы хотите протестировать интерактивно, используйте *importlib.reload()*, например\n",
    "\n",
    "```python\n",
    "import importlib; importlib.reload(modulename).\n",
    "```"
   ]
  },
  {
   "cell_type": "code",
   "execution_count": 12,
   "id": "804aca4d",
   "metadata": {
    "scrolled": true
   },
   "outputs": [
    {
     "name": "stdout",
     "output_type": "stream",
     "text": [
      "Сегодня идем в горы.\n",
      "\n",
      "                   /\\                       /\\             \n",
      "                  /**\\                     /**\\            \n",
      "                 /****\\   /\\      /\\      /****\\   /\\      \n",
      "                /      \\ /**\\    /  \\    /      \\ /**\\      \n",
      "               /  /\\    /    \\  /    \\  /  /\\    /    \\     \n",
      "              /  /  \\  /      \\/      \\/  /  \\  /      \\    \n",
      "             /  /    \\/ /\\     \\      /  /    \\/ /\\     \\   \n",
      "            /  /      \\/  \\/\\   \\    /  /      \\/  \\/\\   \\  \n",
      "         __/__/_______/___/__\\___\\__/__/_______/___/__\\___\\ \n",
      "    \n"
     ]
    },
    {
     "data": {
      "text/plain": [
       "<module 'module_03' from 'D:\\\\Smirnov\\\\FinU\\\\2024-2025\\\\АиСД_Python\\\\06_Модули_и_пакеты\\\\module_03.py'>"
      ]
     },
     "execution_count": 12,
     "metadata": {},
     "output_type": "execute_result"
    }
   ],
   "source": [
    "import importlib\n",
    "importlib.reload(module_03)"
   ]
  },
  {
   "cell_type": "markdown",
   "id": "4734a838",
   "metadata": {},
   "source": [
    "<a class=\"anchor\" id=\"поискмод\"></a>\n",
    "<p style=\"font-size:150%; text-align:center\">Поиск модуля</p>\n",
    "<br>\n",
    "\n",
    "* [к оглавлению](#разделы)"
   ]
  },
  {
   "cell_type": "markdown",
   "id": "b55bd9d0",
   "metadata": {},
   "source": [
    "При импорте модуля с именем, например *spam*, интерпретатор сначала ищет встроенный модуль с таким же именем. Эти имена модулей перечислены в *sys.builtin_module_names*. Если он не найден, он ищет файл с именем *spam.py* в списке каталогов, заданном переменной *sys.path*. Первым расположением *sys.path* является каталог, содержащий скрипт модуля (текущий каталог)."
   ]
  },
  {
   "cell_type": "code",
   "execution_count": 24,
   "id": "d3079a9e",
   "metadata": {
    "scrolled": false
   },
   "outputs": [
    {
     "data": {
      "text/plain": [
       "['D:\\\\Smirnov\\\\FinU\\\\2024-2025\\\\АиСД_Python\\\\06_Модули_и_пакеты',\n",
       " 'C:\\\\Users\\\\myfri\\\\anaconda3\\\\envs\\\\mvs\\\\python311.zip',\n",
       " 'C:\\\\Users\\\\myfri\\\\anaconda3\\\\envs\\\\mvs\\\\DLLs',\n",
       " 'C:\\\\Users\\\\myfri\\\\anaconda3\\\\envs\\\\mvs\\\\Lib',\n",
       " 'C:\\\\Users\\\\myfri\\\\anaconda3\\\\envs\\\\mvs',\n",
       " '',\n",
       " 'C:\\\\Users\\\\myfri\\\\anaconda3\\\\envs\\\\mvs\\\\Lib\\\\site-packages',\n",
       " 'C:\\\\Users\\\\myfri\\\\anaconda3\\\\envs\\\\mvs\\\\Lib\\\\site-packages\\\\win32',\n",
       " 'C:\\\\Users\\\\myfri\\\\anaconda3\\\\envs\\\\mvs\\\\Lib\\\\site-packages\\\\win32\\\\lib',\n",
       " 'C:\\\\Users\\\\myfri\\\\anaconda3\\\\envs\\\\mvs\\\\Lib\\\\site-packages\\\\Pythonwin']"
      ]
     },
     "execution_count": 24,
     "metadata": {},
     "output_type": "execute_result"
    }
   ],
   "source": [
    "import sys\n",
    "sys.path"
   ]
  },
  {
   "cell_type": "markdown",
   "id": "d2034d1f",
   "metadata": {},
   "source": [
    "<a class=\"anchor\" id=\"funcdir\"></a>\n",
    "<p style=\"font-size:150%; text-align:center\">Функция dir()</p>\n",
    "<br>\n",
    "\n",
    "* [к оглавлению](#разделы)"
   ]
  },
  {
   "cell_type": "markdown",
   "id": "484c367d",
   "metadata": {},
   "source": [
    "Встроенная функция *dir()* используется для выяснения того, какие имена определяет модуль. Она возвращает отсортированный список строк. Без аргументов *dir()* выводит список имен, которые вы определили в данный момент: имена переменных, функций, модулей и так далее."
   ]
  },
  {
   "cell_type": "code",
   "execution_count": 25,
   "id": "6fd5ca99",
   "metadata": {},
   "outputs": [
    {
     "data": {
      "text/plain": [
       "['__builtins__',\n",
       " '__cached__',\n",
       " '__doc__',\n",
       " '__file__',\n",
       " '__loader__',\n",
       " '__name__',\n",
       " '__package__',\n",
       " '__spec__',\n",
       " 'fibo',\n",
       " 'gcd',\n",
       " 'lcm']"
      ]
     },
     "execution_count": 25,
     "metadata": {},
     "output_type": "execute_result"
    }
   ],
   "source": [
    "dir(module_01)"
   ]
  },
  {
   "cell_type": "markdown",
   "id": "4c8dac06",
   "metadata": {},
   "source": [
    "<a class=\"anchor\" id=\"рабпак\"></a>\n",
    "<p style=\"font-size:150%; text-align:center\">Работа с пакетами</p>\n",
    "<br>\n",
    "\n",
    "* [к оглавлению](#разделы)\n"
   ]
  },
  {
   "cell_type": "markdown",
   "id": "9b620054",
   "metadata": {},
   "source": [
    "Предположим, вы разработали большое приложение, включающее множество модулей. По мере роста числа модулей становится сложно их сопровождать и актуализировать, особенное если у них похожие названия и функциональность. Возможно, вам захочется иметь средство для их группировки и организации.\n",
    "\n",
    "Пакеты позволяют иерархически структурировать пространство имен модулей с использованием точечной нотации. Такой подход позволяет нам импортировать модули указывая их имена уже привычным способом – через точку после имени пакета.\n",
    "\n",
    "```python\n",
    "import <module_name>[, <module_name> ...]\n",
    "```\n",
    "\n",
    "<u><i>Пример</i></u>. Создадим модули в файлах *mod1.py*, *mod2.py* и разместим их в папке *pkg*, размещенной по одному из адресов из перечня *sys.path*.\n",
    "\n",
    "<img src=\"Img/pkg.png\">\n",
    "\n",
    "***mod1.py***\n",
    "```python\n",
    "def foo():\n",
    "    print('[mod1] foo()')\n",
    "\n",
    "class Foo:\n",
    "    pass\n",
    "```\n",
    "\n",
    "***mod2.py***\n",
    "```python\n",
    "def bar():\n",
    "    print('[mod2] bar()')\n",
    "\n",
    "class Bar:\n",
    "    pass\n",
    "```"
   ]
  },
  {
   "cell_type": "code",
   "execution_count": 1,
   "id": "bb868dc5",
   "metadata": {},
   "outputs": [],
   "source": [
    "import pkg.mod1, pkg.mod2"
   ]
  },
  {
   "cell_type": "code",
   "execution_count": 2,
   "id": "2bf1b7d6",
   "metadata": {},
   "outputs": [
    {
     "name": "stdout",
     "output_type": "stream",
     "text": [
      "[mod1] foo()\n"
     ]
    }
   ],
   "source": [
    "pkg.mod1.foo()"
   ]
  },
  {
   "cell_type": "code",
   "execution_count": 5,
   "id": "559e448f",
   "metadata": {},
   "outputs": [
    {
     "data": {
      "text/plain": [
       "<pkg.mod2.Bar at 0x1d3942cd750>"
      ]
     },
     "execution_count": 5,
     "metadata": {},
     "output_type": "execute_result"
    }
   ],
   "source": [
    "x = pkg.mod2.Bar()\n",
    "x"
   ]
  },
  {
   "cell_type": "markdown",
   "id": "7202ec4b",
   "metadata": {},
   "source": [
    "Другой также привычный способ импорта модулей:\n",
    "\n",
    "```python\n",
    "from <package_name> import <modules_name>[, <module_name> ...]\n",
    "from <package_name> import <module_name> as <alt_name>\n",
    "```"
   ]
  },
  {
   "cell_type": "code",
   "execution_count": 7,
   "id": "74be2e6d",
   "metadata": {},
   "outputs": [
    {
     "name": "stdout",
     "output_type": "stream",
     "text": [
      "[mod1] foo()\n",
      "[mod2] bar()\n"
     ]
    }
   ],
   "source": [
    "from pkg import mod1\n",
    "mod1.foo()\n",
    "\n",
    "from pkg import mod2 as quux\n",
    "quux.bar()"
   ]
  },
  {
   "cell_type": "markdown",
   "id": "d7404961",
   "metadata": {},
   "source": [
    "<a class=\"anchor\" id=\"менпак\"></a>\n",
    "<p style=\"font-size:150%; text-align:center\">Менеджер пакетов <i>pip</i></p>\n",
    "<br>\n",
    "\n",
    "* [к оглавлению](#разделы)\n"
   ]
  },
  {
   "cell_type": "markdown",
   "id": "13fbb857",
   "metadata": {},
   "source": [
    "Менеджер пакетов *pip* позволяет обновлять и устанавливать новые пакеты, не входящие в стандартную поставку Python. Слово *pip* является аббревиатоурой от *pip install packages*. Начиная с версии Python 3.4 *pip* входит в стандартную поставку Python.\n",
    "\n",
    "Перечислим некоторые часто встречающиеся действия с помощью *pip*.\n",
    "\n",
    "- Установить пакет\n",
    "```python\n",
    "!pip install <Имя пакета>\n",
    "```\n",
    "\n",
    "- Получить список установленных пакетов\n",
    "```python\n",
    "!pip list\n",
    "```\n",
    "\n",
    "- Получить список установленных актуальных пакетов\n",
    "```python\n",
    "!pip list -u\n",
    "```\n",
    "\n",
    "- Получить список установленных устаревших пакетов\n",
    "```python\n",
    "!pip list -o\n",
    "```\n",
    "\n",
    "- Обновить конкретный пактет\n",
    "```python\n",
    "!pip install -U matplotlib\n",
    "```\n",
    "\n",
    "- Обновить несколько пакетов\n",
    "```python\n",
    "!pip install -U matplotlib sympy\n",
    "```\n",
    "\n",
    "- Получить справку по использованию менеджера пакетов\n",
    "```python\n",
    "!pip list -h\n",
    "```\n",
    "\n",
    "<u><i>Пример</i></u>. Найдем устаревшие пакеты."
   ]
  },
  {
   "cell_type": "code",
   "execution_count": 9,
   "id": "2e771e82",
   "metadata": {},
   "outputs": [
    {
     "name": "stdout",
     "output_type": "stream",
     "text": [
      "Package                  Version   Latest      Type\n",
      "------------------------ --------- ----------- -----\n",
      "aiofiles                 22.1.0    24.1.0      wheel\n",
      "aiosqlite                0.18.0    0.20.0      wheel\n",
      "anyio                    3.5.0     4.6.0       wheel\n",
      "argon2-cffi              21.3.0    23.1.0      wheel\n",
      "asttokens                2.0.5     2.4.1       wheel\n",
      "attrs                    22.1.0    24.2.0      wheel\n",
      "Babel                    2.11.0    2.16.0      wheel\n",
      "beautifulsoup4           4.12.2    4.12.3      wheel\n",
      "bleach                   4.1.0     6.1.0       wheel\n",
      "bokeh                    3.2.1     3.6.0       wheel\n",
      "Bottleneck               1.3.5     1.4.0       wheel\n",
      "certifi                  2023.7.22 2024.8.30   wheel\n",
      "cffi                     1.15.1    1.17.1      wheel\n",
      "charset-normalizer       2.0.4     3.3.2       wheel\n",
      "click                    8.0.4     8.1.7       wheel\n",
      "cloudpickle              2.2.1     3.0.0       wheel\n",
      "comm                     0.1.2     0.2.2       wheel\n",
      "contourpy                1.0.5     1.3.0       wheel\n",
      "cryptography             39.0.1    43.0.1      wheel\n",
      "cycler                   0.11.0    0.12.1      wheel\n",
      "cytoolz                  0.12.0    0.12.3      wheel\n",
      "dask                     2023.6.0  2024.9.1    wheel\n",
      "debugpy                  1.5.1     1.8.6       wheel\n",
      "distributed              2023.6.0  2024.9.1    wheel\n",
      "executing                0.8.3     2.1.0       wheel\n",
      "fastjsonschema           2.16.2    2.20.0      wheel\n",
      "filelock                 3.9.0     3.16.1      wheel\n",
      "fonttools                4.25.0    4.54.1      wheel\n",
      "fsspec                   2023.4.0  2024.9.0    wheel\n",
      "idna                     3.4       3.10        wheel\n",
      "importlib-metadata       6.0.0     8.5.0       wheel\n",
      "ipykernel                6.19.2    6.29.5      wheel\n",
      "ipython                  8.12.0    8.27.0      wheel\n",
      "ipywidgets               8.0.4     8.1.5       wheel\n",
      "jedi                     0.18.1    0.19.1      wheel\n",
      "Jinja2                   3.1.2     3.1.4       wheel\n",
      "joblib                   1.2.0     1.4.2       wheel\n",
      "json5                    0.9.6     0.9.25      wheel\n",
      "jsonschema               4.17.3    4.23.0      wheel\n",
      "jupyter                  1.0.0     1.1.1       wheel\n",
      "jupyter_client           7.4.9     8.6.3       wheel\n",
      "jupyter_core             5.3.0     5.7.2       wheel\n",
      "jupyter-events           0.6.3     0.10.0      wheel\n",
      "jupyter-server           1.23.4    2.14.2      wheel\n",
      "jupyter_server_fileid    0.9.0     0.9.3       wheel\n",
      "jupyter_server_terminals 0.4.4     0.5.3       wheel\n",
      "jupyter-ydoc             0.2.4     2.1.1       wheel\n",
      "jupyterlab               3.6.3     4.2.5       wheel\n",
      "jupyterlab-pygments      0.1.2     0.3.0       wheel\n",
      "jupyterlab_server        2.22.0    2.27.3      wheel\n",
      "jupyterlab-widgets       3.0.5     3.0.13      wheel\n",
      "kiwisolver               1.4.4     1.4.7       wheel\n",
      "lmdb                     1.4.1     1.5.1       wheel\n",
      "lxml                     4.9.2     5.3.0       wheel\n",
      "lz4                      4.3.2     4.3.3       wheel\n",
      "MarkupSafe               2.1.1     2.1.5       wheel\n",
      "matplotlib               3.7.1     3.9.2       wheel\n",
      "matplotlib-inline        0.1.6     0.1.7       wheel\n",
      "mistune                  0.8.4     3.0.2       wheel\n",
      "mkl-fft                  1.3.6     1.3.8       wheel\n",
      "mkl-random               1.2.2     1.2.4       wheel\n",
      "mkl-service              2.4.0     2.4.1       wheel\n",
      "mpmath                   1.2.1     1.3.0       wheel\n",
      "msgpack                  1.0.3     1.1.0       wheel\n",
      "nbclassic                0.5.5     1.1.0       wheel\n",
      "nbclient                 0.5.13    0.10.0      wheel\n",
      "nbconvert                6.5.4     7.16.4      wheel\n",
      "nbformat                 5.7.0     5.10.4      wheel\n",
      "nest-asyncio             1.5.6     1.6.0       wheel\n",
      "networkx                 3.2.1     3.3         wheel\n",
      "nltk                     3.7       3.9.1       wheel\n",
      "notebook                 6.5.4     7.2.2       wheel\n",
      "notebook_shim            0.2.2     0.2.4       wheel\n",
      "numexpr                  2.8.4     2.10.1      wheel\n",
      "numpy                    1.24.3    2.1.1       wheel\n",
      "openpyxl                 3.1.2     3.1.5       wheel\n",
      "packaging                23.0      24.1        wheel\n",
      "pandas                   1.5.3     2.2.3       wheel\n",
      "pandocfilters            1.5.0     1.5.1       wheel\n",
      "parso                    0.8.3     0.8.4       wheel\n",
      "partd                    1.4.0     1.4.2       wheel\n",
      "Pillow                   9.4.0     10.4.0      wheel\n",
      "pip                      23.1.2    24.2        wheel\n",
      "platformdirs             2.5.2     4.3.6       wheel\n",
      "pooch                    1.4.0     1.8.2       wheel\n",
      "prometheus-client        0.14.1    0.21.0      wheel\n",
      "prompt-toolkit           3.0.36    3.0.48      wheel\n",
      "psutil                   5.9.0     6.0.0       wheel\n",
      "pure-eval                0.2.2     0.2.3       wheel\n",
      "pyarrow                  11.0.0    17.0.0      wheel\n",
      "pycparser                2.21      2.22        wheel\n",
      "Pygments                 2.15.1    2.18.0      wheel\n",
      "pyOpenSSL                23.0.0    24.2.1      wheel\n",
      "pyparsing                3.0.9     3.1.4       wheel\n",
      "PyQt5                    5.15.7    5.15.11     wheel\n",
      "PyQt5-sip                12.11.0   12.15.0     wheel\n",
      "pyrsistent               0.18.0    0.20.0      wheel\n",
      "python-dateutil          2.8.2     2.9.0.post0 wheel\n",
      "pytz                     2022.7    2024.2      wheel\n",
      "pywin32                  305.1     306         wheel\n",
      "pywinpty                 2.0.10    2.0.13      wheel\n",
      "PyYAML                   6.0       6.0.2       wheel\n",
      "pyzmq                    23.2.0    26.2.0      wheel\n",
      "qtconsole                5.4.2     5.6.0       wheel\n",
      "QtPy                     2.2.0     2.4.1       wheel\n",
      "regex                    2022.7.9  2024.9.11   wheel\n",
      "requests                 2.29.0    2.32.3      wheel\n",
      "scikit-learn             1.2.2     1.5.2       wheel\n",
      "scipy                    1.10.1    1.14.1      wheel\n",
      "seaborn                  0.12.2    0.13.2      wheel\n",
      "Send2Trash               1.8.0     1.8.3       wheel\n",
      "setuptools               67.8.0    75.1.0      wheel\n",
      "sip                      6.6.2     6.8.6       wheel\n",
      "sklearn                  0.0.post5 0.0.post12  sdist\n",
      "sniffio                  1.2.0     1.3.1       wheel\n",
      "soupsieve                2.4       2.6         wheel\n",
      "stack-data               0.2.0     0.6.3       wheel\n",
      "sympy                    1.11.1    1.13.3      wheel\n",
      "tblib                    1.7.0     3.0.0       wheel\n",
      "terminado                0.17.1    0.18.1      wheel\n",
      "threadpoolctl            2.2.0     3.5.0       wheel\n",
      "tinycss2                 1.2.1     1.3.0       wheel\n",
      "toolz                    0.12.0    0.12.1      wheel\n",
      "torch                    2.0.1     2.4.1       wheel\n",
      "torchaudio               2.0.2     2.4.1       wheel\n",
      "torchdata                0.6.1     0.8.0       wheel\n",
      "torchtext                0.15.2    0.18.0      wheel\n",
      "torchvision              0.15.2    0.19.1      wheel\n",
      "tornado                  6.2       6.4.1       wheel\n",
      "tqdm                     4.65.0    4.66.5      wheel\n",
      "traitlets                5.7.1     5.14.3      wheel\n",
      "typing_extensions        4.6.3     4.12.2      wheel\n",
      "urllib3                  1.26.16   2.2.3       wheel\n",
      "wcwidth                  0.2.5     0.2.13      wheel\n",
      "websocket-client         0.58.0    1.8.0       wheel\n",
      "wheel                    0.38.4    0.44.0      wheel\n",
      "widgetsnbextension       4.0.5     4.0.13      wheel\n",
      "xyzservices              2022.9.0  2024.9.0    wheel\n",
      "y-py                     0.5.9     0.6.2       wheel\n",
      "ypy-websocket            0.8.2     0.12.4      wheel\n",
      "zict                     2.2.0     3.0.0       wheel\n",
      "zipp                     3.11.0    3.20.2      wheel\n"
     ]
    }
   ],
   "source": [
    "!pip list -o"
   ]
  }
 ],
 "metadata": {
  "kernelspec": {
   "display_name": "Python 3 (ipykernel)",
   "language": "python",
   "name": "python3"
  },
  "language_info": {
   "codemirror_mode": {
    "name": "ipython",
    "version": 3
   },
   "file_extension": ".py",
   "mimetype": "text/x-python",
   "name": "python",
   "nbconvert_exporter": "python",
   "pygments_lexer": "ipython3",
   "version": "3.11.5"
  }
 },
 "nbformat": 4,
 "nbformat_minor": 5
}
