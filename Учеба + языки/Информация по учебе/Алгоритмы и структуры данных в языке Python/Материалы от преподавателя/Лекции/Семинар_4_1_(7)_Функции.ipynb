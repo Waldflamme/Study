{
 "cells": [
  {
   "cell_type": "markdown",
   "metadata": {},
   "source": [
    "# Алгоритмы и структуры данных в языке Python\n",
    "\n",
    "# Семинар 4.1 (7).  Функции\n",
    "\n",
    "\n",
    "![image.png](https://www.tutorialspoint.com/python/images/python_functions.jpg)"
   ]
  },
  {
   "cell_type": "markdown",
   "metadata": {},
   "source": [
    "<p style=\"background:#F0A5FF; font-weight:bold\">Задание 1</p>\n",
    "\n",
    "Описать функцию $ag\\_mean(x, y, a\\_mean, g\\_mean)$, вычисляющую среднее арифметическое $a\\_mean = \\frac{x + y}{2}$ и среднее геометрическое $g\\_mean = \\sqrt{x⋅y}$ двух положительных чисел $x$ и $y$ ($x$ и $y$ – входные, $a\\_mean$ и $g\\_mean$ – выходные параметры вещественного типа). С помощью этой функции найти среднее арифметическое и среднее геометрическое для пар $(a, b), (a, c), (a, d)$, если даны $a, b, c, d$."
   ]
  },
  {
   "cell_type": "code",
   "execution_count": 1,
   "metadata": {},
   "outputs": [],
   "source": [
    "# 1.\n"
   ]
  },
  {
   "cell_type": "markdown",
   "metadata": {},
   "source": [
    "<p style=\"background:#F0A5FF; font-weight:bold\">Задание 2</p>\n",
    "\n",
    "Описать функцию $circle\\_s(r)$, находящую площадь круга радиуса $r$ ($r$ – вещественное). С помощью этой функции найти площадь круга с заданным радиусом."
   ]
  },
  {
   "cell_type": "code",
   "execution_count": 2,
   "metadata": {},
   "outputs": [],
   "source": [
    "# 2.\n"
   ]
  },
  {
   "cell_type": "markdown",
   "metadata": {},
   "source": [
    "<p style=\"background:#F0A5FF; font-weight:bold\">Задание 3</p>\n",
    "\n",
    "Описать функцию $ring\\_s(r_1, r_2)$, находящую площадь кольца, заключенного между двумя окружностями с общим центром и радиусами $r_1$ и $r_2$."
   ]
  },
  {
   "cell_type": "code",
   "execution_count": 3,
   "metadata": {},
   "outputs": [],
   "source": [
    "# 3.\n"
   ]
  },
  {
   "cell_type": "markdown",
   "metadata": {},
   "source": [
    "<p style=\"background:#F0A5FF; font-weight:bold\">Задание 4</p>\n",
    "\n",
    "Создать функцию $rect\\_ps(x_1, y_1, x_2, y_2, p, s)$, вычисляющую периметр $p$ и площадь $s$ прямоугольника со сторонами, параллельными осям координат, по координатам $(x_1, y_1), (x_2, y_2)$ его противоположных вершин ($x_1, y_1, x_2, y_2$ – входные, $p$ и $s$ – выходные параметры). С помощью этой функции найти периметр и площадь прямоугольника с данными противоположными вершинами.\n",
    "\n",
    "```\n",
    "x1, y1 = (1, 1)\n",
    "x2, y2 = (5, 3)\n",
    "=> Периметр 12 ед., площадь 8 кв. ед.\n",
    "```"
   ]
  },
  {
   "cell_type": "code",
   "execution_count": 4,
   "metadata": {},
   "outputs": [],
   "source": [
    "# 4.\n"
   ]
  },
  {
   "cell_type": "markdown",
   "metadata": {},
   "source": [
    "<p style=\"background:#F0A5FF; font-weight:bold\">Задание 5</p>\n",
    "\n",
    "Описать функцию $triangle\\_p(b, h)$, находящую периметр равнобедренного треугольника по его основанию $b$ и высоте $h$, проведенной к основанию. С помощью этой функции найти периметр треугольника, для которого даны основание и высота. Для нахождения боковой стороны $a$ треугольника использовать теорему Пифагора: \n",
    "\n",
    "$$a^2 = \\left(\\frac{b}{2}\\right)^2 + h^2$$\n",
    "\n",
    "```\n",
    "triangle_p(6, 4) => 16.0\n",
    "```"
   ]
  },
  {
   "cell_type": "code",
   "execution_count": 5,
   "metadata": {},
   "outputs": [],
   "source": [
    "# 5.\n"
   ]
  },
  {
   "cell_type": "markdown",
   "metadata": {},
   "source": [
    "<p style=\"background:#F0A5FF; font-weight:bold\">Задание 6</p>\n",
    "\n",
    "Создайте функцию $min\\_max(x, y)$, записывающую в переменную $x$ минимальное из значений $x$ и $y$, а в переменную $y$ – максимальное из них ($x$ и $y$ – параметры, являющиеся одновременно входными и выходными). Сгенерируйте четыре разных случайных целых числа в интервале от -10 до 10, найдите все комбинации этих чисел по два и с помощью $min\\_max(x, y)$ найдите для кажой комбинации минимальное и максимальное."
   ]
  },
  {
   "cell_type": "code",
   "execution_count": 6,
   "metadata": {},
   "outputs": [],
   "source": [
    "# 6.\n"
   ]
  },
  {
   "cell_type": "markdown",
   "metadata": {},
   "source": [
    "<p style=\"background:#F0A5FF; font-weight:bold\">Задание 7</p>\n",
    "\n",
    "Описать процедуру $shift\\_right(a, b, c)$, выполняющую правый циклический сдвиг: значение $a$ переходит в $b$, значение $b$ – в $c$, значение $c$ – в $a$ ($a$, $b$, $c$ – вещественные параметры, являющиеся одновременно входными и выходными). С помощью этой процедуры выполнить правый циклический сдвиг для двух данных наборов из трех чисел: $(a_1, b_1, c_1)$ и $(a_2, b_2, c_2)$.\n",
    "\n",
    "```\n",
    "10, 20, 30 => 30, 10, 20\n",
    "```"
   ]
  },
  {
   "cell_type": "code",
   "execution_count": 7,
   "metadata": {},
   "outputs": [],
   "source": [
    "# 7.\n"
   ]
  },
  {
   "cell_type": "markdown",
   "metadata": {},
   "source": [
    "<p style=\"background:#F0A5FF; font-weight:bold\">Задание 8</p>\n",
    "\n",
    "На вход функции подаётся список и число $k$. Реализовать функцию, которая выполняет сдвиг элементов списка на $k$ вправо. Список может быть любой длины.\n",
    "\n",
    "```\n",
    "[1, 2, 3, 4, 5, 6, 7], 3\n",
    "=> [5, 6, 7, 1, 2, 3, 4]\n",
    "```"
   ]
  },
  {
   "cell_type": "code",
   "execution_count": 8,
   "metadata": {},
   "outputs": [],
   "source": [
    "# 8.\n"
   ]
  }
 ],
 "metadata": {
  "kernelspec": {
   "display_name": "Python 3 (ipykernel)",
   "language": "python",
   "name": "python3"
  },
  "language_info": {
   "codemirror_mode": {
    "name": "ipython",
    "version": 3
   },
   "file_extension": ".py",
   "mimetype": "text/x-python",
   "name": "python",
   "nbconvert_exporter": "python",
   "pygments_lexer": "ipython3",
   "version": "3.11.5"
  }
 },
 "nbformat": 4,
 "nbformat_minor": 4
}
