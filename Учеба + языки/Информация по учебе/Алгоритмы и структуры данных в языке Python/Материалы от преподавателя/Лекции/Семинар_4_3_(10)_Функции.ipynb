{
 "cells": [
  {
   "cell_type": "markdown",
   "id": "574f70c3",
   "metadata": {},
   "source": [
    "# Алгоритмы и структуры данных в языке Python"
   ]
  },
  {
   "cell_type": "markdown",
   "id": "1654fb41",
   "metadata": {},
   "source": [
    "<p style=\"background-color:yellow\"><b>Задача 1. Документированная функция</b></p>\n",
    "\n",
    "Написать документированную функцию умножения двух чисел. Для каких типов данная функция будет возвращать практически ценный результат? \n",
    "- Написать примеры использования этой функции;\n",
    "- Распечатать документацию с помощью свойства \\_\\_doc\\_\\_."
   ]
  },
  {
   "cell_type": "code",
   "execution_count": 1,
   "id": "142e7647",
   "metadata": {},
   "outputs": [],
   "source": [
    "# 1.\n"
   ]
  },
  {
   "cell_type": "markdown",
   "id": "fa5fc1ac",
   "metadata": {},
   "source": [
    "<p style=\"background-color:yellow\"><b>Задача 2. Три параметра</b></p>\n",
    "\n",
    "Написать документированную функцию умножения, принимающую от одного до трех параметров. Функцию вызвать с приведенными ниже аргументами. Для случая a4 выбрать 3 первых и 3 последних значения.\n",
    "\n",
    "```\n",
    "a1 = (15, 10, 5)\n",
    "a2 = (3, 1)\n",
    "a3 = [2, 35, 55]\n",
    "a4 = (5, 10 ,15, 20)\n",
    "a5 = (5, 10, '15', '20')\n",
    "```"
   ]
  },
  {
   "cell_type": "code",
   "execution_count": 2,
   "id": "923aa697",
   "metadata": {},
   "outputs": [],
   "source": [
    "# 2.\n"
   ]
  },
  {
   "cell_type": "markdown",
   "id": "e079a0ee",
   "metadata": {},
   "source": [
    "<p style=\"background-color:yellow\"><b>Задача 3. </b></p>\n",
    "\n",
    "Реализовать документированную функцию умножения, принимающую неограниченное число параметров. Написать примеры использования этой функции, в том числе с аргументами из задачи 2."
   ]
  },
  {
   "cell_type": "code",
   "execution_count": 3,
   "id": "514bb607",
   "metadata": {},
   "outputs": [],
   "source": [
    "# 3.\n"
   ]
  },
  {
   "cell_type": "markdown",
   "id": "1423f2a4",
   "metadata": {},
   "source": [
    "<p style=\"background-color:yellow\"><b>Задача 4. </b></p>\n",
    "\n",
    "- Реализовать функции для выполнения четырех арифметических операций, преобразующих целые числа в целое число.\n",
    "- Для функции деления обработать ошибку деления на ноль.\n",
    "- Создать словарь с функциями и соответствующими им символами операций.\n",
    "- Для двух заранее заданных целых чисел (например, 25 и 4) выполнить выбранную пользователем арифметическую операцию."
   ]
  },
  {
   "cell_type": "code",
   "execution_count": 4,
   "id": "bd5b89ec",
   "metadata": {},
   "outputs": [],
   "source": [
    "# 4.\n"
   ]
  },
  {
   "cell_type": "markdown",
   "id": "808460f6",
   "metadata": {},
   "source": [
    "<p style=\"background-color:yellow\"><b>Задача 5. </b></p>\n",
    "\n",
    "Написать документированную функцию *mult_3* для перемножения неограниченного числа именованных параметров. Проверить работу функции с параметрами:\n",
    "\n",
    "```python\n",
    "mult_3(a=1, b=2, c=3, d=4)\n",
    "=>24\n",
    "{'a': 1, 'b': 2, 'c':3, 'd': 4}\n",
    "```"
   ]
  },
  {
   "cell_type": "code",
   "execution_count": 5,
   "id": "30850f6f",
   "metadata": {},
   "outputs": [],
   "source": [
    "# 5.\n"
   ]
  },
  {
   "cell_type": "markdown",
   "id": "5c2a25bd",
   "metadata": {},
   "source": [
    "<p style=\"background-color:yellow\"><b>Задача 6. </b></p>\n",
    "\n",
    "Написать калькулятор для строковых выражений вида '<число> <операция> <число>', где <число> - целое число, например 113, <арифметическая операция> - одна из операций +,-,\\*,/(деление нацело), %(остаток от деления),^(возведение в степень). Пример calc('13 - 5') -> 8"
   ]
  },
  {
   "cell_type": "code",
   "execution_count": 6,
   "id": "0fe74352",
   "metadata": {},
   "outputs": [],
   "source": [
    "# 6.\n"
   ]
  }
 ],
 "metadata": {
  "kernelspec": {
   "display_name": "Python 3 (ipykernel)",
   "language": "python",
   "name": "python3"
  },
  "language_info": {
   "codemirror_mode": {
    "name": "ipython",
    "version": 3
   },
   "file_extension": ".py",
   "mimetype": "text/x-python",
   "name": "python",
   "nbconvert_exporter": "python",
   "pygments_lexer": "ipython3",
   "version": "3.12.4"
  }
 },
 "nbformat": 4,
 "nbformat_minor": 5
}
